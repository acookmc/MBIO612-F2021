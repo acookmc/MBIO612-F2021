{
 "cells": [
  {
   "cell_type": "code",
   "execution_count": 1,
   "id": "c598b4f2",
   "metadata": {},
   "outputs": [
    {
     "name": "stderr",
     "output_type": "stream",
     "text": [
      "── \u001b[1mAttaching packages\u001b[22m ─────────────────────────────────────── tidyverse 1.3.0 ──\n",
      "\n",
      "\u001b[32m✔\u001b[39m \u001b[34mggplot2\u001b[39m 3.3.2     \u001b[32m✔\u001b[39m \u001b[34mpurrr  \u001b[39m 0.3.4\n",
      "\u001b[32m✔\u001b[39m \u001b[34mtibble \u001b[39m 3.0.3     \u001b[32m✔\u001b[39m \u001b[34mdplyr  \u001b[39m 1.0.2\n",
      "\u001b[32m✔\u001b[39m \u001b[34mtidyr  \u001b[39m 1.1.2     \u001b[32m✔\u001b[39m \u001b[34mstringr\u001b[39m 1.4.0\n",
      "\u001b[32m✔\u001b[39m \u001b[34mreadr  \u001b[39m 1.3.1     \u001b[32m✔\u001b[39m \u001b[34mforcats\u001b[39m 0.5.0\n",
      "\n",
      "── \u001b[1mConflicts\u001b[22m ────────────────────────────────────────── tidyverse_conflicts() ──\n",
      "\u001b[31m✖\u001b[39m \u001b[34mdplyr\u001b[39m::\u001b[32mfilter()\u001b[39m masks \u001b[34mstats\u001b[39m::filter()\n",
      "\u001b[31m✖\u001b[39m \u001b[34mdplyr\u001b[39m::\u001b[32mlag()\u001b[39m    masks \u001b[34mstats\u001b[39m::lag()\n",
      "\n"
     ]
    }
   ],
   "source": [
    "library(tidyverse)"
   ]
  },
  {
   "cell_type": "markdown",
   "id": "eee78cf0",
   "metadata": {},
   "source": [
    "### What are tibbles?\n",
    "* Tibbles are dataframes on steroid\n",
    "* Fundamental data structure of `tidyverse`\n",
    "    * From now on, we will work with tibbles as much as possible\n",
    "* Easiest way to construct a tibble is corercing (coverting) a data.frame into a tibble\n",
    "* Can create new tibbles using `tibble()`\n",
    "* Use `tribble()` to document a table"
   ]
  },
  {
   "cell_type": "code",
   "execution_count": 7,
   "id": "f9d63da2",
   "metadata": {},
   "outputs": [
    {
     "name": "stdout",
     "output_type": "stream",
     "text": [
      "           city population state\n",
      "1      Honolulu     348985    HI\n",
      "2           LAX    3967000    CA\n",
      "3 San Francisco     874961    CA\n"
     ]
    }
   ],
   "source": [
    "my_df = data.frame(city = c(\"Honolulu\", \"LAX\", \"San Francisco\"), population=c(348985, 3967000, 874961), state=c(\"HI\", \"CA\", \"CA\"))\n",
    "print(my_df)\n"
   ]
  },
  {
   "cell_type": "code",
   "execution_count": 11,
   "id": "bd015e6d",
   "metadata": {},
   "outputs": [
    {
     "name": "stdout",
     "output_type": "stream",
     "text": [
      "\u001b[38;5;246m# A tibble: 3 x 3\u001b[39m\n",
      "  city          population state\n",
      "  \u001b[3m\u001b[38;5;246m<chr>\u001b[39m\u001b[23m              \u001b[3m\u001b[38;5;246m<dbl>\u001b[39m\u001b[23m \u001b[3m\u001b[38;5;246m<chr>\u001b[39m\u001b[23m\n",
      "\u001b[38;5;250m1\u001b[39m Honolulu          \u001b[4m3\u001b[24m\u001b[4m4\u001b[24m\u001b[4m8\u001b[24m985 HI   \n",
      "\u001b[38;5;250m2\u001b[39m LAX              3\u001b[4m9\u001b[24m\u001b[4m6\u001b[24m\u001b[4m7\u001b[24m000 CA   \n",
      "\u001b[38;5;250m3\u001b[39m San Francisco     \u001b[4m8\u001b[24m\u001b[4m7\u001b[24m\u001b[4m4\u001b[24m961 CA   \n"
     ]
    }
   ],
   "source": [
    "my_tibble = as_tibble(my_df)\n",
    "print(my_tibble)"
   ]
  },
  {
   "cell_type": "code",
   "execution_count": 28,
   "id": "af5b2b6f",
   "metadata": {},
   "outputs": [
    {
     "name": "stdout",
     "output_type": "stream",
     "text": [
      "  Latitude Longitude Date.of.Collection     Sample.ID Core.Length Water.depth\n",
      "1  20.9386 -156.6933            7/10/13 LobataHead01           50           2\n",
      "2  20.9387 -156.6934            7/10/13 LobataHead02           18           2\n",
      "  Lifespan Tissue.thickness Growth.rate Density Bioerosion.volume\n",
      "1       43              5.1        1.17    1.04               6.6\n",
      "2       21              5.6        0.88    1.08               5.9\n",
      "  Calcification.rate Bioerosion.rate delta.N.15 delta.N.15..error.\n",
      "1               1.10           72.32      11.29               1.76\n",
      "2               0.94           56.03       8.44               0.12\n"
     ]
    }
   ],
   "source": [
    "# https://www.sciencebase.gov/catalog/item/58f7a16ee4b0b7ea5451f474\n",
    "data_df = read.csv(file = 'data/Kahekili_coral.csv')\n",
    "print(head(data, 2))"
   ]
  },
  {
   "cell_type": "code",
   "execution_count": 27,
   "id": "9dd04a2a",
   "metadata": {},
   "outputs": [
    {
     "name": "stdout",
     "output_type": "stream",
     "text": [
      "\u001b[38;5;246m# A tibble: 7 x 15\u001b[39m\n",
      "  Latitude Longitude Date.of.Collect… Sample.ID Core.Length Water.depth Lifespan\n",
      "     \u001b[3m\u001b[38;5;246m<dbl>\u001b[39m\u001b[23m     \u001b[3m\u001b[38;5;246m<dbl>\u001b[39m\u001b[23m \u001b[3m\u001b[38;5;246m<chr>\u001b[39m\u001b[23m            \u001b[3m\u001b[38;5;246m<chr>\u001b[39m\u001b[23m           \u001b[3m\u001b[38;5;246m<int>\u001b[39m\u001b[23m       \u001b[3m\u001b[38;5;246m<int>\u001b[39m\u001b[23m    \u001b[3m\u001b[38;5;246m<int>\u001b[39m\u001b[23m\n",
      "\u001b[38;5;250m1\u001b[39m     20.9     -\u001b[31m157\u001b[39m\u001b[31m.\u001b[39m 7/10/13          \u001b[38;5;246m\"\u001b[39mLobataH…          50           2       43\n",
      "\u001b[38;5;250m2\u001b[39m     20.9     -\u001b[31m157\u001b[39m\u001b[31m.\u001b[39m 7/10/13          \u001b[38;5;246m\"\u001b[39mLobataH…          18           2       21\n",
      "\u001b[38;5;250m3\u001b[39m     20.9     -\u001b[31m157\u001b[39m\u001b[31m.\u001b[39m 7/10/13          \u001b[38;5;246m\"\u001b[39mLobataH…          19           2       26\n",
      "\u001b[38;5;250m4\u001b[39m     20.9     -\u001b[31m157\u001b[39m\u001b[31m.\u001b[39m 7/10/13          \u001b[38;5;246m\"\u001b[39mLobataH…          21           2       30\n",
      "\u001b[38;5;250m5\u001b[39m     20.9     -\u001b[31m157\u001b[39m\u001b[31m.\u001b[39m 7/10/13          \u001b[38;5;246m\"\u001b[39mLobataH…          28           2       29\n",
      "\u001b[38;5;250m6\u001b[39m     20.9     -\u001b[31m157\u001b[39m\u001b[31m.\u001b[39m 7/10/13          \u001b[38;5;246m\"\u001b[39mLobataH…          22           1       \u001b[31mNA\u001b[39m\n",
      "\u001b[38;5;250m7\u001b[39m     20.9     -\u001b[31m157\u001b[39m\u001b[31m.\u001b[39m 7/11/13          \u001b[38;5;246m\"\u001b[39mLobataH…          50           3       \u001b[31mNA\u001b[39m\n",
      "\u001b[38;5;246m# … with 8 more variables: Tissue.thickness \u001b[3m\u001b[38;5;246m<dbl>\u001b[38;5;246m\u001b[23m, Growth.rate \u001b[3m\u001b[38;5;246m<dbl>\u001b[38;5;246m\u001b[23m,\u001b[39m\n",
      "\u001b[38;5;246m#   Density \u001b[3m\u001b[38;5;246m<dbl>\u001b[38;5;246m\u001b[23m, Bioerosion.volume \u001b[3m\u001b[38;5;246m<dbl>\u001b[38;5;246m\u001b[23m, Calcification.rate \u001b[3m\u001b[38;5;246m<dbl>\u001b[38;5;246m\u001b[23m,\u001b[39m\n",
      "\u001b[38;5;246m#   Bioerosion.rate \u001b[3m\u001b[38;5;246m<dbl>\u001b[38;5;246m\u001b[23m, delta.N.15 \u001b[3m\u001b[38;5;246m<dbl>\u001b[38;5;246m\u001b[23m, delta.N.15..error. \u001b[3m\u001b[38;5;246m<dbl>\u001b[38;5;246m\u001b[23m\u001b[39m\n"
     ]
    }
   ],
   "source": [
    "data_tbl = as_tibble(data_df)\n",
    "print(data_tbl)"
   ]
  },
  {
   "cell_type": "code",
   "execution_count": 22,
   "id": "a531f311",
   "metadata": {},
   "outputs": [
    {
     "name": "stdout",
     "output_type": "stream",
     "text": [
      "\u001b[38;5;246m# A tibble: 10 x 2\u001b[39m\n",
      "       x     y\n",
      "   \u001b[3m\u001b[38;5;246m<int>\u001b[39m\u001b[23m \u001b[3m\u001b[38;5;246m<dbl>\u001b[39m\u001b[23m\n",
      "\u001b[38;5;250m 1\u001b[39m     1     1\n",
      "\u001b[38;5;250m 2\u001b[39m     2     4\n",
      "\u001b[38;5;250m 3\u001b[39m     3     9\n",
      "\u001b[38;5;250m 4\u001b[39m     4    16\n",
      "\u001b[38;5;250m 5\u001b[39m     5    25\n",
      "\u001b[38;5;250m 6\u001b[39m     6    36\n",
      "\u001b[38;5;250m 7\u001b[39m     7    49\n",
      "\u001b[38;5;250m 8\u001b[39m     8    64\n",
      "\u001b[38;5;250m 9\u001b[39m     9    81\n",
      "\u001b[38;5;250m10\u001b[39m    10   100\n"
     ]
    }
   ],
   "source": [
    "print(tibble(x=1:10, y=x^2))"
   ]
  },
  {
   "cell_type": "code",
   "execution_count": 23,
   "id": "ef452f5f",
   "metadata": {},
   "outputs": [
    {
     "name": "stdout",
     "output_type": "stream",
     "text": [
      "\u001b[38;5;246m# A tibble: 2 x 3\u001b[39m\n",
      "  x         y     z\n",
      "  \u001b[3m\u001b[38;5;246m<chr>\u001b[39m\u001b[23m \u001b[3m\u001b[38;5;246m<dbl>\u001b[39m\u001b[23m \u001b[3m\u001b[38;5;246m<dbl>\u001b[39m\u001b[23m\n",
      "\u001b[38;5;250m1\u001b[39m a         2   3.6\n",
      "\u001b[38;5;250m2\u001b[39m b         1   8.5\n"
     ]
    }
   ],
   "source": [
    "x = tribble(   ~x, ~y, ~z,\n",
    "           \"a\", 2, 3.6,\n",
    "           \"b\", 1, 8.5)\n",
    "print(x)"
   ]
  },
  {
   "cell_type": "markdown",
   "id": "4a1ce2c5",
   "metadata": {},
   "source": [
    "### Tibble vs. Data.Frame\n",
    "\n",
    "* You noticed that print of tibble is cleaners\n",
    "  * Show only columns that fit inscreen"
   ]
  },
  {
   "cell_type": "code",
   "execution_count": 30,
   "id": "c1da1057",
   "metadata": {},
   "outputs": [
    {
     "name": "stdout",
     "output_type": "stream",
     "text": [
      "  Latitude Longitude Date.of.Collection     Sample.ID Core.Length Water.depth\n",
      "1  20.9386 -156.6933            7/10/13 LobataHead01           50           2\n",
      "2  20.9387 -156.6934            7/10/13 LobataHead02           18           2\n",
      "3  20.9387 -156.6932            7/10/13 LobataHead03           19           2\n",
      "4  20.9388 -156.6931            7/10/13 LobataHead04           21           2\n",
      "5  20.9451 -156.6932            7/10/13 LobataHead05           28           2\n",
      "6  20.9386 -156.6932            7/10/13 LobataHead06           22           1\n",
      "  Lifespan Tissue.thickness Growth.rate Density Bioerosion.volume\n",
      "1       43              5.1        1.17    1.04               6.6\n",
      "2       21              5.6        0.88    1.08               5.9\n",
      "3       26              4.6        0.72    0.99              12.5\n",
      "4       30              4.0        0.72    1.01               5.9\n",
      "5       29              4.6        0.95    1.15               2.2\n",
      "6       NA               NA        0.69    1.07              14.6\n",
      "  Calcification.rate Bioerosion.rate delta.N.15 delta.N.15..error.\n",
      "1               1.10           72.32      11.29               1.76\n",
      "2               0.94           56.03       8.44               0.12\n",
      "3               0.71           89.07      10.87               0.45\n",
      "4               0.67           39.87      14.62               0.23\n",
      "5               1.02           22.58       7.50               0.19\n",
      "6               0.68           99.15      17.08               0.40\n"
     ]
    }
   ],
   "source": [
    "print(head(data_df))"
   ]
  },
  {
   "cell_type": "code",
   "execution_count": 39,
   "id": "60c9a5f1",
   "metadata": {},
   "outputs": [
    {
     "data": {
      "text/html": [
       "<table class=\"dataframe\">\n",
       "<caption>A tibble: 7 × 15</caption>\n",
       "<thead>\n",
       "\t<tr><th scope=col>Latitude</th><th scope=col>Longitude</th><th scope=col>Date.of.Collection</th><th scope=col>Sample.ID</th><th scope=col>Core.Length</th><th scope=col>Water.depth</th><th scope=col>Lifespan</th><th scope=col>Tissue.thickness</th><th scope=col>Growth.rate</th><th scope=col>Density</th><th scope=col>Bioerosion.volume</th><th scope=col>Calcification.rate</th><th scope=col>Bioerosion.rate</th><th scope=col>delta.N.15</th><th scope=col>delta.N.15..error.</th></tr>\n",
       "\t<tr><th scope=col>&lt;dbl&gt;</th><th scope=col>&lt;dbl&gt;</th><th scope=col>&lt;chr&gt;</th><th scope=col>&lt;chr&gt;</th><th scope=col>&lt;int&gt;</th><th scope=col>&lt;int&gt;</th><th scope=col>&lt;int&gt;</th><th scope=col>&lt;dbl&gt;</th><th scope=col>&lt;dbl&gt;</th><th scope=col>&lt;dbl&gt;</th><th scope=col>&lt;dbl&gt;</th><th scope=col>&lt;dbl&gt;</th><th scope=col>&lt;dbl&gt;</th><th scope=col>&lt;dbl&gt;</th><th scope=col>&lt;dbl&gt;</th></tr>\n",
       "</thead>\n",
       "<tbody>\n",
       "\t<tr><td>20.9386</td><td>-156.6933</td><td>7/10/13</td><td>LobataHead01 </td><td>50</td><td>2</td><td>43</td><td>5.1</td><td>1.17</td><td>1.04</td><td> 6.6</td><td>1.10</td><td>72.32</td><td>11.29</td><td>1.76</td></tr>\n",
       "\t<tr><td>20.9387</td><td>-156.6934</td><td>7/10/13</td><td>LobataHead02 </td><td>18</td><td>2</td><td>21</td><td>5.6</td><td>0.88</td><td>1.08</td><td> 5.9</td><td>0.94</td><td>56.03</td><td> 8.44</td><td>0.12</td></tr>\n",
       "\t<tr><td>20.9387</td><td>-156.6932</td><td>7/10/13</td><td>LobataHead03 </td><td>19</td><td>2</td><td>26</td><td>4.6</td><td>0.72</td><td>0.99</td><td>12.5</td><td>0.71</td><td>89.07</td><td>10.87</td><td>0.45</td></tr>\n",
       "\t<tr><td>20.9388</td><td>-156.6931</td><td>7/10/13</td><td>LobataHead04 </td><td>21</td><td>2</td><td>30</td><td>4.0</td><td>0.72</td><td>1.01</td><td> 5.9</td><td>0.67</td><td>39.87</td><td>14.62</td><td>0.23</td></tr>\n",
       "\t<tr><td>20.9451</td><td>-156.6932</td><td>7/10/13</td><td>LobataHead05 </td><td>28</td><td>2</td><td>29</td><td>4.6</td><td>0.95</td><td>1.15</td><td> 2.2</td><td>1.02</td><td>22.58</td><td> 7.50</td><td>0.19</td></tr>\n",
       "\t<tr><td>20.9386</td><td>-156.6932</td><td>7/10/13</td><td>LobataHead06 </td><td>22</td><td>1</td><td>NA</td><td> NA</td><td>0.69</td><td>1.07</td><td>14.6</td><td>0.68</td><td>99.15</td><td>17.08</td><td>0.40</td></tr>\n",
       "\t<tr><td>20.9373</td><td>-156.6935</td><td>7/11/13</td><td>LobataHead07 </td><td>50</td><td>3</td><td>NA</td><td>5.1</td><td>  NA</td><td>  NA</td><td>  NA</td><td>  NA</td><td>   NA</td><td> 8.17</td><td>0.19</td></tr>\n",
       "</tbody>\n",
       "</table>\n"
      ],
      "text/latex": [
       "A tibble: 7 × 15\n",
       "\\begin{tabular}{lllllllllllllll}\n",
       " Latitude & Longitude & Date.of.Collection & Sample.ID & Core.Length & Water.depth & Lifespan & Tissue.thickness & Growth.rate & Density & Bioerosion.volume & Calcification.rate & Bioerosion.rate & delta.N.15 & delta.N.15..error.\\\\\n",
       " <dbl> & <dbl> & <chr> & <chr> & <int> & <int> & <int> & <dbl> & <dbl> & <dbl> & <dbl> & <dbl> & <dbl> & <dbl> & <dbl>\\\\\n",
       "\\hline\n",
       "\t 20.9386 & -156.6933 & 7/10/13 & LobataHead01  & 50 & 2 & 43 & 5.1 & 1.17 & 1.04 &  6.6 & 1.10 & 72.32 & 11.29 & 1.76\\\\\n",
       "\t 20.9387 & -156.6934 & 7/10/13 & LobataHead02  & 18 & 2 & 21 & 5.6 & 0.88 & 1.08 &  5.9 & 0.94 & 56.03 &  8.44 & 0.12\\\\\n",
       "\t 20.9387 & -156.6932 & 7/10/13 & LobataHead03  & 19 & 2 & 26 & 4.6 & 0.72 & 0.99 & 12.5 & 0.71 & 89.07 & 10.87 & 0.45\\\\\n",
       "\t 20.9388 & -156.6931 & 7/10/13 & LobataHead04  & 21 & 2 & 30 & 4.0 & 0.72 & 1.01 &  5.9 & 0.67 & 39.87 & 14.62 & 0.23\\\\\n",
       "\t 20.9451 & -156.6932 & 7/10/13 & LobataHead05  & 28 & 2 & 29 & 4.6 & 0.95 & 1.15 &  2.2 & 1.02 & 22.58 &  7.50 & 0.19\\\\\n",
       "\t 20.9386 & -156.6932 & 7/10/13 & LobataHead06  & 22 & 1 & NA &  NA & 0.69 & 1.07 & 14.6 & 0.68 & 99.15 & 17.08 & 0.40\\\\\n",
       "\t 20.9373 & -156.6935 & 7/11/13 & LobataHead07  & 50 & 3 & NA & 5.1 &   NA &   NA &   NA &   NA &    NA &  8.17 & 0.19\\\\\n",
       "\\end{tabular}\n"
      ],
      "text/markdown": [
       "\n",
       "A tibble: 7 × 15\n",
       "\n",
       "| Latitude &lt;dbl&gt; | Longitude &lt;dbl&gt; | Date.of.Collection &lt;chr&gt; | Sample.ID &lt;chr&gt; | Core.Length &lt;int&gt; | Water.depth &lt;int&gt; | Lifespan &lt;int&gt; | Tissue.thickness &lt;dbl&gt; | Growth.rate &lt;dbl&gt; | Density &lt;dbl&gt; | Bioerosion.volume &lt;dbl&gt; | Calcification.rate &lt;dbl&gt; | Bioerosion.rate &lt;dbl&gt; | delta.N.15 &lt;dbl&gt; | delta.N.15..error. &lt;dbl&gt; |\n",
       "|---|---|---|---|---|---|---|---|---|---|---|---|---|---|---|\n",
       "| 20.9386 | -156.6933 | 7/10/13 | LobataHead01  | 50 | 2 | 43 | 5.1 | 1.17 | 1.04 |  6.6 | 1.10 | 72.32 | 11.29 | 1.76 |\n",
       "| 20.9387 | -156.6934 | 7/10/13 | LobataHead02  | 18 | 2 | 21 | 5.6 | 0.88 | 1.08 |  5.9 | 0.94 | 56.03 |  8.44 | 0.12 |\n",
       "| 20.9387 | -156.6932 | 7/10/13 | LobataHead03  | 19 | 2 | 26 | 4.6 | 0.72 | 0.99 | 12.5 | 0.71 | 89.07 | 10.87 | 0.45 |\n",
       "| 20.9388 | -156.6931 | 7/10/13 | LobataHead04  | 21 | 2 | 30 | 4.0 | 0.72 | 1.01 |  5.9 | 0.67 | 39.87 | 14.62 | 0.23 |\n",
       "| 20.9451 | -156.6932 | 7/10/13 | LobataHead05  | 28 | 2 | 29 | 4.6 | 0.95 | 1.15 |  2.2 | 1.02 | 22.58 |  7.50 | 0.19 |\n",
       "| 20.9386 | -156.6932 | 7/10/13 | LobataHead06  | 22 | 1 | NA |  NA | 0.69 | 1.07 | 14.6 | 0.68 | 99.15 | 17.08 | 0.40 |\n",
       "| 20.9373 | -156.6935 | 7/11/13 | LobataHead07  | 50 | 3 | NA | 5.1 |   NA |   NA |   NA |   NA |    NA |  8.17 | 0.19 |\n",
       "\n"
      ],
      "text/plain": [
       "  Latitude Longitude Date.of.Collection Sample.ID     Core.Length Water.depth\n",
       "1 20.9386  -156.6933 7/10/13            LobataHead01  50          2          \n",
       "2 20.9387  -156.6934 7/10/13            LobataHead02  18          2          \n",
       "3 20.9387  -156.6932 7/10/13            LobataHead03  19          2          \n",
       "4 20.9388  -156.6931 7/10/13            LobataHead04  21          2          \n",
       "5 20.9451  -156.6932 7/10/13            LobataHead05  28          2          \n",
       "6 20.9386  -156.6932 7/10/13            LobataHead06  22          1          \n",
       "7 20.9373  -156.6935 7/11/13            LobataHead07  50          3          \n",
       "  Lifespan Tissue.thickness Growth.rate Density Bioerosion.volume\n",
       "1 43       5.1              1.17        1.04     6.6             \n",
       "2 21       5.6              0.88        1.08     5.9             \n",
       "3 26       4.6              0.72        0.99    12.5             \n",
       "4 30       4.0              0.72        1.01     5.9             \n",
       "5 29       4.6              0.95        1.15     2.2             \n",
       "6 NA        NA              0.69        1.07    14.6             \n",
       "7 NA       5.1                NA          NA      NA             \n",
       "  Calcification.rate Bioerosion.rate delta.N.15 delta.N.15..error.\n",
       "1 1.10               72.32           11.29      1.76              \n",
       "2 0.94               56.03            8.44      0.12              \n",
       "3 0.71               89.07           10.87      0.45              \n",
       "4 0.67               39.87           14.62      0.23              \n",
       "5 1.02               22.58            7.50      0.19              \n",
       "6 0.68               99.15           17.08      0.40              \n",
       "7   NA                  NA            8.17      0.19              "
      ]
     },
     "metadata": {},
     "output_type": "display_data"
    }
   ],
   "source": [
    "View(data_tbl)"
   ]
  },
  {
   "cell_type": "code",
   "execution_count": 59,
   "id": "2cc5de76",
   "metadata": {},
   "outputs": [
    {
     "data": {
      "text/html": [
       "29.2933801395469"
      ],
      "text/latex": [
       "29.2933801395469"
      ],
      "text/markdown": [
       "29.2933801395469"
      ],
      "text/plain": [
       "[1] 29.29338"
      ]
     },
     "metadata": {},
     "output_type": "display_data"
    }
   ],
   "source": [
    "sd(data_tbl$\"Bioerosion.rate\",  na.rm = TRUE)"
   ]
  }
 ],
 "metadata": {
  "kernelspec": {
   "display_name": "R",
   "language": "R",
   "name": "ir"
  },
  "language_info": {
   "codemirror_mode": "r",
   "file_extension": ".r",
   "mimetype": "text/x-r-source",
   "name": "R",
   "pygments_lexer": "r",
   "version": "4.0.2"
  }
 },
 "nbformat": 4,
 "nbformat_minor": 5
}
