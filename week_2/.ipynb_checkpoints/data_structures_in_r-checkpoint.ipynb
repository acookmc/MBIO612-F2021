{
 "cells": [
  {
   "cell_type": "markdown",
   "id": "a62f7987",
   "metadata": {},
   "source": [
    "### Additional Data Structures in R.\n",
    "\n",
    "* A data structure is a simple scheme for organizing data according to a specific model\n",
    "  * Data structures facilitate access to and manipulation of data\n",
    "* So far, we've covered vectors.\n",
    "* We are going to cover 4 new data structures\n",
    "\n",
    "\n",
    "\n",
    "* Matrices, lists, data frames \n",
    "* Factors, another common data structure will be covered when we discuss statistical analysis\n"
   ]
  },
  {
   "cell_type": "markdown",
   "id": "56695c19",
   "metadata": {},
   "source": [
    "### Factors\n",
    "\n",
    "* A numerical value that maps to label\n",
    "  * Saves space when encoding data.\n",
    "  * We can encode male as 1, female as 2, thus saving 8 characters.\n",
    "* We will cover those later\n"
   ]
  },
  {
   "cell_type": "markdown",
   "id": "ed9f3010",
   "metadata": {},
   "source": [
    "### Matrices\n",
    "\n",
    "* A matrix in R is a 2-dimensional collection of elements of the same type.\n",
    "  * the 2-D here refers to the rows and colums\n",
    "  * Think of it a the mathematic matrix object \n",
    "  \n",
    "* `matrix()` function is used to create a matrix \n",
    "  * Easient way to instantiate a matrix is to pass a vector of values\n",
    "  * Matrix shape can be specificed using the `nrow` and/or `ncol`\n",
    "\n",
    " `matrix(some_vector_of_values, nrow=...)`\n",
    "\n",
    "* we use the `dim` function to get the dimensions of a matrix\n",
    "  * the dimesion is the number of rows and nb cols.\n",
    "      * `dim` returns a vector of size 2.\n",
    "  * In other languages and in lin algebra, dim is often referred to as shape\n",
    "\n"
   ]
  },
  {
   "cell_type": "code",
   "execution_count": 3,
   "id": "c1136dec",
   "metadata": {},
   "outputs": [
    {
     "data": {
      "text/html": [
       "<table class=\"dataframe\">\n",
       "<caption>A matrix: 3 × 2 of type dbl</caption>\n",
       "<tbody>\n",
       "\t<tr><td>1</td><td>4</td></tr>\n",
       "\t<tr><td>2</td><td>5</td></tr>\n",
       "\t<tr><td>3</td><td>6</td></tr>\n",
       "</tbody>\n",
       "</table>\n"
      ],
      "text/latex": [
       "A matrix: 3 × 2 of type dbl\n",
       "\\begin{tabular}{ll}\n",
       "\t 1 & 4\\\\\n",
       "\t 2 & 5\\\\\n",
       "\t 3 & 6\\\\\n",
       "\\end{tabular}\n"
      ],
      "text/markdown": [
       "\n",
       "A matrix: 3 × 2 of type dbl\n",
       "\n",
       "| 1 | 4 |\n",
       "| 2 | 5 |\n",
       "| 3 | 6 |\n",
       "\n"
      ],
      "text/plain": [
       "     [,1] [,2]\n",
       "[1,] 1    4   \n",
       "[2,] 2    5   \n",
       "[3,] 3    6   "
      ]
     },
     "metadata": {},
     "output_type": "display_data"
    }
   ],
   "source": [
    "vec_of_vals = c(1,2,3,4,5,6)\n",
    "matrix(vec_of_vals, nrow = 3)"
   ]
  },
  {
   "cell_type": "code",
   "execution_count": 7,
   "id": "75c20373",
   "metadata": {},
   "outputs": [
    {
     "data": {
      "text/html": [
       "<table class=\"dataframe\">\n",
       "<caption>A matrix: 2 × 3 of type dbl</caption>\n",
       "<tbody>\n",
       "\t<tr><td>1</td><td>3</td><td>5</td></tr>\n",
       "\t<tr><td>2</td><td>4</td><td>6</td></tr>\n",
       "</tbody>\n",
       "</table>\n"
      ],
      "text/latex": [
       "A matrix: 2 × 3 of type dbl\n",
       "\\begin{tabular}{lll}\n",
       "\t 1 & 3 & 5\\\\\n",
       "\t 2 & 4 & 6\\\\\n",
       "\\end{tabular}\n"
      ],
      "text/markdown": [
       "\n",
       "A matrix: 2 × 3 of type dbl\n",
       "\n",
       "| 1 | 3 | 5 |\n",
       "| 2 | 4 | 6 |\n",
       "\n"
      ],
      "text/plain": [
       "     [,1] [,2] [,3]\n",
       "[1,] 1    3    5   \n",
       "[2,] 2    4    6   "
      ]
     },
     "metadata": {},
     "output_type": "display_data"
    }
   ],
   "source": [
    "matrix(c(1,2,3,4,5,6) , ncol = 3)"
   ]
  },
  {
   "cell_type": "code",
   "execution_count": 5,
   "id": "598b92dd",
   "metadata": {},
   "outputs": [
    {
     "data": {
      "text/html": [
       "<table class=\"dataframe\">\n",
       "<caption>A matrix: 1 × 3 of type dbl</caption>\n",
       "<tbody>\n",
       "\t<tr><td>1</td><td>2</td><td>3</td></tr>\n",
       "</tbody>\n",
       "</table>\n"
      ],
      "text/latex": [
       "A matrix: 1 × 3 of type dbl\n",
       "\\begin{tabular}{lll}\n",
       "\t 1 & 2 & 3\\\\\n",
       "\\end{tabular}\n"
      ],
      "text/markdown": [
       "\n",
       "A matrix: 1 × 3 of type dbl\n",
       "\n",
       "| 1 | 2 | 3 |\n",
       "\n"
      ],
      "text/plain": [
       "     [,1] [,2] [,3]\n",
       "[1,] 1    2    3   "
      ]
     },
     "metadata": {},
     "output_type": "display_data"
    }
   ],
   "source": [
    "# No need to provide both, unless you want to \n",
    "# truncate the data.\n",
    "matrix(c(1,2,3,4,5,6) , ncol = 3, nrow=1)"
   ]
  },
  {
   "cell_type": "code",
   "execution_count": 25,
   "id": "a22175d3",
   "metadata": {},
   "outputs": [
    {
     "name": "stdout",
     "output_type": "stream",
     "text": [
      "     [,1] [,2] [,3]\n",
      "[1,]    1    3    5\n",
      "[2,]    2    4    6\n"
     ]
    }
   ],
   "source": [
    "test_matrix = matrix(c(1,2,3,4,5,6) , ncol = 3)\n",
    "print(test_matrix)"
   ]
  },
  {
   "cell_type": "markdown",
   "id": "5f805249",
   "metadata": {},
   "source": [
    "### Indexing Elements in a Matrix \n",
    "\n",
    "* Elements can be indexed using `row_id` and `col_id`\n",
    "  * Indices need to be valid or an error is generated\n",
    "* The index structure for a single element is:\n",
    "\n",
    "    `matrix_name[row_index, col_index]`\n",
    "\n",
    "* The index structure for a sub-matrix is:\n",
    "\n",
    "    `matrix_name[vector_of_rows, vector_of_columns]`\n"
   ]
  },
  {
   "cell_type": "code",
   "execution_count": 7,
   "id": "4325a226",
   "metadata": {},
   "outputs": [
    {
     "name": "stdout",
     "output_type": "stream",
     "text": [
      "     [,1] [,2] [,3] [,4] [,5] [,6]\n",
      "[1,]    1    6   11   16   21   26\n",
      "[2,]    2    7   12   17   22   27\n",
      "[3,]    3    8   13   18   23   28\n",
      "[4,]    4    9   14   19   24   29\n",
      "[5,]    5   10   15   20   25   30\n"
     ]
    }
   ],
   "source": [
    "test_matrix = matrix(1:30, nrow = 5)\n",
    "print(test_matrix)"
   ]
  },
  {
   "cell_type": "code",
   "execution_count": 8,
   "id": "b7e933eb",
   "metadata": {},
   "outputs": [
    {
     "data": {
      "text/html": [
       "11"
      ],
      "text/latex": [
       "11"
      ],
      "text/markdown": [
       "11"
      ],
      "text/plain": [
       "[1] 11"
      ]
     },
     "metadata": {},
     "output_type": "display_data"
    }
   ],
   "source": [
    "test_matrix[1,3]"
   ]
  },
  {
   "cell_type": "code",
   "execution_count": 10,
   "id": "da0626c0",
   "metadata": {},
   "outputs": [
    {
     "ename": "ERROR",
     "evalue": "Error in test_matrix[7, 1]: subscript out of bounds\n",
     "output_type": "error",
     "traceback": [
      "Error in test_matrix[7, 1]: subscript out of bounds\nTraceback:\n"
     ]
    }
   ],
   "source": [
    "# The following will generate an error\n",
    "\n",
    "test_matrix[7,1]"
   ]
  },
  {
   "cell_type": "code",
   "execution_count": 12,
   "id": "8c591c2f",
   "metadata": {},
   "outputs": [
    {
     "name": "stdout",
     "output_type": "stream",
     "text": [
      "[1]  3  8 13 18 23 28\n"
     ]
    }
   ],
   "source": [
    "print(test_matrix[3,])"
   ]
  },
  {
   "cell_type": "code",
   "execution_count": 14,
   "id": "d1aa569c",
   "metadata": {},
   "outputs": [
    {
     "name": "stdout",
     "output_type": "stream",
     "text": [
      "     [,1] [,2] [,3] [,4] [,5] [,6]\n",
      "[1,]    1    6   11   16   21   26\n",
      "[2,]    3    8   13   18   23   28\n"
     ]
    }
   ],
   "source": [
    "print(test_matrix[c(1,3),])"
   ]
  },
  {
   "cell_type": "code",
   "execution_count": 15,
   "id": "7993c0a3",
   "metadata": {},
   "outputs": [
    {
     "data": {
      "text/html": [
       "<table class=\"dataframe\">\n",
       "<caption>A matrix: 2 × 3 of type int</caption>\n",
       "<tbody>\n",
       "\t<tr><td>1</td><td>11</td><td>16</td></tr>\n",
       "\t<tr><td>3</td><td>13</td><td>18</td></tr>\n",
       "</tbody>\n",
       "</table>\n"
      ],
      "text/latex": [
       "A matrix: 2 × 3 of type int\n",
       "\\begin{tabular}{lll}\n",
       "\t 1 & 11 & 16\\\\\n",
       "\t 3 & 13 & 18\\\\\n",
       "\\end{tabular}\n"
      ],
      "text/markdown": [
       "\n",
       "A matrix: 2 × 3 of type int\n",
       "\n",
       "| 1 | 11 | 16 |\n",
       "| 3 | 13 | 18 |\n",
       "\n"
      ],
      "text/plain": [
       "     [,1] [,2] [,3]\n",
       "[1,] 1    11   16  \n",
       "[2,] 3    13   18  "
      ]
     },
     "metadata": {},
     "output_type": "display_data"
    }
   ],
   "source": [
    "test_matrix[c(1,3),c(1, 3, 4)]"
   ]
  },
  {
   "cell_type": "markdown",
   "id": "cbeaf685",
   "metadata": {},
   "source": [
    "### Using the column operator to index rows and columns\n",
    "\n",
    "* Colon (\":\") is an operator used to generate regular sequences\n",
    "    *  e.g.: `1:6` generates the vector 1 2 3 4 5 6 \n",
    "  \n",
    "* Instead of using an explicit vector of positions to index on, we can use the colon operator\n",
    "  \n",
    "`matrix_name[row_index_start:row_index_end, col_index_start:col_index_end]`\n",
    "\n",
    "* Rules:\n",
    "    * If the start is omitted then start 1\n",
    "    * If the end is omitted, end at the last valid index\n",
    "    * If both the start and end are omitted, then start at 1 and end at the last valid index.\n"
   ]
  },
  {
   "cell_type": "code",
   "execution_count": 16,
   "id": "8404992a",
   "metadata": {},
   "outputs": [
    {
     "data": {
      "text/html": [
       "<style>\n",
       ".list-inline {list-style: none; margin:0; padding: 0}\n",
       ".list-inline>li {display: inline-block}\n",
       ".list-inline>li:not(:last-child)::after {content: \"\\00b7\"; padding: 0 .5ex}\n",
       "</style>\n",
       "<ol class=list-inline><li>11</li><li>12</li></ol>\n"
      ],
      "text/latex": [
       "\\begin{enumerate*}\n",
       "\\item 11\n",
       "\\item 12\n",
       "\\end{enumerate*}\n"
      ],
      "text/markdown": [
       "1. 11\n",
       "2. 12\n",
       "\n",
       "\n"
      ],
      "text/plain": [
       "[1] 11 12"
      ]
     },
     "metadata": {},
     "output_type": "display_data"
    }
   ],
   "source": [
    "test_matrix[1:2,3]"
   ]
  },
  {
   "cell_type": "code",
   "execution_count": 18,
   "id": "77facb99",
   "metadata": {},
   "outputs": [
    {
     "data": {
      "text/html": [
       "<table class=\"dataframe\">\n",
       "<caption>A matrix: 5 × 2 of type int</caption>\n",
       "<tbody>\n",
       "\t<tr><td>11</td><td>16</td></tr>\n",
       "\t<tr><td>12</td><td>17</td></tr>\n",
       "\t<tr><td>13</td><td>18</td></tr>\n",
       "\t<tr><td>14</td><td>19</td></tr>\n",
       "\t<tr><td>15</td><td>20</td></tr>\n",
       "</tbody>\n",
       "</table>\n"
      ],
      "text/latex": [
       "A matrix: 5 × 2 of type int\n",
       "\\begin{tabular}{ll}\n",
       "\t 11 & 16\\\\\n",
       "\t 12 & 17\\\\\n",
       "\t 13 & 18\\\\\n",
       "\t 14 & 19\\\\\n",
       "\t 15 & 20\\\\\n",
       "\\end{tabular}\n"
      ],
      "text/markdown": [
       "\n",
       "A matrix: 5 × 2 of type int\n",
       "\n",
       "| 11 | 16 |\n",
       "| 12 | 17 |\n",
       "| 13 | 18 |\n",
       "| 14 | 19 |\n",
       "| 15 | 20 |\n",
       "\n"
      ],
      "text/plain": [
       "     [,1] [,2]\n",
       "[1,] 11   16  \n",
       "[2,] 12   17  \n",
       "[3,] 13   18  \n",
       "[4,] 14   19  \n",
       "[5,] 15   20  "
      ]
     },
     "metadata": {},
     "output_type": "display_data"
    }
   ],
   "source": [
    "test_matrix[,3:4]"
   ]
  },
  {
   "cell_type": "markdown",
   "id": "45a07c75",
   "metadata": {},
   "source": [
    "### Col and Row names\n",
    "\n",
    "* Labeling the columns and rows is useful to:\n",
    "    * Facilitate reading. \n",
    "      * E.g.: what does the first row represent\n",
    "    * Facilitate access to the data: we can index the data by a readable label\n",
    "    \n",
    "    \n",
    "* It can be easily done using:\n",
    "  * `rownames()` and `colnames()` \n",
    "  * Passing a `list` of vector names to `dimnames()`.\n",
    "    * We'll see this when we cover lists\n",
    "    "
   ]
  },
  {
   "cell_type": "code",
   "execution_count": 19,
   "id": "54b70137",
   "metadata": {},
   "outputs": [
    {
     "name": "stdout",
     "output_type": "stream",
     "text": [
      "     [,1] [,2] [,3]\n",
      "[1,]    1    3    5\n",
      "[2,]    2    4    6\n"
     ]
    }
   ],
   "source": [
    "test_matrix = matrix(c(1,2,3,4,5,6) , ncol = 3)    \n",
    "print(test_matrix)"
   ]
  },
  {
   "cell_type": "code",
   "execution_count": 28,
   "id": "0190f41a",
   "metadata": {},
   "outputs": [
    {
     "name": "stdout",
     "output_type": "stream",
     "text": [
      "      col_1 col_2 col_3\n",
      "row_1     1     3     5\n",
      "row_2     2     4     6\n"
     ]
    }
   ],
   "source": [
    "rownames(test_matrix) = c(\"row_1\", \"row_2\")\n",
    "print(test_matrix)"
   ]
  },
  {
   "cell_type": "code",
   "execution_count": 29,
   "id": "0048c293",
   "metadata": {},
   "outputs": [
    {
     "name": "stdout",
     "output_type": "stream",
     "text": [
      "      col_1 col_2 col_3\n",
      "row_1     1     3     5\n",
      "row_2     2     4     6\n"
     ]
    }
   ],
   "source": [
    "colnames(test_matrix) = c(\"col_1\", \"col_2\", \"col_3\")\n",
    "print(test_matrix)"
   ]
  },
  {
   "cell_type": "code",
   "execution_count": 30,
   "id": "93f5e64c",
   "metadata": {},
   "outputs": [
    {
     "data": {
      "text/html": [
       "3"
      ],
      "text/latex": [
       "3"
      ],
      "text/markdown": [
       "3"
      ],
      "text/plain": [
       "[1] 3"
      ]
     },
     "metadata": {},
     "output_type": "display_data"
    }
   ],
   "source": [
    "test_matrix[\"row_1\", \"col_2\"]"
   ]
  },
  {
   "cell_type": "code",
   "execution_count": 32,
   "id": "baa8b0c2",
   "metadata": {},
   "outputs": [
    {
     "data": {
      "text/html": [
       "3"
      ],
      "text/latex": [
       "3"
      ],
      "text/markdown": [
       "3"
      ],
      "text/plain": [
       "[1] 3"
      ]
     },
     "metadata": {},
     "output_type": "display_data"
    }
   ],
   "source": [
    "test_matrix[1, 2]"
   ]
  },
  {
   "cell_type": "code",
   "execution_count": 36,
   "id": "ac99c1f5",
   "metadata": {},
   "outputs": [
    {
     "data": {
      "text/html": [
       "5"
      ],
      "text/latex": [
       "5"
      ],
      "text/markdown": [
       "5"
      ],
      "text/plain": [
       "[1] 5"
      ]
     },
     "metadata": {},
     "output_type": "display_data"
    }
   ],
   "source": [
    "\n",
    "test_matrix[\"row_1\", 3]"
   ]
  },
  {
   "cell_type": "markdown",
   "id": "8700a9b9",
   "metadata": {},
   "source": [
    "### Combining Objects by Column or Row\n",
    "\n",
    "* Another way to generate matrices is by combining vectors \n",
    "  * We can use `cbind()` to bind a collection of vectors as columns of a new matrix\n",
    "  * We can use `rbind()` to bind a collection of vectors as rows of a new matrix\n",
    "\n",
    "* Both `cbind` and `rbind` can also be used to add new columns of rows to an existing matrix\n",
    " * The columns or rows are automatically named using variable names"
   ]
  },
  {
   "cell_type": "code",
   "execution_count": 39,
   "id": "1e056b64",
   "metadata": {},
   "outputs": [
    {
     "name": "stdout",
     "output_type": "stream",
     "text": [
      "     col_1 col_2 col_3\n",
      "[1,]     1     3     5\n",
      "[2,]     2     4     6\n"
     ]
    }
   ],
   "source": [
    "col_1 = c(1, 2)\n",
    "col_2 = c(3, 4)\n",
    "col_3 = c(5, 6)\n",
    "\n",
    "my_col_matrix <- cbind(col_1, col_2, col_3)\n",
    "\n",
    "print(my_col_matrix)"
   ]
  },
  {
   "cell_type": "code",
   "execution_count": 40,
   "id": "99d40eab",
   "metadata": {},
   "outputs": [
    {
     "name": "stdout",
     "output_type": "stream",
     "text": [
      "[1] 1 2\n"
     ]
    }
   ],
   "source": [
    "print(my_col_matrix[, \"col_1\"])"
   ]
  },
  {
   "cell_type": "code",
   "execution_count": 43,
   "id": "5059ea72",
   "metadata": {},
   "outputs": [
    {
     "name": "stdout",
     "output_type": "stream",
     "text": [
      "      [,1] [,2] [,3]\n",
      "row_1    1    2    3\n",
      "row_2    4    5    6\n"
     ]
    }
   ],
   "source": [
    "row_1 = c(1, 2, 3)\n",
    "row_2 = c(4, 5, 6)\n",
    "\n",
    "my_row_matrix <- rbind(row_1, row_2)\n",
    "print(my_row_matrix)"
   ]
  },
  {
   "cell_type": "code",
   "execution_count": 44,
   "id": "f479b8e8",
   "metadata": {},
   "outputs": [
    {
     "name": "stdout",
     "output_type": "stream",
     "text": [
      "     [,1] [,2]\n",
      "[1,]    1    4\n",
      "[2,]    2    5\n",
      "[3,]    3    6\n"
     ]
    }
   ],
   "source": [
    "some_matrix = matrix(c(1,2,3,4,5,6), nrow=3)\n",
    "print(some_matrix)"
   ]
  },
  {
   "cell_type": "code",
   "execution_count": 45,
   "id": "8cd234a8",
   "metadata": {},
   "outputs": [
    {
     "name": "stdout",
     "output_type": "stream",
     "text": [
      "     [,1] [,2] [,3]\n",
      "[1,]    1    4    7\n",
      "[2,]    2    5    8\n",
      "[3,]    3    6    9\n"
     ]
    }
   ],
   "source": [
    "print(cbind(some_matrix, c(7,8,9)))"
   ]
  },
  {
   "cell_type": "code",
   "execution_count": 47,
   "id": "231a6f9f",
   "metadata": {},
   "outputs": [
    {
     "name": "stdout",
     "output_type": "stream",
     "text": [
      "     [,1] [,2]\n",
      "[1,]    1    4\n",
      "[2,]    2    5\n",
      "[3,]    3    6\n",
      "[4,]   10   10\n"
     ]
    }
   ],
   "source": [
    "# can you explain the result below?\n",
    "print(rbind(some_matrix, c(10,10)))"
   ]
  },
  {
   "cell_type": "code",
   "execution_count": 49,
   "id": "aa8f95a6",
   "metadata": {},
   "outputs": [
    {
     "name": "stdout",
     "output_type": "stream",
     "text": [
      "     [,1] [,2]\n",
      "[1,]    1    4\n",
      "[2,]    2    5\n",
      "[3,]    3    6\n",
      "[4,]    1    4\n",
      "[5,]    2    5\n",
      "[6,]    3    6\n"
     ]
    }
   ],
   "source": [
    "# We can even use rbind or cbin to stack or concatenate matrices\n",
    "\n",
    "print(rbind(some_matrix, some_matrix))"
   ]
  },
  {
   "cell_type": "code",
   "execution_count": 71,
   "id": "d8735087",
   "metadata": {},
   "outputs": [
    {
     "name": "stdout",
     "output_type": "stream",
     "text": [
      "     [,1] [,2] [,3] [,4]\n",
      "[1,]    1    4    1    4\n",
      "[2,]    2    5    2    5\n",
      "[3,]    3    6    3    6\n"
     ]
    }
   ],
   "source": [
    "print(cbind(some_matrix, some_matrix))"
   ]
  },
  {
   "cell_type": "markdown",
   "id": "0b187bc5",
   "metadata": {},
   "source": [
    "## Data Frames\n",
    "\n",
    "* A data frame (`df`) is an Excel-like table \n",
    "   \n",
    " * Instances (observations) are represented as rows\n",
    " * Variables are represented as columns  \n",
    "   * All the observations of the same variable have the same data type\n",
    "\n",
    "* While this type is conceptually similar to a matrix, the main difference is that `df` columns can have different types while a matrix can have a single data type.\n",
    "\n",
    "* Generate a data frame using `data.frame()`\n",
    "  * Takes vectors of the same length as input\n",
    "  \n",
    "* Column names are the variable names by default\n"
   ]
  },
  {
   "cell_type": "code",
   "execution_count": 51,
   "id": "cfc546b8",
   "metadata": {},
   "outputs": [
    {
     "name": "stdout",
     "output_type": "stream",
     "text": [
      " int [1:4] 20 20 15 11\n"
     ]
    }
   ],
   "source": [
    "nb_trna_genes <- c(20, 20, 15, 11)\n",
    "str(as.integer(nb_trna_genes))"
   ]
  },
  {
   "cell_type": "code",
   "execution_count": 52,
   "id": "8e8712e7",
   "metadata": {},
   "outputs": [
    {
     "name": "stdout",
     "output_type": "stream",
     "text": [
      "           species         genus genome_length nb_trna_genes\n",
      "1      A. damnosum   Acidipro...          3.20            20\n",
      "2    A. adventoris     Apibacter          4.10            20\n",
      "3          A. soli Aquaspirillum          4.23            15\n",
      "4 A. lekithochrous    Arcobacter          4.60            11\n"
     ]
    }
   ],
   "source": [
    "# genome lenght %and& trna genes are fictitious\n",
    "species <- c(\"A. damnosum\",\"A. adventoris\",\"A. soli\",\"A. lekithochrous\")\n",
    "genus <- c(\"Acidipro...\",\"Apibacter\",\"Aquaspirillum\",\"Arcobacter\")\n",
    "genome_length <- c(3.2, 4.1, 4.23, 4.6)\n",
    "nb_trna_genes <- as.integer(c(20, 20, 15, 11))\n",
    "taxonomy <- data.frame(species, genus, genome_length, nb_trna_genes)\n",
    "print(taxonomy)"
   ]
  },
  {
   "cell_type": "code",
   "execution_count": 53,
   "id": "858e0cde",
   "metadata": {},
   "outputs": [
    {
     "name": "stdout",
     "output_type": "stream",
     "text": [
      "      Species Name         Genus Genome Length Nb. tRNA Genees\n",
      "1      A. damnosum   Acidipro...          3.20              20\n",
      "2    A. adventoris     Apibacter          4.10              20\n",
      "3          A. soli Aquaspirillum          4.23              15\n",
      "4 A. lekithochrous    Arcobacter          4.60              11\n"
     ]
    }
   ],
   "source": [
    "colnames(taxonomy) = c(\"Species Name\", \"Genus\", \"Genome Length\", \"Nb. tRNA Genees\")\n",
    "print(taxonomy)"
   ]
  },
  {
   "cell_type": "markdown",
   "id": "1a70ae3c",
   "metadata": {},
   "source": [
    "### Accessing datasets distributed with R\n",
    "\n",
    "* We will use the `data()` function to access one of the pre-built datasets.\n",
    "  * `airquality` dataset repersents New York air quality measurements from May to September"
   ]
  },
  {
   "cell_type": "code",
   "execution_count": 64,
   "id": "65a69d0c",
   "metadata": {},
   "outputs": [],
   "source": [
    "print(data())"
   ]
  },
  {
   "cell_type": "code",
   "execution_count": 65,
   "id": "33c4ac9a",
   "metadata": {},
   "outputs": [
    {
     "data": {
      "text/html": [
       "<table class=\"dataframe\">\n",
       "<caption>A data.frame: 153 × 6</caption>\n",
       "<thead>\n",
       "\t<tr><th scope=col>Ozone</th><th scope=col>Solar.R</th><th scope=col>Wind</th><th scope=col>Temp</th><th scope=col>Month</th><th scope=col>Day</th></tr>\n",
       "\t<tr><th scope=col>&lt;int&gt;</th><th scope=col>&lt;int&gt;</th><th scope=col>&lt;dbl&gt;</th><th scope=col>&lt;int&gt;</th><th scope=col>&lt;int&gt;</th><th scope=col>&lt;int&gt;</th></tr>\n",
       "</thead>\n",
       "<tbody>\n",
       "\t<tr><td> 41</td><td>190</td><td> 7.4</td><td>67</td><td>5</td><td> 1</td></tr>\n",
       "\t<tr><td> 36</td><td>118</td><td> 8.0</td><td>72</td><td>5</td><td> 2</td></tr>\n",
       "\t<tr><td> 12</td><td>149</td><td>12.6</td><td>74</td><td>5</td><td> 3</td></tr>\n",
       "\t<tr><td> 18</td><td>313</td><td>11.5</td><td>62</td><td>5</td><td> 4</td></tr>\n",
       "\t<tr><td> NA</td><td> NA</td><td>14.3</td><td>56</td><td>5</td><td> 5</td></tr>\n",
       "\t<tr><td> 28</td><td> NA</td><td>14.9</td><td>66</td><td>5</td><td> 6</td></tr>\n",
       "\t<tr><td> 23</td><td>299</td><td> 8.6</td><td>65</td><td>5</td><td> 7</td></tr>\n",
       "\t<tr><td> 19</td><td> 99</td><td>13.8</td><td>59</td><td>5</td><td> 8</td></tr>\n",
       "\t<tr><td>  8</td><td> 19</td><td>20.1</td><td>61</td><td>5</td><td> 9</td></tr>\n",
       "\t<tr><td> NA</td><td>194</td><td> 8.6</td><td>69</td><td>5</td><td>10</td></tr>\n",
       "\t<tr><td>  7</td><td> NA</td><td> 6.9</td><td>74</td><td>5</td><td>11</td></tr>\n",
       "\t<tr><td> 16</td><td>256</td><td> 9.7</td><td>69</td><td>5</td><td>12</td></tr>\n",
       "\t<tr><td> 11</td><td>290</td><td> 9.2</td><td>66</td><td>5</td><td>13</td></tr>\n",
       "\t<tr><td> 14</td><td>274</td><td>10.9</td><td>68</td><td>5</td><td>14</td></tr>\n",
       "\t<tr><td> 18</td><td> 65</td><td>13.2</td><td>58</td><td>5</td><td>15</td></tr>\n",
       "\t<tr><td> 14</td><td>334</td><td>11.5</td><td>64</td><td>5</td><td>16</td></tr>\n",
       "\t<tr><td> 34</td><td>307</td><td>12.0</td><td>66</td><td>5</td><td>17</td></tr>\n",
       "\t<tr><td>  6</td><td> 78</td><td>18.4</td><td>57</td><td>5</td><td>18</td></tr>\n",
       "\t<tr><td> 30</td><td>322</td><td>11.5</td><td>68</td><td>5</td><td>19</td></tr>\n",
       "\t<tr><td> 11</td><td> 44</td><td> 9.7</td><td>62</td><td>5</td><td>20</td></tr>\n",
       "\t<tr><td>  1</td><td>  8</td><td> 9.7</td><td>59</td><td>5</td><td>21</td></tr>\n",
       "\t<tr><td> 11</td><td>320</td><td>16.6</td><td>73</td><td>5</td><td>22</td></tr>\n",
       "\t<tr><td>  4</td><td> 25</td><td> 9.7</td><td>61</td><td>5</td><td>23</td></tr>\n",
       "\t<tr><td> 32</td><td> 92</td><td>12.0</td><td>61</td><td>5</td><td>24</td></tr>\n",
       "\t<tr><td> NA</td><td> 66</td><td>16.6</td><td>57</td><td>5</td><td>25</td></tr>\n",
       "\t<tr><td> NA</td><td>266</td><td>14.9</td><td>58</td><td>5</td><td>26</td></tr>\n",
       "\t<tr><td> NA</td><td> NA</td><td> 8.0</td><td>57</td><td>5</td><td>27</td></tr>\n",
       "\t<tr><td> 23</td><td> 13</td><td>12.0</td><td>67</td><td>5</td><td>28</td></tr>\n",
       "\t<tr><td> 45</td><td>252</td><td>14.9</td><td>81</td><td>5</td><td>29</td></tr>\n",
       "\t<tr><td>115</td><td>223</td><td> 5.7</td><td>79</td><td>5</td><td>30</td></tr>\n",
       "\t<tr><td>⋮</td><td>⋮</td><td>⋮</td><td>⋮</td><td>⋮</td><td>⋮</td></tr>\n",
       "\t<tr><td>96</td><td>167</td><td> 6.9</td><td>91</td><td>9</td><td> 1</td></tr>\n",
       "\t<tr><td>78</td><td>197</td><td> 5.1</td><td>92</td><td>9</td><td> 2</td></tr>\n",
       "\t<tr><td>73</td><td>183</td><td> 2.8</td><td>93</td><td>9</td><td> 3</td></tr>\n",
       "\t<tr><td>91</td><td>189</td><td> 4.6</td><td>93</td><td>9</td><td> 4</td></tr>\n",
       "\t<tr><td>47</td><td> 95</td><td> 7.4</td><td>87</td><td>9</td><td> 5</td></tr>\n",
       "\t<tr><td>32</td><td> 92</td><td>15.5</td><td>84</td><td>9</td><td> 6</td></tr>\n",
       "\t<tr><td>20</td><td>252</td><td>10.9</td><td>80</td><td>9</td><td> 7</td></tr>\n",
       "\t<tr><td>23</td><td>220</td><td>10.3</td><td>78</td><td>9</td><td> 8</td></tr>\n",
       "\t<tr><td>21</td><td>230</td><td>10.9</td><td>75</td><td>9</td><td> 9</td></tr>\n",
       "\t<tr><td>24</td><td>259</td><td> 9.7</td><td>73</td><td>9</td><td>10</td></tr>\n",
       "\t<tr><td>44</td><td>236</td><td>14.9</td><td>81</td><td>9</td><td>11</td></tr>\n",
       "\t<tr><td>21</td><td>259</td><td>15.5</td><td>76</td><td>9</td><td>12</td></tr>\n",
       "\t<tr><td>28</td><td>238</td><td> 6.3</td><td>77</td><td>9</td><td>13</td></tr>\n",
       "\t<tr><td> 9</td><td> 24</td><td>10.9</td><td>71</td><td>9</td><td>14</td></tr>\n",
       "\t<tr><td>13</td><td>112</td><td>11.5</td><td>71</td><td>9</td><td>15</td></tr>\n",
       "\t<tr><td>46</td><td>237</td><td> 6.9</td><td>78</td><td>9</td><td>16</td></tr>\n",
       "\t<tr><td>18</td><td>224</td><td>13.8</td><td>67</td><td>9</td><td>17</td></tr>\n",
       "\t<tr><td>13</td><td> 27</td><td>10.3</td><td>76</td><td>9</td><td>18</td></tr>\n",
       "\t<tr><td>24</td><td>238</td><td>10.3</td><td>68</td><td>9</td><td>19</td></tr>\n",
       "\t<tr><td>16</td><td>201</td><td> 8.0</td><td>82</td><td>9</td><td>20</td></tr>\n",
       "\t<tr><td>13</td><td>238</td><td>12.6</td><td>64</td><td>9</td><td>21</td></tr>\n",
       "\t<tr><td>23</td><td> 14</td><td> 9.2</td><td>71</td><td>9</td><td>22</td></tr>\n",
       "\t<tr><td>36</td><td>139</td><td>10.3</td><td>81</td><td>9</td><td>23</td></tr>\n",
       "\t<tr><td> 7</td><td> 49</td><td>10.3</td><td>69</td><td>9</td><td>24</td></tr>\n",
       "\t<tr><td>14</td><td> 20</td><td>16.6</td><td>63</td><td>9</td><td>25</td></tr>\n",
       "\t<tr><td>30</td><td>193</td><td> 6.9</td><td>70</td><td>9</td><td>26</td></tr>\n",
       "\t<tr><td>NA</td><td>145</td><td>13.2</td><td>77</td><td>9</td><td>27</td></tr>\n",
       "\t<tr><td>14</td><td>191</td><td>14.3</td><td>75</td><td>9</td><td>28</td></tr>\n",
       "\t<tr><td>18</td><td>131</td><td> 8.0</td><td>76</td><td>9</td><td>29</td></tr>\n",
       "\t<tr><td>20</td><td>223</td><td>11.5</td><td>68</td><td>9</td><td>30</td></tr>\n",
       "</tbody>\n",
       "</table>\n"
      ],
      "text/latex": [
       "A data.frame: 153 × 6\n",
       "\\begin{tabular}{llllll}\n",
       " Ozone & Solar.R & Wind & Temp & Month & Day\\\\\n",
       " <int> & <int> & <dbl> & <int> & <int> & <int>\\\\\n",
       "\\hline\n",
       "\t  41 & 190 &  7.4 & 67 & 5 &  1\\\\\n",
       "\t  36 & 118 &  8.0 & 72 & 5 &  2\\\\\n",
       "\t  12 & 149 & 12.6 & 74 & 5 &  3\\\\\n",
       "\t  18 & 313 & 11.5 & 62 & 5 &  4\\\\\n",
       "\t  NA &  NA & 14.3 & 56 & 5 &  5\\\\\n",
       "\t  28 &  NA & 14.9 & 66 & 5 &  6\\\\\n",
       "\t  23 & 299 &  8.6 & 65 & 5 &  7\\\\\n",
       "\t  19 &  99 & 13.8 & 59 & 5 &  8\\\\\n",
       "\t   8 &  19 & 20.1 & 61 & 5 &  9\\\\\n",
       "\t  NA & 194 &  8.6 & 69 & 5 & 10\\\\\n",
       "\t   7 &  NA &  6.9 & 74 & 5 & 11\\\\\n",
       "\t  16 & 256 &  9.7 & 69 & 5 & 12\\\\\n",
       "\t  11 & 290 &  9.2 & 66 & 5 & 13\\\\\n",
       "\t  14 & 274 & 10.9 & 68 & 5 & 14\\\\\n",
       "\t  18 &  65 & 13.2 & 58 & 5 & 15\\\\\n",
       "\t  14 & 334 & 11.5 & 64 & 5 & 16\\\\\n",
       "\t  34 & 307 & 12.0 & 66 & 5 & 17\\\\\n",
       "\t   6 &  78 & 18.4 & 57 & 5 & 18\\\\\n",
       "\t  30 & 322 & 11.5 & 68 & 5 & 19\\\\\n",
       "\t  11 &  44 &  9.7 & 62 & 5 & 20\\\\\n",
       "\t   1 &   8 &  9.7 & 59 & 5 & 21\\\\\n",
       "\t  11 & 320 & 16.6 & 73 & 5 & 22\\\\\n",
       "\t   4 &  25 &  9.7 & 61 & 5 & 23\\\\\n",
       "\t  32 &  92 & 12.0 & 61 & 5 & 24\\\\\n",
       "\t  NA &  66 & 16.6 & 57 & 5 & 25\\\\\n",
       "\t  NA & 266 & 14.9 & 58 & 5 & 26\\\\\n",
       "\t  NA &  NA &  8.0 & 57 & 5 & 27\\\\\n",
       "\t  23 &  13 & 12.0 & 67 & 5 & 28\\\\\n",
       "\t  45 & 252 & 14.9 & 81 & 5 & 29\\\\\n",
       "\t 115 & 223 &  5.7 & 79 & 5 & 30\\\\\n",
       "\t ⋮ & ⋮ & ⋮ & ⋮ & ⋮ & ⋮\\\\\n",
       "\t 96 & 167 &  6.9 & 91 & 9 &  1\\\\\n",
       "\t 78 & 197 &  5.1 & 92 & 9 &  2\\\\\n",
       "\t 73 & 183 &  2.8 & 93 & 9 &  3\\\\\n",
       "\t 91 & 189 &  4.6 & 93 & 9 &  4\\\\\n",
       "\t 47 &  95 &  7.4 & 87 & 9 &  5\\\\\n",
       "\t 32 &  92 & 15.5 & 84 & 9 &  6\\\\\n",
       "\t 20 & 252 & 10.9 & 80 & 9 &  7\\\\\n",
       "\t 23 & 220 & 10.3 & 78 & 9 &  8\\\\\n",
       "\t 21 & 230 & 10.9 & 75 & 9 &  9\\\\\n",
       "\t 24 & 259 &  9.7 & 73 & 9 & 10\\\\\n",
       "\t 44 & 236 & 14.9 & 81 & 9 & 11\\\\\n",
       "\t 21 & 259 & 15.5 & 76 & 9 & 12\\\\\n",
       "\t 28 & 238 &  6.3 & 77 & 9 & 13\\\\\n",
       "\t  9 &  24 & 10.9 & 71 & 9 & 14\\\\\n",
       "\t 13 & 112 & 11.5 & 71 & 9 & 15\\\\\n",
       "\t 46 & 237 &  6.9 & 78 & 9 & 16\\\\\n",
       "\t 18 & 224 & 13.8 & 67 & 9 & 17\\\\\n",
       "\t 13 &  27 & 10.3 & 76 & 9 & 18\\\\\n",
       "\t 24 & 238 & 10.3 & 68 & 9 & 19\\\\\n",
       "\t 16 & 201 &  8.0 & 82 & 9 & 20\\\\\n",
       "\t 13 & 238 & 12.6 & 64 & 9 & 21\\\\\n",
       "\t 23 &  14 &  9.2 & 71 & 9 & 22\\\\\n",
       "\t 36 & 139 & 10.3 & 81 & 9 & 23\\\\\n",
       "\t  7 &  49 & 10.3 & 69 & 9 & 24\\\\\n",
       "\t 14 &  20 & 16.6 & 63 & 9 & 25\\\\\n",
       "\t 30 & 193 &  6.9 & 70 & 9 & 26\\\\\n",
       "\t NA & 145 & 13.2 & 77 & 9 & 27\\\\\n",
       "\t 14 & 191 & 14.3 & 75 & 9 & 28\\\\\n",
       "\t 18 & 131 &  8.0 & 76 & 9 & 29\\\\\n",
       "\t 20 & 223 & 11.5 & 68 & 9 & 30\\\\\n",
       "\\end{tabular}\n"
      ],
      "text/markdown": [
       "\n",
       "A data.frame: 153 × 6\n",
       "\n",
       "| Ozone &lt;int&gt; | Solar.R &lt;int&gt; | Wind &lt;dbl&gt; | Temp &lt;int&gt; | Month &lt;int&gt; | Day &lt;int&gt; |\n",
       "|---|---|---|---|---|---|\n",
       "|  41 | 190 |  7.4 | 67 | 5 |  1 |\n",
       "|  36 | 118 |  8.0 | 72 | 5 |  2 |\n",
       "|  12 | 149 | 12.6 | 74 | 5 |  3 |\n",
       "|  18 | 313 | 11.5 | 62 | 5 |  4 |\n",
       "|  NA |  NA | 14.3 | 56 | 5 |  5 |\n",
       "|  28 |  NA | 14.9 | 66 | 5 |  6 |\n",
       "|  23 | 299 |  8.6 | 65 | 5 |  7 |\n",
       "|  19 |  99 | 13.8 | 59 | 5 |  8 |\n",
       "|   8 |  19 | 20.1 | 61 | 5 |  9 |\n",
       "|  NA | 194 |  8.6 | 69 | 5 | 10 |\n",
       "|   7 |  NA |  6.9 | 74 | 5 | 11 |\n",
       "|  16 | 256 |  9.7 | 69 | 5 | 12 |\n",
       "|  11 | 290 |  9.2 | 66 | 5 | 13 |\n",
       "|  14 | 274 | 10.9 | 68 | 5 | 14 |\n",
       "|  18 |  65 | 13.2 | 58 | 5 | 15 |\n",
       "|  14 | 334 | 11.5 | 64 | 5 | 16 |\n",
       "|  34 | 307 | 12.0 | 66 | 5 | 17 |\n",
       "|   6 |  78 | 18.4 | 57 | 5 | 18 |\n",
       "|  30 | 322 | 11.5 | 68 | 5 | 19 |\n",
       "|  11 |  44 |  9.7 | 62 | 5 | 20 |\n",
       "|   1 |   8 |  9.7 | 59 | 5 | 21 |\n",
       "|  11 | 320 | 16.6 | 73 | 5 | 22 |\n",
       "|   4 |  25 |  9.7 | 61 | 5 | 23 |\n",
       "|  32 |  92 | 12.0 | 61 | 5 | 24 |\n",
       "|  NA |  66 | 16.6 | 57 | 5 | 25 |\n",
       "|  NA | 266 | 14.9 | 58 | 5 | 26 |\n",
       "|  NA |  NA |  8.0 | 57 | 5 | 27 |\n",
       "|  23 |  13 | 12.0 | 67 | 5 | 28 |\n",
       "|  45 | 252 | 14.9 | 81 | 5 | 29 |\n",
       "| 115 | 223 |  5.7 | 79 | 5 | 30 |\n",
       "| ⋮ | ⋮ | ⋮ | ⋮ | ⋮ | ⋮ |\n",
       "| 96 | 167 |  6.9 | 91 | 9 |  1 |\n",
       "| 78 | 197 |  5.1 | 92 | 9 |  2 |\n",
       "| 73 | 183 |  2.8 | 93 | 9 |  3 |\n",
       "| 91 | 189 |  4.6 | 93 | 9 |  4 |\n",
       "| 47 |  95 |  7.4 | 87 | 9 |  5 |\n",
       "| 32 |  92 | 15.5 | 84 | 9 |  6 |\n",
       "| 20 | 252 | 10.9 | 80 | 9 |  7 |\n",
       "| 23 | 220 | 10.3 | 78 | 9 |  8 |\n",
       "| 21 | 230 | 10.9 | 75 | 9 |  9 |\n",
       "| 24 | 259 |  9.7 | 73 | 9 | 10 |\n",
       "| 44 | 236 | 14.9 | 81 | 9 | 11 |\n",
       "| 21 | 259 | 15.5 | 76 | 9 | 12 |\n",
       "| 28 | 238 |  6.3 | 77 | 9 | 13 |\n",
       "|  9 |  24 | 10.9 | 71 | 9 | 14 |\n",
       "| 13 | 112 | 11.5 | 71 | 9 | 15 |\n",
       "| 46 | 237 |  6.9 | 78 | 9 | 16 |\n",
       "| 18 | 224 | 13.8 | 67 | 9 | 17 |\n",
       "| 13 |  27 | 10.3 | 76 | 9 | 18 |\n",
       "| 24 | 238 | 10.3 | 68 | 9 | 19 |\n",
       "| 16 | 201 |  8.0 | 82 | 9 | 20 |\n",
       "| 13 | 238 | 12.6 | 64 | 9 | 21 |\n",
       "| 23 |  14 |  9.2 | 71 | 9 | 22 |\n",
       "| 36 | 139 | 10.3 | 81 | 9 | 23 |\n",
       "|  7 |  49 | 10.3 | 69 | 9 | 24 |\n",
       "| 14 |  20 | 16.6 | 63 | 9 | 25 |\n",
       "| 30 | 193 |  6.9 | 70 | 9 | 26 |\n",
       "| NA | 145 | 13.2 | 77 | 9 | 27 |\n",
       "| 14 | 191 | 14.3 | 75 | 9 | 28 |\n",
       "| 18 | 131 |  8.0 | 76 | 9 | 29 |\n",
       "| 20 | 223 | 11.5 | 68 | 9 | 30 |\n",
       "\n"
      ],
      "text/plain": [
       "    Ozone Solar.R Wind Temp Month Day\n",
       "1    41   190      7.4 67   5      1 \n",
       "2    36   118      8.0 72   5      2 \n",
       "3    12   149     12.6 74   5      3 \n",
       "4    18   313     11.5 62   5      4 \n",
       "5    NA    NA     14.3 56   5      5 \n",
       "6    28    NA     14.9 66   5      6 \n",
       "7    23   299      8.6 65   5      7 \n",
       "8    19    99     13.8 59   5      8 \n",
       "9     8    19     20.1 61   5      9 \n",
       "10   NA   194      8.6 69   5     10 \n",
       "11    7    NA      6.9 74   5     11 \n",
       "12   16   256      9.7 69   5     12 \n",
       "13   11   290      9.2 66   5     13 \n",
       "14   14   274     10.9 68   5     14 \n",
       "15   18    65     13.2 58   5     15 \n",
       "16   14   334     11.5 64   5     16 \n",
       "17   34   307     12.0 66   5     17 \n",
       "18    6    78     18.4 57   5     18 \n",
       "19   30   322     11.5 68   5     19 \n",
       "20   11    44      9.7 62   5     20 \n",
       "21    1     8      9.7 59   5     21 \n",
       "22   11   320     16.6 73   5     22 \n",
       "23    4    25      9.7 61   5     23 \n",
       "24   32    92     12.0 61   5     24 \n",
       "25   NA    66     16.6 57   5     25 \n",
       "26   NA   266     14.9 58   5     26 \n",
       "27   NA    NA      8.0 57   5     27 \n",
       "28   23    13     12.0 67   5     28 \n",
       "29   45   252     14.9 81   5     29 \n",
       "30  115   223      5.7 79   5     30 \n",
       "⋮   ⋮     ⋮       ⋮    ⋮    ⋮     ⋮  \n",
       "124 96    167      6.9 91   9      1 \n",
       "125 78    197      5.1 92   9      2 \n",
       "126 73    183      2.8 93   9      3 \n",
       "127 91    189      4.6 93   9      4 \n",
       "128 47     95      7.4 87   9      5 \n",
       "129 32     92     15.5 84   9      6 \n",
       "130 20    252     10.9 80   9      7 \n",
       "131 23    220     10.3 78   9      8 \n",
       "132 21    230     10.9 75   9      9 \n",
       "133 24    259      9.7 73   9     10 \n",
       "134 44    236     14.9 81   9     11 \n",
       "135 21    259     15.5 76   9     12 \n",
       "136 28    238      6.3 77   9     13 \n",
       "137  9     24     10.9 71   9     14 \n",
       "138 13    112     11.5 71   9     15 \n",
       "139 46    237      6.9 78   9     16 \n",
       "140 18    224     13.8 67   9     17 \n",
       "141 13     27     10.3 76   9     18 \n",
       "142 24    238     10.3 68   9     19 \n",
       "143 16    201      8.0 82   9     20 \n",
       "144 13    238     12.6 64   9     21 \n",
       "145 23     14      9.2 71   9     22 \n",
       "146 36    139     10.3 81   9     23 \n",
       "147  7     49     10.3 69   9     24 \n",
       "148 14     20     16.6 63   9     25 \n",
       "149 30    193      6.9 70   9     26 \n",
       "150 NA    145     13.2 77   9     27 \n",
       "151 14    191     14.3 75   9     28 \n",
       "152 18    131      8.0 76   9     29 \n",
       "153 20    223     11.5 68   9     30 "
      ]
     },
     "metadata": {},
     "output_type": "display_data"
    }
   ],
   "source": [
    "data(\"airquality\")\n",
    "airquality"
   ]
  },
  {
   "cell_type": "markdown",
   "id": "179a242c",
   "metadata": {},
   "source": [
    "### Some common methods on Functions\n",
    "\n",
    "* `str()` to see a text description of the `str`ucture of the `df` \n",
    " * Useful to inspect variables you're unfamiliar with.\n",
    "  \n",
    "* Display a subset of the data frame \n",
    "  * `head()`: top of `df` \n",
    "  * `tail()`, bottom of the `df`\n",
    "  "
   ]
  },
  {
   "cell_type": "code",
   "execution_count": 66,
   "id": "4edacacf",
   "metadata": {},
   "outputs": [
    {
     "name": "stdout",
     "output_type": "stream",
     "text": [
      "'data.frame':\t153 obs. of  6 variables:\n",
      " $ Ozone  : int  41 36 12 18 NA 28 23 19 8 NA ...\n",
      " $ Solar.R: int  190 118 149 313 NA NA 299 99 19 194 ...\n",
      " $ Wind   : num  7.4 8 12.6 11.5 14.3 14.9 8.6 13.8 20.1 8.6 ...\n",
      " $ Temp   : int  67 72 74 62 56 66 65 59 61 69 ...\n",
      " $ Month  : int  5 5 5 5 5 5 5 5 5 5 ...\n",
      " $ Day    : int  1 2 3 4 5 6 7 8 9 10 ...\n"
     ]
    }
   ],
   "source": [
    "str(airquality)"
   ]
  },
  {
   "cell_type": "code",
   "execution_count": 67,
   "id": "5ea635af",
   "metadata": {},
   "outputs": [
    {
     "data": {
      "text/html": [
       "<table class=\"dataframe\">\n",
       "<caption>A data.frame: 6 × 6</caption>\n",
       "<thead>\n",
       "\t<tr><th></th><th scope=col>Ozone</th><th scope=col>Solar.R</th><th scope=col>Wind</th><th scope=col>Temp</th><th scope=col>Month</th><th scope=col>Day</th></tr>\n",
       "\t<tr><th></th><th scope=col>&lt;int&gt;</th><th scope=col>&lt;int&gt;</th><th scope=col>&lt;dbl&gt;</th><th scope=col>&lt;int&gt;</th><th scope=col>&lt;int&gt;</th><th scope=col>&lt;int&gt;</th></tr>\n",
       "</thead>\n",
       "<tbody>\n",
       "\t<tr><th scope=row>1</th><td>41</td><td>190</td><td> 7.4</td><td>67</td><td>5</td><td>1</td></tr>\n",
       "\t<tr><th scope=row>2</th><td>36</td><td>118</td><td> 8.0</td><td>72</td><td>5</td><td>2</td></tr>\n",
       "\t<tr><th scope=row>3</th><td>12</td><td>149</td><td>12.6</td><td>74</td><td>5</td><td>3</td></tr>\n",
       "\t<tr><th scope=row>4</th><td>18</td><td>313</td><td>11.5</td><td>62</td><td>5</td><td>4</td></tr>\n",
       "\t<tr><th scope=row>5</th><td>NA</td><td> NA</td><td>14.3</td><td>56</td><td>5</td><td>5</td></tr>\n",
       "\t<tr><th scope=row>6</th><td>28</td><td> NA</td><td>14.9</td><td>66</td><td>5</td><td>6</td></tr>\n",
       "</tbody>\n",
       "</table>\n"
      ],
      "text/latex": [
       "A data.frame: 6 × 6\n",
       "\\begin{tabular}{r|llllll}\n",
       "  & Ozone & Solar.R & Wind & Temp & Month & Day\\\\\n",
       "  & <int> & <int> & <dbl> & <int> & <int> & <int>\\\\\n",
       "\\hline\n",
       "\t1 & 41 & 190 &  7.4 & 67 & 5 & 1\\\\\n",
       "\t2 & 36 & 118 &  8.0 & 72 & 5 & 2\\\\\n",
       "\t3 & 12 & 149 & 12.6 & 74 & 5 & 3\\\\\n",
       "\t4 & 18 & 313 & 11.5 & 62 & 5 & 4\\\\\n",
       "\t5 & NA &  NA & 14.3 & 56 & 5 & 5\\\\\n",
       "\t6 & 28 &  NA & 14.9 & 66 & 5 & 6\\\\\n",
       "\\end{tabular}\n"
      ],
      "text/markdown": [
       "\n",
       "A data.frame: 6 × 6\n",
       "\n",
       "| <!--/--> | Ozone &lt;int&gt; | Solar.R &lt;int&gt; | Wind &lt;dbl&gt; | Temp &lt;int&gt; | Month &lt;int&gt; | Day &lt;int&gt; |\n",
       "|---|---|---|---|---|---|---|\n",
       "| 1 | 41 | 190 |  7.4 | 67 | 5 | 1 |\n",
       "| 2 | 36 | 118 |  8.0 | 72 | 5 | 2 |\n",
       "| 3 | 12 | 149 | 12.6 | 74 | 5 | 3 |\n",
       "| 4 | 18 | 313 | 11.5 | 62 | 5 | 4 |\n",
       "| 5 | NA |  NA | 14.3 | 56 | 5 | 5 |\n",
       "| 6 | 28 |  NA | 14.9 | 66 | 5 | 6 |\n",
       "\n"
      ],
      "text/plain": [
       "  Ozone Solar.R Wind Temp Month Day\n",
       "1 41    190      7.4 67   5     1  \n",
       "2 36    118      8.0 72   5     2  \n",
       "3 12    149     12.6 74   5     3  \n",
       "4 18    313     11.5 62   5     4  \n",
       "5 NA     NA     14.3 56   5     5  \n",
       "6 28     NA     14.9 66   5     6  "
      ]
     },
     "metadata": {},
     "output_type": "display_data"
    }
   ],
   "source": [
    "head(airquality)"
   ]
  },
  {
   "cell_type": "code",
   "execution_count": 68,
   "id": "0d4d64db",
   "metadata": {},
   "outputs": [
    {
     "data": {
      "text/html": [
       "<table class=\"dataframe\">\n",
       "<caption>A data.frame: 3 × 6</caption>\n",
       "<thead>\n",
       "\t<tr><th></th><th scope=col>Ozone</th><th scope=col>Solar.R</th><th scope=col>Wind</th><th scope=col>Temp</th><th scope=col>Month</th><th scope=col>Day</th></tr>\n",
       "\t<tr><th></th><th scope=col>&lt;int&gt;</th><th scope=col>&lt;int&gt;</th><th scope=col>&lt;dbl&gt;</th><th scope=col>&lt;int&gt;</th><th scope=col>&lt;int&gt;</th><th scope=col>&lt;int&gt;</th></tr>\n",
       "</thead>\n",
       "<tbody>\n",
       "\t<tr><th scope=row>151</th><td>14</td><td>191</td><td>14.3</td><td>75</td><td>9</td><td>28</td></tr>\n",
       "\t<tr><th scope=row>152</th><td>18</td><td>131</td><td> 8.0</td><td>76</td><td>9</td><td>29</td></tr>\n",
       "\t<tr><th scope=row>153</th><td>20</td><td>223</td><td>11.5</td><td>68</td><td>9</td><td>30</td></tr>\n",
       "</tbody>\n",
       "</table>\n"
      ],
      "text/latex": [
       "A data.frame: 3 × 6\n",
       "\\begin{tabular}{r|llllll}\n",
       "  & Ozone & Solar.R & Wind & Temp & Month & Day\\\\\n",
       "  & <int> & <int> & <dbl> & <int> & <int> & <int>\\\\\n",
       "\\hline\n",
       "\t151 & 14 & 191 & 14.3 & 75 & 9 & 28\\\\\n",
       "\t152 & 18 & 131 &  8.0 & 76 & 9 & 29\\\\\n",
       "\t153 & 20 & 223 & 11.5 & 68 & 9 & 30\\\\\n",
       "\\end{tabular}\n"
      ],
      "text/markdown": [
       "\n",
       "A data.frame: 3 × 6\n",
       "\n",
       "| <!--/--> | Ozone &lt;int&gt; | Solar.R &lt;int&gt; | Wind &lt;dbl&gt; | Temp &lt;int&gt; | Month &lt;int&gt; | Day &lt;int&gt; |\n",
       "|---|---|---|---|---|---|---|\n",
       "| 151 | 14 | 191 | 14.3 | 75 | 9 | 28 |\n",
       "| 152 | 18 | 131 |  8.0 | 76 | 9 | 29 |\n",
       "| 153 | 20 | 223 | 11.5 | 68 | 9 | 30 |\n",
       "\n"
      ],
      "text/plain": [
       "    Ozone Solar.R Wind Temp Month Day\n",
       "151 14    191     14.3 75   9     28 \n",
       "152 18    131      8.0 76   9     29 \n",
       "153 20    223     11.5 68   9     30 "
      ]
     },
     "metadata": {},
     "output_type": "display_data"
    }
   ],
   "source": [
    "# show n lines. Works with both head and tail\n",
    "tail(airquality, n = 3)"
   ]
  },
  {
   "cell_type": "markdown",
   "id": "88521c9e",
   "metadata": {},
   "source": [
    "### Indexing in a Data Frame\n",
    "\n",
    "* Dataframes behave like tables when it comes to indexing\n",
    "    * simple format: `df_name[row_index, col_index]`\n",
    "    * advanced format: `df_name[row_index_start:row_index_end, col_index_start:col_index_end]`\n",
    "    \n",
    "* To index a column, you can use the special shortcut `$`\n",
    "\n",
    "```df_name$col_name```\n",
    "\n",
    "* The indexing type determines whether a value, vector, or another dataframe will be generated"
   ]
  },
  {
   "cell_type": "code",
   "execution_count": 156,
   "id": "6572963d",
   "metadata": {},
   "outputs": [
    {
     "data": {
      "text/html": [
       "<table class=\"dataframe\">\n",
       "<caption>A data.frame: 6 × 6</caption>\n",
       "<thead>\n",
       "\t<tr><th></th><th scope=col>Ozone</th><th scope=col>Solar.R</th><th scope=col>Wind</th><th scope=col>Temp</th><th scope=col>Month</th><th scope=col>Day</th></tr>\n",
       "\t<tr><th></th><th scope=col>&lt;int&gt;</th><th scope=col>&lt;int&gt;</th><th scope=col>&lt;dbl&gt;</th><th scope=col>&lt;int&gt;</th><th scope=col>&lt;int&gt;</th><th scope=col>&lt;int&gt;</th></tr>\n",
       "</thead>\n",
       "<tbody>\n",
       "\t<tr><th scope=row>1</th><td>41</td><td>190</td><td> 7.4</td><td>67</td><td>5</td><td>1</td></tr>\n",
       "\t<tr><th scope=row>2</th><td>36</td><td>118</td><td> 8.0</td><td>72</td><td>5</td><td>2</td></tr>\n",
       "\t<tr><th scope=row>3</th><td>12</td><td>149</td><td>12.6</td><td>74</td><td>5</td><td>3</td></tr>\n",
       "\t<tr><th scope=row>4</th><td>18</td><td>313</td><td>11.5</td><td>62</td><td>5</td><td>4</td></tr>\n",
       "\t<tr><th scope=row>5</th><td>NA</td><td> NA</td><td>14.3</td><td>56</td><td>5</td><td>5</td></tr>\n",
       "\t<tr><th scope=row>6</th><td>28</td><td> NA</td><td>14.9</td><td>66</td><td>5</td><td>6</td></tr>\n",
       "</tbody>\n",
       "</table>\n"
      ],
      "text/latex": [
       "A data.frame: 6 × 6\n",
       "\\begin{tabular}{r|llllll}\n",
       "  & Ozone & Solar.R & Wind & Temp & Month & Day\\\\\n",
       "  & <int> & <int> & <dbl> & <int> & <int> & <int>\\\\\n",
       "\\hline\n",
       "\t1 & 41 & 190 &  7.4 & 67 & 5 & 1\\\\\n",
       "\t2 & 36 & 118 &  8.0 & 72 & 5 & 2\\\\\n",
       "\t3 & 12 & 149 & 12.6 & 74 & 5 & 3\\\\\n",
       "\t4 & 18 & 313 & 11.5 & 62 & 5 & 4\\\\\n",
       "\t5 & NA &  NA & 14.3 & 56 & 5 & 5\\\\\n",
       "\t6 & 28 &  NA & 14.9 & 66 & 5 & 6\\\\\n",
       "\\end{tabular}\n"
      ],
      "text/markdown": [
       "\n",
       "A data.frame: 6 × 6\n",
       "\n",
       "| <!--/--> | Ozone &lt;int&gt; | Solar.R &lt;int&gt; | Wind &lt;dbl&gt; | Temp &lt;int&gt; | Month &lt;int&gt; | Day &lt;int&gt; |\n",
       "|---|---|---|---|---|---|---|\n",
       "| 1 | 41 | 190 |  7.4 | 67 | 5 | 1 |\n",
       "| 2 | 36 | 118 |  8.0 | 72 | 5 | 2 |\n",
       "| 3 | 12 | 149 | 12.6 | 74 | 5 | 3 |\n",
       "| 4 | 18 | 313 | 11.5 | 62 | 5 | 4 |\n",
       "| 5 | NA |  NA | 14.3 | 56 | 5 | 5 |\n",
       "| 6 | 28 |  NA | 14.9 | 66 | 5 | 6 |\n",
       "\n"
      ],
      "text/plain": [
       "  Ozone Solar.R Wind Temp Month Day\n",
       "1 41    190      7.4 67   5     1  \n",
       "2 36    118      8.0 72   5     2  \n",
       "3 12    149     12.6 74   5     3  \n",
       "4 18    313     11.5 62   5     4  \n",
       "5 NA     NA     14.3 56   5     5  \n",
       "6 28     NA     14.9 66   5     6  "
      ]
     },
     "metadata": {},
     "output_type": "display_data"
    }
   ],
   "source": [
    "head(airquality)"
   ]
  },
  {
   "cell_type": "code",
   "execution_count": 69,
   "id": "4b16f69f",
   "metadata": {},
   "outputs": [
    {
     "data": {
      "text/html": [
       "<style>\n",
       ".list-inline {list-style: none; margin:0; padding: 0}\n",
       ".list-inline>li {display: inline-block}\n",
       ".list-inline>li:not(:last-child)::after {content: \"\\00b7\"; padding: 0 .5ex}\n",
       "</style>\n",
       "<ol class=list-inline><li>41</li><li>36</li><li>28</li></ol>\n"
      ],
      "text/latex": [
       "\\begin{enumerate*}\n",
       "\\item 41\n",
       "\\item 36\n",
       "\\item 28\n",
       "\\end{enumerate*}\n"
      ],
      "text/markdown": [
       "1. 41\n",
       "2. 36\n",
       "3. 28\n",
       "\n",
       "\n"
      ],
      "text/plain": [
       "[1] 41 36 28"
      ]
     },
     "metadata": {},
     "output_type": "display_data"
    }
   ],
   "source": [
    "airquality[c(1,2,6), \"Ozone\"]"
   ]
  },
  {
   "cell_type": "code",
   "execution_count": 158,
   "id": "d6111bce",
   "metadata": {},
   "outputs": [
    {
     "data": {
      "text/html": [
       "<style>\n",
       ".list-inline {list-style: none; margin:0; padding: 0}\n",
       ".list-inline>li {display: inline-block}\n",
       ".list-inline>li:not(:last-child)::after {content: \"\\00b7\"; padding: 0 .5ex}\n",
       "</style>\n",
       "<ol class=list-inline><li>41</li><li>36</li><li>12</li><li>18</li><li>&lt;NA&gt;</li></ol>\n"
      ],
      "text/latex": [
       "\\begin{enumerate*}\n",
       "\\item 41\n",
       "\\item 36\n",
       "\\item 12\n",
       "\\item 18\n",
       "\\item <NA>\n",
       "\\end{enumerate*}\n"
      ],
      "text/markdown": [
       "1. 41\n",
       "2. 36\n",
       "3. 12\n",
       "4. 18\n",
       "5. &lt;NA&gt;\n",
       "\n",
       "\n"
      ],
      "text/plain": [
       "[1] 41 36 12 18 NA"
      ]
     },
     "metadata": {},
     "output_type": "display_data"
    }
   ],
   "source": [
    "airquality[1:5, \"Ozone\"]"
   ]
  },
  {
   "cell_type": "code",
   "execution_count": 72,
   "id": "f084068c",
   "metadata": {},
   "outputs": [
    {
     "data": {
      "text/html": [
       "<table class=\"dataframe\">\n",
       "<caption>A data.frame: 153 × 2</caption>\n",
       "<thead>\n",
       "\t<tr><th scope=col>Ozone</th><th scope=col>Wind</th></tr>\n",
       "\t<tr><th scope=col>&lt;int&gt;</th><th scope=col>&lt;dbl&gt;</th></tr>\n",
       "</thead>\n",
       "<tbody>\n",
       "\t<tr><td> 41</td><td> 7.4</td></tr>\n",
       "\t<tr><td> 36</td><td> 8.0</td></tr>\n",
       "\t<tr><td> 12</td><td>12.6</td></tr>\n",
       "\t<tr><td> 18</td><td>11.5</td></tr>\n",
       "\t<tr><td> NA</td><td>14.3</td></tr>\n",
       "\t<tr><td> 28</td><td>14.9</td></tr>\n",
       "\t<tr><td> 23</td><td> 8.6</td></tr>\n",
       "\t<tr><td> 19</td><td>13.8</td></tr>\n",
       "\t<tr><td>  8</td><td>20.1</td></tr>\n",
       "\t<tr><td> NA</td><td> 8.6</td></tr>\n",
       "\t<tr><td>  7</td><td> 6.9</td></tr>\n",
       "\t<tr><td> 16</td><td> 9.7</td></tr>\n",
       "\t<tr><td> 11</td><td> 9.2</td></tr>\n",
       "\t<tr><td> 14</td><td>10.9</td></tr>\n",
       "\t<tr><td> 18</td><td>13.2</td></tr>\n",
       "\t<tr><td> 14</td><td>11.5</td></tr>\n",
       "\t<tr><td> 34</td><td>12.0</td></tr>\n",
       "\t<tr><td>  6</td><td>18.4</td></tr>\n",
       "\t<tr><td> 30</td><td>11.5</td></tr>\n",
       "\t<tr><td> 11</td><td> 9.7</td></tr>\n",
       "\t<tr><td>  1</td><td> 9.7</td></tr>\n",
       "\t<tr><td> 11</td><td>16.6</td></tr>\n",
       "\t<tr><td>  4</td><td> 9.7</td></tr>\n",
       "\t<tr><td> 32</td><td>12.0</td></tr>\n",
       "\t<tr><td> NA</td><td>16.6</td></tr>\n",
       "\t<tr><td> NA</td><td>14.9</td></tr>\n",
       "\t<tr><td> NA</td><td> 8.0</td></tr>\n",
       "\t<tr><td> 23</td><td>12.0</td></tr>\n",
       "\t<tr><td> 45</td><td>14.9</td></tr>\n",
       "\t<tr><td>115</td><td> 5.7</td></tr>\n",
       "\t<tr><td>⋮</td><td>⋮</td></tr>\n",
       "\t<tr><td>96</td><td> 6.9</td></tr>\n",
       "\t<tr><td>78</td><td> 5.1</td></tr>\n",
       "\t<tr><td>73</td><td> 2.8</td></tr>\n",
       "\t<tr><td>91</td><td> 4.6</td></tr>\n",
       "\t<tr><td>47</td><td> 7.4</td></tr>\n",
       "\t<tr><td>32</td><td>15.5</td></tr>\n",
       "\t<tr><td>20</td><td>10.9</td></tr>\n",
       "\t<tr><td>23</td><td>10.3</td></tr>\n",
       "\t<tr><td>21</td><td>10.9</td></tr>\n",
       "\t<tr><td>24</td><td> 9.7</td></tr>\n",
       "\t<tr><td>44</td><td>14.9</td></tr>\n",
       "\t<tr><td>21</td><td>15.5</td></tr>\n",
       "\t<tr><td>28</td><td> 6.3</td></tr>\n",
       "\t<tr><td> 9</td><td>10.9</td></tr>\n",
       "\t<tr><td>13</td><td>11.5</td></tr>\n",
       "\t<tr><td>46</td><td> 6.9</td></tr>\n",
       "\t<tr><td>18</td><td>13.8</td></tr>\n",
       "\t<tr><td>13</td><td>10.3</td></tr>\n",
       "\t<tr><td>24</td><td>10.3</td></tr>\n",
       "\t<tr><td>16</td><td> 8.0</td></tr>\n",
       "\t<tr><td>13</td><td>12.6</td></tr>\n",
       "\t<tr><td>23</td><td> 9.2</td></tr>\n",
       "\t<tr><td>36</td><td>10.3</td></tr>\n",
       "\t<tr><td> 7</td><td>10.3</td></tr>\n",
       "\t<tr><td>14</td><td>16.6</td></tr>\n",
       "\t<tr><td>30</td><td> 6.9</td></tr>\n",
       "\t<tr><td>NA</td><td>13.2</td></tr>\n",
       "\t<tr><td>14</td><td>14.3</td></tr>\n",
       "\t<tr><td>18</td><td> 8.0</td></tr>\n",
       "\t<tr><td>20</td><td>11.5</td></tr>\n",
       "</tbody>\n",
       "</table>\n"
      ],
      "text/latex": [
       "A data.frame: 153 × 2\n",
       "\\begin{tabular}{ll}\n",
       " Ozone & Wind\\\\\n",
       " <int> & <dbl>\\\\\n",
       "\\hline\n",
       "\t  41 &  7.4\\\\\n",
       "\t  36 &  8.0\\\\\n",
       "\t  12 & 12.6\\\\\n",
       "\t  18 & 11.5\\\\\n",
       "\t  NA & 14.3\\\\\n",
       "\t  28 & 14.9\\\\\n",
       "\t  23 &  8.6\\\\\n",
       "\t  19 & 13.8\\\\\n",
       "\t   8 & 20.1\\\\\n",
       "\t  NA &  8.6\\\\\n",
       "\t   7 &  6.9\\\\\n",
       "\t  16 &  9.7\\\\\n",
       "\t  11 &  9.2\\\\\n",
       "\t  14 & 10.9\\\\\n",
       "\t  18 & 13.2\\\\\n",
       "\t  14 & 11.5\\\\\n",
       "\t  34 & 12.0\\\\\n",
       "\t   6 & 18.4\\\\\n",
       "\t  30 & 11.5\\\\\n",
       "\t  11 &  9.7\\\\\n",
       "\t   1 &  9.7\\\\\n",
       "\t  11 & 16.6\\\\\n",
       "\t   4 &  9.7\\\\\n",
       "\t  32 & 12.0\\\\\n",
       "\t  NA & 16.6\\\\\n",
       "\t  NA & 14.9\\\\\n",
       "\t  NA &  8.0\\\\\n",
       "\t  23 & 12.0\\\\\n",
       "\t  45 & 14.9\\\\\n",
       "\t 115 &  5.7\\\\\n",
       "\t ⋮ & ⋮\\\\\n",
       "\t 96 &  6.9\\\\\n",
       "\t 78 &  5.1\\\\\n",
       "\t 73 &  2.8\\\\\n",
       "\t 91 &  4.6\\\\\n",
       "\t 47 &  7.4\\\\\n",
       "\t 32 & 15.5\\\\\n",
       "\t 20 & 10.9\\\\\n",
       "\t 23 & 10.3\\\\\n",
       "\t 21 & 10.9\\\\\n",
       "\t 24 &  9.7\\\\\n",
       "\t 44 & 14.9\\\\\n",
       "\t 21 & 15.5\\\\\n",
       "\t 28 &  6.3\\\\\n",
       "\t  9 & 10.9\\\\\n",
       "\t 13 & 11.5\\\\\n",
       "\t 46 &  6.9\\\\\n",
       "\t 18 & 13.8\\\\\n",
       "\t 13 & 10.3\\\\\n",
       "\t 24 & 10.3\\\\\n",
       "\t 16 &  8.0\\\\\n",
       "\t 13 & 12.6\\\\\n",
       "\t 23 &  9.2\\\\\n",
       "\t 36 & 10.3\\\\\n",
       "\t  7 & 10.3\\\\\n",
       "\t 14 & 16.6\\\\\n",
       "\t 30 &  6.9\\\\\n",
       "\t NA & 13.2\\\\\n",
       "\t 14 & 14.3\\\\\n",
       "\t 18 &  8.0\\\\\n",
       "\t 20 & 11.5\\\\\n",
       "\\end{tabular}\n"
      ],
      "text/markdown": [
       "\n",
       "A data.frame: 153 × 2\n",
       "\n",
       "| Ozone &lt;int&gt; | Wind &lt;dbl&gt; |\n",
       "|---|---|\n",
       "|  41 |  7.4 |\n",
       "|  36 |  8.0 |\n",
       "|  12 | 12.6 |\n",
       "|  18 | 11.5 |\n",
       "|  NA | 14.3 |\n",
       "|  28 | 14.9 |\n",
       "|  23 |  8.6 |\n",
       "|  19 | 13.8 |\n",
       "|   8 | 20.1 |\n",
       "|  NA |  8.6 |\n",
       "|   7 |  6.9 |\n",
       "|  16 |  9.7 |\n",
       "|  11 |  9.2 |\n",
       "|  14 | 10.9 |\n",
       "|  18 | 13.2 |\n",
       "|  14 | 11.5 |\n",
       "|  34 | 12.0 |\n",
       "|   6 | 18.4 |\n",
       "|  30 | 11.5 |\n",
       "|  11 |  9.7 |\n",
       "|   1 |  9.7 |\n",
       "|  11 | 16.6 |\n",
       "|   4 |  9.7 |\n",
       "|  32 | 12.0 |\n",
       "|  NA | 16.6 |\n",
       "|  NA | 14.9 |\n",
       "|  NA |  8.0 |\n",
       "|  23 | 12.0 |\n",
       "|  45 | 14.9 |\n",
       "| 115 |  5.7 |\n",
       "| ⋮ | ⋮ |\n",
       "| 96 |  6.9 |\n",
       "| 78 |  5.1 |\n",
       "| 73 |  2.8 |\n",
       "| 91 |  4.6 |\n",
       "| 47 |  7.4 |\n",
       "| 32 | 15.5 |\n",
       "| 20 | 10.9 |\n",
       "| 23 | 10.3 |\n",
       "| 21 | 10.9 |\n",
       "| 24 |  9.7 |\n",
       "| 44 | 14.9 |\n",
       "| 21 | 15.5 |\n",
       "| 28 |  6.3 |\n",
       "|  9 | 10.9 |\n",
       "| 13 | 11.5 |\n",
       "| 46 |  6.9 |\n",
       "| 18 | 13.8 |\n",
       "| 13 | 10.3 |\n",
       "| 24 | 10.3 |\n",
       "| 16 |  8.0 |\n",
       "| 13 | 12.6 |\n",
       "| 23 |  9.2 |\n",
       "| 36 | 10.3 |\n",
       "|  7 | 10.3 |\n",
       "| 14 | 16.6 |\n",
       "| 30 |  6.9 |\n",
       "| NA | 13.2 |\n",
       "| 14 | 14.3 |\n",
       "| 18 |  8.0 |\n",
       "| 20 | 11.5 |\n",
       "\n"
      ],
      "text/plain": [
       "    Ozone Wind\n",
       "1    41    7.4\n",
       "2    36    8.0\n",
       "3    12   12.6\n",
       "4    18   11.5\n",
       "5    NA   14.3\n",
       "6    28   14.9\n",
       "7    23    8.6\n",
       "8    19   13.8\n",
       "9     8   20.1\n",
       "10   NA    8.6\n",
       "11    7    6.9\n",
       "12   16    9.7\n",
       "13   11    9.2\n",
       "14   14   10.9\n",
       "15   18   13.2\n",
       "16   14   11.5\n",
       "17   34   12.0\n",
       "18    6   18.4\n",
       "19   30   11.5\n",
       "20   11    9.7\n",
       "21    1    9.7\n",
       "22   11   16.6\n",
       "23    4    9.7\n",
       "24   32   12.0\n",
       "25   NA   16.6\n",
       "26   NA   14.9\n",
       "27   NA    8.0\n",
       "28   23   12.0\n",
       "29   45   14.9\n",
       "30  115    5.7\n",
       "⋮   ⋮     ⋮   \n",
       "124 96     6.9\n",
       "125 78     5.1\n",
       "126 73     2.8\n",
       "127 91     4.6\n",
       "128 47     7.4\n",
       "129 32    15.5\n",
       "130 20    10.9\n",
       "131 23    10.3\n",
       "132 21    10.9\n",
       "133 24     9.7\n",
       "134 44    14.9\n",
       "135 21    15.5\n",
       "136 28     6.3\n",
       "137  9    10.9\n",
       "138 13    11.5\n",
       "139 46     6.9\n",
       "140 18    13.8\n",
       "141 13    10.3\n",
       "142 24    10.3\n",
       "143 16     8.0\n",
       "144 13    12.6\n",
       "145 23     9.2\n",
       "146 36    10.3\n",
       "147  7    10.3\n",
       "148 14    16.6\n",
       "149 30     6.9\n",
       "150 NA    13.2\n",
       "151 14    14.3\n",
       "152 18     8.0\n",
       "153 20    11.5"
      ]
     },
     "metadata": {},
     "output_type": "display_data"
    }
   ],
   "source": [
    "airquality[ , c(\"Ozone\", \"Wind\")]"
   ]
  },
  {
   "cell_type": "code",
   "execution_count": 73,
   "id": "00a80842",
   "metadata": {},
   "outputs": [
    {
     "data": {
      "text/html": [
       "<style>\n",
       ".list-inline {list-style: none; margin:0; padding: 0}\n",
       ".list-inline>li {display: inline-block}\n",
       ".list-inline>li:not(:last-child)::after {content: \"\\00b7\"; padding: 0 .5ex}\n",
       "</style>\n",
       "<ol class=list-inline><li>41</li><li>36</li><li>12</li><li>18</li><li>&lt;NA&gt;</li><li>28</li><li>23</li><li>19</li><li>8</li><li>&lt;NA&gt;</li><li>7</li><li>16</li><li>11</li><li>14</li><li>18</li><li>14</li><li>34</li><li>6</li><li>30</li><li>11</li><li>1</li><li>11</li><li>4</li><li>32</li><li>&lt;NA&gt;</li><li>&lt;NA&gt;</li><li>&lt;NA&gt;</li><li>23</li><li>45</li><li>115</li><li>37</li><li>&lt;NA&gt;</li><li>&lt;NA&gt;</li><li>&lt;NA&gt;</li><li>&lt;NA&gt;</li><li>&lt;NA&gt;</li><li>&lt;NA&gt;</li><li>29</li><li>&lt;NA&gt;</li><li>71</li><li>39</li><li>&lt;NA&gt;</li><li>&lt;NA&gt;</li><li>23</li><li>&lt;NA&gt;</li><li>&lt;NA&gt;</li><li>21</li><li>37</li><li>20</li><li>12</li><li>13</li><li>&lt;NA&gt;</li><li>&lt;NA&gt;</li><li>&lt;NA&gt;</li><li>&lt;NA&gt;</li><li>&lt;NA&gt;</li><li>&lt;NA&gt;</li><li>&lt;NA&gt;</li><li>&lt;NA&gt;</li><li>&lt;NA&gt;</li><li>&lt;NA&gt;</li><li>135</li><li>49</li><li>32</li><li>&lt;NA&gt;</li><li>64</li><li>40</li><li>77</li><li>97</li><li>97</li><li>85</li><li>&lt;NA&gt;</li><li>10</li><li>27</li><li>&lt;NA&gt;</li><li>7</li><li>48</li><li>35</li><li>61</li><li>79</li><li>63</li><li>16</li><li>&lt;NA&gt;</li><li>&lt;NA&gt;</li><li>80</li><li>108</li><li>20</li><li>52</li><li>82</li><li>50</li><li>64</li><li>59</li><li>39</li><li>9</li><li>16</li><li>78</li><li>35</li><li>66</li><li>122</li><li>89</li><li>110</li><li>&lt;NA&gt;</li><li>&lt;NA&gt;</li><li>44</li><li>28</li><li>65</li><li>&lt;NA&gt;</li><li>22</li><li>59</li><li>23</li><li>31</li><li>44</li><li>21</li><li>9</li><li>&lt;NA&gt;</li><li>45</li><li>168</li><li>73</li><li>&lt;NA&gt;</li><li>76</li><li>118</li><li>84</li><li>85</li><li>96</li><li>78</li><li>73</li><li>91</li><li>47</li><li>32</li><li>20</li><li>23</li><li>21</li><li>24</li><li>44</li><li>21</li><li>28</li><li>9</li><li>13</li><li>46</li><li>18</li><li>13</li><li>24</li><li>16</li><li>13</li><li>23</li><li>36</li><li>7</li><li>14</li><li>30</li><li>&lt;NA&gt;</li><li>14</li><li>18</li><li>20</li></ol>\n"
      ],
      "text/latex": [
       "\\begin{enumerate*}\n",
       "\\item 41\n",
       "\\item 36\n",
       "\\item 12\n",
       "\\item 18\n",
       "\\item <NA>\n",
       "\\item 28\n",
       "\\item 23\n",
       "\\item 19\n",
       "\\item 8\n",
       "\\item <NA>\n",
       "\\item 7\n",
       "\\item 16\n",
       "\\item 11\n",
       "\\item 14\n",
       "\\item 18\n",
       "\\item 14\n",
       "\\item 34\n",
       "\\item 6\n",
       "\\item 30\n",
       "\\item 11\n",
       "\\item 1\n",
       "\\item 11\n",
       "\\item 4\n",
       "\\item 32\n",
       "\\item <NA>\n",
       "\\item <NA>\n",
       "\\item <NA>\n",
       "\\item 23\n",
       "\\item 45\n",
       "\\item 115\n",
       "\\item 37\n",
       "\\item <NA>\n",
       "\\item <NA>\n",
       "\\item <NA>\n",
       "\\item <NA>\n",
       "\\item <NA>\n",
       "\\item <NA>\n",
       "\\item 29\n",
       "\\item <NA>\n",
       "\\item 71\n",
       "\\item 39\n",
       "\\item <NA>\n",
       "\\item <NA>\n",
       "\\item 23\n",
       "\\item <NA>\n",
       "\\item <NA>\n",
       "\\item 21\n",
       "\\item 37\n",
       "\\item 20\n",
       "\\item 12\n",
       "\\item 13\n",
       "\\item <NA>\n",
       "\\item <NA>\n",
       "\\item <NA>\n",
       "\\item <NA>\n",
       "\\item <NA>\n",
       "\\item <NA>\n",
       "\\item <NA>\n",
       "\\item <NA>\n",
       "\\item <NA>\n",
       "\\item <NA>\n",
       "\\item 135\n",
       "\\item 49\n",
       "\\item 32\n",
       "\\item <NA>\n",
       "\\item 64\n",
       "\\item 40\n",
       "\\item 77\n",
       "\\item 97\n",
       "\\item 97\n",
       "\\item 85\n",
       "\\item <NA>\n",
       "\\item 10\n",
       "\\item 27\n",
       "\\item <NA>\n",
       "\\item 7\n",
       "\\item 48\n",
       "\\item 35\n",
       "\\item 61\n",
       "\\item 79\n",
       "\\item 63\n",
       "\\item 16\n",
       "\\item <NA>\n",
       "\\item <NA>\n",
       "\\item 80\n",
       "\\item 108\n",
       "\\item 20\n",
       "\\item 52\n",
       "\\item 82\n",
       "\\item 50\n",
       "\\item 64\n",
       "\\item 59\n",
       "\\item 39\n",
       "\\item 9\n",
       "\\item 16\n",
       "\\item 78\n",
       "\\item 35\n",
       "\\item 66\n",
       "\\item 122\n",
       "\\item 89\n",
       "\\item 110\n",
       "\\item <NA>\n",
       "\\item <NA>\n",
       "\\item 44\n",
       "\\item 28\n",
       "\\item 65\n",
       "\\item <NA>\n",
       "\\item 22\n",
       "\\item 59\n",
       "\\item 23\n",
       "\\item 31\n",
       "\\item 44\n",
       "\\item 21\n",
       "\\item 9\n",
       "\\item <NA>\n",
       "\\item 45\n",
       "\\item 168\n",
       "\\item 73\n",
       "\\item <NA>\n",
       "\\item 76\n",
       "\\item 118\n",
       "\\item 84\n",
       "\\item 85\n",
       "\\item 96\n",
       "\\item 78\n",
       "\\item 73\n",
       "\\item 91\n",
       "\\item 47\n",
       "\\item 32\n",
       "\\item 20\n",
       "\\item 23\n",
       "\\item 21\n",
       "\\item 24\n",
       "\\item 44\n",
       "\\item 21\n",
       "\\item 28\n",
       "\\item 9\n",
       "\\item 13\n",
       "\\item 46\n",
       "\\item 18\n",
       "\\item 13\n",
       "\\item 24\n",
       "\\item 16\n",
       "\\item 13\n",
       "\\item 23\n",
       "\\item 36\n",
       "\\item 7\n",
       "\\item 14\n",
       "\\item 30\n",
       "\\item <NA>\n",
       "\\item 14\n",
       "\\item 18\n",
       "\\item 20\n",
       "\\end{enumerate*}\n"
      ],
      "text/markdown": [
       "1. 41\n",
       "2. 36\n",
       "3. 12\n",
       "4. 18\n",
       "5. &lt;NA&gt;\n",
       "6. 28\n",
       "7. 23\n",
       "8. 19\n",
       "9. 8\n",
       "10. &lt;NA&gt;\n",
       "11. 7\n",
       "12. 16\n",
       "13. 11\n",
       "14. 14\n",
       "15. 18\n",
       "16. 14\n",
       "17. 34\n",
       "18. 6\n",
       "19. 30\n",
       "20. 11\n",
       "21. 1\n",
       "22. 11\n",
       "23. 4\n",
       "24. 32\n",
       "25. &lt;NA&gt;\n",
       "26. &lt;NA&gt;\n",
       "27. &lt;NA&gt;\n",
       "28. 23\n",
       "29. 45\n",
       "30. 115\n",
       "31. 37\n",
       "32. &lt;NA&gt;\n",
       "33. &lt;NA&gt;\n",
       "34. &lt;NA&gt;\n",
       "35. &lt;NA&gt;\n",
       "36. &lt;NA&gt;\n",
       "37. &lt;NA&gt;\n",
       "38. 29\n",
       "39. &lt;NA&gt;\n",
       "40. 71\n",
       "41. 39\n",
       "42. &lt;NA&gt;\n",
       "43. &lt;NA&gt;\n",
       "44. 23\n",
       "45. &lt;NA&gt;\n",
       "46. &lt;NA&gt;\n",
       "47. 21\n",
       "48. 37\n",
       "49. 20\n",
       "50. 12\n",
       "51. 13\n",
       "52. &lt;NA&gt;\n",
       "53. &lt;NA&gt;\n",
       "54. &lt;NA&gt;\n",
       "55. &lt;NA&gt;\n",
       "56. &lt;NA&gt;\n",
       "57. &lt;NA&gt;\n",
       "58. &lt;NA&gt;\n",
       "59. &lt;NA&gt;\n",
       "60. &lt;NA&gt;\n",
       "61. &lt;NA&gt;\n",
       "62. 135\n",
       "63. 49\n",
       "64. 32\n",
       "65. &lt;NA&gt;\n",
       "66. 64\n",
       "67. 40\n",
       "68. 77\n",
       "69. 97\n",
       "70. 97\n",
       "71. 85\n",
       "72. &lt;NA&gt;\n",
       "73. 10\n",
       "74. 27\n",
       "75. &lt;NA&gt;\n",
       "76. 7\n",
       "77. 48\n",
       "78. 35\n",
       "79. 61\n",
       "80. 79\n",
       "81. 63\n",
       "82. 16\n",
       "83. &lt;NA&gt;\n",
       "84. &lt;NA&gt;\n",
       "85. 80\n",
       "86. 108\n",
       "87. 20\n",
       "88. 52\n",
       "89. 82\n",
       "90. 50\n",
       "91. 64\n",
       "92. 59\n",
       "93. 39\n",
       "94. 9\n",
       "95. 16\n",
       "96. 78\n",
       "97. 35\n",
       "98. 66\n",
       "99. 122\n",
       "100. 89\n",
       "101. 110\n",
       "102. &lt;NA&gt;\n",
       "103. &lt;NA&gt;\n",
       "104. 44\n",
       "105. 28\n",
       "106. 65\n",
       "107. &lt;NA&gt;\n",
       "108. 22\n",
       "109. 59\n",
       "110. 23\n",
       "111. 31\n",
       "112. 44\n",
       "113. 21\n",
       "114. 9\n",
       "115. &lt;NA&gt;\n",
       "116. 45\n",
       "117. 168\n",
       "118. 73\n",
       "119. &lt;NA&gt;\n",
       "120. 76\n",
       "121. 118\n",
       "122. 84\n",
       "123. 85\n",
       "124. 96\n",
       "125. 78\n",
       "126. 73\n",
       "127. 91\n",
       "128. 47\n",
       "129. 32\n",
       "130. 20\n",
       "131. 23\n",
       "132. 21\n",
       "133. 24\n",
       "134. 44\n",
       "135. 21\n",
       "136. 28\n",
       "137. 9\n",
       "138. 13\n",
       "139. 46\n",
       "140. 18\n",
       "141. 13\n",
       "142. 24\n",
       "143. 16\n",
       "144. 13\n",
       "145. 23\n",
       "146. 36\n",
       "147. 7\n",
       "148. 14\n",
       "149. 30\n",
       "150. &lt;NA&gt;\n",
       "151. 14\n",
       "152. 18\n",
       "153. 20\n",
       "\n",
       "\n"
      ],
      "text/plain": [
       "  [1]  41  36  12  18  NA  28  23  19   8  NA   7  16  11  14  18  14  34   6\n",
       " [19]  30  11   1  11   4  32  NA  NA  NA  23  45 115  37  NA  NA  NA  NA  NA\n",
       " [37]  NA  29  NA  71  39  NA  NA  23  NA  NA  21  37  20  12  13  NA  NA  NA\n",
       " [55]  NA  NA  NA  NA  NA  NA  NA 135  49  32  NA  64  40  77  97  97  85  NA\n",
       " [73]  10  27  NA   7  48  35  61  79  63  16  NA  NA  80 108  20  52  82  50\n",
       " [91]  64  59  39   9  16  78  35  66 122  89 110  NA  NA  44  28  65  NA  22\n",
       "[109]  59  23  31  44  21   9  NA  45 168  73  NA  76 118  84  85  96  78  73\n",
       "[127]  91  47  32  20  23  21  24  44  21  28   9  13  46  18  13  24  16  13\n",
       "[145]  23  36   7  14  30  NA  14  18  20"
      ]
     },
     "metadata": {},
     "output_type": "display_data"
    }
   ],
   "source": [
    "airquality$Ozone"
   ]
  },
  {
   "cell_type": "code",
   "execution_count": 74,
   "id": "417d26c5",
   "metadata": {},
   "outputs": [
    {
     "data": {
      "text/html": [
       "<style>\n",
       ".list-inline {list-style: none; margin:0; padding: 0}\n",
       ".list-inline>li {display: inline-block}\n",
       ".list-inline>li:not(:last-child)::after {content: \"\\00b7\"; padding: 0 .5ex}\n",
       "</style>\n",
       "<ol class=list-inline><li>41</li><li>36</li><li>12</li><li>18</li><li>&lt;NA&gt;</li></ol>\n"
      ],
      "text/latex": [
       "\\begin{enumerate*}\n",
       "\\item 41\n",
       "\\item 36\n",
       "\\item 12\n",
       "\\item 18\n",
       "\\item <NA>\n",
       "\\end{enumerate*}\n"
      ],
      "text/markdown": [
       "1. 41\n",
       "2. 36\n",
       "3. 12\n",
       "4. 18\n",
       "5. &lt;NA&gt;\n",
       "\n",
       "\n"
      ],
      "text/plain": [
       "[1] 41 36 12 18 NA"
      ]
     },
     "metadata": {},
     "output_type": "display_data"
    }
   ],
   "source": [
    "airquality$Ozone[1:5]"
   ]
  },
  {
   "cell_type": "markdown",
   "id": "433b3c1f",
   "metadata": {},
   "source": [
    "### Using Conditions to Filter `df` Rows\n",
    "\n",
    "* A common way to subet a `df` data is by using the `subset()`\n",
    "\n",
    "```\n",
    "subset(my_df, some_condition)\n",
    "```\n",
    "\n",
    "* Logical Operators to describe the condition\n",
    "| operator | Description |\n",
    "|---|---|\n",
    "| < | less than |\n",
    "| <= | less than or equal to |\n",
    "| > | greater than |\n",
    "| >= | greater than or equal to |\n",
    "| == | exactly equal to |\n",
    "| != | not equal to |\n",
    "| ! `condition_x` | Not condition_x |\n",
    "| `cond_x` \\| `cond_y` | cond_x or cond_y |\n",
    "| `cond_x` & `cond_y` | cond_x and cond_y |\n"
   ]
  },
  {
   "cell_type": "code",
   "execution_count": 11,
   "id": "e5d48a17",
   "metadata": {},
   "outputs": [
    {
     "data": {
      "text/html": [
       "<table class=\"dataframe\">\n",
       "<caption>A data.frame: 6 × 6</caption>\n",
       "<thead>\n",
       "\t<tr><th></th><th scope=col>Ozone</th><th scope=col>Solar.R</th><th scope=col>Wind</th><th scope=col>Temp</th><th scope=col>Month</th><th scope=col>Day</th></tr>\n",
       "\t<tr><th></th><th scope=col>&lt;int&gt;</th><th scope=col>&lt;int&gt;</th><th scope=col>&lt;dbl&gt;</th><th scope=col>&lt;int&gt;</th><th scope=col>&lt;int&gt;</th><th scope=col>&lt;int&gt;</th></tr>\n",
       "</thead>\n",
       "<tbody>\n",
       "\t<tr><th scope=row>1</th><td>41</td><td>190</td><td> 7.4</td><td>67</td><td>5</td><td>1</td></tr>\n",
       "\t<tr><th scope=row>2</th><td>36</td><td>118</td><td> 8.0</td><td>72</td><td>5</td><td>2</td></tr>\n",
       "\t<tr><th scope=row>3</th><td>12</td><td>149</td><td>12.6</td><td>74</td><td>5</td><td>3</td></tr>\n",
       "\t<tr><th scope=row>4</th><td>18</td><td>313</td><td>11.5</td><td>62</td><td>5</td><td>4</td></tr>\n",
       "\t<tr><th scope=row>5</th><td>NA</td><td> NA</td><td>14.3</td><td>56</td><td>5</td><td>5</td></tr>\n",
       "\t<tr><th scope=row>6</th><td>28</td><td> NA</td><td>14.9</td><td>66</td><td>5</td><td>6</td></tr>\n",
       "</tbody>\n",
       "</table>\n"
      ],
      "text/latex": [
       "A data.frame: 6 × 6\n",
       "\\begin{tabular}{r|llllll}\n",
       "  & Ozone & Solar.R & Wind & Temp & Month & Day\\\\\n",
       "  & <int> & <int> & <dbl> & <int> & <int> & <int>\\\\\n",
       "\\hline\n",
       "\t1 & 41 & 190 &  7.4 & 67 & 5 & 1\\\\\n",
       "\t2 & 36 & 118 &  8.0 & 72 & 5 & 2\\\\\n",
       "\t3 & 12 & 149 & 12.6 & 74 & 5 & 3\\\\\n",
       "\t4 & 18 & 313 & 11.5 & 62 & 5 & 4\\\\\n",
       "\t5 & NA &  NA & 14.3 & 56 & 5 & 5\\\\\n",
       "\t6 & 28 &  NA & 14.9 & 66 & 5 & 6\\\\\n",
       "\\end{tabular}\n"
      ],
      "text/markdown": [
       "\n",
       "A data.frame: 6 × 6\n",
       "\n",
       "| <!--/--> | Ozone &lt;int&gt; | Solar.R &lt;int&gt; | Wind &lt;dbl&gt; | Temp &lt;int&gt; | Month &lt;int&gt; | Day &lt;int&gt; |\n",
       "|---|---|---|---|---|---|---|\n",
       "| 1 | 41 | 190 |  7.4 | 67 | 5 | 1 |\n",
       "| 2 | 36 | 118 |  8.0 | 72 | 5 | 2 |\n",
       "| 3 | 12 | 149 | 12.6 | 74 | 5 | 3 |\n",
       "| 4 | 18 | 313 | 11.5 | 62 | 5 | 4 |\n",
       "| 5 | NA |  NA | 14.3 | 56 | 5 | 5 |\n",
       "| 6 | 28 |  NA | 14.9 | 66 | 5 | 6 |\n",
       "\n"
      ],
      "text/plain": [
       "  Ozone Solar.R Wind Temp Month Day\n",
       "1 41    190      7.4 67   5     1  \n",
       "2 36    118      8.0 72   5     2  \n",
       "3 12    149     12.6 74   5     3  \n",
       "4 18    313     11.5 62   5     4  \n",
       "5 NA     NA     14.3 56   5     5  \n",
       "6 28     NA     14.9 66   5     6  "
      ]
     },
     "metadata": {},
     "output_type": "display_data"
    }
   ],
   "source": [
    "# first records in the airquality df has month==5\n",
    "head(airquality)"
   ]
  },
  {
   "cell_type": "code",
   "execution_count": 77,
   "id": "320981c0",
   "metadata": {},
   "outputs": [
    {
     "data": {
      "text/html": [
       "<table class=\"dataframe\">\n",
       "<caption>A data.frame: 122 × 6</caption>\n",
       "<thead>\n",
       "\t<tr><th></th><th scope=col>Ozone</th><th scope=col>Solar.R</th><th scope=col>Wind</th><th scope=col>Temp</th><th scope=col>Month</th><th scope=col>Day</th></tr>\n",
       "\t<tr><th></th><th scope=col>&lt;int&gt;</th><th scope=col>&lt;int&gt;</th><th scope=col>&lt;dbl&gt;</th><th scope=col>&lt;int&gt;</th><th scope=col>&lt;int&gt;</th><th scope=col>&lt;int&gt;</th></tr>\n",
       "</thead>\n",
       "<tbody>\n",
       "\t<tr><th scope=row>32</th><td>NA</td><td>286</td><td> 8.6</td><td>78</td><td>6</td><td> 1</td></tr>\n",
       "\t<tr><th scope=row>33</th><td>NA</td><td>287</td><td> 9.7</td><td>74</td><td>6</td><td> 2</td></tr>\n",
       "\t<tr><th scope=row>34</th><td>NA</td><td>242</td><td>16.1</td><td>67</td><td>6</td><td> 3</td></tr>\n",
       "\t<tr><th scope=row>35</th><td>NA</td><td>186</td><td> 9.2</td><td>84</td><td>6</td><td> 4</td></tr>\n",
       "\t<tr><th scope=row>36</th><td>NA</td><td>220</td><td> 8.6</td><td>85</td><td>6</td><td> 5</td></tr>\n",
       "\t<tr><th scope=row>37</th><td>NA</td><td>264</td><td>14.3</td><td>79</td><td>6</td><td> 6</td></tr>\n",
       "\t<tr><th scope=row>38</th><td>29</td><td>127</td><td> 9.7</td><td>82</td><td>6</td><td> 7</td></tr>\n",
       "\t<tr><th scope=row>39</th><td>NA</td><td>273</td><td> 6.9</td><td>87</td><td>6</td><td> 8</td></tr>\n",
       "\t<tr><th scope=row>40</th><td>71</td><td>291</td><td>13.8</td><td>90</td><td>6</td><td> 9</td></tr>\n",
       "\t<tr><th scope=row>41</th><td>39</td><td>323</td><td>11.5</td><td>87</td><td>6</td><td>10</td></tr>\n",
       "\t<tr><th scope=row>42</th><td>NA</td><td>259</td><td>10.9</td><td>93</td><td>6</td><td>11</td></tr>\n",
       "\t<tr><th scope=row>43</th><td>NA</td><td>250</td><td> 9.2</td><td>92</td><td>6</td><td>12</td></tr>\n",
       "\t<tr><th scope=row>44</th><td>23</td><td>148</td><td> 8.0</td><td>82</td><td>6</td><td>13</td></tr>\n",
       "\t<tr><th scope=row>45</th><td>NA</td><td>332</td><td>13.8</td><td>80</td><td>6</td><td>14</td></tr>\n",
       "\t<tr><th scope=row>46</th><td>NA</td><td>322</td><td>11.5</td><td>79</td><td>6</td><td>15</td></tr>\n",
       "\t<tr><th scope=row>47</th><td>21</td><td>191</td><td>14.9</td><td>77</td><td>6</td><td>16</td></tr>\n",
       "\t<tr><th scope=row>48</th><td>37</td><td>284</td><td>20.7</td><td>72</td><td>6</td><td>17</td></tr>\n",
       "\t<tr><th scope=row>49</th><td>20</td><td> 37</td><td> 9.2</td><td>65</td><td>6</td><td>18</td></tr>\n",
       "\t<tr><th scope=row>50</th><td>12</td><td>120</td><td>11.5</td><td>73</td><td>6</td><td>19</td></tr>\n",
       "\t<tr><th scope=row>51</th><td>13</td><td>137</td><td>10.3</td><td>76</td><td>6</td><td>20</td></tr>\n",
       "\t<tr><th scope=row>52</th><td>NA</td><td>150</td><td> 6.3</td><td>77</td><td>6</td><td>21</td></tr>\n",
       "\t<tr><th scope=row>53</th><td>NA</td><td> 59</td><td> 1.7</td><td>76</td><td>6</td><td>22</td></tr>\n",
       "\t<tr><th scope=row>54</th><td>NA</td><td> 91</td><td> 4.6</td><td>76</td><td>6</td><td>23</td></tr>\n",
       "\t<tr><th scope=row>55</th><td>NA</td><td>250</td><td> 6.3</td><td>76</td><td>6</td><td>24</td></tr>\n",
       "\t<tr><th scope=row>56</th><td>NA</td><td>135</td><td> 8.0</td><td>75</td><td>6</td><td>25</td></tr>\n",
       "\t<tr><th scope=row>57</th><td>NA</td><td>127</td><td> 8.0</td><td>78</td><td>6</td><td>26</td></tr>\n",
       "\t<tr><th scope=row>58</th><td>NA</td><td> 47</td><td>10.3</td><td>73</td><td>6</td><td>27</td></tr>\n",
       "\t<tr><th scope=row>59</th><td>NA</td><td> 98</td><td>11.5</td><td>80</td><td>6</td><td>28</td></tr>\n",
       "\t<tr><th scope=row>60</th><td>NA</td><td> 31</td><td>14.9</td><td>77</td><td>6</td><td>29</td></tr>\n",
       "\t<tr><th scope=row>61</th><td>NA</td><td>138</td><td> 8.0</td><td>83</td><td>6</td><td>30</td></tr>\n",
       "\t<tr><th scope=row>⋮</th><td>⋮</td><td>⋮</td><td>⋮</td><td>⋮</td><td>⋮</td><td>⋮</td></tr>\n",
       "\t<tr><th scope=row>124</th><td>96</td><td>167</td><td> 6.9</td><td>91</td><td>9</td><td> 1</td></tr>\n",
       "\t<tr><th scope=row>125</th><td>78</td><td>197</td><td> 5.1</td><td>92</td><td>9</td><td> 2</td></tr>\n",
       "\t<tr><th scope=row>126</th><td>73</td><td>183</td><td> 2.8</td><td>93</td><td>9</td><td> 3</td></tr>\n",
       "\t<tr><th scope=row>127</th><td>91</td><td>189</td><td> 4.6</td><td>93</td><td>9</td><td> 4</td></tr>\n",
       "\t<tr><th scope=row>128</th><td>47</td><td> 95</td><td> 7.4</td><td>87</td><td>9</td><td> 5</td></tr>\n",
       "\t<tr><th scope=row>129</th><td>32</td><td> 92</td><td>15.5</td><td>84</td><td>9</td><td> 6</td></tr>\n",
       "\t<tr><th scope=row>130</th><td>20</td><td>252</td><td>10.9</td><td>80</td><td>9</td><td> 7</td></tr>\n",
       "\t<tr><th scope=row>131</th><td>23</td><td>220</td><td>10.3</td><td>78</td><td>9</td><td> 8</td></tr>\n",
       "\t<tr><th scope=row>132</th><td>21</td><td>230</td><td>10.9</td><td>75</td><td>9</td><td> 9</td></tr>\n",
       "\t<tr><th scope=row>133</th><td>24</td><td>259</td><td> 9.7</td><td>73</td><td>9</td><td>10</td></tr>\n",
       "\t<tr><th scope=row>134</th><td>44</td><td>236</td><td>14.9</td><td>81</td><td>9</td><td>11</td></tr>\n",
       "\t<tr><th scope=row>135</th><td>21</td><td>259</td><td>15.5</td><td>76</td><td>9</td><td>12</td></tr>\n",
       "\t<tr><th scope=row>136</th><td>28</td><td>238</td><td> 6.3</td><td>77</td><td>9</td><td>13</td></tr>\n",
       "\t<tr><th scope=row>137</th><td> 9</td><td> 24</td><td>10.9</td><td>71</td><td>9</td><td>14</td></tr>\n",
       "\t<tr><th scope=row>138</th><td>13</td><td>112</td><td>11.5</td><td>71</td><td>9</td><td>15</td></tr>\n",
       "\t<tr><th scope=row>139</th><td>46</td><td>237</td><td> 6.9</td><td>78</td><td>9</td><td>16</td></tr>\n",
       "\t<tr><th scope=row>140</th><td>18</td><td>224</td><td>13.8</td><td>67</td><td>9</td><td>17</td></tr>\n",
       "\t<tr><th scope=row>141</th><td>13</td><td> 27</td><td>10.3</td><td>76</td><td>9</td><td>18</td></tr>\n",
       "\t<tr><th scope=row>142</th><td>24</td><td>238</td><td>10.3</td><td>68</td><td>9</td><td>19</td></tr>\n",
       "\t<tr><th scope=row>143</th><td>16</td><td>201</td><td> 8.0</td><td>82</td><td>9</td><td>20</td></tr>\n",
       "\t<tr><th scope=row>144</th><td>13</td><td>238</td><td>12.6</td><td>64</td><td>9</td><td>21</td></tr>\n",
       "\t<tr><th scope=row>145</th><td>23</td><td> 14</td><td> 9.2</td><td>71</td><td>9</td><td>22</td></tr>\n",
       "\t<tr><th scope=row>146</th><td>36</td><td>139</td><td>10.3</td><td>81</td><td>9</td><td>23</td></tr>\n",
       "\t<tr><th scope=row>147</th><td> 7</td><td> 49</td><td>10.3</td><td>69</td><td>9</td><td>24</td></tr>\n",
       "\t<tr><th scope=row>148</th><td>14</td><td> 20</td><td>16.6</td><td>63</td><td>9</td><td>25</td></tr>\n",
       "\t<tr><th scope=row>149</th><td>30</td><td>193</td><td> 6.9</td><td>70</td><td>9</td><td>26</td></tr>\n",
       "\t<tr><th scope=row>150</th><td>NA</td><td>145</td><td>13.2</td><td>77</td><td>9</td><td>27</td></tr>\n",
       "\t<tr><th scope=row>151</th><td>14</td><td>191</td><td>14.3</td><td>75</td><td>9</td><td>28</td></tr>\n",
       "\t<tr><th scope=row>152</th><td>18</td><td>131</td><td> 8.0</td><td>76</td><td>9</td><td>29</td></tr>\n",
       "\t<tr><th scope=row>153</th><td>20</td><td>223</td><td>11.5</td><td>68</td><td>9</td><td>30</td></tr>\n",
       "</tbody>\n",
       "</table>\n"
      ],
      "text/latex": [
       "A data.frame: 122 × 6\n",
       "\\begin{tabular}{r|llllll}\n",
       "  & Ozone & Solar.R & Wind & Temp & Month & Day\\\\\n",
       "  & <int> & <int> & <dbl> & <int> & <int> & <int>\\\\\n",
       "\\hline\n",
       "\t32 & NA & 286 &  8.6 & 78 & 6 &  1\\\\\n",
       "\t33 & NA & 287 &  9.7 & 74 & 6 &  2\\\\\n",
       "\t34 & NA & 242 & 16.1 & 67 & 6 &  3\\\\\n",
       "\t35 & NA & 186 &  9.2 & 84 & 6 &  4\\\\\n",
       "\t36 & NA & 220 &  8.6 & 85 & 6 &  5\\\\\n",
       "\t37 & NA & 264 & 14.3 & 79 & 6 &  6\\\\\n",
       "\t38 & 29 & 127 &  9.7 & 82 & 6 &  7\\\\\n",
       "\t39 & NA & 273 &  6.9 & 87 & 6 &  8\\\\\n",
       "\t40 & 71 & 291 & 13.8 & 90 & 6 &  9\\\\\n",
       "\t41 & 39 & 323 & 11.5 & 87 & 6 & 10\\\\\n",
       "\t42 & NA & 259 & 10.9 & 93 & 6 & 11\\\\\n",
       "\t43 & NA & 250 &  9.2 & 92 & 6 & 12\\\\\n",
       "\t44 & 23 & 148 &  8.0 & 82 & 6 & 13\\\\\n",
       "\t45 & NA & 332 & 13.8 & 80 & 6 & 14\\\\\n",
       "\t46 & NA & 322 & 11.5 & 79 & 6 & 15\\\\\n",
       "\t47 & 21 & 191 & 14.9 & 77 & 6 & 16\\\\\n",
       "\t48 & 37 & 284 & 20.7 & 72 & 6 & 17\\\\\n",
       "\t49 & 20 &  37 &  9.2 & 65 & 6 & 18\\\\\n",
       "\t50 & 12 & 120 & 11.5 & 73 & 6 & 19\\\\\n",
       "\t51 & 13 & 137 & 10.3 & 76 & 6 & 20\\\\\n",
       "\t52 & NA & 150 &  6.3 & 77 & 6 & 21\\\\\n",
       "\t53 & NA &  59 &  1.7 & 76 & 6 & 22\\\\\n",
       "\t54 & NA &  91 &  4.6 & 76 & 6 & 23\\\\\n",
       "\t55 & NA & 250 &  6.3 & 76 & 6 & 24\\\\\n",
       "\t56 & NA & 135 &  8.0 & 75 & 6 & 25\\\\\n",
       "\t57 & NA & 127 &  8.0 & 78 & 6 & 26\\\\\n",
       "\t58 & NA &  47 & 10.3 & 73 & 6 & 27\\\\\n",
       "\t59 & NA &  98 & 11.5 & 80 & 6 & 28\\\\\n",
       "\t60 & NA &  31 & 14.9 & 77 & 6 & 29\\\\\n",
       "\t61 & NA & 138 &  8.0 & 83 & 6 & 30\\\\\n",
       "\t⋮ & ⋮ & ⋮ & ⋮ & ⋮ & ⋮ & ⋮\\\\\n",
       "\t124 & 96 & 167 &  6.9 & 91 & 9 &  1\\\\\n",
       "\t125 & 78 & 197 &  5.1 & 92 & 9 &  2\\\\\n",
       "\t126 & 73 & 183 &  2.8 & 93 & 9 &  3\\\\\n",
       "\t127 & 91 & 189 &  4.6 & 93 & 9 &  4\\\\\n",
       "\t128 & 47 &  95 &  7.4 & 87 & 9 &  5\\\\\n",
       "\t129 & 32 &  92 & 15.5 & 84 & 9 &  6\\\\\n",
       "\t130 & 20 & 252 & 10.9 & 80 & 9 &  7\\\\\n",
       "\t131 & 23 & 220 & 10.3 & 78 & 9 &  8\\\\\n",
       "\t132 & 21 & 230 & 10.9 & 75 & 9 &  9\\\\\n",
       "\t133 & 24 & 259 &  9.7 & 73 & 9 & 10\\\\\n",
       "\t134 & 44 & 236 & 14.9 & 81 & 9 & 11\\\\\n",
       "\t135 & 21 & 259 & 15.5 & 76 & 9 & 12\\\\\n",
       "\t136 & 28 & 238 &  6.3 & 77 & 9 & 13\\\\\n",
       "\t137 &  9 &  24 & 10.9 & 71 & 9 & 14\\\\\n",
       "\t138 & 13 & 112 & 11.5 & 71 & 9 & 15\\\\\n",
       "\t139 & 46 & 237 &  6.9 & 78 & 9 & 16\\\\\n",
       "\t140 & 18 & 224 & 13.8 & 67 & 9 & 17\\\\\n",
       "\t141 & 13 &  27 & 10.3 & 76 & 9 & 18\\\\\n",
       "\t142 & 24 & 238 & 10.3 & 68 & 9 & 19\\\\\n",
       "\t143 & 16 & 201 &  8.0 & 82 & 9 & 20\\\\\n",
       "\t144 & 13 & 238 & 12.6 & 64 & 9 & 21\\\\\n",
       "\t145 & 23 &  14 &  9.2 & 71 & 9 & 22\\\\\n",
       "\t146 & 36 & 139 & 10.3 & 81 & 9 & 23\\\\\n",
       "\t147 &  7 &  49 & 10.3 & 69 & 9 & 24\\\\\n",
       "\t148 & 14 &  20 & 16.6 & 63 & 9 & 25\\\\\n",
       "\t149 & 30 & 193 &  6.9 & 70 & 9 & 26\\\\\n",
       "\t150 & NA & 145 & 13.2 & 77 & 9 & 27\\\\\n",
       "\t151 & 14 & 191 & 14.3 & 75 & 9 & 28\\\\\n",
       "\t152 & 18 & 131 &  8.0 & 76 & 9 & 29\\\\\n",
       "\t153 & 20 & 223 & 11.5 & 68 & 9 & 30\\\\\n",
       "\\end{tabular}\n"
      ],
      "text/markdown": [
       "\n",
       "A data.frame: 122 × 6\n",
       "\n",
       "| <!--/--> | Ozone &lt;int&gt; | Solar.R &lt;int&gt; | Wind &lt;dbl&gt; | Temp &lt;int&gt; | Month &lt;int&gt; | Day &lt;int&gt; |\n",
       "|---|---|---|---|---|---|---|\n",
       "| 32 | NA | 286 |  8.6 | 78 | 6 |  1 |\n",
       "| 33 | NA | 287 |  9.7 | 74 | 6 |  2 |\n",
       "| 34 | NA | 242 | 16.1 | 67 | 6 |  3 |\n",
       "| 35 | NA | 186 |  9.2 | 84 | 6 |  4 |\n",
       "| 36 | NA | 220 |  8.6 | 85 | 6 |  5 |\n",
       "| 37 | NA | 264 | 14.3 | 79 | 6 |  6 |\n",
       "| 38 | 29 | 127 |  9.7 | 82 | 6 |  7 |\n",
       "| 39 | NA | 273 |  6.9 | 87 | 6 |  8 |\n",
       "| 40 | 71 | 291 | 13.8 | 90 | 6 |  9 |\n",
       "| 41 | 39 | 323 | 11.5 | 87 | 6 | 10 |\n",
       "| 42 | NA | 259 | 10.9 | 93 | 6 | 11 |\n",
       "| 43 | NA | 250 |  9.2 | 92 | 6 | 12 |\n",
       "| 44 | 23 | 148 |  8.0 | 82 | 6 | 13 |\n",
       "| 45 | NA | 332 | 13.8 | 80 | 6 | 14 |\n",
       "| 46 | NA | 322 | 11.5 | 79 | 6 | 15 |\n",
       "| 47 | 21 | 191 | 14.9 | 77 | 6 | 16 |\n",
       "| 48 | 37 | 284 | 20.7 | 72 | 6 | 17 |\n",
       "| 49 | 20 |  37 |  9.2 | 65 | 6 | 18 |\n",
       "| 50 | 12 | 120 | 11.5 | 73 | 6 | 19 |\n",
       "| 51 | 13 | 137 | 10.3 | 76 | 6 | 20 |\n",
       "| 52 | NA | 150 |  6.3 | 77 | 6 | 21 |\n",
       "| 53 | NA |  59 |  1.7 | 76 | 6 | 22 |\n",
       "| 54 | NA |  91 |  4.6 | 76 | 6 | 23 |\n",
       "| 55 | NA | 250 |  6.3 | 76 | 6 | 24 |\n",
       "| 56 | NA | 135 |  8.0 | 75 | 6 | 25 |\n",
       "| 57 | NA | 127 |  8.0 | 78 | 6 | 26 |\n",
       "| 58 | NA |  47 | 10.3 | 73 | 6 | 27 |\n",
       "| 59 | NA |  98 | 11.5 | 80 | 6 | 28 |\n",
       "| 60 | NA |  31 | 14.9 | 77 | 6 | 29 |\n",
       "| 61 | NA | 138 |  8.0 | 83 | 6 | 30 |\n",
       "| ⋮ | ⋮ | ⋮ | ⋮ | ⋮ | ⋮ | ⋮ |\n",
       "| 124 | 96 | 167 |  6.9 | 91 | 9 |  1 |\n",
       "| 125 | 78 | 197 |  5.1 | 92 | 9 |  2 |\n",
       "| 126 | 73 | 183 |  2.8 | 93 | 9 |  3 |\n",
       "| 127 | 91 | 189 |  4.6 | 93 | 9 |  4 |\n",
       "| 128 | 47 |  95 |  7.4 | 87 | 9 |  5 |\n",
       "| 129 | 32 |  92 | 15.5 | 84 | 9 |  6 |\n",
       "| 130 | 20 | 252 | 10.9 | 80 | 9 |  7 |\n",
       "| 131 | 23 | 220 | 10.3 | 78 | 9 |  8 |\n",
       "| 132 | 21 | 230 | 10.9 | 75 | 9 |  9 |\n",
       "| 133 | 24 | 259 |  9.7 | 73 | 9 | 10 |\n",
       "| 134 | 44 | 236 | 14.9 | 81 | 9 | 11 |\n",
       "| 135 | 21 | 259 | 15.5 | 76 | 9 | 12 |\n",
       "| 136 | 28 | 238 |  6.3 | 77 | 9 | 13 |\n",
       "| 137 |  9 |  24 | 10.9 | 71 | 9 | 14 |\n",
       "| 138 | 13 | 112 | 11.5 | 71 | 9 | 15 |\n",
       "| 139 | 46 | 237 |  6.9 | 78 | 9 | 16 |\n",
       "| 140 | 18 | 224 | 13.8 | 67 | 9 | 17 |\n",
       "| 141 | 13 |  27 | 10.3 | 76 | 9 | 18 |\n",
       "| 142 | 24 | 238 | 10.3 | 68 | 9 | 19 |\n",
       "| 143 | 16 | 201 |  8.0 | 82 | 9 | 20 |\n",
       "| 144 | 13 | 238 | 12.6 | 64 | 9 | 21 |\n",
       "| 145 | 23 |  14 |  9.2 | 71 | 9 | 22 |\n",
       "| 146 | 36 | 139 | 10.3 | 81 | 9 | 23 |\n",
       "| 147 |  7 |  49 | 10.3 | 69 | 9 | 24 |\n",
       "| 148 | 14 |  20 | 16.6 | 63 | 9 | 25 |\n",
       "| 149 | 30 | 193 |  6.9 | 70 | 9 | 26 |\n",
       "| 150 | NA | 145 | 13.2 | 77 | 9 | 27 |\n",
       "| 151 | 14 | 191 | 14.3 | 75 | 9 | 28 |\n",
       "| 152 | 18 | 131 |  8.0 | 76 | 9 | 29 |\n",
       "| 153 | 20 | 223 | 11.5 | 68 | 9 | 30 |\n",
       "\n"
      ],
      "text/plain": [
       "    Ozone Solar.R Wind Temp Month Day\n",
       "32  NA    286      8.6 78   6      1 \n",
       "33  NA    287      9.7 74   6      2 \n",
       "34  NA    242     16.1 67   6      3 \n",
       "35  NA    186      9.2 84   6      4 \n",
       "36  NA    220      8.6 85   6      5 \n",
       "37  NA    264     14.3 79   6      6 \n",
       "38  29    127      9.7 82   6      7 \n",
       "39  NA    273      6.9 87   6      8 \n",
       "40  71    291     13.8 90   6      9 \n",
       "41  39    323     11.5 87   6     10 \n",
       "42  NA    259     10.9 93   6     11 \n",
       "43  NA    250      9.2 92   6     12 \n",
       "44  23    148      8.0 82   6     13 \n",
       "45  NA    332     13.8 80   6     14 \n",
       "46  NA    322     11.5 79   6     15 \n",
       "47  21    191     14.9 77   6     16 \n",
       "48  37    284     20.7 72   6     17 \n",
       "49  20     37      9.2 65   6     18 \n",
       "50  12    120     11.5 73   6     19 \n",
       "51  13    137     10.3 76   6     20 \n",
       "52  NA    150      6.3 77   6     21 \n",
       "53  NA     59      1.7 76   6     22 \n",
       "54  NA     91      4.6 76   6     23 \n",
       "55  NA    250      6.3 76   6     24 \n",
       "56  NA    135      8.0 75   6     25 \n",
       "57  NA    127      8.0 78   6     26 \n",
       "58  NA     47     10.3 73   6     27 \n",
       "59  NA     98     11.5 80   6     28 \n",
       "60  NA     31     14.9 77   6     29 \n",
       "61  NA    138      8.0 83   6     30 \n",
       "⋮   ⋮     ⋮       ⋮    ⋮    ⋮     ⋮  \n",
       "124 96    167      6.9 91   9      1 \n",
       "125 78    197      5.1 92   9      2 \n",
       "126 73    183      2.8 93   9      3 \n",
       "127 91    189      4.6 93   9      4 \n",
       "128 47     95      7.4 87   9      5 \n",
       "129 32     92     15.5 84   9      6 \n",
       "130 20    252     10.9 80   9      7 \n",
       "131 23    220     10.3 78   9      8 \n",
       "132 21    230     10.9 75   9      9 \n",
       "133 24    259      9.7 73   9     10 \n",
       "134 44    236     14.9 81   9     11 \n",
       "135 21    259     15.5 76   9     12 \n",
       "136 28    238      6.3 77   9     13 \n",
       "137  9     24     10.9 71   9     14 \n",
       "138 13    112     11.5 71   9     15 \n",
       "139 46    237      6.9 78   9     16 \n",
       "140 18    224     13.8 67   9     17 \n",
       "141 13     27     10.3 76   9     18 \n",
       "142 24    238     10.3 68   9     19 \n",
       "143 16    201      8.0 82   9     20 \n",
       "144 13    238     12.6 64   9     21 \n",
       "145 23     14      9.2 71   9     22 \n",
       "146 36    139     10.3 81   9     23 \n",
       "147  7     49     10.3 69   9     24 \n",
       "148 14     20     16.6 63   9     25 \n",
       "149 30    193      6.9 70   9     26 \n",
       "150 NA    145     13.2 77   9     27 \n",
       "151 14    191     14.3 75   9     28 \n",
       "152 18    131      8.0 76   9     29 \n",
       "153 20    223     11.5 68   9     30 "
      ]
     },
     "metadata": {},
     "output_type": "display_data"
    }
   ],
   "source": [
    "subset(airquality, Month != 5)"
   ]
  },
  {
   "cell_type": "code",
   "execution_count": 79,
   "id": "1a4c2553",
   "metadata": {},
   "outputs": [
    {
     "data": {
      "text/html": [
       "153"
      ],
      "text/latex": [
       "153"
      ],
      "text/markdown": [
       "153"
      ],
      "text/plain": [
       "[1] 153"
      ]
     },
     "metadata": {},
     "output_type": "display_data"
    },
    {
     "data": {
      "text/html": [
       "122"
      ],
      "text/latex": [
       "122"
      ],
      "text/markdown": [
       "122"
      ],
      "text/plain": [
       "[1] 122"
      ]
     },
     "metadata": {},
     "output_type": "display_data"
    }
   ],
   "source": [
    "nrow(airquality)\n",
    "not_may = subset(airquality, Month != 5)\n",
    "nrow(not_may)"
   ]
  },
  {
   "cell_type": "code",
   "execution_count": 80,
   "id": "93e769a8",
   "metadata": {},
   "outputs": [
    {
     "data": {
      "text/html": [
       "<table class=\"dataframe\">\n",
       "<caption>A data.frame: 92 × 6</caption>\n",
       "<thead>\n",
       "\t<tr><th></th><th scope=col>Ozone</th><th scope=col>Solar.R</th><th scope=col>Wind</th><th scope=col>Temp</th><th scope=col>Month</th><th scope=col>Day</th></tr>\n",
       "\t<tr><th></th><th scope=col>&lt;int&gt;</th><th scope=col>&lt;int&gt;</th><th scope=col>&lt;dbl&gt;</th><th scope=col>&lt;int&gt;</th><th scope=col>&lt;int&gt;</th><th scope=col>&lt;int&gt;</th></tr>\n",
       "</thead>\n",
       "<tbody>\n",
       "\t<tr><th scope=row>62</th><td>135</td><td>269</td><td> 4.1</td><td>84</td><td>7</td><td> 1</td></tr>\n",
       "\t<tr><th scope=row>63</th><td> 49</td><td>248</td><td> 9.2</td><td>85</td><td>7</td><td> 2</td></tr>\n",
       "\t<tr><th scope=row>64</th><td> 32</td><td>236</td><td> 9.2</td><td>81</td><td>7</td><td> 3</td></tr>\n",
       "\t<tr><th scope=row>65</th><td> NA</td><td>101</td><td>10.9</td><td>84</td><td>7</td><td> 4</td></tr>\n",
       "\t<tr><th scope=row>66</th><td> 64</td><td>175</td><td> 4.6</td><td>83</td><td>7</td><td> 5</td></tr>\n",
       "\t<tr><th scope=row>67</th><td> 40</td><td>314</td><td>10.9</td><td>83</td><td>7</td><td> 6</td></tr>\n",
       "\t<tr><th scope=row>68</th><td> 77</td><td>276</td><td> 5.1</td><td>88</td><td>7</td><td> 7</td></tr>\n",
       "\t<tr><th scope=row>69</th><td> 97</td><td>267</td><td> 6.3</td><td>92</td><td>7</td><td> 8</td></tr>\n",
       "\t<tr><th scope=row>70</th><td> 97</td><td>272</td><td> 5.7</td><td>92</td><td>7</td><td> 9</td></tr>\n",
       "\t<tr><th scope=row>71</th><td> 85</td><td>175</td><td> 7.4</td><td>89</td><td>7</td><td>10</td></tr>\n",
       "\t<tr><th scope=row>72</th><td> NA</td><td>139</td><td> 8.6</td><td>82</td><td>7</td><td>11</td></tr>\n",
       "\t<tr><th scope=row>73</th><td> 10</td><td>264</td><td>14.3</td><td>73</td><td>7</td><td>12</td></tr>\n",
       "\t<tr><th scope=row>74</th><td> 27</td><td>175</td><td>14.9</td><td>81</td><td>7</td><td>13</td></tr>\n",
       "\t<tr><th scope=row>75</th><td> NA</td><td>291</td><td>14.9</td><td>91</td><td>7</td><td>14</td></tr>\n",
       "\t<tr><th scope=row>76</th><td>  7</td><td> 48</td><td>14.3</td><td>80</td><td>7</td><td>15</td></tr>\n",
       "\t<tr><th scope=row>77</th><td> 48</td><td>260</td><td> 6.9</td><td>81</td><td>7</td><td>16</td></tr>\n",
       "\t<tr><th scope=row>78</th><td> 35</td><td>274</td><td>10.3</td><td>82</td><td>7</td><td>17</td></tr>\n",
       "\t<tr><th scope=row>79</th><td> 61</td><td>285</td><td> 6.3</td><td>84</td><td>7</td><td>18</td></tr>\n",
       "\t<tr><th scope=row>80</th><td> 79</td><td>187</td><td> 5.1</td><td>87</td><td>7</td><td>19</td></tr>\n",
       "\t<tr><th scope=row>81</th><td> 63</td><td>220</td><td>11.5</td><td>85</td><td>7</td><td>20</td></tr>\n",
       "\t<tr><th scope=row>82</th><td> 16</td><td>  7</td><td> 6.9</td><td>74</td><td>7</td><td>21</td></tr>\n",
       "\t<tr><th scope=row>83</th><td> NA</td><td>258</td><td> 9.7</td><td>81</td><td>7</td><td>22</td></tr>\n",
       "\t<tr><th scope=row>84</th><td> NA</td><td>295</td><td>11.5</td><td>82</td><td>7</td><td>23</td></tr>\n",
       "\t<tr><th scope=row>85</th><td> 80</td><td>294</td><td> 8.6</td><td>86</td><td>7</td><td>24</td></tr>\n",
       "\t<tr><th scope=row>86</th><td>108</td><td>223</td><td> 8.0</td><td>85</td><td>7</td><td>25</td></tr>\n",
       "\t<tr><th scope=row>87</th><td> 20</td><td> 81</td><td> 8.6</td><td>82</td><td>7</td><td>26</td></tr>\n",
       "\t<tr><th scope=row>88</th><td> 52</td><td> 82</td><td>12.0</td><td>86</td><td>7</td><td>27</td></tr>\n",
       "\t<tr><th scope=row>89</th><td> 82</td><td>213</td><td> 7.4</td><td>88</td><td>7</td><td>28</td></tr>\n",
       "\t<tr><th scope=row>90</th><td> 50</td><td>275</td><td> 7.4</td><td>86</td><td>7</td><td>29</td></tr>\n",
       "\t<tr><th scope=row>91</th><td> 64</td><td>253</td><td> 7.4</td><td>83</td><td>7</td><td>30</td></tr>\n",
       "\t<tr><th scope=row>⋮</th><td>⋮</td><td>⋮</td><td>⋮</td><td>⋮</td><td>⋮</td><td>⋮</td></tr>\n",
       "\t<tr><th scope=row>124</th><td>96</td><td>167</td><td> 6.9</td><td>91</td><td>9</td><td> 1</td></tr>\n",
       "\t<tr><th scope=row>125</th><td>78</td><td>197</td><td> 5.1</td><td>92</td><td>9</td><td> 2</td></tr>\n",
       "\t<tr><th scope=row>126</th><td>73</td><td>183</td><td> 2.8</td><td>93</td><td>9</td><td> 3</td></tr>\n",
       "\t<tr><th scope=row>127</th><td>91</td><td>189</td><td> 4.6</td><td>93</td><td>9</td><td> 4</td></tr>\n",
       "\t<tr><th scope=row>128</th><td>47</td><td> 95</td><td> 7.4</td><td>87</td><td>9</td><td> 5</td></tr>\n",
       "\t<tr><th scope=row>129</th><td>32</td><td> 92</td><td>15.5</td><td>84</td><td>9</td><td> 6</td></tr>\n",
       "\t<tr><th scope=row>130</th><td>20</td><td>252</td><td>10.9</td><td>80</td><td>9</td><td> 7</td></tr>\n",
       "\t<tr><th scope=row>131</th><td>23</td><td>220</td><td>10.3</td><td>78</td><td>9</td><td> 8</td></tr>\n",
       "\t<tr><th scope=row>132</th><td>21</td><td>230</td><td>10.9</td><td>75</td><td>9</td><td> 9</td></tr>\n",
       "\t<tr><th scope=row>133</th><td>24</td><td>259</td><td> 9.7</td><td>73</td><td>9</td><td>10</td></tr>\n",
       "\t<tr><th scope=row>134</th><td>44</td><td>236</td><td>14.9</td><td>81</td><td>9</td><td>11</td></tr>\n",
       "\t<tr><th scope=row>135</th><td>21</td><td>259</td><td>15.5</td><td>76</td><td>9</td><td>12</td></tr>\n",
       "\t<tr><th scope=row>136</th><td>28</td><td>238</td><td> 6.3</td><td>77</td><td>9</td><td>13</td></tr>\n",
       "\t<tr><th scope=row>137</th><td> 9</td><td> 24</td><td>10.9</td><td>71</td><td>9</td><td>14</td></tr>\n",
       "\t<tr><th scope=row>138</th><td>13</td><td>112</td><td>11.5</td><td>71</td><td>9</td><td>15</td></tr>\n",
       "\t<tr><th scope=row>139</th><td>46</td><td>237</td><td> 6.9</td><td>78</td><td>9</td><td>16</td></tr>\n",
       "\t<tr><th scope=row>140</th><td>18</td><td>224</td><td>13.8</td><td>67</td><td>9</td><td>17</td></tr>\n",
       "\t<tr><th scope=row>141</th><td>13</td><td> 27</td><td>10.3</td><td>76</td><td>9</td><td>18</td></tr>\n",
       "\t<tr><th scope=row>142</th><td>24</td><td>238</td><td>10.3</td><td>68</td><td>9</td><td>19</td></tr>\n",
       "\t<tr><th scope=row>143</th><td>16</td><td>201</td><td> 8.0</td><td>82</td><td>9</td><td>20</td></tr>\n",
       "\t<tr><th scope=row>144</th><td>13</td><td>238</td><td>12.6</td><td>64</td><td>9</td><td>21</td></tr>\n",
       "\t<tr><th scope=row>145</th><td>23</td><td> 14</td><td> 9.2</td><td>71</td><td>9</td><td>22</td></tr>\n",
       "\t<tr><th scope=row>146</th><td>36</td><td>139</td><td>10.3</td><td>81</td><td>9</td><td>23</td></tr>\n",
       "\t<tr><th scope=row>147</th><td> 7</td><td> 49</td><td>10.3</td><td>69</td><td>9</td><td>24</td></tr>\n",
       "\t<tr><th scope=row>148</th><td>14</td><td> 20</td><td>16.6</td><td>63</td><td>9</td><td>25</td></tr>\n",
       "\t<tr><th scope=row>149</th><td>30</td><td>193</td><td> 6.9</td><td>70</td><td>9</td><td>26</td></tr>\n",
       "\t<tr><th scope=row>150</th><td>NA</td><td>145</td><td>13.2</td><td>77</td><td>9</td><td>27</td></tr>\n",
       "\t<tr><th scope=row>151</th><td>14</td><td>191</td><td>14.3</td><td>75</td><td>9</td><td>28</td></tr>\n",
       "\t<tr><th scope=row>152</th><td>18</td><td>131</td><td> 8.0</td><td>76</td><td>9</td><td>29</td></tr>\n",
       "\t<tr><th scope=row>153</th><td>20</td><td>223</td><td>11.5</td><td>68</td><td>9</td><td>30</td></tr>\n",
       "</tbody>\n",
       "</table>\n"
      ],
      "text/latex": [
       "A data.frame: 92 × 6\n",
       "\\begin{tabular}{r|llllll}\n",
       "  & Ozone & Solar.R & Wind & Temp & Month & Day\\\\\n",
       "  & <int> & <int> & <dbl> & <int> & <int> & <int>\\\\\n",
       "\\hline\n",
       "\t62 & 135 & 269 &  4.1 & 84 & 7 &  1\\\\\n",
       "\t63 &  49 & 248 &  9.2 & 85 & 7 &  2\\\\\n",
       "\t64 &  32 & 236 &  9.2 & 81 & 7 &  3\\\\\n",
       "\t65 &  NA & 101 & 10.9 & 84 & 7 &  4\\\\\n",
       "\t66 &  64 & 175 &  4.6 & 83 & 7 &  5\\\\\n",
       "\t67 &  40 & 314 & 10.9 & 83 & 7 &  6\\\\\n",
       "\t68 &  77 & 276 &  5.1 & 88 & 7 &  7\\\\\n",
       "\t69 &  97 & 267 &  6.3 & 92 & 7 &  8\\\\\n",
       "\t70 &  97 & 272 &  5.7 & 92 & 7 &  9\\\\\n",
       "\t71 &  85 & 175 &  7.4 & 89 & 7 & 10\\\\\n",
       "\t72 &  NA & 139 &  8.6 & 82 & 7 & 11\\\\\n",
       "\t73 &  10 & 264 & 14.3 & 73 & 7 & 12\\\\\n",
       "\t74 &  27 & 175 & 14.9 & 81 & 7 & 13\\\\\n",
       "\t75 &  NA & 291 & 14.9 & 91 & 7 & 14\\\\\n",
       "\t76 &   7 &  48 & 14.3 & 80 & 7 & 15\\\\\n",
       "\t77 &  48 & 260 &  6.9 & 81 & 7 & 16\\\\\n",
       "\t78 &  35 & 274 & 10.3 & 82 & 7 & 17\\\\\n",
       "\t79 &  61 & 285 &  6.3 & 84 & 7 & 18\\\\\n",
       "\t80 &  79 & 187 &  5.1 & 87 & 7 & 19\\\\\n",
       "\t81 &  63 & 220 & 11.5 & 85 & 7 & 20\\\\\n",
       "\t82 &  16 &   7 &  6.9 & 74 & 7 & 21\\\\\n",
       "\t83 &  NA & 258 &  9.7 & 81 & 7 & 22\\\\\n",
       "\t84 &  NA & 295 & 11.5 & 82 & 7 & 23\\\\\n",
       "\t85 &  80 & 294 &  8.6 & 86 & 7 & 24\\\\\n",
       "\t86 & 108 & 223 &  8.0 & 85 & 7 & 25\\\\\n",
       "\t87 &  20 &  81 &  8.6 & 82 & 7 & 26\\\\\n",
       "\t88 &  52 &  82 & 12.0 & 86 & 7 & 27\\\\\n",
       "\t89 &  82 & 213 &  7.4 & 88 & 7 & 28\\\\\n",
       "\t90 &  50 & 275 &  7.4 & 86 & 7 & 29\\\\\n",
       "\t91 &  64 & 253 &  7.4 & 83 & 7 & 30\\\\\n",
       "\t⋮ & ⋮ & ⋮ & ⋮ & ⋮ & ⋮ & ⋮\\\\\n",
       "\t124 & 96 & 167 &  6.9 & 91 & 9 &  1\\\\\n",
       "\t125 & 78 & 197 &  5.1 & 92 & 9 &  2\\\\\n",
       "\t126 & 73 & 183 &  2.8 & 93 & 9 &  3\\\\\n",
       "\t127 & 91 & 189 &  4.6 & 93 & 9 &  4\\\\\n",
       "\t128 & 47 &  95 &  7.4 & 87 & 9 &  5\\\\\n",
       "\t129 & 32 &  92 & 15.5 & 84 & 9 &  6\\\\\n",
       "\t130 & 20 & 252 & 10.9 & 80 & 9 &  7\\\\\n",
       "\t131 & 23 & 220 & 10.3 & 78 & 9 &  8\\\\\n",
       "\t132 & 21 & 230 & 10.9 & 75 & 9 &  9\\\\\n",
       "\t133 & 24 & 259 &  9.7 & 73 & 9 & 10\\\\\n",
       "\t134 & 44 & 236 & 14.9 & 81 & 9 & 11\\\\\n",
       "\t135 & 21 & 259 & 15.5 & 76 & 9 & 12\\\\\n",
       "\t136 & 28 & 238 &  6.3 & 77 & 9 & 13\\\\\n",
       "\t137 &  9 &  24 & 10.9 & 71 & 9 & 14\\\\\n",
       "\t138 & 13 & 112 & 11.5 & 71 & 9 & 15\\\\\n",
       "\t139 & 46 & 237 &  6.9 & 78 & 9 & 16\\\\\n",
       "\t140 & 18 & 224 & 13.8 & 67 & 9 & 17\\\\\n",
       "\t141 & 13 &  27 & 10.3 & 76 & 9 & 18\\\\\n",
       "\t142 & 24 & 238 & 10.3 & 68 & 9 & 19\\\\\n",
       "\t143 & 16 & 201 &  8.0 & 82 & 9 & 20\\\\\n",
       "\t144 & 13 & 238 & 12.6 & 64 & 9 & 21\\\\\n",
       "\t145 & 23 &  14 &  9.2 & 71 & 9 & 22\\\\\n",
       "\t146 & 36 & 139 & 10.3 & 81 & 9 & 23\\\\\n",
       "\t147 &  7 &  49 & 10.3 & 69 & 9 & 24\\\\\n",
       "\t148 & 14 &  20 & 16.6 & 63 & 9 & 25\\\\\n",
       "\t149 & 30 & 193 &  6.9 & 70 & 9 & 26\\\\\n",
       "\t150 & NA & 145 & 13.2 & 77 & 9 & 27\\\\\n",
       "\t151 & 14 & 191 & 14.3 & 75 & 9 & 28\\\\\n",
       "\t152 & 18 & 131 &  8.0 & 76 & 9 & 29\\\\\n",
       "\t153 & 20 & 223 & 11.5 & 68 & 9 & 30\\\\\n",
       "\\end{tabular}\n"
      ],
      "text/markdown": [
       "\n",
       "A data.frame: 92 × 6\n",
       "\n",
       "| <!--/--> | Ozone &lt;int&gt; | Solar.R &lt;int&gt; | Wind &lt;dbl&gt; | Temp &lt;int&gt; | Month &lt;int&gt; | Day &lt;int&gt; |\n",
       "|---|---|---|---|---|---|---|\n",
       "| 62 | 135 | 269 |  4.1 | 84 | 7 |  1 |\n",
       "| 63 |  49 | 248 |  9.2 | 85 | 7 |  2 |\n",
       "| 64 |  32 | 236 |  9.2 | 81 | 7 |  3 |\n",
       "| 65 |  NA | 101 | 10.9 | 84 | 7 |  4 |\n",
       "| 66 |  64 | 175 |  4.6 | 83 | 7 |  5 |\n",
       "| 67 |  40 | 314 | 10.9 | 83 | 7 |  6 |\n",
       "| 68 |  77 | 276 |  5.1 | 88 | 7 |  7 |\n",
       "| 69 |  97 | 267 |  6.3 | 92 | 7 |  8 |\n",
       "| 70 |  97 | 272 |  5.7 | 92 | 7 |  9 |\n",
       "| 71 |  85 | 175 |  7.4 | 89 | 7 | 10 |\n",
       "| 72 |  NA | 139 |  8.6 | 82 | 7 | 11 |\n",
       "| 73 |  10 | 264 | 14.3 | 73 | 7 | 12 |\n",
       "| 74 |  27 | 175 | 14.9 | 81 | 7 | 13 |\n",
       "| 75 |  NA | 291 | 14.9 | 91 | 7 | 14 |\n",
       "| 76 |   7 |  48 | 14.3 | 80 | 7 | 15 |\n",
       "| 77 |  48 | 260 |  6.9 | 81 | 7 | 16 |\n",
       "| 78 |  35 | 274 | 10.3 | 82 | 7 | 17 |\n",
       "| 79 |  61 | 285 |  6.3 | 84 | 7 | 18 |\n",
       "| 80 |  79 | 187 |  5.1 | 87 | 7 | 19 |\n",
       "| 81 |  63 | 220 | 11.5 | 85 | 7 | 20 |\n",
       "| 82 |  16 |   7 |  6.9 | 74 | 7 | 21 |\n",
       "| 83 |  NA | 258 |  9.7 | 81 | 7 | 22 |\n",
       "| 84 |  NA | 295 | 11.5 | 82 | 7 | 23 |\n",
       "| 85 |  80 | 294 |  8.6 | 86 | 7 | 24 |\n",
       "| 86 | 108 | 223 |  8.0 | 85 | 7 | 25 |\n",
       "| 87 |  20 |  81 |  8.6 | 82 | 7 | 26 |\n",
       "| 88 |  52 |  82 | 12.0 | 86 | 7 | 27 |\n",
       "| 89 |  82 | 213 |  7.4 | 88 | 7 | 28 |\n",
       "| 90 |  50 | 275 |  7.4 | 86 | 7 | 29 |\n",
       "| 91 |  64 | 253 |  7.4 | 83 | 7 | 30 |\n",
       "| ⋮ | ⋮ | ⋮ | ⋮ | ⋮ | ⋮ | ⋮ |\n",
       "| 124 | 96 | 167 |  6.9 | 91 | 9 |  1 |\n",
       "| 125 | 78 | 197 |  5.1 | 92 | 9 |  2 |\n",
       "| 126 | 73 | 183 |  2.8 | 93 | 9 |  3 |\n",
       "| 127 | 91 | 189 |  4.6 | 93 | 9 |  4 |\n",
       "| 128 | 47 |  95 |  7.4 | 87 | 9 |  5 |\n",
       "| 129 | 32 |  92 | 15.5 | 84 | 9 |  6 |\n",
       "| 130 | 20 | 252 | 10.9 | 80 | 9 |  7 |\n",
       "| 131 | 23 | 220 | 10.3 | 78 | 9 |  8 |\n",
       "| 132 | 21 | 230 | 10.9 | 75 | 9 |  9 |\n",
       "| 133 | 24 | 259 |  9.7 | 73 | 9 | 10 |\n",
       "| 134 | 44 | 236 | 14.9 | 81 | 9 | 11 |\n",
       "| 135 | 21 | 259 | 15.5 | 76 | 9 | 12 |\n",
       "| 136 | 28 | 238 |  6.3 | 77 | 9 | 13 |\n",
       "| 137 |  9 |  24 | 10.9 | 71 | 9 | 14 |\n",
       "| 138 | 13 | 112 | 11.5 | 71 | 9 | 15 |\n",
       "| 139 | 46 | 237 |  6.9 | 78 | 9 | 16 |\n",
       "| 140 | 18 | 224 | 13.8 | 67 | 9 | 17 |\n",
       "| 141 | 13 |  27 | 10.3 | 76 | 9 | 18 |\n",
       "| 142 | 24 | 238 | 10.3 | 68 | 9 | 19 |\n",
       "| 143 | 16 | 201 |  8.0 | 82 | 9 | 20 |\n",
       "| 144 | 13 | 238 | 12.6 | 64 | 9 | 21 |\n",
       "| 145 | 23 |  14 |  9.2 | 71 | 9 | 22 |\n",
       "| 146 | 36 | 139 | 10.3 | 81 | 9 | 23 |\n",
       "| 147 |  7 |  49 | 10.3 | 69 | 9 | 24 |\n",
       "| 148 | 14 |  20 | 16.6 | 63 | 9 | 25 |\n",
       "| 149 | 30 | 193 |  6.9 | 70 | 9 | 26 |\n",
       "| 150 | NA | 145 | 13.2 | 77 | 9 | 27 |\n",
       "| 151 | 14 | 191 | 14.3 | 75 | 9 | 28 |\n",
       "| 152 | 18 | 131 |  8.0 | 76 | 9 | 29 |\n",
       "| 153 | 20 | 223 | 11.5 | 68 | 9 | 30 |\n",
       "\n"
      ],
      "text/plain": [
       "    Ozone Solar.R Wind Temp Month Day\n",
       "62  135   269      4.1 84   7      1 \n",
       "63   49   248      9.2 85   7      2 \n",
       "64   32   236      9.2 81   7      3 \n",
       "65   NA   101     10.9 84   7      4 \n",
       "66   64   175      4.6 83   7      5 \n",
       "67   40   314     10.9 83   7      6 \n",
       "68   77   276      5.1 88   7      7 \n",
       "69   97   267      6.3 92   7      8 \n",
       "70   97   272      5.7 92   7      9 \n",
       "71   85   175      7.4 89   7     10 \n",
       "72   NA   139      8.6 82   7     11 \n",
       "73   10   264     14.3 73   7     12 \n",
       "74   27   175     14.9 81   7     13 \n",
       "75   NA   291     14.9 91   7     14 \n",
       "76    7    48     14.3 80   7     15 \n",
       "77   48   260      6.9 81   7     16 \n",
       "78   35   274     10.3 82   7     17 \n",
       "79   61   285      6.3 84   7     18 \n",
       "80   79   187      5.1 87   7     19 \n",
       "81   63   220     11.5 85   7     20 \n",
       "82   16     7      6.9 74   7     21 \n",
       "83   NA   258      9.7 81   7     22 \n",
       "84   NA   295     11.5 82   7     23 \n",
       "85   80   294      8.6 86   7     24 \n",
       "86  108   223      8.0 85   7     25 \n",
       "87   20    81      8.6 82   7     26 \n",
       "88   52    82     12.0 86   7     27 \n",
       "89   82   213      7.4 88   7     28 \n",
       "90   50   275      7.4 86   7     29 \n",
       "91   64   253      7.4 83   7     30 \n",
       "⋮   ⋮     ⋮       ⋮    ⋮    ⋮     ⋮  \n",
       "124 96    167      6.9 91   9      1 \n",
       "125 78    197      5.1 92   9      2 \n",
       "126 73    183      2.8 93   9      3 \n",
       "127 91    189      4.6 93   9      4 \n",
       "128 47     95      7.4 87   9      5 \n",
       "129 32     92     15.5 84   9      6 \n",
       "130 20    252     10.9 80   9      7 \n",
       "131 23    220     10.3 78   9      8 \n",
       "132 21    230     10.9 75   9      9 \n",
       "133 24    259      9.7 73   9     10 \n",
       "134 44    236     14.9 81   9     11 \n",
       "135 21    259     15.5 76   9     12 \n",
       "136 28    238      6.3 77   9     13 \n",
       "137  9     24     10.9 71   9     14 \n",
       "138 13    112     11.5 71   9     15 \n",
       "139 46    237      6.9 78   9     16 \n",
       "140 18    224     13.8 67   9     17 \n",
       "141 13     27     10.3 76   9     18 \n",
       "142 24    238     10.3 68   9     19 \n",
       "143 16    201      8.0 82   9     20 \n",
       "144 13    238     12.6 64   9     21 \n",
       "145 23     14      9.2 71   9     22 \n",
       "146 36    139     10.3 81   9     23 \n",
       "147  7     49     10.3 69   9     24 \n",
       "148 14     20     16.6 63   9     25 \n",
       "149 30    193      6.9 70   9     26 \n",
       "150 NA    145     13.2 77   9     27 \n",
       "151 14    191     14.3 75   9     28 \n",
       "152 18    131      8.0 76   9     29 \n",
       "153 20    223     11.5 68   9     30 "
      ]
     },
     "metadata": {},
     "output_type": "display_data"
    }
   ],
   "source": [
    "subset(airquality, (Month != 5) & (Month != 6))"
   ]
  },
  {
   "cell_type": "code",
   "execution_count": 81,
   "id": "139529be",
   "metadata": {},
   "outputs": [
    {
     "data": {
      "text/html": [
       "153"
      ],
      "text/latex": [
       "153"
      ],
      "text/markdown": [
       "153"
      ],
      "text/plain": [
       "[1] 153"
      ]
     },
     "metadata": {},
     "output_type": "display_data"
    },
    {
     "data": {
      "text/html": [
       "92"
      ],
      "text/latex": [
       "92"
      ],
      "text/markdown": [
       "92"
      ],
      "text/plain": [
       "[1] 92"
      ]
     },
     "metadata": {},
     "output_type": "display_data"
    }
   ],
   "source": [
    "# A note about defensive programming\n",
    "not_may_june = subset(airquality, (Month != 5) & (Month != 6))\n",
    "nrow(airquality)\n",
    "nrow(not_may_june)\n"
   ]
  },
  {
   "cell_type": "code",
   "execution_count": 82,
   "id": "a5418b07",
   "metadata": {},
   "outputs": [
    {
     "data": {
      "text/html": [
       "TRUE"
      ],
      "text/latex": [
       "TRUE"
      ],
      "text/markdown": [
       "TRUE"
      ],
      "text/plain": [
       "[1] TRUE"
      ]
     },
     "metadata": {},
     "output_type": "display_data"
    }
   ],
   "source": [
    "# Useful to include safeguards\n",
    "nrow(not_may_june) == nrow(airquality) - 61 "
   ]
  },
  {
   "cell_type": "code",
   "execution_count": 90,
   "id": "baab9115",
   "metadata": {},
   "outputs": [],
   "source": [
    "stopifnot(nrow(not_may_june) == nrow(airquality) - 61)\n"
   ]
  },
  {
   "cell_type": "code",
   "execution_count": 91,
   "id": "3b6647f8",
   "metadata": {},
   "outputs": [
    {
     "ename": "ERROR",
     "evalue": "Error: nrow(not_may_june) != nrow(airquality) - 61 is not TRUE\n",
     "output_type": "error",
     "traceback": [
      "Error: nrow(not_may_june) != nrow(airquality) - 61 is not TRUE\nTraceback:\n",
      "1. stopifnot(nrow(not_may_june) != nrow(airquality) - 61)"
     ]
    }
   ],
   "source": [
    "stopifnot(nrow(not_may_june) != nrow(airquality) - 61)"
   ]
  },
  {
   "cell_type": "code",
   "execution_count": 94,
   "id": "4109cf70",
   "metadata": {},
   "outputs": [
    {
     "data": {
      "text/html": [
       "TRUE"
      ],
      "text/latex": [
       "TRUE"
      ],
      "text/markdown": [
       "TRUE"
      ],
      "text/plain": [
       "[1] TRUE"
      ]
     },
     "metadata": {},
     "output_type": "display_data"
    }
   ],
   "source": [
    "\n",
    "library(assertthat)\n",
    "error_message <- \"The filter did not return expected number of rows nrow(not_may_june) != nrow(airquality) - 61\"\n",
    "assert_that( nrow(not_may_june) == nrow(airquality) - 61, msg=error_message)"
   ]
  },
  {
   "cell_type": "code",
   "execution_count": 95,
   "id": "27db4f34",
   "metadata": {},
   "outputs": [
    {
     "ename": "ERROR",
     "evalue": "Error: The filter did not return expected number of rows nrow(not_may_june) != nrow(airquality) - 61\n",
     "output_type": "error",
     "traceback": [
      "Error: The filter did not return expected number of rows nrow(not_may_june) != nrow(airquality) - 61\nTraceback:\n",
      "1. assert_that(nrow(not_may_june) != nrow(airquality) - 61, msg = error_message)"
     ]
    }
   ],
   "source": [
    "error_message <- \"The filter did not return expected number of rows nrow(not_may_june) != nrow(airquality) - 61\"\n",
    "assert_that( nrow(not_may_june) != nrow(airquality) - 61, msg=error_message)"
   ]
  },
  {
   "cell_type": "code",
   "execution_count": 97,
   "id": "14f9329f",
   "metadata": {},
   "outputs": [
    {
     "data": {
      "text/html": [
       "<table class=\"dataframe\">\n",
       "<caption>A data.frame: 92 × 6</caption>\n",
       "<thead>\n",
       "\t<tr><th></th><th scope=col>Ozone</th><th scope=col>Solar.R</th><th scope=col>Wind</th><th scope=col>Temp</th><th scope=col>Month</th><th scope=col>Day</th></tr>\n",
       "\t<tr><th></th><th scope=col>&lt;int&gt;</th><th scope=col>&lt;int&gt;</th><th scope=col>&lt;dbl&gt;</th><th scope=col>&lt;int&gt;</th><th scope=col>&lt;int&gt;</th><th scope=col>&lt;int&gt;</th></tr>\n",
       "</thead>\n",
       "<tbody>\n",
       "\t<tr><th scope=row>62</th><td>135</td><td>269</td><td> 4.1</td><td>84</td><td>7</td><td> 1</td></tr>\n",
       "\t<tr><th scope=row>63</th><td> 49</td><td>248</td><td> 9.2</td><td>85</td><td>7</td><td> 2</td></tr>\n",
       "\t<tr><th scope=row>64</th><td> 32</td><td>236</td><td> 9.2</td><td>81</td><td>7</td><td> 3</td></tr>\n",
       "\t<tr><th scope=row>65</th><td> NA</td><td>101</td><td>10.9</td><td>84</td><td>7</td><td> 4</td></tr>\n",
       "\t<tr><th scope=row>66</th><td> 64</td><td>175</td><td> 4.6</td><td>83</td><td>7</td><td> 5</td></tr>\n",
       "\t<tr><th scope=row>67</th><td> 40</td><td>314</td><td>10.9</td><td>83</td><td>7</td><td> 6</td></tr>\n",
       "\t<tr><th scope=row>68</th><td> 77</td><td>276</td><td> 5.1</td><td>88</td><td>7</td><td> 7</td></tr>\n",
       "\t<tr><th scope=row>69</th><td> 97</td><td>267</td><td> 6.3</td><td>92</td><td>7</td><td> 8</td></tr>\n",
       "\t<tr><th scope=row>70</th><td> 97</td><td>272</td><td> 5.7</td><td>92</td><td>7</td><td> 9</td></tr>\n",
       "\t<tr><th scope=row>71</th><td> 85</td><td>175</td><td> 7.4</td><td>89</td><td>7</td><td>10</td></tr>\n",
       "\t<tr><th scope=row>72</th><td> NA</td><td>139</td><td> 8.6</td><td>82</td><td>7</td><td>11</td></tr>\n",
       "\t<tr><th scope=row>73</th><td> 10</td><td>264</td><td>14.3</td><td>73</td><td>7</td><td>12</td></tr>\n",
       "\t<tr><th scope=row>74</th><td> 27</td><td>175</td><td>14.9</td><td>81</td><td>7</td><td>13</td></tr>\n",
       "\t<tr><th scope=row>75</th><td> NA</td><td>291</td><td>14.9</td><td>91</td><td>7</td><td>14</td></tr>\n",
       "\t<tr><th scope=row>76</th><td>  7</td><td> 48</td><td>14.3</td><td>80</td><td>7</td><td>15</td></tr>\n",
       "\t<tr><th scope=row>77</th><td> 48</td><td>260</td><td> 6.9</td><td>81</td><td>7</td><td>16</td></tr>\n",
       "\t<tr><th scope=row>78</th><td> 35</td><td>274</td><td>10.3</td><td>82</td><td>7</td><td>17</td></tr>\n",
       "\t<tr><th scope=row>79</th><td> 61</td><td>285</td><td> 6.3</td><td>84</td><td>7</td><td>18</td></tr>\n",
       "\t<tr><th scope=row>80</th><td> 79</td><td>187</td><td> 5.1</td><td>87</td><td>7</td><td>19</td></tr>\n",
       "\t<tr><th scope=row>81</th><td> 63</td><td>220</td><td>11.5</td><td>85</td><td>7</td><td>20</td></tr>\n",
       "\t<tr><th scope=row>82</th><td> 16</td><td>  7</td><td> 6.9</td><td>74</td><td>7</td><td>21</td></tr>\n",
       "\t<tr><th scope=row>83</th><td> NA</td><td>258</td><td> 9.7</td><td>81</td><td>7</td><td>22</td></tr>\n",
       "\t<tr><th scope=row>84</th><td> NA</td><td>295</td><td>11.5</td><td>82</td><td>7</td><td>23</td></tr>\n",
       "\t<tr><th scope=row>85</th><td> 80</td><td>294</td><td> 8.6</td><td>86</td><td>7</td><td>24</td></tr>\n",
       "\t<tr><th scope=row>86</th><td>108</td><td>223</td><td> 8.0</td><td>85</td><td>7</td><td>25</td></tr>\n",
       "\t<tr><th scope=row>87</th><td> 20</td><td> 81</td><td> 8.6</td><td>82</td><td>7</td><td>26</td></tr>\n",
       "\t<tr><th scope=row>88</th><td> 52</td><td> 82</td><td>12.0</td><td>86</td><td>7</td><td>27</td></tr>\n",
       "\t<tr><th scope=row>89</th><td> 82</td><td>213</td><td> 7.4</td><td>88</td><td>7</td><td>28</td></tr>\n",
       "\t<tr><th scope=row>90</th><td> 50</td><td>275</td><td> 7.4</td><td>86</td><td>7</td><td>29</td></tr>\n",
       "\t<tr><th scope=row>91</th><td> 64</td><td>253</td><td> 7.4</td><td>83</td><td>7</td><td>30</td></tr>\n",
       "\t<tr><th scope=row>⋮</th><td>⋮</td><td>⋮</td><td>⋮</td><td>⋮</td><td>⋮</td><td>⋮</td></tr>\n",
       "\t<tr><th scope=row>124</th><td>96</td><td>167</td><td> 6.9</td><td>91</td><td>9</td><td> 1</td></tr>\n",
       "\t<tr><th scope=row>125</th><td>78</td><td>197</td><td> 5.1</td><td>92</td><td>9</td><td> 2</td></tr>\n",
       "\t<tr><th scope=row>126</th><td>73</td><td>183</td><td> 2.8</td><td>93</td><td>9</td><td> 3</td></tr>\n",
       "\t<tr><th scope=row>127</th><td>91</td><td>189</td><td> 4.6</td><td>93</td><td>9</td><td> 4</td></tr>\n",
       "\t<tr><th scope=row>128</th><td>47</td><td> 95</td><td> 7.4</td><td>87</td><td>9</td><td> 5</td></tr>\n",
       "\t<tr><th scope=row>129</th><td>32</td><td> 92</td><td>15.5</td><td>84</td><td>9</td><td> 6</td></tr>\n",
       "\t<tr><th scope=row>130</th><td>20</td><td>252</td><td>10.9</td><td>80</td><td>9</td><td> 7</td></tr>\n",
       "\t<tr><th scope=row>131</th><td>23</td><td>220</td><td>10.3</td><td>78</td><td>9</td><td> 8</td></tr>\n",
       "\t<tr><th scope=row>132</th><td>21</td><td>230</td><td>10.9</td><td>75</td><td>9</td><td> 9</td></tr>\n",
       "\t<tr><th scope=row>133</th><td>24</td><td>259</td><td> 9.7</td><td>73</td><td>9</td><td>10</td></tr>\n",
       "\t<tr><th scope=row>134</th><td>44</td><td>236</td><td>14.9</td><td>81</td><td>9</td><td>11</td></tr>\n",
       "\t<tr><th scope=row>135</th><td>21</td><td>259</td><td>15.5</td><td>76</td><td>9</td><td>12</td></tr>\n",
       "\t<tr><th scope=row>136</th><td>28</td><td>238</td><td> 6.3</td><td>77</td><td>9</td><td>13</td></tr>\n",
       "\t<tr><th scope=row>137</th><td> 9</td><td> 24</td><td>10.9</td><td>71</td><td>9</td><td>14</td></tr>\n",
       "\t<tr><th scope=row>138</th><td>13</td><td>112</td><td>11.5</td><td>71</td><td>9</td><td>15</td></tr>\n",
       "\t<tr><th scope=row>139</th><td>46</td><td>237</td><td> 6.9</td><td>78</td><td>9</td><td>16</td></tr>\n",
       "\t<tr><th scope=row>140</th><td>18</td><td>224</td><td>13.8</td><td>67</td><td>9</td><td>17</td></tr>\n",
       "\t<tr><th scope=row>141</th><td>13</td><td> 27</td><td>10.3</td><td>76</td><td>9</td><td>18</td></tr>\n",
       "\t<tr><th scope=row>142</th><td>24</td><td>238</td><td>10.3</td><td>68</td><td>9</td><td>19</td></tr>\n",
       "\t<tr><th scope=row>143</th><td>16</td><td>201</td><td> 8.0</td><td>82</td><td>9</td><td>20</td></tr>\n",
       "\t<tr><th scope=row>144</th><td>13</td><td>238</td><td>12.6</td><td>64</td><td>9</td><td>21</td></tr>\n",
       "\t<tr><th scope=row>145</th><td>23</td><td> 14</td><td> 9.2</td><td>71</td><td>9</td><td>22</td></tr>\n",
       "\t<tr><th scope=row>146</th><td>36</td><td>139</td><td>10.3</td><td>81</td><td>9</td><td>23</td></tr>\n",
       "\t<tr><th scope=row>147</th><td> 7</td><td> 49</td><td>10.3</td><td>69</td><td>9</td><td>24</td></tr>\n",
       "\t<tr><th scope=row>148</th><td>14</td><td> 20</td><td>16.6</td><td>63</td><td>9</td><td>25</td></tr>\n",
       "\t<tr><th scope=row>149</th><td>30</td><td>193</td><td> 6.9</td><td>70</td><td>9</td><td>26</td></tr>\n",
       "\t<tr><th scope=row>150</th><td>NA</td><td>145</td><td>13.2</td><td>77</td><td>9</td><td>27</td></tr>\n",
       "\t<tr><th scope=row>151</th><td>14</td><td>191</td><td>14.3</td><td>75</td><td>9</td><td>28</td></tr>\n",
       "\t<tr><th scope=row>152</th><td>18</td><td>131</td><td> 8.0</td><td>76</td><td>9</td><td>29</td></tr>\n",
       "\t<tr><th scope=row>153</th><td>20</td><td>223</td><td>11.5</td><td>68</td><td>9</td><td>30</td></tr>\n",
       "</tbody>\n",
       "</table>\n"
      ],
      "text/latex": [
       "A data.frame: 92 × 6\n",
       "\\begin{tabular}{r|llllll}\n",
       "  & Ozone & Solar.R & Wind & Temp & Month & Day\\\\\n",
       "  & <int> & <int> & <dbl> & <int> & <int> & <int>\\\\\n",
       "\\hline\n",
       "\t62 & 135 & 269 &  4.1 & 84 & 7 &  1\\\\\n",
       "\t63 &  49 & 248 &  9.2 & 85 & 7 &  2\\\\\n",
       "\t64 &  32 & 236 &  9.2 & 81 & 7 &  3\\\\\n",
       "\t65 &  NA & 101 & 10.9 & 84 & 7 &  4\\\\\n",
       "\t66 &  64 & 175 &  4.6 & 83 & 7 &  5\\\\\n",
       "\t67 &  40 & 314 & 10.9 & 83 & 7 &  6\\\\\n",
       "\t68 &  77 & 276 &  5.1 & 88 & 7 &  7\\\\\n",
       "\t69 &  97 & 267 &  6.3 & 92 & 7 &  8\\\\\n",
       "\t70 &  97 & 272 &  5.7 & 92 & 7 &  9\\\\\n",
       "\t71 &  85 & 175 &  7.4 & 89 & 7 & 10\\\\\n",
       "\t72 &  NA & 139 &  8.6 & 82 & 7 & 11\\\\\n",
       "\t73 &  10 & 264 & 14.3 & 73 & 7 & 12\\\\\n",
       "\t74 &  27 & 175 & 14.9 & 81 & 7 & 13\\\\\n",
       "\t75 &  NA & 291 & 14.9 & 91 & 7 & 14\\\\\n",
       "\t76 &   7 &  48 & 14.3 & 80 & 7 & 15\\\\\n",
       "\t77 &  48 & 260 &  6.9 & 81 & 7 & 16\\\\\n",
       "\t78 &  35 & 274 & 10.3 & 82 & 7 & 17\\\\\n",
       "\t79 &  61 & 285 &  6.3 & 84 & 7 & 18\\\\\n",
       "\t80 &  79 & 187 &  5.1 & 87 & 7 & 19\\\\\n",
       "\t81 &  63 & 220 & 11.5 & 85 & 7 & 20\\\\\n",
       "\t82 &  16 &   7 &  6.9 & 74 & 7 & 21\\\\\n",
       "\t83 &  NA & 258 &  9.7 & 81 & 7 & 22\\\\\n",
       "\t84 &  NA & 295 & 11.5 & 82 & 7 & 23\\\\\n",
       "\t85 &  80 & 294 &  8.6 & 86 & 7 & 24\\\\\n",
       "\t86 & 108 & 223 &  8.0 & 85 & 7 & 25\\\\\n",
       "\t87 &  20 &  81 &  8.6 & 82 & 7 & 26\\\\\n",
       "\t88 &  52 &  82 & 12.0 & 86 & 7 & 27\\\\\n",
       "\t89 &  82 & 213 &  7.4 & 88 & 7 & 28\\\\\n",
       "\t90 &  50 & 275 &  7.4 & 86 & 7 & 29\\\\\n",
       "\t91 &  64 & 253 &  7.4 & 83 & 7 & 30\\\\\n",
       "\t⋮ & ⋮ & ⋮ & ⋮ & ⋮ & ⋮ & ⋮\\\\\n",
       "\t124 & 96 & 167 &  6.9 & 91 & 9 &  1\\\\\n",
       "\t125 & 78 & 197 &  5.1 & 92 & 9 &  2\\\\\n",
       "\t126 & 73 & 183 &  2.8 & 93 & 9 &  3\\\\\n",
       "\t127 & 91 & 189 &  4.6 & 93 & 9 &  4\\\\\n",
       "\t128 & 47 &  95 &  7.4 & 87 & 9 &  5\\\\\n",
       "\t129 & 32 &  92 & 15.5 & 84 & 9 &  6\\\\\n",
       "\t130 & 20 & 252 & 10.9 & 80 & 9 &  7\\\\\n",
       "\t131 & 23 & 220 & 10.3 & 78 & 9 &  8\\\\\n",
       "\t132 & 21 & 230 & 10.9 & 75 & 9 &  9\\\\\n",
       "\t133 & 24 & 259 &  9.7 & 73 & 9 & 10\\\\\n",
       "\t134 & 44 & 236 & 14.9 & 81 & 9 & 11\\\\\n",
       "\t135 & 21 & 259 & 15.5 & 76 & 9 & 12\\\\\n",
       "\t136 & 28 & 238 &  6.3 & 77 & 9 & 13\\\\\n",
       "\t137 &  9 &  24 & 10.9 & 71 & 9 & 14\\\\\n",
       "\t138 & 13 & 112 & 11.5 & 71 & 9 & 15\\\\\n",
       "\t139 & 46 & 237 &  6.9 & 78 & 9 & 16\\\\\n",
       "\t140 & 18 & 224 & 13.8 & 67 & 9 & 17\\\\\n",
       "\t141 & 13 &  27 & 10.3 & 76 & 9 & 18\\\\\n",
       "\t142 & 24 & 238 & 10.3 & 68 & 9 & 19\\\\\n",
       "\t143 & 16 & 201 &  8.0 & 82 & 9 & 20\\\\\n",
       "\t144 & 13 & 238 & 12.6 & 64 & 9 & 21\\\\\n",
       "\t145 & 23 &  14 &  9.2 & 71 & 9 & 22\\\\\n",
       "\t146 & 36 & 139 & 10.3 & 81 & 9 & 23\\\\\n",
       "\t147 &  7 &  49 & 10.3 & 69 & 9 & 24\\\\\n",
       "\t148 & 14 &  20 & 16.6 & 63 & 9 & 25\\\\\n",
       "\t149 & 30 & 193 &  6.9 & 70 & 9 & 26\\\\\n",
       "\t150 & NA & 145 & 13.2 & 77 & 9 & 27\\\\\n",
       "\t151 & 14 & 191 & 14.3 & 75 & 9 & 28\\\\\n",
       "\t152 & 18 & 131 &  8.0 & 76 & 9 & 29\\\\\n",
       "\t153 & 20 & 223 & 11.5 & 68 & 9 & 30\\\\\n",
       "\\end{tabular}\n"
      ],
      "text/markdown": [
       "\n",
       "A data.frame: 92 × 6\n",
       "\n",
       "| <!--/--> | Ozone &lt;int&gt; | Solar.R &lt;int&gt; | Wind &lt;dbl&gt; | Temp &lt;int&gt; | Month &lt;int&gt; | Day &lt;int&gt; |\n",
       "|---|---|---|---|---|---|---|\n",
       "| 62 | 135 | 269 |  4.1 | 84 | 7 |  1 |\n",
       "| 63 |  49 | 248 |  9.2 | 85 | 7 |  2 |\n",
       "| 64 |  32 | 236 |  9.2 | 81 | 7 |  3 |\n",
       "| 65 |  NA | 101 | 10.9 | 84 | 7 |  4 |\n",
       "| 66 |  64 | 175 |  4.6 | 83 | 7 |  5 |\n",
       "| 67 |  40 | 314 | 10.9 | 83 | 7 |  6 |\n",
       "| 68 |  77 | 276 |  5.1 | 88 | 7 |  7 |\n",
       "| 69 |  97 | 267 |  6.3 | 92 | 7 |  8 |\n",
       "| 70 |  97 | 272 |  5.7 | 92 | 7 |  9 |\n",
       "| 71 |  85 | 175 |  7.4 | 89 | 7 | 10 |\n",
       "| 72 |  NA | 139 |  8.6 | 82 | 7 | 11 |\n",
       "| 73 |  10 | 264 | 14.3 | 73 | 7 | 12 |\n",
       "| 74 |  27 | 175 | 14.9 | 81 | 7 | 13 |\n",
       "| 75 |  NA | 291 | 14.9 | 91 | 7 | 14 |\n",
       "| 76 |   7 |  48 | 14.3 | 80 | 7 | 15 |\n",
       "| 77 |  48 | 260 |  6.9 | 81 | 7 | 16 |\n",
       "| 78 |  35 | 274 | 10.3 | 82 | 7 | 17 |\n",
       "| 79 |  61 | 285 |  6.3 | 84 | 7 | 18 |\n",
       "| 80 |  79 | 187 |  5.1 | 87 | 7 | 19 |\n",
       "| 81 |  63 | 220 | 11.5 | 85 | 7 | 20 |\n",
       "| 82 |  16 |   7 |  6.9 | 74 | 7 | 21 |\n",
       "| 83 |  NA | 258 |  9.7 | 81 | 7 | 22 |\n",
       "| 84 |  NA | 295 | 11.5 | 82 | 7 | 23 |\n",
       "| 85 |  80 | 294 |  8.6 | 86 | 7 | 24 |\n",
       "| 86 | 108 | 223 |  8.0 | 85 | 7 | 25 |\n",
       "| 87 |  20 |  81 |  8.6 | 82 | 7 | 26 |\n",
       "| 88 |  52 |  82 | 12.0 | 86 | 7 | 27 |\n",
       "| 89 |  82 | 213 |  7.4 | 88 | 7 | 28 |\n",
       "| 90 |  50 | 275 |  7.4 | 86 | 7 | 29 |\n",
       "| 91 |  64 | 253 |  7.4 | 83 | 7 | 30 |\n",
       "| ⋮ | ⋮ | ⋮ | ⋮ | ⋮ | ⋮ | ⋮ |\n",
       "| 124 | 96 | 167 |  6.9 | 91 | 9 |  1 |\n",
       "| 125 | 78 | 197 |  5.1 | 92 | 9 |  2 |\n",
       "| 126 | 73 | 183 |  2.8 | 93 | 9 |  3 |\n",
       "| 127 | 91 | 189 |  4.6 | 93 | 9 |  4 |\n",
       "| 128 | 47 |  95 |  7.4 | 87 | 9 |  5 |\n",
       "| 129 | 32 |  92 | 15.5 | 84 | 9 |  6 |\n",
       "| 130 | 20 | 252 | 10.9 | 80 | 9 |  7 |\n",
       "| 131 | 23 | 220 | 10.3 | 78 | 9 |  8 |\n",
       "| 132 | 21 | 230 | 10.9 | 75 | 9 |  9 |\n",
       "| 133 | 24 | 259 |  9.7 | 73 | 9 | 10 |\n",
       "| 134 | 44 | 236 | 14.9 | 81 | 9 | 11 |\n",
       "| 135 | 21 | 259 | 15.5 | 76 | 9 | 12 |\n",
       "| 136 | 28 | 238 |  6.3 | 77 | 9 | 13 |\n",
       "| 137 |  9 |  24 | 10.9 | 71 | 9 | 14 |\n",
       "| 138 | 13 | 112 | 11.5 | 71 | 9 | 15 |\n",
       "| 139 | 46 | 237 |  6.9 | 78 | 9 | 16 |\n",
       "| 140 | 18 | 224 | 13.8 | 67 | 9 | 17 |\n",
       "| 141 | 13 |  27 | 10.3 | 76 | 9 | 18 |\n",
       "| 142 | 24 | 238 | 10.3 | 68 | 9 | 19 |\n",
       "| 143 | 16 | 201 |  8.0 | 82 | 9 | 20 |\n",
       "| 144 | 13 | 238 | 12.6 | 64 | 9 | 21 |\n",
       "| 145 | 23 |  14 |  9.2 | 71 | 9 | 22 |\n",
       "| 146 | 36 | 139 | 10.3 | 81 | 9 | 23 |\n",
       "| 147 |  7 |  49 | 10.3 | 69 | 9 | 24 |\n",
       "| 148 | 14 |  20 | 16.6 | 63 | 9 | 25 |\n",
       "| 149 | 30 | 193 |  6.9 | 70 | 9 | 26 |\n",
       "| 150 | NA | 145 | 13.2 | 77 | 9 | 27 |\n",
       "| 151 | 14 | 191 | 14.3 | 75 | 9 | 28 |\n",
       "| 152 | 18 | 131 |  8.0 | 76 | 9 | 29 |\n",
       "| 153 | 20 | 223 | 11.5 | 68 | 9 | 30 |\n",
       "\n"
      ],
      "text/plain": [
       "    Ozone Solar.R Wind Temp Month Day\n",
       "62  135   269      4.1 84   7      1 \n",
       "63   49   248      9.2 85   7      2 \n",
       "64   32   236      9.2 81   7      3 \n",
       "65   NA   101     10.9 84   7      4 \n",
       "66   64   175      4.6 83   7      5 \n",
       "67   40   314     10.9 83   7      6 \n",
       "68   77   276      5.1 88   7      7 \n",
       "69   97   267      6.3 92   7      8 \n",
       "70   97   272      5.7 92   7      9 \n",
       "71   85   175      7.4 89   7     10 \n",
       "72   NA   139      8.6 82   7     11 \n",
       "73   10   264     14.3 73   7     12 \n",
       "74   27   175     14.9 81   7     13 \n",
       "75   NA   291     14.9 91   7     14 \n",
       "76    7    48     14.3 80   7     15 \n",
       "77   48   260      6.9 81   7     16 \n",
       "78   35   274     10.3 82   7     17 \n",
       "79   61   285      6.3 84   7     18 \n",
       "80   79   187      5.1 87   7     19 \n",
       "81   63   220     11.5 85   7     20 \n",
       "82   16     7      6.9 74   7     21 \n",
       "83   NA   258      9.7 81   7     22 \n",
       "84   NA   295     11.5 82   7     23 \n",
       "85   80   294      8.6 86   7     24 \n",
       "86  108   223      8.0 85   7     25 \n",
       "87   20    81      8.6 82   7     26 \n",
       "88   52    82     12.0 86   7     27 \n",
       "89   82   213      7.4 88   7     28 \n",
       "90   50   275      7.4 86   7     29 \n",
       "91   64   253      7.4 83   7     30 \n",
       "⋮   ⋮     ⋮       ⋮    ⋮    ⋮     ⋮  \n",
       "124 96    167      6.9 91   9      1 \n",
       "125 78    197      5.1 92   9      2 \n",
       "126 73    183      2.8 93   9      3 \n",
       "127 91    189      4.6 93   9      4 \n",
       "128 47     95      7.4 87   9      5 \n",
       "129 32     92     15.5 84   9      6 \n",
       "130 20    252     10.9 80   9      7 \n",
       "131 23    220     10.3 78   9      8 \n",
       "132 21    230     10.9 75   9      9 \n",
       "133 24    259      9.7 73   9     10 \n",
       "134 44    236     14.9 81   9     11 \n",
       "135 21    259     15.5 76   9     12 \n",
       "136 28    238      6.3 77   9     13 \n",
       "137  9     24     10.9 71   9     14 \n",
       "138 13    112     11.5 71   9     15 \n",
       "139 46    237      6.9 78   9     16 \n",
       "140 18    224     13.8 67   9     17 \n",
       "141 13     27     10.3 76   9     18 \n",
       "142 24    238     10.3 68   9     19 \n",
       "143 16    201      8.0 82   9     20 \n",
       "144 13    238     12.6 64   9     21 \n",
       "145 23     14      9.2 71   9     22 \n",
       "146 36    139     10.3 81   9     23 \n",
       "147  7     49     10.3 69   9     24 \n",
       "148 14     20     16.6 63   9     25 \n",
       "149 30    193      6.9 70   9     26 \n",
       "150 NA    145     13.2 77   9     27 \n",
       "151 14    191     14.3 75   9     28 \n",
       "152 18    131      8.0 76   9     29 \n",
       "153 20    223     11.5 68   9     30 "
      ]
     },
     "metadata": {},
     "output_type": "display_data"
    }
   ],
   "source": [
    "subset(airquality, Month > 6)"
   ]
  },
  {
   "cell_type": "code",
   "execution_count": 100,
   "id": "3fe3589f",
   "metadata": {},
   "outputs": [
    {
     "data": {
      "text/html": [
       "TRUE"
      ],
      "text/latex": [
       "TRUE"
      ],
      "text/markdown": [
       "TRUE"
      ],
      "text/plain": [
       "[1] TRUE"
      ]
     },
     "metadata": {},
     "output_type": "display_data"
    }
   ],
   "source": []
  },
  {
   "cell_type": "code",
   "execution_count": 105,
   "id": "ff8819c5",
   "metadata": {},
   "outputs": [
    {
     "ename": "ERROR",
     "evalue": "Error: Should return 61, returned  61\n",
     "output_type": "error",
     "traceback": [
      "Error: Should return 61, returned  61\nTraceback:\n",
      "1. assert_that(nrows_may_june == 62, msg = paste(\"Should return 61, returned \", \n .     nrows_may_june))"
     ]
    }
   ],
   "source": [
    "# Should return an error\n",
    "nrows_may_june = nrow(subset(airquality, (Month == 5) | (Month == 6)))\n",
    "assert_that(nrows_may_june == 62, \n",
    "            msg= paste(\"Should return 62, returned \", nrows_may_june) )"
   ]
  },
  {
   "cell_type": "code",
   "execution_count": 106,
   "id": "ec52f842",
   "metadata": {},
   "outputs": [
    {
     "data": {
      "text/html": [
       "<table class=\"dataframe\">\n",
       "<caption>A data.frame: 92 × 6</caption>\n",
       "<thead>\n",
       "\t<tr><th></th><th scope=col>Ozone</th><th scope=col>Solar.R</th><th scope=col>Wind</th><th scope=col>Temp</th><th scope=col>Month</th><th scope=col>Day</th></tr>\n",
       "\t<tr><th></th><th scope=col>&lt;int&gt;</th><th scope=col>&lt;int&gt;</th><th scope=col>&lt;dbl&gt;</th><th scope=col>&lt;int&gt;</th><th scope=col>&lt;int&gt;</th><th scope=col>&lt;int&gt;</th></tr>\n",
       "</thead>\n",
       "<tbody>\n",
       "\t<tr><th scope=row>62</th><td>135</td><td>269</td><td> 4.1</td><td>84</td><td>7</td><td> 1</td></tr>\n",
       "\t<tr><th scope=row>63</th><td> 49</td><td>248</td><td> 9.2</td><td>85</td><td>7</td><td> 2</td></tr>\n",
       "\t<tr><th scope=row>64</th><td> 32</td><td>236</td><td> 9.2</td><td>81</td><td>7</td><td> 3</td></tr>\n",
       "\t<tr><th scope=row>65</th><td> NA</td><td>101</td><td>10.9</td><td>84</td><td>7</td><td> 4</td></tr>\n",
       "\t<tr><th scope=row>66</th><td> 64</td><td>175</td><td> 4.6</td><td>83</td><td>7</td><td> 5</td></tr>\n",
       "\t<tr><th scope=row>67</th><td> 40</td><td>314</td><td>10.9</td><td>83</td><td>7</td><td> 6</td></tr>\n",
       "\t<tr><th scope=row>68</th><td> 77</td><td>276</td><td> 5.1</td><td>88</td><td>7</td><td> 7</td></tr>\n",
       "\t<tr><th scope=row>69</th><td> 97</td><td>267</td><td> 6.3</td><td>92</td><td>7</td><td> 8</td></tr>\n",
       "\t<tr><th scope=row>70</th><td> 97</td><td>272</td><td> 5.7</td><td>92</td><td>7</td><td> 9</td></tr>\n",
       "\t<tr><th scope=row>71</th><td> 85</td><td>175</td><td> 7.4</td><td>89</td><td>7</td><td>10</td></tr>\n",
       "\t<tr><th scope=row>72</th><td> NA</td><td>139</td><td> 8.6</td><td>82</td><td>7</td><td>11</td></tr>\n",
       "\t<tr><th scope=row>73</th><td> 10</td><td>264</td><td>14.3</td><td>73</td><td>7</td><td>12</td></tr>\n",
       "\t<tr><th scope=row>74</th><td> 27</td><td>175</td><td>14.9</td><td>81</td><td>7</td><td>13</td></tr>\n",
       "\t<tr><th scope=row>75</th><td> NA</td><td>291</td><td>14.9</td><td>91</td><td>7</td><td>14</td></tr>\n",
       "\t<tr><th scope=row>76</th><td>  7</td><td> 48</td><td>14.3</td><td>80</td><td>7</td><td>15</td></tr>\n",
       "\t<tr><th scope=row>77</th><td> 48</td><td>260</td><td> 6.9</td><td>81</td><td>7</td><td>16</td></tr>\n",
       "\t<tr><th scope=row>78</th><td> 35</td><td>274</td><td>10.3</td><td>82</td><td>7</td><td>17</td></tr>\n",
       "\t<tr><th scope=row>79</th><td> 61</td><td>285</td><td> 6.3</td><td>84</td><td>7</td><td>18</td></tr>\n",
       "\t<tr><th scope=row>80</th><td> 79</td><td>187</td><td> 5.1</td><td>87</td><td>7</td><td>19</td></tr>\n",
       "\t<tr><th scope=row>81</th><td> 63</td><td>220</td><td>11.5</td><td>85</td><td>7</td><td>20</td></tr>\n",
       "\t<tr><th scope=row>82</th><td> 16</td><td>  7</td><td> 6.9</td><td>74</td><td>7</td><td>21</td></tr>\n",
       "\t<tr><th scope=row>83</th><td> NA</td><td>258</td><td> 9.7</td><td>81</td><td>7</td><td>22</td></tr>\n",
       "\t<tr><th scope=row>84</th><td> NA</td><td>295</td><td>11.5</td><td>82</td><td>7</td><td>23</td></tr>\n",
       "\t<tr><th scope=row>85</th><td> 80</td><td>294</td><td> 8.6</td><td>86</td><td>7</td><td>24</td></tr>\n",
       "\t<tr><th scope=row>86</th><td>108</td><td>223</td><td> 8.0</td><td>85</td><td>7</td><td>25</td></tr>\n",
       "\t<tr><th scope=row>87</th><td> 20</td><td> 81</td><td> 8.6</td><td>82</td><td>7</td><td>26</td></tr>\n",
       "\t<tr><th scope=row>88</th><td> 52</td><td> 82</td><td>12.0</td><td>86</td><td>7</td><td>27</td></tr>\n",
       "\t<tr><th scope=row>89</th><td> 82</td><td>213</td><td> 7.4</td><td>88</td><td>7</td><td>28</td></tr>\n",
       "\t<tr><th scope=row>90</th><td> 50</td><td>275</td><td> 7.4</td><td>86</td><td>7</td><td>29</td></tr>\n",
       "\t<tr><th scope=row>91</th><td> 64</td><td>253</td><td> 7.4</td><td>83</td><td>7</td><td>30</td></tr>\n",
       "\t<tr><th scope=row>⋮</th><td>⋮</td><td>⋮</td><td>⋮</td><td>⋮</td><td>⋮</td><td>⋮</td></tr>\n",
       "\t<tr><th scope=row>124</th><td>96</td><td>167</td><td> 6.9</td><td>91</td><td>9</td><td> 1</td></tr>\n",
       "\t<tr><th scope=row>125</th><td>78</td><td>197</td><td> 5.1</td><td>92</td><td>9</td><td> 2</td></tr>\n",
       "\t<tr><th scope=row>126</th><td>73</td><td>183</td><td> 2.8</td><td>93</td><td>9</td><td> 3</td></tr>\n",
       "\t<tr><th scope=row>127</th><td>91</td><td>189</td><td> 4.6</td><td>93</td><td>9</td><td> 4</td></tr>\n",
       "\t<tr><th scope=row>128</th><td>47</td><td> 95</td><td> 7.4</td><td>87</td><td>9</td><td> 5</td></tr>\n",
       "\t<tr><th scope=row>129</th><td>32</td><td> 92</td><td>15.5</td><td>84</td><td>9</td><td> 6</td></tr>\n",
       "\t<tr><th scope=row>130</th><td>20</td><td>252</td><td>10.9</td><td>80</td><td>9</td><td> 7</td></tr>\n",
       "\t<tr><th scope=row>131</th><td>23</td><td>220</td><td>10.3</td><td>78</td><td>9</td><td> 8</td></tr>\n",
       "\t<tr><th scope=row>132</th><td>21</td><td>230</td><td>10.9</td><td>75</td><td>9</td><td> 9</td></tr>\n",
       "\t<tr><th scope=row>133</th><td>24</td><td>259</td><td> 9.7</td><td>73</td><td>9</td><td>10</td></tr>\n",
       "\t<tr><th scope=row>134</th><td>44</td><td>236</td><td>14.9</td><td>81</td><td>9</td><td>11</td></tr>\n",
       "\t<tr><th scope=row>135</th><td>21</td><td>259</td><td>15.5</td><td>76</td><td>9</td><td>12</td></tr>\n",
       "\t<tr><th scope=row>136</th><td>28</td><td>238</td><td> 6.3</td><td>77</td><td>9</td><td>13</td></tr>\n",
       "\t<tr><th scope=row>137</th><td> 9</td><td> 24</td><td>10.9</td><td>71</td><td>9</td><td>14</td></tr>\n",
       "\t<tr><th scope=row>138</th><td>13</td><td>112</td><td>11.5</td><td>71</td><td>9</td><td>15</td></tr>\n",
       "\t<tr><th scope=row>139</th><td>46</td><td>237</td><td> 6.9</td><td>78</td><td>9</td><td>16</td></tr>\n",
       "\t<tr><th scope=row>140</th><td>18</td><td>224</td><td>13.8</td><td>67</td><td>9</td><td>17</td></tr>\n",
       "\t<tr><th scope=row>141</th><td>13</td><td> 27</td><td>10.3</td><td>76</td><td>9</td><td>18</td></tr>\n",
       "\t<tr><th scope=row>142</th><td>24</td><td>238</td><td>10.3</td><td>68</td><td>9</td><td>19</td></tr>\n",
       "\t<tr><th scope=row>143</th><td>16</td><td>201</td><td> 8.0</td><td>82</td><td>9</td><td>20</td></tr>\n",
       "\t<tr><th scope=row>144</th><td>13</td><td>238</td><td>12.6</td><td>64</td><td>9</td><td>21</td></tr>\n",
       "\t<tr><th scope=row>145</th><td>23</td><td> 14</td><td> 9.2</td><td>71</td><td>9</td><td>22</td></tr>\n",
       "\t<tr><th scope=row>146</th><td>36</td><td>139</td><td>10.3</td><td>81</td><td>9</td><td>23</td></tr>\n",
       "\t<tr><th scope=row>147</th><td> 7</td><td> 49</td><td>10.3</td><td>69</td><td>9</td><td>24</td></tr>\n",
       "\t<tr><th scope=row>148</th><td>14</td><td> 20</td><td>16.6</td><td>63</td><td>9</td><td>25</td></tr>\n",
       "\t<tr><th scope=row>149</th><td>30</td><td>193</td><td> 6.9</td><td>70</td><td>9</td><td>26</td></tr>\n",
       "\t<tr><th scope=row>150</th><td>NA</td><td>145</td><td>13.2</td><td>77</td><td>9</td><td>27</td></tr>\n",
       "\t<tr><th scope=row>151</th><td>14</td><td>191</td><td>14.3</td><td>75</td><td>9</td><td>28</td></tr>\n",
       "\t<tr><th scope=row>152</th><td>18</td><td>131</td><td> 8.0</td><td>76</td><td>9</td><td>29</td></tr>\n",
       "\t<tr><th scope=row>153</th><td>20</td><td>223</td><td>11.5</td><td>68</td><td>9</td><td>30</td></tr>\n",
       "</tbody>\n",
       "</table>\n"
      ],
      "text/latex": [
       "A data.frame: 92 × 6\n",
       "\\begin{tabular}{r|llllll}\n",
       "  & Ozone & Solar.R & Wind & Temp & Month & Day\\\\\n",
       "  & <int> & <int> & <dbl> & <int> & <int> & <int>\\\\\n",
       "\\hline\n",
       "\t62 & 135 & 269 &  4.1 & 84 & 7 &  1\\\\\n",
       "\t63 &  49 & 248 &  9.2 & 85 & 7 &  2\\\\\n",
       "\t64 &  32 & 236 &  9.2 & 81 & 7 &  3\\\\\n",
       "\t65 &  NA & 101 & 10.9 & 84 & 7 &  4\\\\\n",
       "\t66 &  64 & 175 &  4.6 & 83 & 7 &  5\\\\\n",
       "\t67 &  40 & 314 & 10.9 & 83 & 7 &  6\\\\\n",
       "\t68 &  77 & 276 &  5.1 & 88 & 7 &  7\\\\\n",
       "\t69 &  97 & 267 &  6.3 & 92 & 7 &  8\\\\\n",
       "\t70 &  97 & 272 &  5.7 & 92 & 7 &  9\\\\\n",
       "\t71 &  85 & 175 &  7.4 & 89 & 7 & 10\\\\\n",
       "\t72 &  NA & 139 &  8.6 & 82 & 7 & 11\\\\\n",
       "\t73 &  10 & 264 & 14.3 & 73 & 7 & 12\\\\\n",
       "\t74 &  27 & 175 & 14.9 & 81 & 7 & 13\\\\\n",
       "\t75 &  NA & 291 & 14.9 & 91 & 7 & 14\\\\\n",
       "\t76 &   7 &  48 & 14.3 & 80 & 7 & 15\\\\\n",
       "\t77 &  48 & 260 &  6.9 & 81 & 7 & 16\\\\\n",
       "\t78 &  35 & 274 & 10.3 & 82 & 7 & 17\\\\\n",
       "\t79 &  61 & 285 &  6.3 & 84 & 7 & 18\\\\\n",
       "\t80 &  79 & 187 &  5.1 & 87 & 7 & 19\\\\\n",
       "\t81 &  63 & 220 & 11.5 & 85 & 7 & 20\\\\\n",
       "\t82 &  16 &   7 &  6.9 & 74 & 7 & 21\\\\\n",
       "\t83 &  NA & 258 &  9.7 & 81 & 7 & 22\\\\\n",
       "\t84 &  NA & 295 & 11.5 & 82 & 7 & 23\\\\\n",
       "\t85 &  80 & 294 &  8.6 & 86 & 7 & 24\\\\\n",
       "\t86 & 108 & 223 &  8.0 & 85 & 7 & 25\\\\\n",
       "\t87 &  20 &  81 &  8.6 & 82 & 7 & 26\\\\\n",
       "\t88 &  52 &  82 & 12.0 & 86 & 7 & 27\\\\\n",
       "\t89 &  82 & 213 &  7.4 & 88 & 7 & 28\\\\\n",
       "\t90 &  50 & 275 &  7.4 & 86 & 7 & 29\\\\\n",
       "\t91 &  64 & 253 &  7.4 & 83 & 7 & 30\\\\\n",
       "\t⋮ & ⋮ & ⋮ & ⋮ & ⋮ & ⋮ & ⋮\\\\\n",
       "\t124 & 96 & 167 &  6.9 & 91 & 9 &  1\\\\\n",
       "\t125 & 78 & 197 &  5.1 & 92 & 9 &  2\\\\\n",
       "\t126 & 73 & 183 &  2.8 & 93 & 9 &  3\\\\\n",
       "\t127 & 91 & 189 &  4.6 & 93 & 9 &  4\\\\\n",
       "\t128 & 47 &  95 &  7.4 & 87 & 9 &  5\\\\\n",
       "\t129 & 32 &  92 & 15.5 & 84 & 9 &  6\\\\\n",
       "\t130 & 20 & 252 & 10.9 & 80 & 9 &  7\\\\\n",
       "\t131 & 23 & 220 & 10.3 & 78 & 9 &  8\\\\\n",
       "\t132 & 21 & 230 & 10.9 & 75 & 9 &  9\\\\\n",
       "\t133 & 24 & 259 &  9.7 & 73 & 9 & 10\\\\\n",
       "\t134 & 44 & 236 & 14.9 & 81 & 9 & 11\\\\\n",
       "\t135 & 21 & 259 & 15.5 & 76 & 9 & 12\\\\\n",
       "\t136 & 28 & 238 &  6.3 & 77 & 9 & 13\\\\\n",
       "\t137 &  9 &  24 & 10.9 & 71 & 9 & 14\\\\\n",
       "\t138 & 13 & 112 & 11.5 & 71 & 9 & 15\\\\\n",
       "\t139 & 46 & 237 &  6.9 & 78 & 9 & 16\\\\\n",
       "\t140 & 18 & 224 & 13.8 & 67 & 9 & 17\\\\\n",
       "\t141 & 13 &  27 & 10.3 & 76 & 9 & 18\\\\\n",
       "\t142 & 24 & 238 & 10.3 & 68 & 9 & 19\\\\\n",
       "\t143 & 16 & 201 &  8.0 & 82 & 9 & 20\\\\\n",
       "\t144 & 13 & 238 & 12.6 & 64 & 9 & 21\\\\\n",
       "\t145 & 23 &  14 &  9.2 & 71 & 9 & 22\\\\\n",
       "\t146 & 36 & 139 & 10.3 & 81 & 9 & 23\\\\\n",
       "\t147 &  7 &  49 & 10.3 & 69 & 9 & 24\\\\\n",
       "\t148 & 14 &  20 & 16.6 & 63 & 9 & 25\\\\\n",
       "\t149 & 30 & 193 &  6.9 & 70 & 9 & 26\\\\\n",
       "\t150 & NA & 145 & 13.2 & 77 & 9 & 27\\\\\n",
       "\t151 & 14 & 191 & 14.3 & 75 & 9 & 28\\\\\n",
       "\t152 & 18 & 131 &  8.0 & 76 & 9 & 29\\\\\n",
       "\t153 & 20 & 223 & 11.5 & 68 & 9 & 30\\\\\n",
       "\\end{tabular}\n"
      ],
      "text/markdown": [
       "\n",
       "A data.frame: 92 × 6\n",
       "\n",
       "| <!--/--> | Ozone &lt;int&gt; | Solar.R &lt;int&gt; | Wind &lt;dbl&gt; | Temp &lt;int&gt; | Month &lt;int&gt; | Day &lt;int&gt; |\n",
       "|---|---|---|---|---|---|---|\n",
       "| 62 | 135 | 269 |  4.1 | 84 | 7 |  1 |\n",
       "| 63 |  49 | 248 |  9.2 | 85 | 7 |  2 |\n",
       "| 64 |  32 | 236 |  9.2 | 81 | 7 |  3 |\n",
       "| 65 |  NA | 101 | 10.9 | 84 | 7 |  4 |\n",
       "| 66 |  64 | 175 |  4.6 | 83 | 7 |  5 |\n",
       "| 67 |  40 | 314 | 10.9 | 83 | 7 |  6 |\n",
       "| 68 |  77 | 276 |  5.1 | 88 | 7 |  7 |\n",
       "| 69 |  97 | 267 |  6.3 | 92 | 7 |  8 |\n",
       "| 70 |  97 | 272 |  5.7 | 92 | 7 |  9 |\n",
       "| 71 |  85 | 175 |  7.4 | 89 | 7 | 10 |\n",
       "| 72 |  NA | 139 |  8.6 | 82 | 7 | 11 |\n",
       "| 73 |  10 | 264 | 14.3 | 73 | 7 | 12 |\n",
       "| 74 |  27 | 175 | 14.9 | 81 | 7 | 13 |\n",
       "| 75 |  NA | 291 | 14.9 | 91 | 7 | 14 |\n",
       "| 76 |   7 |  48 | 14.3 | 80 | 7 | 15 |\n",
       "| 77 |  48 | 260 |  6.9 | 81 | 7 | 16 |\n",
       "| 78 |  35 | 274 | 10.3 | 82 | 7 | 17 |\n",
       "| 79 |  61 | 285 |  6.3 | 84 | 7 | 18 |\n",
       "| 80 |  79 | 187 |  5.1 | 87 | 7 | 19 |\n",
       "| 81 |  63 | 220 | 11.5 | 85 | 7 | 20 |\n",
       "| 82 |  16 |   7 |  6.9 | 74 | 7 | 21 |\n",
       "| 83 |  NA | 258 |  9.7 | 81 | 7 | 22 |\n",
       "| 84 |  NA | 295 | 11.5 | 82 | 7 | 23 |\n",
       "| 85 |  80 | 294 |  8.6 | 86 | 7 | 24 |\n",
       "| 86 | 108 | 223 |  8.0 | 85 | 7 | 25 |\n",
       "| 87 |  20 |  81 |  8.6 | 82 | 7 | 26 |\n",
       "| 88 |  52 |  82 | 12.0 | 86 | 7 | 27 |\n",
       "| 89 |  82 | 213 |  7.4 | 88 | 7 | 28 |\n",
       "| 90 |  50 | 275 |  7.4 | 86 | 7 | 29 |\n",
       "| 91 |  64 | 253 |  7.4 | 83 | 7 | 30 |\n",
       "| ⋮ | ⋮ | ⋮ | ⋮ | ⋮ | ⋮ | ⋮ |\n",
       "| 124 | 96 | 167 |  6.9 | 91 | 9 |  1 |\n",
       "| 125 | 78 | 197 |  5.1 | 92 | 9 |  2 |\n",
       "| 126 | 73 | 183 |  2.8 | 93 | 9 |  3 |\n",
       "| 127 | 91 | 189 |  4.6 | 93 | 9 |  4 |\n",
       "| 128 | 47 |  95 |  7.4 | 87 | 9 |  5 |\n",
       "| 129 | 32 |  92 | 15.5 | 84 | 9 |  6 |\n",
       "| 130 | 20 | 252 | 10.9 | 80 | 9 |  7 |\n",
       "| 131 | 23 | 220 | 10.3 | 78 | 9 |  8 |\n",
       "| 132 | 21 | 230 | 10.9 | 75 | 9 |  9 |\n",
       "| 133 | 24 | 259 |  9.7 | 73 | 9 | 10 |\n",
       "| 134 | 44 | 236 | 14.9 | 81 | 9 | 11 |\n",
       "| 135 | 21 | 259 | 15.5 | 76 | 9 | 12 |\n",
       "| 136 | 28 | 238 |  6.3 | 77 | 9 | 13 |\n",
       "| 137 |  9 |  24 | 10.9 | 71 | 9 | 14 |\n",
       "| 138 | 13 | 112 | 11.5 | 71 | 9 | 15 |\n",
       "| 139 | 46 | 237 |  6.9 | 78 | 9 | 16 |\n",
       "| 140 | 18 | 224 | 13.8 | 67 | 9 | 17 |\n",
       "| 141 | 13 |  27 | 10.3 | 76 | 9 | 18 |\n",
       "| 142 | 24 | 238 | 10.3 | 68 | 9 | 19 |\n",
       "| 143 | 16 | 201 |  8.0 | 82 | 9 | 20 |\n",
       "| 144 | 13 | 238 | 12.6 | 64 | 9 | 21 |\n",
       "| 145 | 23 |  14 |  9.2 | 71 | 9 | 22 |\n",
       "| 146 | 36 | 139 | 10.3 | 81 | 9 | 23 |\n",
       "| 147 |  7 |  49 | 10.3 | 69 | 9 | 24 |\n",
       "| 148 | 14 |  20 | 16.6 | 63 | 9 | 25 |\n",
       "| 149 | 30 | 193 |  6.9 | 70 | 9 | 26 |\n",
       "| 150 | NA | 145 | 13.2 | 77 | 9 | 27 |\n",
       "| 151 | 14 | 191 | 14.3 | 75 | 9 | 28 |\n",
       "| 152 | 18 | 131 |  8.0 | 76 | 9 | 29 |\n",
       "| 153 | 20 | 223 | 11.5 | 68 | 9 | 30 |\n",
       "\n"
      ],
      "text/plain": [
       "    Ozone Solar.R Wind Temp Month Day\n",
       "62  135   269      4.1 84   7      1 \n",
       "63   49   248      9.2 85   7      2 \n",
       "64   32   236      9.2 81   7      3 \n",
       "65   NA   101     10.9 84   7      4 \n",
       "66   64   175      4.6 83   7      5 \n",
       "67   40   314     10.9 83   7      6 \n",
       "68   77   276      5.1 88   7      7 \n",
       "69   97   267      6.3 92   7      8 \n",
       "70   97   272      5.7 92   7      9 \n",
       "71   85   175      7.4 89   7     10 \n",
       "72   NA   139      8.6 82   7     11 \n",
       "73   10   264     14.3 73   7     12 \n",
       "74   27   175     14.9 81   7     13 \n",
       "75   NA   291     14.9 91   7     14 \n",
       "76    7    48     14.3 80   7     15 \n",
       "77   48   260      6.9 81   7     16 \n",
       "78   35   274     10.3 82   7     17 \n",
       "79   61   285      6.3 84   7     18 \n",
       "80   79   187      5.1 87   7     19 \n",
       "81   63   220     11.5 85   7     20 \n",
       "82   16     7      6.9 74   7     21 \n",
       "83   NA   258      9.7 81   7     22 \n",
       "84   NA   295     11.5 82   7     23 \n",
       "85   80   294      8.6 86   7     24 \n",
       "86  108   223      8.0 85   7     25 \n",
       "87   20    81      8.6 82   7     26 \n",
       "88   52    82     12.0 86   7     27 \n",
       "89   82   213      7.4 88   7     28 \n",
       "90   50   275      7.4 86   7     29 \n",
       "91   64   253      7.4 83   7     30 \n",
       "⋮   ⋮     ⋮       ⋮    ⋮    ⋮     ⋮  \n",
       "124 96    167      6.9 91   9      1 \n",
       "125 78    197      5.1 92   9      2 \n",
       "126 73    183      2.8 93   9      3 \n",
       "127 91    189      4.6 93   9      4 \n",
       "128 47     95      7.4 87   9      5 \n",
       "129 32     92     15.5 84   9      6 \n",
       "130 20    252     10.9 80   9      7 \n",
       "131 23    220     10.3 78   9      8 \n",
       "132 21    230     10.9 75   9      9 \n",
       "133 24    259      9.7 73   9     10 \n",
       "134 44    236     14.9 81   9     11 \n",
       "135 21    259     15.5 76   9     12 \n",
       "136 28    238      6.3 77   9     13 \n",
       "137  9     24     10.9 71   9     14 \n",
       "138 13    112     11.5 71   9     15 \n",
       "139 46    237      6.9 78   9     16 \n",
       "140 18    224     13.8 67   9     17 \n",
       "141 13     27     10.3 76   9     18 \n",
       "142 24    238     10.3 68   9     19 \n",
       "143 16    201      8.0 82   9     20 \n",
       "144 13    238     12.6 64   9     21 \n",
       "145 23     14      9.2 71   9     22 \n",
       "146 36    139     10.3 81   9     23 \n",
       "147  7     49     10.3 69   9     24 \n",
       "148 14     20     16.6 63   9     25 \n",
       "149 30    193      6.9 70   9     26 \n",
       "150 NA    145     13.2 77   9     27 \n",
       "151 14    191     14.3 75   9     28 \n",
       "152 18    131      8.0 76   9     29 \n",
       "153 20    223     11.5 68   9     30 "
      ]
     },
     "metadata": {},
     "output_type": "display_data"
    }
   ],
   "source": [
    "# Note that we use parentheses to negate the whole condition!\n",
    "subset(airquality, !((Month == 5) | (Month == 6)))"
   ]
  },
  {
   "cell_type": "markdown",
   "id": "8c5d575c",
   "metadata": {},
   "source": [
    "### Sorting a Data Frame\n",
    "\n",
    "* Some other operations on data frames are:\n",
    "\n",
    "    * Sorting: `order()`\n",
    "        * Interestingly, order returns the order (positions) of rows in the table\n",
    "    * Order should be carried on a specific column, otherwise the ordering is ambiguous\n",
    "        *  Can also specify a list of columns to order to break ties\n",
    "\n"
   ]
  },
  {
   "cell_type": "code",
   "execution_count": 108,
   "id": "8e2f3d26",
   "metadata": {},
   "outputs": [
    {
     "data": {
      "text/html": [
       "<style>\n",
       ".list-inline {list-style: none; margin:0; padding: 0}\n",
       ".list-inline>li {display: inline-block}\n",
       ".list-inline>li:not(:last-child)::after {content: \"\\00b7\"; padding: 0 .5ex}\n",
       "</style>\n",
       "<ol class=list-inline><li>3</li><li>2</li><li>1</li><li>4</li></ol>\n"
      ],
      "text/latex": [
       "\\begin{enumerate*}\n",
       "\\item 3\n",
       "\\item 2\n",
       "\\item 1\n",
       "\\item 4\n",
       "\\end{enumerate*}\n"
      ],
      "text/markdown": [
       "1. 3\n",
       "2. 2\n",
       "3. 1\n",
       "4. 4\n",
       "\n",
       "\n"
      ],
      "text/plain": [
       "[1] 3 2 1 4"
      ]
     },
     "metadata": {},
     "output_type": "display_data"
    }
   ],
   "source": [
    "some_vector = c(10,2, 0, 42)\n",
    "order(some_vector)"
   ]
  },
  {
   "cell_type": "code",
   "execution_count": 109,
   "id": "dc52553b",
   "metadata": {},
   "outputs": [
    {
     "data": {
      "text/html": [
       "<style>\n",
       ".list-inline {list-style: none; margin:0; padding: 0}\n",
       ".list-inline>li {display: inline-block}\n",
       ".list-inline>li:not(:last-child)::after {content: \"\\00b7\"; padding: 0 .5ex}\n",
       "</style>\n",
       "<ol class=list-inline><li>0</li><li>2</li><li>10</li><li>42</li></ol>\n"
      ],
      "text/latex": [
       "\\begin{enumerate*}\n",
       "\\item 0\n",
       "\\item 2\n",
       "\\item 10\n",
       "\\item 42\n",
       "\\end{enumerate*}\n"
      ],
      "text/markdown": [
       "1. 0\n",
       "2. 2\n",
       "3. 10\n",
       "4. 42\n",
       "\n",
       "\n"
      ],
      "text/plain": [
       "[1]  0  2 10 42"
      ]
     },
     "metadata": {},
     "output_type": "display_data"
    }
   ],
   "source": [
    "some_vector_order = order(some_vector)\n",
    "some_vector[some_vector_order]"
   ]
  },
  {
   "cell_type": "code",
   "execution_count": 110,
   "id": "22c33768",
   "metadata": {},
   "outputs": [],
   "source": [
    "airquality_temp_order = order(airquality$Temp)"
   ]
  },
  {
   "cell_type": "code",
   "execution_count": 111,
   "id": "ff7c9d03",
   "metadata": {},
   "outputs": [
    {
     "data": {
      "text/html": [
       "<table class=\"dataframe\">\n",
       "<caption>A data.frame: 153 × 6</caption>\n",
       "<thead>\n",
       "\t<tr><th></th><th scope=col>Ozone</th><th scope=col>Solar.R</th><th scope=col>Wind</th><th scope=col>Temp</th><th scope=col>Month</th><th scope=col>Day</th></tr>\n",
       "\t<tr><th></th><th scope=col>&lt;int&gt;</th><th scope=col>&lt;int&gt;</th><th scope=col>&lt;dbl&gt;</th><th scope=col>&lt;int&gt;</th><th scope=col>&lt;int&gt;</th><th scope=col>&lt;int&gt;</th></tr>\n",
       "</thead>\n",
       "<tbody>\n",
       "\t<tr><th scope=row>5</th><td>NA</td><td> NA</td><td>14.3</td><td>56</td><td>5</td><td> 5</td></tr>\n",
       "\t<tr><th scope=row>18</th><td> 6</td><td> 78</td><td>18.4</td><td>57</td><td>5</td><td>18</td></tr>\n",
       "\t<tr><th scope=row>25</th><td>NA</td><td> 66</td><td>16.6</td><td>57</td><td>5</td><td>25</td></tr>\n",
       "\t<tr><th scope=row>27</th><td>NA</td><td> NA</td><td> 8.0</td><td>57</td><td>5</td><td>27</td></tr>\n",
       "\t<tr><th scope=row>15</th><td>18</td><td> 65</td><td>13.2</td><td>58</td><td>5</td><td>15</td></tr>\n",
       "\t<tr><th scope=row>26</th><td>NA</td><td>266</td><td>14.9</td><td>58</td><td>5</td><td>26</td></tr>\n",
       "\t<tr><th scope=row>8</th><td>19</td><td> 99</td><td>13.8</td><td>59</td><td>5</td><td> 8</td></tr>\n",
       "\t<tr><th scope=row>21</th><td> 1</td><td>  8</td><td> 9.7</td><td>59</td><td>5</td><td>21</td></tr>\n",
       "\t<tr><th scope=row>9</th><td> 8</td><td> 19</td><td>20.1</td><td>61</td><td>5</td><td> 9</td></tr>\n",
       "\t<tr><th scope=row>23</th><td> 4</td><td> 25</td><td> 9.7</td><td>61</td><td>5</td><td>23</td></tr>\n",
       "\t<tr><th scope=row>24</th><td>32</td><td> 92</td><td>12.0</td><td>61</td><td>5</td><td>24</td></tr>\n",
       "\t<tr><th scope=row>4</th><td>18</td><td>313</td><td>11.5</td><td>62</td><td>5</td><td> 4</td></tr>\n",
       "\t<tr><th scope=row>20</th><td>11</td><td> 44</td><td> 9.7</td><td>62</td><td>5</td><td>20</td></tr>\n",
       "\t<tr><th scope=row>148</th><td>14</td><td> 20</td><td>16.6</td><td>63</td><td>9</td><td>25</td></tr>\n",
       "\t<tr><th scope=row>16</th><td>14</td><td>334</td><td>11.5</td><td>64</td><td>5</td><td>16</td></tr>\n",
       "\t<tr><th scope=row>144</th><td>13</td><td>238</td><td>12.6</td><td>64</td><td>9</td><td>21</td></tr>\n",
       "\t<tr><th scope=row>7</th><td>23</td><td>299</td><td> 8.6</td><td>65</td><td>5</td><td> 7</td></tr>\n",
       "\t<tr><th scope=row>49</th><td>20</td><td> 37</td><td> 9.2</td><td>65</td><td>6</td><td>18</td></tr>\n",
       "\t<tr><th scope=row>6</th><td>28</td><td> NA</td><td>14.9</td><td>66</td><td>5</td><td> 6</td></tr>\n",
       "\t<tr><th scope=row>13</th><td>11</td><td>290</td><td> 9.2</td><td>66</td><td>5</td><td>13</td></tr>\n",
       "\t<tr><th scope=row>17</th><td>34</td><td>307</td><td>12.0</td><td>66</td><td>5</td><td>17</td></tr>\n",
       "\t<tr><th scope=row>1</th><td>41</td><td>190</td><td> 7.4</td><td>67</td><td>5</td><td> 1</td></tr>\n",
       "\t<tr><th scope=row>28</th><td>23</td><td> 13</td><td>12.0</td><td>67</td><td>5</td><td>28</td></tr>\n",
       "\t<tr><th scope=row>34</th><td>NA</td><td>242</td><td>16.1</td><td>67</td><td>6</td><td> 3</td></tr>\n",
       "\t<tr><th scope=row>140</th><td>18</td><td>224</td><td>13.8</td><td>67</td><td>9</td><td>17</td></tr>\n",
       "\t<tr><th scope=row>14</th><td>14</td><td>274</td><td>10.9</td><td>68</td><td>5</td><td>14</td></tr>\n",
       "\t<tr><th scope=row>19</th><td>30</td><td>322</td><td>11.5</td><td>68</td><td>5</td><td>19</td></tr>\n",
       "\t<tr><th scope=row>142</th><td>24</td><td>238</td><td>10.3</td><td>68</td><td>9</td><td>19</td></tr>\n",
       "\t<tr><th scope=row>153</th><td>20</td><td>223</td><td>11.5</td><td>68</td><td>9</td><td>30</td></tr>\n",
       "\t<tr><th scope=row>10</th><td>NA</td><td>194</td><td> 8.6</td><td>69</td><td>5</td><td>10</td></tr>\n",
       "\t<tr><th scope=row>⋮</th><td>⋮</td><td>⋮</td><td>⋮</td><td>⋮</td><td>⋮</td><td>⋮</td></tr>\n",
       "\t<tr><th scope=row>103</th><td> NA</td><td>137</td><td>11.5</td><td>86</td><td>8</td><td>11</td></tr>\n",
       "\t<tr><th scope=row>104</th><td> 44</td><td>192</td><td>11.5</td><td>86</td><td>8</td><td>12</td></tr>\n",
       "\t<tr><th scope=row>118</th><td> 73</td><td>215</td><td> 8.0</td><td>86</td><td>8</td><td>26</td></tr>\n",
       "\t<tr><th scope=row>39</th><td> NA</td><td>273</td><td> 6.9</td><td>87</td><td>6</td><td> 8</td></tr>\n",
       "\t<tr><th scope=row>41</th><td> 39</td><td>323</td><td>11.5</td><td>87</td><td>6</td><td>10</td></tr>\n",
       "\t<tr><th scope=row>80</th><td> 79</td><td>187</td><td> 5.1</td><td>87</td><td>7</td><td>19</td></tr>\n",
       "\t<tr><th scope=row>98</th><td> 66</td><td> NA</td><td> 4.6</td><td>87</td><td>8</td><td> 6</td></tr>\n",
       "\t<tr><th scope=row>128</th><td> 47</td><td> 95</td><td> 7.4</td><td>87</td><td>9</td><td> 5</td></tr>\n",
       "\t<tr><th scope=row>68</th><td> 77</td><td>276</td><td> 5.1</td><td>88</td><td>7</td><td> 7</td></tr>\n",
       "\t<tr><th scope=row>89</th><td> 82</td><td>213</td><td> 7.4</td><td>88</td><td>7</td><td>28</td></tr>\n",
       "\t<tr><th scope=row>119</th><td> NA</td><td>153</td><td> 5.7</td><td>88</td><td>8</td><td>27</td></tr>\n",
       "\t<tr><th scope=row>71</th><td> 85</td><td>175</td><td> 7.4</td><td>89</td><td>7</td><td>10</td></tr>\n",
       "\t<tr><th scope=row>99</th><td>122</td><td>255</td><td> 4.0</td><td>89</td><td>8</td><td> 7</td></tr>\n",
       "\t<tr><th scope=row>40</th><td> 71</td><td>291</td><td>13.8</td><td>90</td><td>6</td><td> 9</td></tr>\n",
       "\t<tr><th scope=row>100</th><td> 89</td><td>229</td><td>10.3</td><td>90</td><td>8</td><td> 8</td></tr>\n",
       "\t<tr><th scope=row>101</th><td>110</td><td>207</td><td> 8.0</td><td>90</td><td>8</td><td> 9</td></tr>\n",
       "\t<tr><th scope=row>75</th><td> NA</td><td>291</td><td>14.9</td><td>91</td><td>7</td><td>14</td></tr>\n",
       "\t<tr><th scope=row>124</th><td> 96</td><td>167</td><td> 6.9</td><td>91</td><td>9</td><td> 1</td></tr>\n",
       "\t<tr><th scope=row>43</th><td> NA</td><td>250</td><td> 9.2</td><td>92</td><td>6</td><td>12</td></tr>\n",
       "\t<tr><th scope=row>69</th><td> 97</td><td>267</td><td> 6.3</td><td>92</td><td>7</td><td> 8</td></tr>\n",
       "\t<tr><th scope=row>70</th><td> 97</td><td>272</td><td> 5.7</td><td>92</td><td>7</td><td> 9</td></tr>\n",
       "\t<tr><th scope=row>102</th><td> NA</td><td>222</td><td> 8.6</td><td>92</td><td>8</td><td>10</td></tr>\n",
       "\t<tr><th scope=row>125</th><td> 78</td><td>197</td><td> 5.1</td><td>92</td><td>9</td><td> 2</td></tr>\n",
       "\t<tr><th scope=row>42</th><td> NA</td><td>259</td><td>10.9</td><td>93</td><td>6</td><td>11</td></tr>\n",
       "\t<tr><th scope=row>126</th><td> 73</td><td>183</td><td> 2.8</td><td>93</td><td>9</td><td> 3</td></tr>\n",
       "\t<tr><th scope=row>127</th><td> 91</td><td>189</td><td> 4.6</td><td>93</td><td>9</td><td> 4</td></tr>\n",
       "\t<tr><th scope=row>121</th><td>118</td><td>225</td><td> 2.3</td><td>94</td><td>8</td><td>29</td></tr>\n",
       "\t<tr><th scope=row>123</th><td> 85</td><td>188</td><td> 6.3</td><td>94</td><td>8</td><td>31</td></tr>\n",
       "\t<tr><th scope=row>122</th><td> 84</td><td>237</td><td> 6.3</td><td>96</td><td>8</td><td>30</td></tr>\n",
       "\t<tr><th scope=row>120</th><td> 76</td><td>203</td><td> 9.7</td><td>97</td><td>8</td><td>28</td></tr>\n",
       "</tbody>\n",
       "</table>\n"
      ],
      "text/latex": [
       "A data.frame: 153 × 6\n",
       "\\begin{tabular}{r|llllll}\n",
       "  & Ozone & Solar.R & Wind & Temp & Month & Day\\\\\n",
       "  & <int> & <int> & <dbl> & <int> & <int> & <int>\\\\\n",
       "\\hline\n",
       "\t5 & NA &  NA & 14.3 & 56 & 5 &  5\\\\\n",
       "\t18 &  6 &  78 & 18.4 & 57 & 5 & 18\\\\\n",
       "\t25 & NA &  66 & 16.6 & 57 & 5 & 25\\\\\n",
       "\t27 & NA &  NA &  8.0 & 57 & 5 & 27\\\\\n",
       "\t15 & 18 &  65 & 13.2 & 58 & 5 & 15\\\\\n",
       "\t26 & NA & 266 & 14.9 & 58 & 5 & 26\\\\\n",
       "\t8 & 19 &  99 & 13.8 & 59 & 5 &  8\\\\\n",
       "\t21 &  1 &   8 &  9.7 & 59 & 5 & 21\\\\\n",
       "\t9 &  8 &  19 & 20.1 & 61 & 5 &  9\\\\\n",
       "\t23 &  4 &  25 &  9.7 & 61 & 5 & 23\\\\\n",
       "\t24 & 32 &  92 & 12.0 & 61 & 5 & 24\\\\\n",
       "\t4 & 18 & 313 & 11.5 & 62 & 5 &  4\\\\\n",
       "\t20 & 11 &  44 &  9.7 & 62 & 5 & 20\\\\\n",
       "\t148 & 14 &  20 & 16.6 & 63 & 9 & 25\\\\\n",
       "\t16 & 14 & 334 & 11.5 & 64 & 5 & 16\\\\\n",
       "\t144 & 13 & 238 & 12.6 & 64 & 9 & 21\\\\\n",
       "\t7 & 23 & 299 &  8.6 & 65 & 5 &  7\\\\\n",
       "\t49 & 20 &  37 &  9.2 & 65 & 6 & 18\\\\\n",
       "\t6 & 28 &  NA & 14.9 & 66 & 5 &  6\\\\\n",
       "\t13 & 11 & 290 &  9.2 & 66 & 5 & 13\\\\\n",
       "\t17 & 34 & 307 & 12.0 & 66 & 5 & 17\\\\\n",
       "\t1 & 41 & 190 &  7.4 & 67 & 5 &  1\\\\\n",
       "\t28 & 23 &  13 & 12.0 & 67 & 5 & 28\\\\\n",
       "\t34 & NA & 242 & 16.1 & 67 & 6 &  3\\\\\n",
       "\t140 & 18 & 224 & 13.8 & 67 & 9 & 17\\\\\n",
       "\t14 & 14 & 274 & 10.9 & 68 & 5 & 14\\\\\n",
       "\t19 & 30 & 322 & 11.5 & 68 & 5 & 19\\\\\n",
       "\t142 & 24 & 238 & 10.3 & 68 & 9 & 19\\\\\n",
       "\t153 & 20 & 223 & 11.5 & 68 & 9 & 30\\\\\n",
       "\t10 & NA & 194 &  8.6 & 69 & 5 & 10\\\\\n",
       "\t⋮ & ⋮ & ⋮ & ⋮ & ⋮ & ⋮ & ⋮\\\\\n",
       "\t103 &  NA & 137 & 11.5 & 86 & 8 & 11\\\\\n",
       "\t104 &  44 & 192 & 11.5 & 86 & 8 & 12\\\\\n",
       "\t118 &  73 & 215 &  8.0 & 86 & 8 & 26\\\\\n",
       "\t39 &  NA & 273 &  6.9 & 87 & 6 &  8\\\\\n",
       "\t41 &  39 & 323 & 11.5 & 87 & 6 & 10\\\\\n",
       "\t80 &  79 & 187 &  5.1 & 87 & 7 & 19\\\\\n",
       "\t98 &  66 &  NA &  4.6 & 87 & 8 &  6\\\\\n",
       "\t128 &  47 &  95 &  7.4 & 87 & 9 &  5\\\\\n",
       "\t68 &  77 & 276 &  5.1 & 88 & 7 &  7\\\\\n",
       "\t89 &  82 & 213 &  7.4 & 88 & 7 & 28\\\\\n",
       "\t119 &  NA & 153 &  5.7 & 88 & 8 & 27\\\\\n",
       "\t71 &  85 & 175 &  7.4 & 89 & 7 & 10\\\\\n",
       "\t99 & 122 & 255 &  4.0 & 89 & 8 &  7\\\\\n",
       "\t40 &  71 & 291 & 13.8 & 90 & 6 &  9\\\\\n",
       "\t100 &  89 & 229 & 10.3 & 90 & 8 &  8\\\\\n",
       "\t101 & 110 & 207 &  8.0 & 90 & 8 &  9\\\\\n",
       "\t75 &  NA & 291 & 14.9 & 91 & 7 & 14\\\\\n",
       "\t124 &  96 & 167 &  6.9 & 91 & 9 &  1\\\\\n",
       "\t43 &  NA & 250 &  9.2 & 92 & 6 & 12\\\\\n",
       "\t69 &  97 & 267 &  6.3 & 92 & 7 &  8\\\\\n",
       "\t70 &  97 & 272 &  5.7 & 92 & 7 &  9\\\\\n",
       "\t102 &  NA & 222 &  8.6 & 92 & 8 & 10\\\\\n",
       "\t125 &  78 & 197 &  5.1 & 92 & 9 &  2\\\\\n",
       "\t42 &  NA & 259 & 10.9 & 93 & 6 & 11\\\\\n",
       "\t126 &  73 & 183 &  2.8 & 93 & 9 &  3\\\\\n",
       "\t127 &  91 & 189 &  4.6 & 93 & 9 &  4\\\\\n",
       "\t121 & 118 & 225 &  2.3 & 94 & 8 & 29\\\\\n",
       "\t123 &  85 & 188 &  6.3 & 94 & 8 & 31\\\\\n",
       "\t122 &  84 & 237 &  6.3 & 96 & 8 & 30\\\\\n",
       "\t120 &  76 & 203 &  9.7 & 97 & 8 & 28\\\\\n",
       "\\end{tabular}\n"
      ],
      "text/markdown": [
       "\n",
       "A data.frame: 153 × 6\n",
       "\n",
       "| <!--/--> | Ozone &lt;int&gt; | Solar.R &lt;int&gt; | Wind &lt;dbl&gt; | Temp &lt;int&gt; | Month &lt;int&gt; | Day &lt;int&gt; |\n",
       "|---|---|---|---|---|---|---|\n",
       "| 5 | NA |  NA | 14.3 | 56 | 5 |  5 |\n",
       "| 18 |  6 |  78 | 18.4 | 57 | 5 | 18 |\n",
       "| 25 | NA |  66 | 16.6 | 57 | 5 | 25 |\n",
       "| 27 | NA |  NA |  8.0 | 57 | 5 | 27 |\n",
       "| 15 | 18 |  65 | 13.2 | 58 | 5 | 15 |\n",
       "| 26 | NA | 266 | 14.9 | 58 | 5 | 26 |\n",
       "| 8 | 19 |  99 | 13.8 | 59 | 5 |  8 |\n",
       "| 21 |  1 |   8 |  9.7 | 59 | 5 | 21 |\n",
       "| 9 |  8 |  19 | 20.1 | 61 | 5 |  9 |\n",
       "| 23 |  4 |  25 |  9.7 | 61 | 5 | 23 |\n",
       "| 24 | 32 |  92 | 12.0 | 61 | 5 | 24 |\n",
       "| 4 | 18 | 313 | 11.5 | 62 | 5 |  4 |\n",
       "| 20 | 11 |  44 |  9.7 | 62 | 5 | 20 |\n",
       "| 148 | 14 |  20 | 16.6 | 63 | 9 | 25 |\n",
       "| 16 | 14 | 334 | 11.5 | 64 | 5 | 16 |\n",
       "| 144 | 13 | 238 | 12.6 | 64 | 9 | 21 |\n",
       "| 7 | 23 | 299 |  8.6 | 65 | 5 |  7 |\n",
       "| 49 | 20 |  37 |  9.2 | 65 | 6 | 18 |\n",
       "| 6 | 28 |  NA | 14.9 | 66 | 5 |  6 |\n",
       "| 13 | 11 | 290 |  9.2 | 66 | 5 | 13 |\n",
       "| 17 | 34 | 307 | 12.0 | 66 | 5 | 17 |\n",
       "| 1 | 41 | 190 |  7.4 | 67 | 5 |  1 |\n",
       "| 28 | 23 |  13 | 12.0 | 67 | 5 | 28 |\n",
       "| 34 | NA | 242 | 16.1 | 67 | 6 |  3 |\n",
       "| 140 | 18 | 224 | 13.8 | 67 | 9 | 17 |\n",
       "| 14 | 14 | 274 | 10.9 | 68 | 5 | 14 |\n",
       "| 19 | 30 | 322 | 11.5 | 68 | 5 | 19 |\n",
       "| 142 | 24 | 238 | 10.3 | 68 | 9 | 19 |\n",
       "| 153 | 20 | 223 | 11.5 | 68 | 9 | 30 |\n",
       "| 10 | NA | 194 |  8.6 | 69 | 5 | 10 |\n",
       "| ⋮ | ⋮ | ⋮ | ⋮ | ⋮ | ⋮ | ⋮ |\n",
       "| 103 |  NA | 137 | 11.5 | 86 | 8 | 11 |\n",
       "| 104 |  44 | 192 | 11.5 | 86 | 8 | 12 |\n",
       "| 118 |  73 | 215 |  8.0 | 86 | 8 | 26 |\n",
       "| 39 |  NA | 273 |  6.9 | 87 | 6 |  8 |\n",
       "| 41 |  39 | 323 | 11.5 | 87 | 6 | 10 |\n",
       "| 80 |  79 | 187 |  5.1 | 87 | 7 | 19 |\n",
       "| 98 |  66 |  NA |  4.6 | 87 | 8 |  6 |\n",
       "| 128 |  47 |  95 |  7.4 | 87 | 9 |  5 |\n",
       "| 68 |  77 | 276 |  5.1 | 88 | 7 |  7 |\n",
       "| 89 |  82 | 213 |  7.4 | 88 | 7 | 28 |\n",
       "| 119 |  NA | 153 |  5.7 | 88 | 8 | 27 |\n",
       "| 71 |  85 | 175 |  7.4 | 89 | 7 | 10 |\n",
       "| 99 | 122 | 255 |  4.0 | 89 | 8 |  7 |\n",
       "| 40 |  71 | 291 | 13.8 | 90 | 6 |  9 |\n",
       "| 100 |  89 | 229 | 10.3 | 90 | 8 |  8 |\n",
       "| 101 | 110 | 207 |  8.0 | 90 | 8 |  9 |\n",
       "| 75 |  NA | 291 | 14.9 | 91 | 7 | 14 |\n",
       "| 124 |  96 | 167 |  6.9 | 91 | 9 |  1 |\n",
       "| 43 |  NA | 250 |  9.2 | 92 | 6 | 12 |\n",
       "| 69 |  97 | 267 |  6.3 | 92 | 7 |  8 |\n",
       "| 70 |  97 | 272 |  5.7 | 92 | 7 |  9 |\n",
       "| 102 |  NA | 222 |  8.6 | 92 | 8 | 10 |\n",
       "| 125 |  78 | 197 |  5.1 | 92 | 9 |  2 |\n",
       "| 42 |  NA | 259 | 10.9 | 93 | 6 | 11 |\n",
       "| 126 |  73 | 183 |  2.8 | 93 | 9 |  3 |\n",
       "| 127 |  91 | 189 |  4.6 | 93 | 9 |  4 |\n",
       "| 121 | 118 | 225 |  2.3 | 94 | 8 | 29 |\n",
       "| 123 |  85 | 188 |  6.3 | 94 | 8 | 31 |\n",
       "| 122 |  84 | 237 |  6.3 | 96 | 8 | 30 |\n",
       "| 120 |  76 | 203 |  9.7 | 97 | 8 | 28 |\n",
       "\n"
      ],
      "text/plain": [
       "    Ozone Solar.R Wind Temp Month Day\n",
       "5   NA     NA     14.3 56   5      5 \n",
       "18   6     78     18.4 57   5     18 \n",
       "25  NA     66     16.6 57   5     25 \n",
       "27  NA     NA      8.0 57   5     27 \n",
       "15  18     65     13.2 58   5     15 \n",
       "26  NA    266     14.9 58   5     26 \n",
       "8   19     99     13.8 59   5      8 \n",
       "21   1      8      9.7 59   5     21 \n",
       "9    8     19     20.1 61   5      9 \n",
       "23   4     25      9.7 61   5     23 \n",
       "24  32     92     12.0 61   5     24 \n",
       "4   18    313     11.5 62   5      4 \n",
       "20  11     44      9.7 62   5     20 \n",
       "148 14     20     16.6 63   9     25 \n",
       "16  14    334     11.5 64   5     16 \n",
       "144 13    238     12.6 64   9     21 \n",
       "7   23    299      8.6 65   5      7 \n",
       "49  20     37      9.2 65   6     18 \n",
       "6   28     NA     14.9 66   5      6 \n",
       "13  11    290      9.2 66   5     13 \n",
       "17  34    307     12.0 66   5     17 \n",
       "1   41    190      7.4 67   5      1 \n",
       "28  23     13     12.0 67   5     28 \n",
       "34  NA    242     16.1 67   6      3 \n",
       "140 18    224     13.8 67   9     17 \n",
       "14  14    274     10.9 68   5     14 \n",
       "19  30    322     11.5 68   5     19 \n",
       "142 24    238     10.3 68   9     19 \n",
       "153 20    223     11.5 68   9     30 \n",
       "10  NA    194      8.6 69   5     10 \n",
       "⋮   ⋮     ⋮       ⋮    ⋮    ⋮     ⋮  \n",
       "103  NA   137     11.5 86   8     11 \n",
       "104  44   192     11.5 86   8     12 \n",
       "118  73   215      8.0 86   8     26 \n",
       "39   NA   273      6.9 87   6      8 \n",
       "41   39   323     11.5 87   6     10 \n",
       "80   79   187      5.1 87   7     19 \n",
       "98   66    NA      4.6 87   8      6 \n",
       "128  47    95      7.4 87   9      5 \n",
       "68   77   276      5.1 88   7      7 \n",
       "89   82   213      7.4 88   7     28 \n",
       "119  NA   153      5.7 88   8     27 \n",
       "71   85   175      7.4 89   7     10 \n",
       "99  122   255      4.0 89   8      7 \n",
       "40   71   291     13.8 90   6      9 \n",
       "100  89   229     10.3 90   8      8 \n",
       "101 110   207      8.0 90   8      9 \n",
       "75   NA   291     14.9 91   7     14 \n",
       "124  96   167      6.9 91   9      1 \n",
       "43   NA   250      9.2 92   6     12 \n",
       "69   97   267      6.3 92   7      8 \n",
       "70   97   272      5.7 92   7      9 \n",
       "102  NA   222      8.6 92   8     10 \n",
       "125  78   197      5.1 92   9      2 \n",
       "42   NA   259     10.9 93   6     11 \n",
       "126  73   183      2.8 93   9      3 \n",
       "127  91   189      4.6 93   9      4 \n",
       "121 118   225      2.3 94   8     29 \n",
       "123  85   188      6.3 94   8     31 \n",
       "122  84   237      6.3 96   8     30 \n",
       "120  76   203      9.7 97   8     28 "
      ]
     },
     "metadata": {},
     "output_type": "display_data"
    }
   ],
   "source": [
    "airquality[airquality_temp_order, ]"
   ]
  },
  {
   "cell_type": "code",
   "execution_count": 112,
   "id": "ad71d826",
   "metadata": {},
   "outputs": [
    {
     "data": {
      "text/html": [
       "<table class=\"dataframe\">\n",
       "<caption>A data.frame: 153 × 6</caption>\n",
       "<thead>\n",
       "\t<tr><th></th><th scope=col>Ozone</th><th scope=col>Solar.R</th><th scope=col>Wind</th><th scope=col>Temp</th><th scope=col>Month</th><th scope=col>Day</th></tr>\n",
       "\t<tr><th></th><th scope=col>&lt;int&gt;</th><th scope=col>&lt;int&gt;</th><th scope=col>&lt;dbl&gt;</th><th scope=col>&lt;int&gt;</th><th scope=col>&lt;int&gt;</th><th scope=col>&lt;int&gt;</th></tr>\n",
       "</thead>\n",
       "<tbody>\n",
       "\t<tr><th scope=row>5</th><td>NA</td><td> NA</td><td>14.3</td><td>56</td><td>5</td><td> 5</td></tr>\n",
       "\t<tr><th scope=row>25</th><td>NA</td><td> 66</td><td>16.6</td><td>57</td><td>5</td><td>25</td></tr>\n",
       "\t<tr><th scope=row>18</th><td> 6</td><td> 78</td><td>18.4</td><td>57</td><td>5</td><td>18</td></tr>\n",
       "\t<tr><th scope=row>27</th><td>NA</td><td> NA</td><td> 8.0</td><td>57</td><td>5</td><td>27</td></tr>\n",
       "\t<tr><th scope=row>15</th><td>18</td><td> 65</td><td>13.2</td><td>58</td><td>5</td><td>15</td></tr>\n",
       "\t<tr><th scope=row>26</th><td>NA</td><td>266</td><td>14.9</td><td>58</td><td>5</td><td>26</td></tr>\n",
       "\t<tr><th scope=row>21</th><td> 1</td><td>  8</td><td> 9.7</td><td>59</td><td>5</td><td>21</td></tr>\n",
       "\t<tr><th scope=row>8</th><td>19</td><td> 99</td><td>13.8</td><td>59</td><td>5</td><td> 8</td></tr>\n",
       "\t<tr><th scope=row>9</th><td> 8</td><td> 19</td><td>20.1</td><td>61</td><td>5</td><td> 9</td></tr>\n",
       "\t<tr><th scope=row>23</th><td> 4</td><td> 25</td><td> 9.7</td><td>61</td><td>5</td><td>23</td></tr>\n",
       "\t<tr><th scope=row>24</th><td>32</td><td> 92</td><td>12.0</td><td>61</td><td>5</td><td>24</td></tr>\n",
       "\t<tr><th scope=row>20</th><td>11</td><td> 44</td><td> 9.7</td><td>62</td><td>5</td><td>20</td></tr>\n",
       "\t<tr><th scope=row>4</th><td>18</td><td>313</td><td>11.5</td><td>62</td><td>5</td><td> 4</td></tr>\n",
       "\t<tr><th scope=row>148</th><td>14</td><td> 20</td><td>16.6</td><td>63</td><td>9</td><td>25</td></tr>\n",
       "\t<tr><th scope=row>144</th><td>13</td><td>238</td><td>12.6</td><td>64</td><td>9</td><td>21</td></tr>\n",
       "\t<tr><th scope=row>16</th><td>14</td><td>334</td><td>11.5</td><td>64</td><td>5</td><td>16</td></tr>\n",
       "\t<tr><th scope=row>49</th><td>20</td><td> 37</td><td> 9.2</td><td>65</td><td>6</td><td>18</td></tr>\n",
       "\t<tr><th scope=row>7</th><td>23</td><td>299</td><td> 8.6</td><td>65</td><td>5</td><td> 7</td></tr>\n",
       "\t<tr><th scope=row>13</th><td>11</td><td>290</td><td> 9.2</td><td>66</td><td>5</td><td>13</td></tr>\n",
       "\t<tr><th scope=row>17</th><td>34</td><td>307</td><td>12.0</td><td>66</td><td>5</td><td>17</td></tr>\n",
       "\t<tr><th scope=row>6</th><td>28</td><td> NA</td><td>14.9</td><td>66</td><td>5</td><td> 6</td></tr>\n",
       "\t<tr><th scope=row>28</th><td>23</td><td> 13</td><td>12.0</td><td>67</td><td>5</td><td>28</td></tr>\n",
       "\t<tr><th scope=row>1</th><td>41</td><td>190</td><td> 7.4</td><td>67</td><td>5</td><td> 1</td></tr>\n",
       "\t<tr><th scope=row>140</th><td>18</td><td>224</td><td>13.8</td><td>67</td><td>9</td><td>17</td></tr>\n",
       "\t<tr><th scope=row>34</th><td>NA</td><td>242</td><td>16.1</td><td>67</td><td>6</td><td> 3</td></tr>\n",
       "\t<tr><th scope=row>153</th><td>20</td><td>223</td><td>11.5</td><td>68</td><td>9</td><td>30</td></tr>\n",
       "\t<tr><th scope=row>142</th><td>24</td><td>238</td><td>10.3</td><td>68</td><td>9</td><td>19</td></tr>\n",
       "\t<tr><th scope=row>14</th><td>14</td><td>274</td><td>10.9</td><td>68</td><td>5</td><td>14</td></tr>\n",
       "\t<tr><th scope=row>19</th><td>30</td><td>322</td><td>11.5</td><td>68</td><td>5</td><td>19</td></tr>\n",
       "\t<tr><th scope=row>147</th><td> 7</td><td> 49</td><td>10.3</td><td>69</td><td>9</td><td>24</td></tr>\n",
       "\t<tr><th scope=row>⋮</th><td>⋮</td><td>⋮</td><td>⋮</td><td>⋮</td><td>⋮</td><td>⋮</td></tr>\n",
       "\t<tr><th scope=row>90</th><td> 50</td><td>275</td><td> 7.4</td><td>86</td><td>7</td><td>29</td></tr>\n",
       "\t<tr><th scope=row>85</th><td> 80</td><td>294</td><td> 8.6</td><td>86</td><td>7</td><td>24</td></tr>\n",
       "\t<tr><th scope=row>96</th><td> 78</td><td> NA</td><td> 6.9</td><td>86</td><td>8</td><td> 4</td></tr>\n",
       "\t<tr><th scope=row>128</th><td> 47</td><td> 95</td><td> 7.4</td><td>87</td><td>9</td><td> 5</td></tr>\n",
       "\t<tr><th scope=row>80</th><td> 79</td><td>187</td><td> 5.1</td><td>87</td><td>7</td><td>19</td></tr>\n",
       "\t<tr><th scope=row>39</th><td> NA</td><td>273</td><td> 6.9</td><td>87</td><td>6</td><td> 8</td></tr>\n",
       "\t<tr><th scope=row>41</th><td> 39</td><td>323</td><td>11.5</td><td>87</td><td>6</td><td>10</td></tr>\n",
       "\t<tr><th scope=row>98</th><td> 66</td><td> NA</td><td> 4.6</td><td>87</td><td>8</td><td> 6</td></tr>\n",
       "\t<tr><th scope=row>119</th><td> NA</td><td>153</td><td> 5.7</td><td>88</td><td>8</td><td>27</td></tr>\n",
       "\t<tr><th scope=row>89</th><td> 82</td><td>213</td><td> 7.4</td><td>88</td><td>7</td><td>28</td></tr>\n",
       "\t<tr><th scope=row>68</th><td> 77</td><td>276</td><td> 5.1</td><td>88</td><td>7</td><td> 7</td></tr>\n",
       "\t<tr><th scope=row>71</th><td> 85</td><td>175</td><td> 7.4</td><td>89</td><td>7</td><td>10</td></tr>\n",
       "\t<tr><th scope=row>99</th><td>122</td><td>255</td><td> 4.0</td><td>89</td><td>8</td><td> 7</td></tr>\n",
       "\t<tr><th scope=row>101</th><td>110</td><td>207</td><td> 8.0</td><td>90</td><td>8</td><td> 9</td></tr>\n",
       "\t<tr><th scope=row>100</th><td> 89</td><td>229</td><td>10.3</td><td>90</td><td>8</td><td> 8</td></tr>\n",
       "\t<tr><th scope=row>40</th><td> 71</td><td>291</td><td>13.8</td><td>90</td><td>6</td><td> 9</td></tr>\n",
       "\t<tr><th scope=row>124</th><td> 96</td><td>167</td><td> 6.9</td><td>91</td><td>9</td><td> 1</td></tr>\n",
       "\t<tr><th scope=row>75</th><td> NA</td><td>291</td><td>14.9</td><td>91</td><td>7</td><td>14</td></tr>\n",
       "\t<tr><th scope=row>125</th><td> 78</td><td>197</td><td> 5.1</td><td>92</td><td>9</td><td> 2</td></tr>\n",
       "\t<tr><th scope=row>102</th><td> NA</td><td>222</td><td> 8.6</td><td>92</td><td>8</td><td>10</td></tr>\n",
       "\t<tr><th scope=row>43</th><td> NA</td><td>250</td><td> 9.2</td><td>92</td><td>6</td><td>12</td></tr>\n",
       "\t<tr><th scope=row>69</th><td> 97</td><td>267</td><td> 6.3</td><td>92</td><td>7</td><td> 8</td></tr>\n",
       "\t<tr><th scope=row>70</th><td> 97</td><td>272</td><td> 5.7</td><td>92</td><td>7</td><td> 9</td></tr>\n",
       "\t<tr><th scope=row>126</th><td> 73</td><td>183</td><td> 2.8</td><td>93</td><td>9</td><td> 3</td></tr>\n",
       "\t<tr><th scope=row>127</th><td> 91</td><td>189</td><td> 4.6</td><td>93</td><td>9</td><td> 4</td></tr>\n",
       "\t<tr><th scope=row>42</th><td> NA</td><td>259</td><td>10.9</td><td>93</td><td>6</td><td>11</td></tr>\n",
       "\t<tr><th scope=row>123</th><td> 85</td><td>188</td><td> 6.3</td><td>94</td><td>8</td><td>31</td></tr>\n",
       "\t<tr><th scope=row>121</th><td>118</td><td>225</td><td> 2.3</td><td>94</td><td>8</td><td>29</td></tr>\n",
       "\t<tr><th scope=row>122</th><td> 84</td><td>237</td><td> 6.3</td><td>96</td><td>8</td><td>30</td></tr>\n",
       "\t<tr><th scope=row>120</th><td> 76</td><td>203</td><td> 9.7</td><td>97</td><td>8</td><td>28</td></tr>\n",
       "</tbody>\n",
       "</table>\n"
      ],
      "text/latex": [
       "A data.frame: 153 × 6\n",
       "\\begin{tabular}{r|llllll}\n",
       "  & Ozone & Solar.R & Wind & Temp & Month & Day\\\\\n",
       "  & <int> & <int> & <dbl> & <int> & <int> & <int>\\\\\n",
       "\\hline\n",
       "\t5 & NA &  NA & 14.3 & 56 & 5 &  5\\\\\n",
       "\t25 & NA &  66 & 16.6 & 57 & 5 & 25\\\\\n",
       "\t18 &  6 &  78 & 18.4 & 57 & 5 & 18\\\\\n",
       "\t27 & NA &  NA &  8.0 & 57 & 5 & 27\\\\\n",
       "\t15 & 18 &  65 & 13.2 & 58 & 5 & 15\\\\\n",
       "\t26 & NA & 266 & 14.9 & 58 & 5 & 26\\\\\n",
       "\t21 &  1 &   8 &  9.7 & 59 & 5 & 21\\\\\n",
       "\t8 & 19 &  99 & 13.8 & 59 & 5 &  8\\\\\n",
       "\t9 &  8 &  19 & 20.1 & 61 & 5 &  9\\\\\n",
       "\t23 &  4 &  25 &  9.7 & 61 & 5 & 23\\\\\n",
       "\t24 & 32 &  92 & 12.0 & 61 & 5 & 24\\\\\n",
       "\t20 & 11 &  44 &  9.7 & 62 & 5 & 20\\\\\n",
       "\t4 & 18 & 313 & 11.5 & 62 & 5 &  4\\\\\n",
       "\t148 & 14 &  20 & 16.6 & 63 & 9 & 25\\\\\n",
       "\t144 & 13 & 238 & 12.6 & 64 & 9 & 21\\\\\n",
       "\t16 & 14 & 334 & 11.5 & 64 & 5 & 16\\\\\n",
       "\t49 & 20 &  37 &  9.2 & 65 & 6 & 18\\\\\n",
       "\t7 & 23 & 299 &  8.6 & 65 & 5 &  7\\\\\n",
       "\t13 & 11 & 290 &  9.2 & 66 & 5 & 13\\\\\n",
       "\t17 & 34 & 307 & 12.0 & 66 & 5 & 17\\\\\n",
       "\t6 & 28 &  NA & 14.9 & 66 & 5 &  6\\\\\n",
       "\t28 & 23 &  13 & 12.0 & 67 & 5 & 28\\\\\n",
       "\t1 & 41 & 190 &  7.4 & 67 & 5 &  1\\\\\n",
       "\t140 & 18 & 224 & 13.8 & 67 & 9 & 17\\\\\n",
       "\t34 & NA & 242 & 16.1 & 67 & 6 &  3\\\\\n",
       "\t153 & 20 & 223 & 11.5 & 68 & 9 & 30\\\\\n",
       "\t142 & 24 & 238 & 10.3 & 68 & 9 & 19\\\\\n",
       "\t14 & 14 & 274 & 10.9 & 68 & 5 & 14\\\\\n",
       "\t19 & 30 & 322 & 11.5 & 68 & 5 & 19\\\\\n",
       "\t147 &  7 &  49 & 10.3 & 69 & 9 & 24\\\\\n",
       "\t⋮ & ⋮ & ⋮ & ⋮ & ⋮ & ⋮ & ⋮\\\\\n",
       "\t90 &  50 & 275 &  7.4 & 86 & 7 & 29\\\\\n",
       "\t85 &  80 & 294 &  8.6 & 86 & 7 & 24\\\\\n",
       "\t96 &  78 &  NA &  6.9 & 86 & 8 &  4\\\\\n",
       "\t128 &  47 &  95 &  7.4 & 87 & 9 &  5\\\\\n",
       "\t80 &  79 & 187 &  5.1 & 87 & 7 & 19\\\\\n",
       "\t39 &  NA & 273 &  6.9 & 87 & 6 &  8\\\\\n",
       "\t41 &  39 & 323 & 11.5 & 87 & 6 & 10\\\\\n",
       "\t98 &  66 &  NA &  4.6 & 87 & 8 &  6\\\\\n",
       "\t119 &  NA & 153 &  5.7 & 88 & 8 & 27\\\\\n",
       "\t89 &  82 & 213 &  7.4 & 88 & 7 & 28\\\\\n",
       "\t68 &  77 & 276 &  5.1 & 88 & 7 &  7\\\\\n",
       "\t71 &  85 & 175 &  7.4 & 89 & 7 & 10\\\\\n",
       "\t99 & 122 & 255 &  4.0 & 89 & 8 &  7\\\\\n",
       "\t101 & 110 & 207 &  8.0 & 90 & 8 &  9\\\\\n",
       "\t100 &  89 & 229 & 10.3 & 90 & 8 &  8\\\\\n",
       "\t40 &  71 & 291 & 13.8 & 90 & 6 &  9\\\\\n",
       "\t124 &  96 & 167 &  6.9 & 91 & 9 &  1\\\\\n",
       "\t75 &  NA & 291 & 14.9 & 91 & 7 & 14\\\\\n",
       "\t125 &  78 & 197 &  5.1 & 92 & 9 &  2\\\\\n",
       "\t102 &  NA & 222 &  8.6 & 92 & 8 & 10\\\\\n",
       "\t43 &  NA & 250 &  9.2 & 92 & 6 & 12\\\\\n",
       "\t69 &  97 & 267 &  6.3 & 92 & 7 &  8\\\\\n",
       "\t70 &  97 & 272 &  5.7 & 92 & 7 &  9\\\\\n",
       "\t126 &  73 & 183 &  2.8 & 93 & 9 &  3\\\\\n",
       "\t127 &  91 & 189 &  4.6 & 93 & 9 &  4\\\\\n",
       "\t42 &  NA & 259 & 10.9 & 93 & 6 & 11\\\\\n",
       "\t123 &  85 & 188 &  6.3 & 94 & 8 & 31\\\\\n",
       "\t121 & 118 & 225 &  2.3 & 94 & 8 & 29\\\\\n",
       "\t122 &  84 & 237 &  6.3 & 96 & 8 & 30\\\\\n",
       "\t120 &  76 & 203 &  9.7 & 97 & 8 & 28\\\\\n",
       "\\end{tabular}\n"
      ],
      "text/markdown": [
       "\n",
       "A data.frame: 153 × 6\n",
       "\n",
       "| <!--/--> | Ozone &lt;int&gt; | Solar.R &lt;int&gt; | Wind &lt;dbl&gt; | Temp &lt;int&gt; | Month &lt;int&gt; | Day &lt;int&gt; |\n",
       "|---|---|---|---|---|---|---|\n",
       "| 5 | NA |  NA | 14.3 | 56 | 5 |  5 |\n",
       "| 25 | NA |  66 | 16.6 | 57 | 5 | 25 |\n",
       "| 18 |  6 |  78 | 18.4 | 57 | 5 | 18 |\n",
       "| 27 | NA |  NA |  8.0 | 57 | 5 | 27 |\n",
       "| 15 | 18 |  65 | 13.2 | 58 | 5 | 15 |\n",
       "| 26 | NA | 266 | 14.9 | 58 | 5 | 26 |\n",
       "| 21 |  1 |   8 |  9.7 | 59 | 5 | 21 |\n",
       "| 8 | 19 |  99 | 13.8 | 59 | 5 |  8 |\n",
       "| 9 |  8 |  19 | 20.1 | 61 | 5 |  9 |\n",
       "| 23 |  4 |  25 |  9.7 | 61 | 5 | 23 |\n",
       "| 24 | 32 |  92 | 12.0 | 61 | 5 | 24 |\n",
       "| 20 | 11 |  44 |  9.7 | 62 | 5 | 20 |\n",
       "| 4 | 18 | 313 | 11.5 | 62 | 5 |  4 |\n",
       "| 148 | 14 |  20 | 16.6 | 63 | 9 | 25 |\n",
       "| 144 | 13 | 238 | 12.6 | 64 | 9 | 21 |\n",
       "| 16 | 14 | 334 | 11.5 | 64 | 5 | 16 |\n",
       "| 49 | 20 |  37 |  9.2 | 65 | 6 | 18 |\n",
       "| 7 | 23 | 299 |  8.6 | 65 | 5 |  7 |\n",
       "| 13 | 11 | 290 |  9.2 | 66 | 5 | 13 |\n",
       "| 17 | 34 | 307 | 12.0 | 66 | 5 | 17 |\n",
       "| 6 | 28 |  NA | 14.9 | 66 | 5 |  6 |\n",
       "| 28 | 23 |  13 | 12.0 | 67 | 5 | 28 |\n",
       "| 1 | 41 | 190 |  7.4 | 67 | 5 |  1 |\n",
       "| 140 | 18 | 224 | 13.8 | 67 | 9 | 17 |\n",
       "| 34 | NA | 242 | 16.1 | 67 | 6 |  3 |\n",
       "| 153 | 20 | 223 | 11.5 | 68 | 9 | 30 |\n",
       "| 142 | 24 | 238 | 10.3 | 68 | 9 | 19 |\n",
       "| 14 | 14 | 274 | 10.9 | 68 | 5 | 14 |\n",
       "| 19 | 30 | 322 | 11.5 | 68 | 5 | 19 |\n",
       "| 147 |  7 |  49 | 10.3 | 69 | 9 | 24 |\n",
       "| ⋮ | ⋮ | ⋮ | ⋮ | ⋮ | ⋮ | ⋮ |\n",
       "| 90 |  50 | 275 |  7.4 | 86 | 7 | 29 |\n",
       "| 85 |  80 | 294 |  8.6 | 86 | 7 | 24 |\n",
       "| 96 |  78 |  NA |  6.9 | 86 | 8 |  4 |\n",
       "| 128 |  47 |  95 |  7.4 | 87 | 9 |  5 |\n",
       "| 80 |  79 | 187 |  5.1 | 87 | 7 | 19 |\n",
       "| 39 |  NA | 273 |  6.9 | 87 | 6 |  8 |\n",
       "| 41 |  39 | 323 | 11.5 | 87 | 6 | 10 |\n",
       "| 98 |  66 |  NA |  4.6 | 87 | 8 |  6 |\n",
       "| 119 |  NA | 153 |  5.7 | 88 | 8 | 27 |\n",
       "| 89 |  82 | 213 |  7.4 | 88 | 7 | 28 |\n",
       "| 68 |  77 | 276 |  5.1 | 88 | 7 |  7 |\n",
       "| 71 |  85 | 175 |  7.4 | 89 | 7 | 10 |\n",
       "| 99 | 122 | 255 |  4.0 | 89 | 8 |  7 |\n",
       "| 101 | 110 | 207 |  8.0 | 90 | 8 |  9 |\n",
       "| 100 |  89 | 229 | 10.3 | 90 | 8 |  8 |\n",
       "| 40 |  71 | 291 | 13.8 | 90 | 6 |  9 |\n",
       "| 124 |  96 | 167 |  6.9 | 91 | 9 |  1 |\n",
       "| 75 |  NA | 291 | 14.9 | 91 | 7 | 14 |\n",
       "| 125 |  78 | 197 |  5.1 | 92 | 9 |  2 |\n",
       "| 102 |  NA | 222 |  8.6 | 92 | 8 | 10 |\n",
       "| 43 |  NA | 250 |  9.2 | 92 | 6 | 12 |\n",
       "| 69 |  97 | 267 |  6.3 | 92 | 7 |  8 |\n",
       "| 70 |  97 | 272 |  5.7 | 92 | 7 |  9 |\n",
       "| 126 |  73 | 183 |  2.8 | 93 | 9 |  3 |\n",
       "| 127 |  91 | 189 |  4.6 | 93 | 9 |  4 |\n",
       "| 42 |  NA | 259 | 10.9 | 93 | 6 | 11 |\n",
       "| 123 |  85 | 188 |  6.3 | 94 | 8 | 31 |\n",
       "| 121 | 118 | 225 |  2.3 | 94 | 8 | 29 |\n",
       "| 122 |  84 | 237 |  6.3 | 96 | 8 | 30 |\n",
       "| 120 |  76 | 203 |  9.7 | 97 | 8 | 28 |\n",
       "\n"
      ],
      "text/plain": [
       "    Ozone Solar.R Wind Temp Month Day\n",
       "5   NA     NA     14.3 56   5      5 \n",
       "25  NA     66     16.6 57   5     25 \n",
       "18   6     78     18.4 57   5     18 \n",
       "27  NA     NA      8.0 57   5     27 \n",
       "15  18     65     13.2 58   5     15 \n",
       "26  NA    266     14.9 58   5     26 \n",
       "21   1      8      9.7 59   5     21 \n",
       "8   19     99     13.8 59   5      8 \n",
       "9    8     19     20.1 61   5      9 \n",
       "23   4     25      9.7 61   5     23 \n",
       "24  32     92     12.0 61   5     24 \n",
       "20  11     44      9.7 62   5     20 \n",
       "4   18    313     11.5 62   5      4 \n",
       "148 14     20     16.6 63   9     25 \n",
       "144 13    238     12.6 64   9     21 \n",
       "16  14    334     11.5 64   5     16 \n",
       "49  20     37      9.2 65   6     18 \n",
       "7   23    299      8.6 65   5      7 \n",
       "13  11    290      9.2 66   5     13 \n",
       "17  34    307     12.0 66   5     17 \n",
       "6   28     NA     14.9 66   5      6 \n",
       "28  23     13     12.0 67   5     28 \n",
       "1   41    190      7.4 67   5      1 \n",
       "140 18    224     13.8 67   9     17 \n",
       "34  NA    242     16.1 67   6      3 \n",
       "153 20    223     11.5 68   9     30 \n",
       "142 24    238     10.3 68   9     19 \n",
       "14  14    274     10.9 68   5     14 \n",
       "19  30    322     11.5 68   5     19 \n",
       "147  7     49     10.3 69   9     24 \n",
       "⋮   ⋮     ⋮       ⋮    ⋮    ⋮     ⋮  \n",
       "90   50   275      7.4 86   7     29 \n",
       "85   80   294      8.6 86   7     24 \n",
       "96   78    NA      6.9 86   8      4 \n",
       "128  47    95      7.4 87   9      5 \n",
       "80   79   187      5.1 87   7     19 \n",
       "39   NA   273      6.9 87   6      8 \n",
       "41   39   323     11.5 87   6     10 \n",
       "98   66    NA      4.6 87   8      6 \n",
       "119  NA   153      5.7 88   8     27 \n",
       "89   82   213      7.4 88   7     28 \n",
       "68   77   276      5.1 88   7      7 \n",
       "71   85   175      7.4 89   7     10 \n",
       "99  122   255      4.0 89   8      7 \n",
       "101 110   207      8.0 90   8      9 \n",
       "100  89   229     10.3 90   8      8 \n",
       "40   71   291     13.8 90   6      9 \n",
       "124  96   167      6.9 91   9      1 \n",
       "75   NA   291     14.9 91   7     14 \n",
       "125  78   197      5.1 92   9      2 \n",
       "102  NA   222      8.6 92   8     10 \n",
       "43   NA   250      9.2 92   6     12 \n",
       "69   97   267      6.3 92   7      8 \n",
       "70   97   272      5.7 92   7      9 \n",
       "126  73   183      2.8 93   9      3 \n",
       "127  91   189      4.6 93   9      4 \n",
       "42   NA   259     10.9 93   6     11 \n",
       "123  85   188      6.3 94   8     31 \n",
       "121 118   225      2.3 94   8     29 \n",
       "122  84   237      6.3 96   8     30 \n",
       "120  76   203      9.7 97   8     28 "
      ]
     },
     "metadata": {},
     "output_type": "display_data"
    }
   ],
   "source": [
    "airquality_temp_solarR_order = order(airquality$Temp, airquality$Solar.R)\n",
    "airquality[airquality_temp_solarR_order, ]"
   ]
  },
  {
   "cell_type": "markdown",
   "id": "64d8b400",
   "metadata": {},
   "source": [
    "## Lists \n",
    "\n",
    "* Lists are data structures used when you need to store collections of items that differ in length\n",
    "\n",
    "    * Cannot use `df` since those need columns to be of the same length\n",
    "    * Cannot use `matrix` since the columns need to be numeric, character or logical values \n",
    "\n",
    "* You can thin of a list as a way to group a \"bunch\" of other objects\n",
    "  * Lists can include matrices, vectors, data frames, or even other lists,\n",
    "  * The objects are conceptually related \n",
    "    * You determine whether grouping the objects makes sense\n",
    "\n",
    "\n",
    "* Use `list()` to group the objects"
   ]
  },
  {
   "cell_type": "code",
   "execution_count": 114,
   "id": "ac14fb17",
   "metadata": {},
   "outputs": [
    {
     "name": "stdout",
     "output_type": "stream",
     "text": [
      "  first_names last_names\n",
      "1        John      Smith\n",
      "2        Jane        Doe\n"
     ]
    }
   ],
   "source": [
    "a_vector = c(1, 2, 3, 4, 5, 6)\n",
    "a_matrix = matrix(c(1,2,3,4), nrow=2, byrow = TRUE)\n",
    "\n",
    "first_names <- c(\"John\", \"Jane\")\n",
    "last_names <- c(\"Smith\", \"Doe\")\n",
    "a_df <- data.frame(first_names, last_names)\n",
    "print(a_df)"
   ]
  },
  {
   "cell_type": "code",
   "execution_count": 115,
   "id": "9fb23f43",
   "metadata": {},
   "outputs": [
    {
     "name": "stdout",
     "output_type": "stream",
     "text": [
      "[[1]]\n",
      "[1] 1 2 3 4 5 6\n",
      "\n",
      "[[2]]\n",
      "     [,1] [,2]\n",
      "[1,]    1    2\n",
      "[2,]    3    4\n",
      "\n",
      "[[3]]\n",
      "  first_names last_names\n",
      "1        John      Smith\n",
      "2        Jane        Doe\n",
      "\n"
     ]
    }
   ],
   "source": [
    "my_list <- list(a_vector, a_matrix, a_df)\n",
    "print(my_list)"
   ]
  },
  {
   "cell_type": "code",
   "execution_count": 116,
   "id": "672bbb40",
   "metadata": {},
   "outputs": [
    {
     "name": "stdout",
     "output_type": "stream",
     "text": [
      "[1] 1 2 3 4 5 6\n"
     ]
    }
   ],
   "source": [
    "print(my_list[[1]])"
   ]
  },
  {
   "cell_type": "code",
   "execution_count": 117,
   "id": "72f8839c",
   "metadata": {},
   "outputs": [
    {
     "name": "stdout",
     "output_type": "stream",
     "text": [
      "     [,1] [,2]\n",
      "[1,]    1    2\n",
      "[2,]    3    4\n"
     ]
    }
   ],
   "source": [
    "print(my_list[[2]])"
   ]
  },
  {
   "cell_type": "code",
   "execution_count": 118,
   "id": "1bf2613b",
   "metadata": {},
   "outputs": [
    {
     "name": "stdout",
     "output_type": "stream",
     "text": [
      "  first_names last_names\n",
      "1        John      Smith\n",
      "2        Jane        Doe\n"
     ]
    }
   ],
   "source": [
    "print(my_list[[3]])"
   ]
  },
  {
   "cell_type": "markdown",
   "id": "f2ee8170",
   "metadata": {},
   "source": [
    "## Lists\n",
    "\n",
    "* Common to assign names to objects included in the list\n",
    "    * Allows us to refer to the object by name instead of using `[[i]]`\n",
    "    * Can add the name at `instantiation` or using the `names()` function\n",
    "* Once indexed and retrieved, objects can be used the same way as how we used them before\n",
    "    "
   ]
  },
  {
   "cell_type": "code",
   "execution_count": 122,
   "id": "024a21ec",
   "metadata": {},
   "outputs": [
    {
     "name": "stdout",
     "output_type": "stream",
     "text": [
      "$my_vector\n",
      "[1] 1 2 3 4 5 6\n",
      "\n",
      "$my_matrix\n",
      "     [,1] [,2]\n",
      "[1,]    1    2\n",
      "[2,]    3    4\n",
      "\n",
      "$my_df\n",
      "  first_names last_names\n",
      "1        John      Smith\n",
      "2        Jane        Doe\n",
      "\n"
     ]
    }
   ],
   "source": [
    "my_list <- list(\"my_vector\" = a_vector, \"my_matrix\" = a_matrix, \"my_df\" = a_df)\n",
    "print(my_list)"
   ]
  },
  {
   "cell_type": "code",
   "execution_count": 77,
   "id": "101f57c3",
   "metadata": {},
   "outputs": [
    {
     "data": {
      "text/html": [
       "<style>\n",
       ".list-inline {list-style: none; margin:0; padding: 0}\n",
       ".list-inline>li {display: inline-block}\n",
       ".list-inline>li:not(:last-child)::after {content: \"\\00b7\"; padding: 0 .5ex}\n",
       "</style>\n",
       "<ol class=list-inline><li>1</li><li>2</li><li>3</li><li>4</li><li>5</li><li>6</li></ol>\n"
      ],
      "text/latex": [
       "\\begin{enumerate*}\n",
       "\\item 1\n",
       "\\item 2\n",
       "\\item 3\n",
       "\\item 4\n",
       "\\item 5\n",
       "\\item 6\n",
       "\\end{enumerate*}\n"
      ],
      "text/markdown": [
       "1. 1\n",
       "2. 2\n",
       "3. 3\n",
       "4. 4\n",
       "5. 5\n",
       "6. 6\n",
       "\n",
       "\n"
      ],
      "text/plain": [
       "[1] 1 2 3 4 5 6"
      ]
     },
     "metadata": {},
     "output_type": "display_data"
    }
   ],
   "source": [
    "my_list$my_vector"
   ]
  },
  {
   "cell_type": "code",
   "execution_count": 123,
   "id": "dfb39797",
   "metadata": {},
   "outputs": [
    {
     "data": {
      "text/html": [
       "<table class=\"dataframe\">\n",
       "<caption>A matrix: 2 × 2 of type dbl</caption>\n",
       "<tbody>\n",
       "\t<tr><td>1</td><td>2</td></tr>\n",
       "\t<tr><td>3</td><td>4</td></tr>\n",
       "</tbody>\n",
       "</table>\n"
      ],
      "text/latex": [
       "A matrix: 2 × 2 of type dbl\n",
       "\\begin{tabular}{ll}\n",
       "\t 1 & 2\\\\\n",
       "\t 3 & 4\\\\\n",
       "\\end{tabular}\n"
      ],
      "text/markdown": [
       "\n",
       "A matrix: 2 × 2 of type dbl\n",
       "\n",
       "| 1 | 2 |\n",
       "| 3 | 4 |\n",
       "\n"
      ],
      "text/plain": [
       "     [,1] [,2]\n",
       "[1,] 1    2   \n",
       "[2,] 3    4   "
      ]
     },
     "metadata": {},
     "output_type": "display_data"
    }
   ],
   "source": [
    "my_list$my_matrix"
   ]
  },
  {
   "cell_type": "code",
   "execution_count": 124,
   "id": "64c61ad6",
   "metadata": {},
   "outputs": [
    {
     "data": {
      "text/html": [
       "<table class=\"dataframe\">\n",
       "<caption>A data.frame: 2 × 2</caption>\n",
       "<thead>\n",
       "\t<tr><th scope=col>first_names</th><th scope=col>last_names</th></tr>\n",
       "\t<tr><th scope=col>&lt;chr&gt;</th><th scope=col>&lt;chr&gt;</th></tr>\n",
       "</thead>\n",
       "<tbody>\n",
       "\t<tr><td>John</td><td>Smith</td></tr>\n",
       "\t<tr><td>Jane</td><td>Doe  </td></tr>\n",
       "</tbody>\n",
       "</table>\n"
      ],
      "text/latex": [
       "A data.frame: 2 × 2\n",
       "\\begin{tabular}{ll}\n",
       " first\\_names & last\\_names\\\\\n",
       " <chr> & <chr>\\\\\n",
       "\\hline\n",
       "\t John & Smith\\\\\n",
       "\t Jane & Doe  \\\\\n",
       "\\end{tabular}\n"
      ],
      "text/markdown": [
       "\n",
       "A data.frame: 2 × 2\n",
       "\n",
       "| first_names &lt;chr&gt; | last_names &lt;chr&gt; |\n",
       "|---|---|\n",
       "| John | Smith |\n",
       "| Jane | Doe   |\n",
       "\n"
      ],
      "text/plain": [
       "  first_names last_names\n",
       "1 John        Smith     \n",
       "2 Jane        Doe       "
      ]
     },
     "metadata": {},
     "output_type": "display_data"
    }
   ],
   "source": [
    "my_list$my_df"
   ]
  },
  {
   "cell_type": "code",
   "execution_count": 122,
   "id": "da13aa99",
   "metadata": {},
   "outputs": [
    {
     "name": "stdout",
     "output_type": "stream",
     "text": [
      "$my_vector\n",
      "[1] 1 2 3 4 5 6\n",
      "\n",
      "$my_matrix\n",
      "     [,1] [,2]\n",
      "[1,]    1    2\n",
      "[2,]    3    4\n",
      "\n",
      "$my_df\n",
      "  first_names last_names\n",
      "1        John      Smith\n",
      "2        Jane        Doe\n",
      "\n"
     ]
    }
   ],
   "source": [
    "# Works without double quoting the names.\n",
    "my_list <- list(my_vector = a_vector, my_matrix = a_matrix, my_df = a_df)\n",
    "print(my_list)"
   ]
  },
  {
   "cell_type": "code",
   "execution_count": 129,
   "id": "2d2ef312",
   "metadata": {},
   "outputs": [
    {
     "name": "stdout",
     "output_type": "stream",
     "text": [
      "$A\n",
      "[1] 1 2 3 4 5 6\n",
      "\n",
      "$B\n",
      "     [,1] [,2]\n",
      "[1,]    1    2\n",
      "[2,]    3    4\n",
      "\n",
      "$C\n",
      "  first_names last_names\n",
      "1        John      Smith\n",
      "2        Jane        Doe\n",
      "\n"
     ]
    }
   ],
   "source": [
    "# can also assign names to the objects post creation\n",
    "\n",
    "names(my_list) = c(\"A\", \"B\", \"C\")\n",
    "print(my_list)"
   ]
  },
  {
   "cell_type": "code",
   "execution_count": 133,
   "id": "0aa4d290",
   "metadata": {},
   "outputs": [
    {
     "name": "stdout",
     "output_type": "stream",
     "text": [
      "[1] 1 2 3 4 5 6\n"
     ]
    }
   ],
   "source": [
    "print(my_list$A)"
   ]
  },
  {
   "cell_type": "code",
   "execution_count": 132,
   "id": "8e6eda58",
   "metadata": {},
   "outputs": [
    {
     "name": "stdout",
     "output_type": "stream",
     "text": [
      "  first_names last_names\n",
      "1        John      Smith\n",
      "2        Jane        Doe\n"
     ]
    }
   ],
   "source": [
    "print(my_list$C)"
   ]
  },
  {
   "cell_type": "markdown",
   "id": "ec820fdb",
   "metadata": {},
   "source": [
    "### Review\n",
    "\n",
    "* Vectors can hold numeric, character or logical values. \n",
    "    * values are either numeric, character or logical values \n",
    "    * The elements in a vector all have the same data type.\n",
    "    *  Indexed using `[position(s)]`"
   ]
  },
  {
   "cell_type": "markdown",
   "id": "635e2853",
   "metadata": {},
   "source": [
    "### Review - Cont'd\n",
    "\n",
    "* Matrices (two dimensional array)\n",
    "    * All the cells are either numeric, character or logical values \n",
    "    * The elements in a matrix all have the same data type.\n",
    "    * Indexing using `[<row(s)>, col(s)]`"
   ]
  },
  {
   "cell_type": "markdown",
   "id": "480f84da",
   "metadata": {},
   "source": [
    "### Review - Cont'd\n",
    "\n",
    "* Data frames: the Excel-sheet equivalent in `R`\n",
    "    * A column contains either numeric, character or logical values \n",
    "    * All elements of a column are of the same data type\n",
    "    * Different columns can have different data types\n",
    "    * Indexing using `[<row(s)>, col(s)]`\n"
   ]
  },
  {
   "cell_type": "markdown",
   "id": "87d44352",
   "metadata": {},
   "source": [
    "### Practical Session "
   ]
  },
  {
   "cell_type": "markdown",
   "id": "1b89533c",
   "metadata": {},
   "source": [
    "\n",
    "`matrix(c(1,2,3,4,5,6) , nrow = 3)`\n",
    "\n",
    "* Running the expression produces the following matrix\n",
    "\n",
    "|  |  |\n",
    "|---|---|\n",
    "| 1 | 4 |\n",
    "| 2 | 5 |\n",
    "| 3 | 6 |\n",
    "\n",
    "* How can you modify the call to `matrix()` to produce the following matrix instead?\n",
    "\n",
    "|   | col_1 |  col_2 |\n",
    "| --- |---|---|\n",
    "| row_1 | 1 | 2 |\n",
    "| row_2 | 3 | 4 |\n",
    "| row_3 | 5 | 6 |\n",
    "\n",
    "* Note that you need to name the columns (col_1 and col_2) and name the rows (row_1, row_2, row_3)\n",
    "\n",
    "Hint: Use the `?` symbol to invoke the matrix documentation"
   ]
  },
  {
   "cell_type": "code",
   "execution_count": 137,
   "id": "a96118ea",
   "metadata": {},
   "outputs": [],
   "source": [
    "?matrix"
   ]
  },
  {
   "cell_type": "code",
   "execution_count": 141,
   "id": "0efbb008",
   "metadata": {},
   "outputs": [
    {
     "data": {
      "text/html": [
       "<table class=\"dataframe\">\n",
       "<caption>A matrix: 3 × 2 of type dbl</caption>\n",
       "<thead>\n",
       "\t<tr><th></th><th scope=col>col_1</th><th scope=col>col_2</th></tr>\n",
       "</thead>\n",
       "<tbody>\n",
       "\t<tr><th scope=row>row_1</th><td>1</td><td>2</td></tr>\n",
       "\t<tr><th scope=row>row_1</th><td>3</td><td>4</td></tr>\n",
       "\t<tr><th scope=row>row_3</th><td>5</td><td>6</td></tr>\n",
       "</tbody>\n",
       "</table>\n"
      ],
      "text/latex": [
       "A matrix: 3 × 2 of type dbl\n",
       "\\begin{tabular}{r|ll}\n",
       "  & col\\_1 & col\\_2\\\\\n",
       "\\hline\n",
       "\trow\\_1 & 1 & 2\\\\\n",
       "\trow\\_1 & 3 & 4\\\\\n",
       "\trow\\_3 & 5 & 6\\\\\n",
       "\\end{tabular}\n"
      ],
      "text/markdown": [
       "\n",
       "A matrix: 3 × 2 of type dbl\n",
       "\n",
       "| <!--/--> | col_1 | col_2 |\n",
       "|---|---|---|\n",
       "| row_1 | 1 | 2 |\n",
       "| row_1 | 3 | 4 |\n",
       "| row_3 | 5 | 6 |\n",
       "\n"
      ],
      "text/plain": [
       "      col_1 col_2\n",
       "row_1 1     2    \n",
       "row_1 3     4    \n",
       "row_3 5     6    "
      ]
     },
     "metadata": {},
     "output_type": "display_data"
    }
   ],
   "source": [
    "x = matrix(c(1,2,3,4,5,6) , \n",
    "           byrow = TRUE, \n",
    "           nrow = 3, \n",
    "           dimnames=list(c(\"row_1\", \"row_1\", \"row_3\"), c(\"col_1\", \"col_2\")))\n",
    "# I asked that we modify the call to matrix, so while the following will work,\n",
    "# it is not in the call to matrix\n",
    "# colnames(x) <- c(\"col_1\", \"col_2\")\n",
    "# rownames(x) <- c(\"row_1\", \"row_1\", \"row_3\")\n",
    "x"
   ]
  },
  {
   "cell_type": "markdown",
   "id": "ba4962d3",
   "metadata": {},
   "source": [
    "* Sort the airquality data frame on its Temp and Solar.R columns in reverse order (largest to smallest values)\n",
    "* Display only the first 15 lines of your table"
   ]
  },
  {
   "cell_type": "code",
   "execution_count": 145,
   "id": "8494ceb9",
   "metadata": {},
   "outputs": [
    {
     "data": {
      "text/html": [
       "<table class=\"dataframe\">\n",
       "<caption>A data.frame: 15 × 6</caption>\n",
       "<thead>\n",
       "\t<tr><th></th><th scope=col>Ozone</th><th scope=col>Solar.R</th><th scope=col>Wind</th><th scope=col>Temp</th><th scope=col>Month</th><th scope=col>Day</th></tr>\n",
       "\t<tr><th></th><th scope=col>&lt;int&gt;</th><th scope=col>&lt;int&gt;</th><th scope=col>&lt;dbl&gt;</th><th scope=col>&lt;int&gt;</th><th scope=col>&lt;int&gt;</th><th scope=col>&lt;int&gt;</th></tr>\n",
       "</thead>\n",
       "<tbody>\n",
       "\t<tr><th scope=row>120</th><td> 76</td><td>203</td><td> 9.7</td><td>97</td><td>8</td><td>28</td></tr>\n",
       "\t<tr><th scope=row>122</th><td> 84</td><td>237</td><td> 6.3</td><td>96</td><td>8</td><td>30</td></tr>\n",
       "\t<tr><th scope=row>121</th><td>118</td><td>225</td><td> 2.3</td><td>94</td><td>8</td><td>29</td></tr>\n",
       "\t<tr><th scope=row>123</th><td> 85</td><td>188</td><td> 6.3</td><td>94</td><td>8</td><td>31</td></tr>\n",
       "\t<tr><th scope=row>42</th><td> NA</td><td>259</td><td>10.9</td><td>93</td><td>6</td><td>11</td></tr>\n",
       "\t<tr><th scope=row>127</th><td> 91</td><td>189</td><td> 4.6</td><td>93</td><td>9</td><td> 4</td></tr>\n",
       "\t<tr><th scope=row>126</th><td> 73</td><td>183</td><td> 2.8</td><td>93</td><td>9</td><td> 3</td></tr>\n",
       "\t<tr><th scope=row>70</th><td> 97</td><td>272</td><td> 5.7</td><td>92</td><td>7</td><td> 9</td></tr>\n",
       "\t<tr><th scope=row>69</th><td> 97</td><td>267</td><td> 6.3</td><td>92</td><td>7</td><td> 8</td></tr>\n",
       "\t<tr><th scope=row>43</th><td> NA</td><td>250</td><td> 9.2</td><td>92</td><td>6</td><td>12</td></tr>\n",
       "\t<tr><th scope=row>102</th><td> NA</td><td>222</td><td> 8.6</td><td>92</td><td>8</td><td>10</td></tr>\n",
       "\t<tr><th scope=row>125</th><td> 78</td><td>197</td><td> 5.1</td><td>92</td><td>9</td><td> 2</td></tr>\n",
       "\t<tr><th scope=row>75</th><td> NA</td><td>291</td><td>14.9</td><td>91</td><td>7</td><td>14</td></tr>\n",
       "\t<tr><th scope=row>124</th><td> 96</td><td>167</td><td> 6.9</td><td>91</td><td>9</td><td> 1</td></tr>\n",
       "\t<tr><th scope=row>40</th><td> 71</td><td>291</td><td>13.8</td><td>90</td><td>6</td><td> 9</td></tr>\n",
       "</tbody>\n",
       "</table>\n"
      ],
      "text/latex": [
       "A data.frame: 15 × 6\n",
       "\\begin{tabular}{r|llllll}\n",
       "  & Ozone & Solar.R & Wind & Temp & Month & Day\\\\\n",
       "  & <int> & <int> & <dbl> & <int> & <int> & <int>\\\\\n",
       "\\hline\n",
       "\t120 &  76 & 203 &  9.7 & 97 & 8 & 28\\\\\n",
       "\t122 &  84 & 237 &  6.3 & 96 & 8 & 30\\\\\n",
       "\t121 & 118 & 225 &  2.3 & 94 & 8 & 29\\\\\n",
       "\t123 &  85 & 188 &  6.3 & 94 & 8 & 31\\\\\n",
       "\t42 &  NA & 259 & 10.9 & 93 & 6 & 11\\\\\n",
       "\t127 &  91 & 189 &  4.6 & 93 & 9 &  4\\\\\n",
       "\t126 &  73 & 183 &  2.8 & 93 & 9 &  3\\\\\n",
       "\t70 &  97 & 272 &  5.7 & 92 & 7 &  9\\\\\n",
       "\t69 &  97 & 267 &  6.3 & 92 & 7 &  8\\\\\n",
       "\t43 &  NA & 250 &  9.2 & 92 & 6 & 12\\\\\n",
       "\t102 &  NA & 222 &  8.6 & 92 & 8 & 10\\\\\n",
       "\t125 &  78 & 197 &  5.1 & 92 & 9 &  2\\\\\n",
       "\t75 &  NA & 291 & 14.9 & 91 & 7 & 14\\\\\n",
       "\t124 &  96 & 167 &  6.9 & 91 & 9 &  1\\\\\n",
       "\t40 &  71 & 291 & 13.8 & 90 & 6 &  9\\\\\n",
       "\\end{tabular}\n"
      ],
      "text/markdown": [
       "\n",
       "A data.frame: 15 × 6\n",
       "\n",
       "| <!--/--> | Ozone &lt;int&gt; | Solar.R &lt;int&gt; | Wind &lt;dbl&gt; | Temp &lt;int&gt; | Month &lt;int&gt; | Day &lt;int&gt; |\n",
       "|---|---|---|---|---|---|---|\n",
       "| 120 |  76 | 203 |  9.7 | 97 | 8 | 28 |\n",
       "| 122 |  84 | 237 |  6.3 | 96 | 8 | 30 |\n",
       "| 121 | 118 | 225 |  2.3 | 94 | 8 | 29 |\n",
       "| 123 |  85 | 188 |  6.3 | 94 | 8 | 31 |\n",
       "| 42 |  NA | 259 | 10.9 | 93 | 6 | 11 |\n",
       "| 127 |  91 | 189 |  4.6 | 93 | 9 |  4 |\n",
       "| 126 |  73 | 183 |  2.8 | 93 | 9 |  3 |\n",
       "| 70 |  97 | 272 |  5.7 | 92 | 7 |  9 |\n",
       "| 69 |  97 | 267 |  6.3 | 92 | 7 |  8 |\n",
       "| 43 |  NA | 250 |  9.2 | 92 | 6 | 12 |\n",
       "| 102 |  NA | 222 |  8.6 | 92 | 8 | 10 |\n",
       "| 125 |  78 | 197 |  5.1 | 92 | 9 |  2 |\n",
       "| 75 |  NA | 291 | 14.9 | 91 | 7 | 14 |\n",
       "| 124 |  96 | 167 |  6.9 | 91 | 9 |  1 |\n",
       "| 40 |  71 | 291 | 13.8 | 90 | 6 |  9 |\n",
       "\n"
      ],
      "text/plain": [
       "    Ozone Solar.R Wind Temp Month Day\n",
       "120  76   203      9.7 97   8     28 \n",
       "122  84   237      6.3 96   8     30 \n",
       "121 118   225      2.3 94   8     29 \n",
       "123  85   188      6.3 94   8     31 \n",
       "42   NA   259     10.9 93   6     11 \n",
       "127  91   189      4.6 93   9      4 \n",
       "126  73   183      2.8 93   9      3 \n",
       "70   97   272      5.7 92   7      9 \n",
       "69   97   267      6.3 92   7      8 \n",
       "43   NA   250      9.2 92   6     12 \n",
       "102  NA   222      8.6 92   8     10 \n",
       "125  78   197      5.1 92   9      2 \n",
       "75   NA   291     14.9 91   7     14 \n",
       "124  96   167      6.9 91   9      1 \n",
       "40   71   291     13.8 90   6      9 "
      ]
     },
     "metadata": {},
     "output_type": "display_data"
    }
   ],
   "source": [
    "airquality_temp_solarR_order = order(airquality$Temp, airquality$Solar.R, decreasing = TRUE)\n",
    "head(airquality[airquality_temp_solarR_order, ], n=15)"
   ]
  },
  {
   "cell_type": "code",
   "execution_count": null,
   "id": "bcf6a25d",
   "metadata": {},
   "outputs": [],
   "source": [
    "* Sort the airquality data frame on its Temp in decreasing order and Solar.R columns in increasing order\n",
    "* Display only the first 15 lines of your table"
   ]
  },
  {
   "cell_type": "code",
   "execution_count": 146,
   "id": "37d96a51",
   "metadata": {},
   "outputs": [
    {
     "data": {
      "text/html": [
       "<table class=\"dataframe\">\n",
       "<caption>A data.frame: 15 × 6</caption>\n",
       "<thead>\n",
       "\t<tr><th></th><th scope=col>Ozone</th><th scope=col>Solar.R</th><th scope=col>Wind</th><th scope=col>Temp</th><th scope=col>Month</th><th scope=col>Day</th></tr>\n",
       "\t<tr><th></th><th scope=col>&lt;int&gt;</th><th scope=col>&lt;int&gt;</th><th scope=col>&lt;dbl&gt;</th><th scope=col>&lt;int&gt;</th><th scope=col>&lt;int&gt;</th><th scope=col>&lt;int&gt;</th></tr>\n",
       "</thead>\n",
       "<tbody>\n",
       "\t<tr><th scope=row>120</th><td> 76</td><td>203</td><td> 9.7</td><td>97</td><td>8</td><td>28</td></tr>\n",
       "\t<tr><th scope=row>122</th><td> 84</td><td>237</td><td> 6.3</td><td>96</td><td>8</td><td>30</td></tr>\n",
       "\t<tr><th scope=row>123</th><td> 85</td><td>188</td><td> 6.3</td><td>94</td><td>8</td><td>31</td></tr>\n",
       "\t<tr><th scope=row>121</th><td>118</td><td>225</td><td> 2.3</td><td>94</td><td>8</td><td>29</td></tr>\n",
       "\t<tr><th scope=row>126</th><td> 73</td><td>183</td><td> 2.8</td><td>93</td><td>9</td><td> 3</td></tr>\n",
       "\t<tr><th scope=row>127</th><td> 91</td><td>189</td><td> 4.6</td><td>93</td><td>9</td><td> 4</td></tr>\n",
       "\t<tr><th scope=row>42</th><td> NA</td><td>259</td><td>10.9</td><td>93</td><td>6</td><td>11</td></tr>\n",
       "\t<tr><th scope=row>125</th><td> 78</td><td>197</td><td> 5.1</td><td>92</td><td>9</td><td> 2</td></tr>\n",
       "\t<tr><th scope=row>102</th><td> NA</td><td>222</td><td> 8.6</td><td>92</td><td>8</td><td>10</td></tr>\n",
       "\t<tr><th scope=row>43</th><td> NA</td><td>250</td><td> 9.2</td><td>92</td><td>6</td><td>12</td></tr>\n",
       "\t<tr><th scope=row>69</th><td> 97</td><td>267</td><td> 6.3</td><td>92</td><td>7</td><td> 8</td></tr>\n",
       "\t<tr><th scope=row>70</th><td> 97</td><td>272</td><td> 5.7</td><td>92</td><td>7</td><td> 9</td></tr>\n",
       "\t<tr><th scope=row>124</th><td> 96</td><td>167</td><td> 6.9</td><td>91</td><td>9</td><td> 1</td></tr>\n",
       "\t<tr><th scope=row>75</th><td> NA</td><td>291</td><td>14.9</td><td>91</td><td>7</td><td>14</td></tr>\n",
       "\t<tr><th scope=row>101</th><td>110</td><td>207</td><td> 8.0</td><td>90</td><td>8</td><td> 9</td></tr>\n",
       "</tbody>\n",
       "</table>\n"
      ],
      "text/latex": [
       "A data.frame: 15 × 6\n",
       "\\begin{tabular}{r|llllll}\n",
       "  & Ozone & Solar.R & Wind & Temp & Month & Day\\\\\n",
       "  & <int> & <int> & <dbl> & <int> & <int> & <int>\\\\\n",
       "\\hline\n",
       "\t120 &  76 & 203 &  9.7 & 97 & 8 & 28\\\\\n",
       "\t122 &  84 & 237 &  6.3 & 96 & 8 & 30\\\\\n",
       "\t123 &  85 & 188 &  6.3 & 94 & 8 & 31\\\\\n",
       "\t121 & 118 & 225 &  2.3 & 94 & 8 & 29\\\\\n",
       "\t126 &  73 & 183 &  2.8 & 93 & 9 &  3\\\\\n",
       "\t127 &  91 & 189 &  4.6 & 93 & 9 &  4\\\\\n",
       "\t42 &  NA & 259 & 10.9 & 93 & 6 & 11\\\\\n",
       "\t125 &  78 & 197 &  5.1 & 92 & 9 &  2\\\\\n",
       "\t102 &  NA & 222 &  8.6 & 92 & 8 & 10\\\\\n",
       "\t43 &  NA & 250 &  9.2 & 92 & 6 & 12\\\\\n",
       "\t69 &  97 & 267 &  6.3 & 92 & 7 &  8\\\\\n",
       "\t70 &  97 & 272 &  5.7 & 92 & 7 &  9\\\\\n",
       "\t124 &  96 & 167 &  6.9 & 91 & 9 &  1\\\\\n",
       "\t75 &  NA & 291 & 14.9 & 91 & 7 & 14\\\\\n",
       "\t101 & 110 & 207 &  8.0 & 90 & 8 &  9\\\\\n",
       "\\end{tabular}\n"
      ],
      "text/markdown": [
       "\n",
       "A data.frame: 15 × 6\n",
       "\n",
       "| <!--/--> | Ozone &lt;int&gt; | Solar.R &lt;int&gt; | Wind &lt;dbl&gt; | Temp &lt;int&gt; | Month &lt;int&gt; | Day &lt;int&gt; |\n",
       "|---|---|---|---|---|---|---|\n",
       "| 120 |  76 | 203 |  9.7 | 97 | 8 | 28 |\n",
       "| 122 |  84 | 237 |  6.3 | 96 | 8 | 30 |\n",
       "| 123 |  85 | 188 |  6.3 | 94 | 8 | 31 |\n",
       "| 121 | 118 | 225 |  2.3 | 94 | 8 | 29 |\n",
       "| 126 |  73 | 183 |  2.8 | 93 | 9 |  3 |\n",
       "| 127 |  91 | 189 |  4.6 | 93 | 9 |  4 |\n",
       "| 42 |  NA | 259 | 10.9 | 93 | 6 | 11 |\n",
       "| 125 |  78 | 197 |  5.1 | 92 | 9 |  2 |\n",
       "| 102 |  NA | 222 |  8.6 | 92 | 8 | 10 |\n",
       "| 43 |  NA | 250 |  9.2 | 92 | 6 | 12 |\n",
       "| 69 |  97 | 267 |  6.3 | 92 | 7 |  8 |\n",
       "| 70 |  97 | 272 |  5.7 | 92 | 7 |  9 |\n",
       "| 124 |  96 | 167 |  6.9 | 91 | 9 |  1 |\n",
       "| 75 |  NA | 291 | 14.9 | 91 | 7 | 14 |\n",
       "| 101 | 110 | 207 |  8.0 | 90 | 8 |  9 |\n",
       "\n"
      ],
      "text/plain": [
       "    Ozone Solar.R Wind Temp Month Day\n",
       "120  76   203      9.7 97   8     28 \n",
       "122  84   237      6.3 96   8     30 \n",
       "123  85   188      6.3 94   8     31 \n",
       "121 118   225      2.3 94   8     29 \n",
       "126  73   183      2.8 93   9      3 \n",
       "127  91   189      4.6 93   9      4 \n",
       "42   NA   259     10.9 93   6     11 \n",
       "125  78   197      5.1 92   9      2 \n",
       "102  NA   222      8.6 92   8     10 \n",
       "43   NA   250      9.2 92   6     12 \n",
       "69   97   267      6.3 92   7      8 \n",
       "70   97   272      5.7 92   7      9 \n",
       "124  96   167      6.9 91   9      1 \n",
       "75   NA   291     14.9 91   7     14 \n",
       "101 110   207      8.0 90   8      9 "
      ]
     },
     "metadata": {},
     "output_type": "display_data"
    }
   ],
   "source": [
    "airquality_temp_solarR_order = order(airquality$Temp, airquality$Solar.R, decreasing = c(TRUE, FALSE))\n",
    "head(airquality[airquality_temp_solarR_order, ], 15)"
   ]
  },
  {
   "cell_type": "markdown",
   "id": "25e9a77e",
   "metadata": {},
   "source": [
    "* There are other ways to select values in data frames. \n",
    "\n",
    "* Consult your [R Reference Card](https://cran.r-project.org/doc/contrib/Baggott-refcard-v2.pdf), see `Data Selection and Manipulation` section.\n",
    "  * Which other operation can you use to select all the rows where the temperature is 72.\n",
    "  \n",
    "* Hint, you want an operation that will return the indices of the line where temperature is 72"
   ]
  },
  {
   "cell_type": "code",
   "execution_count": 59,
   "id": "361de2cc",
   "metadata": {},
   "outputs": [
    {
     "data": {
      "text/html": [
       "<style>\n",
       ".list-inline {list-style: none; margin:0; padding: 0}\n",
       ".list-inline>li {display: inline-block}\n",
       ".list-inline>li:not(:last-child)::after {content: \"\\00b7\"; padding: 0 .5ex}\n",
       "</style>\n",
       "<ol class=list-inline><li>2</li><li>48</li><li>114</li></ol>\n"
      ],
      "text/latex": [
       "\\begin{enumerate*}\n",
       "\\item 2\n",
       "\\item 48\n",
       "\\item 114\n",
       "\\end{enumerate*}\n"
      ],
      "text/markdown": [
       "1. 2\n",
       "2. 48\n",
       "3. 114\n",
       "\n",
       "\n"
      ],
      "text/plain": [
       "[1]   2  48 114"
      ]
     },
     "metadata": {},
     "output_type": "display_data"
    }
   ],
   "source": [
    "which(airquality$Temp == 72)"
   ]
  },
  {
   "cell_type": "code",
   "execution_count": 60,
   "id": "550f33cf",
   "metadata": {},
   "outputs": [
    {
     "data": {
      "text/html": [
       "<table class=\"dataframe\">\n",
       "<caption>A data.frame: 3 × 6</caption>\n",
       "<thead>\n",
       "\t<tr><th></th><th scope=col>Ozone</th><th scope=col>Solar.R</th><th scope=col>Wind</th><th scope=col>Temp</th><th scope=col>Month</th><th scope=col>Day</th></tr>\n",
       "\t<tr><th></th><th scope=col>&lt;int&gt;</th><th scope=col>&lt;int&gt;</th><th scope=col>&lt;dbl&gt;</th><th scope=col>&lt;int&gt;</th><th scope=col>&lt;int&gt;</th><th scope=col>&lt;int&gt;</th></tr>\n",
       "</thead>\n",
       "<tbody>\n",
       "\t<tr><th scope=row>2</th><td>36</td><td>118</td><td> 8.0</td><td>72</td><td>5</td><td> 2</td></tr>\n",
       "\t<tr><th scope=row>48</th><td>37</td><td>284</td><td>20.7</td><td>72</td><td>6</td><td>17</td></tr>\n",
       "\t<tr><th scope=row>114</th><td> 9</td><td> 36</td><td>14.3</td><td>72</td><td>8</td><td>22</td></tr>\n",
       "</tbody>\n",
       "</table>\n"
      ],
      "text/latex": [
       "A data.frame: 3 × 6\n",
       "\\begin{tabular}{r|llllll}\n",
       "  & Ozone & Solar.R & Wind & Temp & Month & Day\\\\\n",
       "  & <int> & <int> & <dbl> & <int> & <int> & <int>\\\\\n",
       "\\hline\n",
       "\t2 & 36 & 118 &  8.0 & 72 & 5 &  2\\\\\n",
       "\t48 & 37 & 284 & 20.7 & 72 & 6 & 17\\\\\n",
       "\t114 &  9 &  36 & 14.3 & 72 & 8 & 22\\\\\n",
       "\\end{tabular}\n"
      ],
      "text/markdown": [
       "\n",
       "A data.frame: 3 × 6\n",
       "\n",
       "| <!--/--> | Ozone &lt;int&gt; | Solar.R &lt;int&gt; | Wind &lt;dbl&gt; | Temp &lt;int&gt; | Month &lt;int&gt; | Day &lt;int&gt; |\n",
       "|---|---|---|---|---|---|---|\n",
       "| 2 | 36 | 118 |  8.0 | 72 | 5 |  2 |\n",
       "| 48 | 37 | 284 | 20.7 | 72 | 6 | 17 |\n",
       "| 114 |  9 |  36 | 14.3 | 72 | 8 | 22 |\n",
       "\n"
      ],
      "text/plain": [
       "    Ozone Solar.R Wind Temp Month Day\n",
       "2   36    118      8.0 72   5      2 \n",
       "48  37    284     20.7 72   6     17 \n",
       "114  9     36     14.3 72   8     22 "
      ]
     },
     "metadata": {},
     "output_type": "display_data"
    }
   ],
   "source": [
    "temp_72_idx <- which(airquality$Temp == 72)\n",
    "airquality[temp_72_idx,]\n",
    "\n",
    "# or simply\n",
    "airquality[which(airquality$Temp == 72),]\n",
    "\n",
    "# The second option saves us from creating an unnecessary variable, \n",
    "# but may be less legible for novices "
   ]
  },
  {
   "cell_type": "markdown",
   "id": "bedade6f",
   "metadata": {},
   "source": [
    "Given the following vectors of sites and abundances for a fish species `x`, create a list called `x_info` that contains\n",
    "\n",
    "1. vector of sites\n",
    "2. vector of abundances\n",
    "3. numerical average abundance value \n",
    "4. The site with the highest abundance\n",
    "\n",
    "abundances_for_x <- c(10, 21, 32, 6, 22, 5)\n",
    "associated_site_for_x <- c(\"site_1\", \"site_2\", \"site_3\", \"site_4\", \"site_5\", \"site_6\")\n",
    "\n",
    "\n",
    "Ensure that each of the expressions returns the value described below it\n",
    "\n",
    "* print(`x_info$abundances`) returns the vector\n",
    "`[1] 10 21 32  6 22  5`\n",
    "\n",
    "* print(x_info$sites) returns the vector\n",
    "`[1] \"site_1\" \"site_2\" \"site_3\" \"site_4\" \"site_5\" \"site_6\"`\n",
    "\n",
    "\n",
    "* `x_info$mean_abundance` returns the mean abundance \n",
    "`16` \n",
    "\n",
    "\n",
    "\n",
    "* `x_info$site_max_abundance` returns the site with the maximum abundance\n",
    "'site_3'\n",
    "\n",
    "Note: see R Reference Card (Data selection and Manipulation)"
   ]
  },
  {
   "cell_type": "code",
   "execution_count": 151,
   "id": "7dfaea06",
   "metadata": {},
   "outputs": [],
   "source": [
    "abundances_for_x <- c(10, 21, 32, 6, 22, 5)\n",
    "associated_site_for_x <- c(\"site_1\", \"site_2\", \"site_3\", \"site_4\", \"site_5\", \"site_6\")\n",
    "\n",
    "x_info <- list(abundances= abundances_for_x, \n",
    "               sites= associated_site_for_x, \n",
    "               mean_abundance = mean(abundances_for_x),\n",
    "               site_max_abundance = associated_site_for_x[which.max(abundances_for_x)]\n",
    "              )\n"
   ]
  },
  {
   "cell_type": "code",
   "execution_count": 152,
   "id": "92e22ef7",
   "metadata": {},
   "outputs": [
    {
     "name": "stdout",
     "output_type": "stream",
     "text": [
      "[1] 10 21 32  6 22  5\n"
     ]
    }
   ],
   "source": [
    "print(x_info$abundances)"
   ]
  },
  {
   "cell_type": "code",
   "execution_count": 153,
   "id": "1a03b9ff",
   "metadata": {},
   "outputs": [
    {
     "name": "stdout",
     "output_type": "stream",
     "text": [
      "[1] \"site_1\" \"site_2\" \"site_3\" \"site_4\" \"site_5\" \"site_6\"\n"
     ]
    }
   ],
   "source": [
    "print(x_info$sites)"
   ]
  },
  {
   "cell_type": "code",
   "execution_count": 138,
   "id": "fee9667f",
   "metadata": {},
   "outputs": [
    {
     "data": {
      "text/html": [
       "16"
      ],
      "text/latex": [
       "16"
      ],
      "text/markdown": [
       "16"
      ],
      "text/plain": [
       "[1] 16"
      ]
     },
     "metadata": {},
     "output_type": "display_data"
    }
   ],
   "source": [
    "x_info$mean_abundance"
   ]
  },
  {
   "cell_type": "code",
   "execution_count": 144,
   "id": "0c91d3b2",
   "metadata": {},
   "outputs": [
    {
     "data": {
      "text/html": [
       "'site_3'"
      ],
      "text/latex": [
       "'site\\_3'"
      ],
      "text/markdown": [
       "'site_3'"
      ],
      "text/plain": [
       "[1] \"site_3\""
      ]
     },
     "metadata": {},
     "output_type": "display_data"
    }
   ],
   "source": [
    "x_info$site_max_abundance"
   ]
  },
  {
   "cell_type": "markdown",
   "id": "f794ee74",
   "metadata": {},
   "source": [
    "* You may have noticied when working with the `airqulity` data that some values show as `NA`\n",
    " * NA stands for nor available, or missing values.\n",
    "* A major part of data wrangling consists of cleaning missing values by either:\n",
    "  * Dropping the lines that have missing values\n",
    "   * Sometimes we can drop the column with missing values if the column is made of predominantly missing values\n",
    "  * imputing the missing values, which uses educated guesses (or more complex algorithms) to fill the missing values\n",
    "  \n",
    "  \n"
   ]
  },
  {
   "cell_type": "markdown",
   "id": "deca7dd2",
   "metadata": {},
   "source": [
    "* Find and remove all rows that are missing values for the `Solar.R` or `Ozone` variables\n",
    "  * Save the cleaned data to a new data frame called airquality_no_na\n",
    "  * How many lined have been removed?\n",
    "* Use defensive programming to make sure that the values have been properly removed\n"
   ]
  },
  {
   "cell_type": "code",
   "execution_count": 8,
   "id": "8c874795",
   "metadata": {},
   "outputs": [
    {
     "data": {
      "text/html": [
       "<table class=\"dataframe\">\n",
       "<caption>A data.frame: 111 × 6</caption>\n",
       "<thead>\n",
       "\t<tr><th></th><th scope=col>Ozone</th><th scope=col>Solar.R</th><th scope=col>Wind</th><th scope=col>Temp</th><th scope=col>Month</th><th scope=col>Day</th></tr>\n",
       "\t<tr><th></th><th scope=col>&lt;int&gt;</th><th scope=col>&lt;int&gt;</th><th scope=col>&lt;dbl&gt;</th><th scope=col>&lt;int&gt;</th><th scope=col>&lt;int&gt;</th><th scope=col>&lt;int&gt;</th></tr>\n",
       "</thead>\n",
       "<tbody>\n",
       "\t<tr><th scope=row>1</th><td> 41</td><td>190</td><td> 7.4</td><td>67</td><td>5</td><td> 1</td></tr>\n",
       "\t<tr><th scope=row>2</th><td> 36</td><td>118</td><td> 8.0</td><td>72</td><td>5</td><td> 2</td></tr>\n",
       "\t<tr><th scope=row>3</th><td> 12</td><td>149</td><td>12.6</td><td>74</td><td>5</td><td> 3</td></tr>\n",
       "\t<tr><th scope=row>4</th><td> 18</td><td>313</td><td>11.5</td><td>62</td><td>5</td><td> 4</td></tr>\n",
       "\t<tr><th scope=row>7</th><td> 23</td><td>299</td><td> 8.6</td><td>65</td><td>5</td><td> 7</td></tr>\n",
       "\t<tr><th scope=row>8</th><td> 19</td><td> 99</td><td>13.8</td><td>59</td><td>5</td><td> 8</td></tr>\n",
       "\t<tr><th scope=row>9</th><td>  8</td><td> 19</td><td>20.1</td><td>61</td><td>5</td><td> 9</td></tr>\n",
       "\t<tr><th scope=row>12</th><td> 16</td><td>256</td><td> 9.7</td><td>69</td><td>5</td><td>12</td></tr>\n",
       "\t<tr><th scope=row>13</th><td> 11</td><td>290</td><td> 9.2</td><td>66</td><td>5</td><td>13</td></tr>\n",
       "\t<tr><th scope=row>14</th><td> 14</td><td>274</td><td>10.9</td><td>68</td><td>5</td><td>14</td></tr>\n",
       "\t<tr><th scope=row>15</th><td> 18</td><td> 65</td><td>13.2</td><td>58</td><td>5</td><td>15</td></tr>\n",
       "\t<tr><th scope=row>16</th><td> 14</td><td>334</td><td>11.5</td><td>64</td><td>5</td><td>16</td></tr>\n",
       "\t<tr><th scope=row>17</th><td> 34</td><td>307</td><td>12.0</td><td>66</td><td>5</td><td>17</td></tr>\n",
       "\t<tr><th scope=row>18</th><td>  6</td><td> 78</td><td>18.4</td><td>57</td><td>5</td><td>18</td></tr>\n",
       "\t<tr><th scope=row>19</th><td> 30</td><td>322</td><td>11.5</td><td>68</td><td>5</td><td>19</td></tr>\n",
       "\t<tr><th scope=row>20</th><td> 11</td><td> 44</td><td> 9.7</td><td>62</td><td>5</td><td>20</td></tr>\n",
       "\t<tr><th scope=row>21</th><td>  1</td><td>  8</td><td> 9.7</td><td>59</td><td>5</td><td>21</td></tr>\n",
       "\t<tr><th scope=row>22</th><td> 11</td><td>320</td><td>16.6</td><td>73</td><td>5</td><td>22</td></tr>\n",
       "\t<tr><th scope=row>23</th><td>  4</td><td> 25</td><td> 9.7</td><td>61</td><td>5</td><td>23</td></tr>\n",
       "\t<tr><th scope=row>24</th><td> 32</td><td> 92</td><td>12.0</td><td>61</td><td>5</td><td>24</td></tr>\n",
       "\t<tr><th scope=row>28</th><td> 23</td><td> 13</td><td>12.0</td><td>67</td><td>5</td><td>28</td></tr>\n",
       "\t<tr><th scope=row>29</th><td> 45</td><td>252</td><td>14.9</td><td>81</td><td>5</td><td>29</td></tr>\n",
       "\t<tr><th scope=row>30</th><td>115</td><td>223</td><td> 5.7</td><td>79</td><td>5</td><td>30</td></tr>\n",
       "\t<tr><th scope=row>31</th><td> 37</td><td>279</td><td> 7.4</td><td>76</td><td>5</td><td>31</td></tr>\n",
       "\t<tr><th scope=row>38</th><td> 29</td><td>127</td><td> 9.7</td><td>82</td><td>6</td><td> 7</td></tr>\n",
       "\t<tr><th scope=row>40</th><td> 71</td><td>291</td><td>13.8</td><td>90</td><td>6</td><td> 9</td></tr>\n",
       "\t<tr><th scope=row>41</th><td> 39</td><td>323</td><td>11.5</td><td>87</td><td>6</td><td>10</td></tr>\n",
       "\t<tr><th scope=row>44</th><td> 23</td><td>148</td><td> 8.0</td><td>82</td><td>6</td><td>13</td></tr>\n",
       "\t<tr><th scope=row>47</th><td> 21</td><td>191</td><td>14.9</td><td>77</td><td>6</td><td>16</td></tr>\n",
       "\t<tr><th scope=row>48</th><td> 37</td><td>284</td><td>20.7</td><td>72</td><td>6</td><td>17</td></tr>\n",
       "\t<tr><th scope=row>⋮</th><td>⋮</td><td>⋮</td><td>⋮</td><td>⋮</td><td>⋮</td><td>⋮</td></tr>\n",
       "\t<tr><th scope=row>123</th><td>85</td><td>188</td><td> 6.3</td><td>94</td><td>8</td><td>31</td></tr>\n",
       "\t<tr><th scope=row>124</th><td>96</td><td>167</td><td> 6.9</td><td>91</td><td>9</td><td> 1</td></tr>\n",
       "\t<tr><th scope=row>125</th><td>78</td><td>197</td><td> 5.1</td><td>92</td><td>9</td><td> 2</td></tr>\n",
       "\t<tr><th scope=row>126</th><td>73</td><td>183</td><td> 2.8</td><td>93</td><td>9</td><td> 3</td></tr>\n",
       "\t<tr><th scope=row>127</th><td>91</td><td>189</td><td> 4.6</td><td>93</td><td>9</td><td> 4</td></tr>\n",
       "\t<tr><th scope=row>128</th><td>47</td><td> 95</td><td> 7.4</td><td>87</td><td>9</td><td> 5</td></tr>\n",
       "\t<tr><th scope=row>129</th><td>32</td><td> 92</td><td>15.5</td><td>84</td><td>9</td><td> 6</td></tr>\n",
       "\t<tr><th scope=row>130</th><td>20</td><td>252</td><td>10.9</td><td>80</td><td>9</td><td> 7</td></tr>\n",
       "\t<tr><th scope=row>131</th><td>23</td><td>220</td><td>10.3</td><td>78</td><td>9</td><td> 8</td></tr>\n",
       "\t<tr><th scope=row>132</th><td>21</td><td>230</td><td>10.9</td><td>75</td><td>9</td><td> 9</td></tr>\n",
       "\t<tr><th scope=row>133</th><td>24</td><td>259</td><td> 9.7</td><td>73</td><td>9</td><td>10</td></tr>\n",
       "\t<tr><th scope=row>134</th><td>44</td><td>236</td><td>14.9</td><td>81</td><td>9</td><td>11</td></tr>\n",
       "\t<tr><th scope=row>135</th><td>21</td><td>259</td><td>15.5</td><td>76</td><td>9</td><td>12</td></tr>\n",
       "\t<tr><th scope=row>136</th><td>28</td><td>238</td><td> 6.3</td><td>77</td><td>9</td><td>13</td></tr>\n",
       "\t<tr><th scope=row>137</th><td> 9</td><td> 24</td><td>10.9</td><td>71</td><td>9</td><td>14</td></tr>\n",
       "\t<tr><th scope=row>138</th><td>13</td><td>112</td><td>11.5</td><td>71</td><td>9</td><td>15</td></tr>\n",
       "\t<tr><th scope=row>139</th><td>46</td><td>237</td><td> 6.9</td><td>78</td><td>9</td><td>16</td></tr>\n",
       "\t<tr><th scope=row>140</th><td>18</td><td>224</td><td>13.8</td><td>67</td><td>9</td><td>17</td></tr>\n",
       "\t<tr><th scope=row>141</th><td>13</td><td> 27</td><td>10.3</td><td>76</td><td>9</td><td>18</td></tr>\n",
       "\t<tr><th scope=row>142</th><td>24</td><td>238</td><td>10.3</td><td>68</td><td>9</td><td>19</td></tr>\n",
       "\t<tr><th scope=row>143</th><td>16</td><td>201</td><td> 8.0</td><td>82</td><td>9</td><td>20</td></tr>\n",
       "\t<tr><th scope=row>144</th><td>13</td><td>238</td><td>12.6</td><td>64</td><td>9</td><td>21</td></tr>\n",
       "\t<tr><th scope=row>145</th><td>23</td><td> 14</td><td> 9.2</td><td>71</td><td>9</td><td>22</td></tr>\n",
       "\t<tr><th scope=row>146</th><td>36</td><td>139</td><td>10.3</td><td>81</td><td>9</td><td>23</td></tr>\n",
       "\t<tr><th scope=row>147</th><td> 7</td><td> 49</td><td>10.3</td><td>69</td><td>9</td><td>24</td></tr>\n",
       "\t<tr><th scope=row>148</th><td>14</td><td> 20</td><td>16.6</td><td>63</td><td>9</td><td>25</td></tr>\n",
       "\t<tr><th scope=row>149</th><td>30</td><td>193</td><td> 6.9</td><td>70</td><td>9</td><td>26</td></tr>\n",
       "\t<tr><th scope=row>151</th><td>14</td><td>191</td><td>14.3</td><td>75</td><td>9</td><td>28</td></tr>\n",
       "\t<tr><th scope=row>152</th><td>18</td><td>131</td><td> 8.0</td><td>76</td><td>9</td><td>29</td></tr>\n",
       "\t<tr><th scope=row>153</th><td>20</td><td>223</td><td>11.5</td><td>68</td><td>9</td><td>30</td></tr>\n",
       "</tbody>\n",
       "</table>\n"
      ],
      "text/latex": [
       "A data.frame: 111 × 6\n",
       "\\begin{tabular}{r|llllll}\n",
       "  & Ozone & Solar.R & Wind & Temp & Month & Day\\\\\n",
       "  & <int> & <int> & <dbl> & <int> & <int> & <int>\\\\\n",
       "\\hline\n",
       "\t1 &  41 & 190 &  7.4 & 67 & 5 &  1\\\\\n",
       "\t2 &  36 & 118 &  8.0 & 72 & 5 &  2\\\\\n",
       "\t3 &  12 & 149 & 12.6 & 74 & 5 &  3\\\\\n",
       "\t4 &  18 & 313 & 11.5 & 62 & 5 &  4\\\\\n",
       "\t7 &  23 & 299 &  8.6 & 65 & 5 &  7\\\\\n",
       "\t8 &  19 &  99 & 13.8 & 59 & 5 &  8\\\\\n",
       "\t9 &   8 &  19 & 20.1 & 61 & 5 &  9\\\\\n",
       "\t12 &  16 & 256 &  9.7 & 69 & 5 & 12\\\\\n",
       "\t13 &  11 & 290 &  9.2 & 66 & 5 & 13\\\\\n",
       "\t14 &  14 & 274 & 10.9 & 68 & 5 & 14\\\\\n",
       "\t15 &  18 &  65 & 13.2 & 58 & 5 & 15\\\\\n",
       "\t16 &  14 & 334 & 11.5 & 64 & 5 & 16\\\\\n",
       "\t17 &  34 & 307 & 12.0 & 66 & 5 & 17\\\\\n",
       "\t18 &   6 &  78 & 18.4 & 57 & 5 & 18\\\\\n",
       "\t19 &  30 & 322 & 11.5 & 68 & 5 & 19\\\\\n",
       "\t20 &  11 &  44 &  9.7 & 62 & 5 & 20\\\\\n",
       "\t21 &   1 &   8 &  9.7 & 59 & 5 & 21\\\\\n",
       "\t22 &  11 & 320 & 16.6 & 73 & 5 & 22\\\\\n",
       "\t23 &   4 &  25 &  9.7 & 61 & 5 & 23\\\\\n",
       "\t24 &  32 &  92 & 12.0 & 61 & 5 & 24\\\\\n",
       "\t28 &  23 &  13 & 12.0 & 67 & 5 & 28\\\\\n",
       "\t29 &  45 & 252 & 14.9 & 81 & 5 & 29\\\\\n",
       "\t30 & 115 & 223 &  5.7 & 79 & 5 & 30\\\\\n",
       "\t31 &  37 & 279 &  7.4 & 76 & 5 & 31\\\\\n",
       "\t38 &  29 & 127 &  9.7 & 82 & 6 &  7\\\\\n",
       "\t40 &  71 & 291 & 13.8 & 90 & 6 &  9\\\\\n",
       "\t41 &  39 & 323 & 11.5 & 87 & 6 & 10\\\\\n",
       "\t44 &  23 & 148 &  8.0 & 82 & 6 & 13\\\\\n",
       "\t47 &  21 & 191 & 14.9 & 77 & 6 & 16\\\\\n",
       "\t48 &  37 & 284 & 20.7 & 72 & 6 & 17\\\\\n",
       "\t⋮ & ⋮ & ⋮ & ⋮ & ⋮ & ⋮ & ⋮\\\\\n",
       "\t123 & 85 & 188 &  6.3 & 94 & 8 & 31\\\\\n",
       "\t124 & 96 & 167 &  6.9 & 91 & 9 &  1\\\\\n",
       "\t125 & 78 & 197 &  5.1 & 92 & 9 &  2\\\\\n",
       "\t126 & 73 & 183 &  2.8 & 93 & 9 &  3\\\\\n",
       "\t127 & 91 & 189 &  4.6 & 93 & 9 &  4\\\\\n",
       "\t128 & 47 &  95 &  7.4 & 87 & 9 &  5\\\\\n",
       "\t129 & 32 &  92 & 15.5 & 84 & 9 &  6\\\\\n",
       "\t130 & 20 & 252 & 10.9 & 80 & 9 &  7\\\\\n",
       "\t131 & 23 & 220 & 10.3 & 78 & 9 &  8\\\\\n",
       "\t132 & 21 & 230 & 10.9 & 75 & 9 &  9\\\\\n",
       "\t133 & 24 & 259 &  9.7 & 73 & 9 & 10\\\\\n",
       "\t134 & 44 & 236 & 14.9 & 81 & 9 & 11\\\\\n",
       "\t135 & 21 & 259 & 15.5 & 76 & 9 & 12\\\\\n",
       "\t136 & 28 & 238 &  6.3 & 77 & 9 & 13\\\\\n",
       "\t137 &  9 &  24 & 10.9 & 71 & 9 & 14\\\\\n",
       "\t138 & 13 & 112 & 11.5 & 71 & 9 & 15\\\\\n",
       "\t139 & 46 & 237 &  6.9 & 78 & 9 & 16\\\\\n",
       "\t140 & 18 & 224 & 13.8 & 67 & 9 & 17\\\\\n",
       "\t141 & 13 &  27 & 10.3 & 76 & 9 & 18\\\\\n",
       "\t142 & 24 & 238 & 10.3 & 68 & 9 & 19\\\\\n",
       "\t143 & 16 & 201 &  8.0 & 82 & 9 & 20\\\\\n",
       "\t144 & 13 & 238 & 12.6 & 64 & 9 & 21\\\\\n",
       "\t145 & 23 &  14 &  9.2 & 71 & 9 & 22\\\\\n",
       "\t146 & 36 & 139 & 10.3 & 81 & 9 & 23\\\\\n",
       "\t147 &  7 &  49 & 10.3 & 69 & 9 & 24\\\\\n",
       "\t148 & 14 &  20 & 16.6 & 63 & 9 & 25\\\\\n",
       "\t149 & 30 & 193 &  6.9 & 70 & 9 & 26\\\\\n",
       "\t151 & 14 & 191 & 14.3 & 75 & 9 & 28\\\\\n",
       "\t152 & 18 & 131 &  8.0 & 76 & 9 & 29\\\\\n",
       "\t153 & 20 & 223 & 11.5 & 68 & 9 & 30\\\\\n",
       "\\end{tabular}\n"
      ],
      "text/markdown": [
       "\n",
       "A data.frame: 111 × 6\n",
       "\n",
       "| <!--/--> | Ozone &lt;int&gt; | Solar.R &lt;int&gt; | Wind &lt;dbl&gt; | Temp &lt;int&gt; | Month &lt;int&gt; | Day &lt;int&gt; |\n",
       "|---|---|---|---|---|---|---|\n",
       "| 1 |  41 | 190 |  7.4 | 67 | 5 |  1 |\n",
       "| 2 |  36 | 118 |  8.0 | 72 | 5 |  2 |\n",
       "| 3 |  12 | 149 | 12.6 | 74 | 5 |  3 |\n",
       "| 4 |  18 | 313 | 11.5 | 62 | 5 |  4 |\n",
       "| 7 |  23 | 299 |  8.6 | 65 | 5 |  7 |\n",
       "| 8 |  19 |  99 | 13.8 | 59 | 5 |  8 |\n",
       "| 9 |   8 |  19 | 20.1 | 61 | 5 |  9 |\n",
       "| 12 |  16 | 256 |  9.7 | 69 | 5 | 12 |\n",
       "| 13 |  11 | 290 |  9.2 | 66 | 5 | 13 |\n",
       "| 14 |  14 | 274 | 10.9 | 68 | 5 | 14 |\n",
       "| 15 |  18 |  65 | 13.2 | 58 | 5 | 15 |\n",
       "| 16 |  14 | 334 | 11.5 | 64 | 5 | 16 |\n",
       "| 17 |  34 | 307 | 12.0 | 66 | 5 | 17 |\n",
       "| 18 |   6 |  78 | 18.4 | 57 | 5 | 18 |\n",
       "| 19 |  30 | 322 | 11.5 | 68 | 5 | 19 |\n",
       "| 20 |  11 |  44 |  9.7 | 62 | 5 | 20 |\n",
       "| 21 |   1 |   8 |  9.7 | 59 | 5 | 21 |\n",
       "| 22 |  11 | 320 | 16.6 | 73 | 5 | 22 |\n",
       "| 23 |   4 |  25 |  9.7 | 61 | 5 | 23 |\n",
       "| 24 |  32 |  92 | 12.0 | 61 | 5 | 24 |\n",
       "| 28 |  23 |  13 | 12.0 | 67 | 5 | 28 |\n",
       "| 29 |  45 | 252 | 14.9 | 81 | 5 | 29 |\n",
       "| 30 | 115 | 223 |  5.7 | 79 | 5 | 30 |\n",
       "| 31 |  37 | 279 |  7.4 | 76 | 5 | 31 |\n",
       "| 38 |  29 | 127 |  9.7 | 82 | 6 |  7 |\n",
       "| 40 |  71 | 291 | 13.8 | 90 | 6 |  9 |\n",
       "| 41 |  39 | 323 | 11.5 | 87 | 6 | 10 |\n",
       "| 44 |  23 | 148 |  8.0 | 82 | 6 | 13 |\n",
       "| 47 |  21 | 191 | 14.9 | 77 | 6 | 16 |\n",
       "| 48 |  37 | 284 | 20.7 | 72 | 6 | 17 |\n",
       "| ⋮ | ⋮ | ⋮ | ⋮ | ⋮ | ⋮ | ⋮ |\n",
       "| 123 | 85 | 188 |  6.3 | 94 | 8 | 31 |\n",
       "| 124 | 96 | 167 |  6.9 | 91 | 9 |  1 |\n",
       "| 125 | 78 | 197 |  5.1 | 92 | 9 |  2 |\n",
       "| 126 | 73 | 183 |  2.8 | 93 | 9 |  3 |\n",
       "| 127 | 91 | 189 |  4.6 | 93 | 9 |  4 |\n",
       "| 128 | 47 |  95 |  7.4 | 87 | 9 |  5 |\n",
       "| 129 | 32 |  92 | 15.5 | 84 | 9 |  6 |\n",
       "| 130 | 20 | 252 | 10.9 | 80 | 9 |  7 |\n",
       "| 131 | 23 | 220 | 10.3 | 78 | 9 |  8 |\n",
       "| 132 | 21 | 230 | 10.9 | 75 | 9 |  9 |\n",
       "| 133 | 24 | 259 |  9.7 | 73 | 9 | 10 |\n",
       "| 134 | 44 | 236 | 14.9 | 81 | 9 | 11 |\n",
       "| 135 | 21 | 259 | 15.5 | 76 | 9 | 12 |\n",
       "| 136 | 28 | 238 |  6.3 | 77 | 9 | 13 |\n",
       "| 137 |  9 |  24 | 10.9 | 71 | 9 | 14 |\n",
       "| 138 | 13 | 112 | 11.5 | 71 | 9 | 15 |\n",
       "| 139 | 46 | 237 |  6.9 | 78 | 9 | 16 |\n",
       "| 140 | 18 | 224 | 13.8 | 67 | 9 | 17 |\n",
       "| 141 | 13 |  27 | 10.3 | 76 | 9 | 18 |\n",
       "| 142 | 24 | 238 | 10.3 | 68 | 9 | 19 |\n",
       "| 143 | 16 | 201 |  8.0 | 82 | 9 | 20 |\n",
       "| 144 | 13 | 238 | 12.6 | 64 | 9 | 21 |\n",
       "| 145 | 23 |  14 |  9.2 | 71 | 9 | 22 |\n",
       "| 146 | 36 | 139 | 10.3 | 81 | 9 | 23 |\n",
       "| 147 |  7 |  49 | 10.3 | 69 | 9 | 24 |\n",
       "| 148 | 14 |  20 | 16.6 | 63 | 9 | 25 |\n",
       "| 149 | 30 | 193 |  6.9 | 70 | 9 | 26 |\n",
       "| 151 | 14 | 191 | 14.3 | 75 | 9 | 28 |\n",
       "| 152 | 18 | 131 |  8.0 | 76 | 9 | 29 |\n",
       "| 153 | 20 | 223 | 11.5 | 68 | 9 | 30 |\n",
       "\n"
      ],
      "text/plain": [
       "    Ozone Solar.R Wind Temp Month Day\n",
       "1    41   190      7.4 67   5      1 \n",
       "2    36   118      8.0 72   5      2 \n",
       "3    12   149     12.6 74   5      3 \n",
       "4    18   313     11.5 62   5      4 \n",
       "7    23   299      8.6 65   5      7 \n",
       "8    19    99     13.8 59   5      8 \n",
       "9     8    19     20.1 61   5      9 \n",
       "12   16   256      9.7 69   5     12 \n",
       "13   11   290      9.2 66   5     13 \n",
       "14   14   274     10.9 68   5     14 \n",
       "15   18    65     13.2 58   5     15 \n",
       "16   14   334     11.5 64   5     16 \n",
       "17   34   307     12.0 66   5     17 \n",
       "18    6    78     18.4 57   5     18 \n",
       "19   30   322     11.5 68   5     19 \n",
       "20   11    44      9.7 62   5     20 \n",
       "21    1     8      9.7 59   5     21 \n",
       "22   11   320     16.6 73   5     22 \n",
       "23    4    25      9.7 61   5     23 \n",
       "24   32    92     12.0 61   5     24 \n",
       "28   23    13     12.0 67   5     28 \n",
       "29   45   252     14.9 81   5     29 \n",
       "30  115   223      5.7 79   5     30 \n",
       "31   37   279      7.4 76   5     31 \n",
       "38   29   127      9.7 82   6      7 \n",
       "40   71   291     13.8 90   6      9 \n",
       "41   39   323     11.5 87   6     10 \n",
       "44   23   148      8.0 82   6     13 \n",
       "47   21   191     14.9 77   6     16 \n",
       "48   37   284     20.7 72   6     17 \n",
       "⋮   ⋮     ⋮       ⋮    ⋮    ⋮     ⋮  \n",
       "123 85    188      6.3 94   8     31 \n",
       "124 96    167      6.9 91   9      1 \n",
       "125 78    197      5.1 92   9      2 \n",
       "126 73    183      2.8 93   9      3 \n",
       "127 91    189      4.6 93   9      4 \n",
       "128 47     95      7.4 87   9      5 \n",
       "129 32     92     15.5 84   9      6 \n",
       "130 20    252     10.9 80   9      7 \n",
       "131 23    220     10.3 78   9      8 \n",
       "132 21    230     10.9 75   9      9 \n",
       "133 24    259      9.7 73   9     10 \n",
       "134 44    236     14.9 81   9     11 \n",
       "135 21    259     15.5 76   9     12 \n",
       "136 28    238      6.3 77   9     13 \n",
       "137  9     24     10.9 71   9     14 \n",
       "138 13    112     11.5 71   9     15 \n",
       "139 46    237      6.9 78   9     16 \n",
       "140 18    224     13.8 67   9     17 \n",
       "141 13     27     10.3 76   9     18 \n",
       "142 24    238     10.3 68   9     19 \n",
       "143 16    201      8.0 82   9     20 \n",
       "144 13    238     12.6 64   9     21 \n",
       "145 23     14      9.2 71   9     22 \n",
       "146 36    139     10.3 81   9     23 \n",
       "147  7     49     10.3 69   9     24 \n",
       "148 14     20     16.6 63   9     25 \n",
       "149 30    193      6.9 70   9     26 \n",
       "151 14    191     14.3 75   9     28 \n",
       "152 18    131      8.0 76   9     29 \n",
       "153 20    223     11.5 68   9     30 "
      ]
     },
     "metadata": {},
     "output_type": "display_data"
    }
   ],
   "source": [
    "missing_solar_r <- which(is.na(airquality$Solar.R) | is.na(airquality$Ozone) )\n",
    "airquality_no_na <- airquality[-missing_solar_r, ] \n",
    "airquality_no_na"
   ]
  },
  {
   "cell_type": "code",
   "execution_count": 4,
   "id": "cc44a06a",
   "metadata": {},
   "outputs": [
    {
     "data": {
      "text/html": [
       "42"
      ],
      "text/latex": [
       "42"
      ],
      "text/markdown": [
       "42"
      ],
      "text/plain": [
       "[1] 42"
      ]
     },
     "metadata": {},
     "output_type": "display_data"
    }
   ],
   "source": [
    "nrow(airquality[missing_solar_r, ])"
   ]
  },
  {
   "cell_type": "code",
   "execution_count": 10,
   "id": "9ee266d3",
   "metadata": {},
   "outputs": [
    {
     "name": "stdout",
     "output_type": "stream",
     "text": [
      "    Ozone Solar.R Wind Temp Month Day\n",
      "1      41     190  7.4   67     5   1\n",
      "2      36     118  8.0   72     5   2\n",
      "3      12     149 12.6   74     5   3\n",
      "4      18     313 11.5   62     5   4\n",
      "5      NA      NA 14.3   56     5   5\n",
      "6      28      NA 14.9   66     5   6\n",
      "7      23     299  8.6   65     5   7\n",
      "8      19      99 13.8   59     5   8\n",
      "9       8      19 20.1   61     5   9\n",
      "10     NA     194  8.6   69     5  10\n",
      "11      7      NA  6.9   74     5  11\n",
      "12     16     256  9.7   69     5  12\n",
      "13     11     290  9.2   66     5  13\n",
      "14     14     274 10.9   68     5  14\n",
      "15     18      65 13.2   58     5  15\n",
      "16     14     334 11.5   64     5  16\n",
      "17     34     307 12.0   66     5  17\n",
      "18      6      78 18.4   57     5  18\n",
      "19     30     322 11.5   68     5  19\n",
      "20     11      44  9.7   62     5  20\n",
      "21      1       8  9.7   59     5  21\n",
      "22     11     320 16.6   73     5  22\n",
      "23      4      25  9.7   61     5  23\n",
      "24     32      92 12.0   61     5  24\n",
      "25     NA      66 16.6   57     5  25\n",
      "26     NA     266 14.9   58     5  26\n",
      "27     NA      NA  8.0   57     5  27\n",
      "28     23      13 12.0   67     5  28\n",
      "29     45     252 14.9   81     5  29\n",
      "30    115     223  5.7   79     5  30\n",
      "31     37     279  7.4   76     5  31\n",
      "32     NA     286  8.6   78     6   1\n",
      "33     NA     287  9.7   74     6   2\n",
      "34     NA     242 16.1   67     6   3\n",
      "35     NA     186  9.2   84     6   4\n",
      "36     NA     220  8.6   85     6   5\n",
      "37     NA     264 14.3   79     6   6\n",
      "38     29     127  9.7   82     6   7\n",
      "39     NA     273  6.9   87     6   8\n",
      "40     71     291 13.8   90     6   9\n",
      "41     39     323 11.5   87     6  10\n",
      "42     NA     259 10.9   93     6  11\n",
      "43     NA     250  9.2   92     6  12\n",
      "44     23     148  8.0   82     6  13\n",
      "45     NA     332 13.8   80     6  14\n",
      "46     NA     322 11.5   79     6  15\n",
      "47     21     191 14.9   77     6  16\n",
      "48     37     284 20.7   72     6  17\n",
      "49     20      37  9.2   65     6  18\n",
      "50     12     120 11.5   73     6  19\n",
      "51     13     137 10.3   76     6  20\n",
      "52     NA     150  6.3   77     6  21\n",
      "53     NA      59  1.7   76     6  22\n",
      "54     NA      91  4.6   76     6  23\n",
      "55     NA     250  6.3   76     6  24\n",
      "56     NA     135  8.0   75     6  25\n",
      "57     NA     127  8.0   78     6  26\n",
      "58     NA      47 10.3   73     6  27\n",
      "59     NA      98 11.5   80     6  28\n",
      "60     NA      31 14.9   77     6  29\n",
      "61     NA     138  8.0   83     6  30\n",
      "62    135     269  4.1   84     7   1\n",
      "63     49     248  9.2   85     7   2\n",
      "64     32     236  9.2   81     7   3\n",
      "65     NA     101 10.9   84     7   4\n",
      "66     64     175  4.6   83     7   5\n",
      "67     40     314 10.9   83     7   6\n",
      "68     77     276  5.1   88     7   7\n",
      "69     97     267  6.3   92     7   8\n",
      "70     97     272  5.7   92     7   9\n",
      "71     85     175  7.4   89     7  10\n",
      "72     NA     139  8.6   82     7  11\n",
      "73     10     264 14.3   73     7  12\n",
      "74     27     175 14.9   81     7  13\n",
      "75     NA     291 14.9   91     7  14\n",
      "76      7      48 14.3   80     7  15\n",
      "77     48     260  6.9   81     7  16\n",
      "78     35     274 10.3   82     7  17\n",
      "79     61     285  6.3   84     7  18\n",
      "80     79     187  5.1   87     7  19\n",
      "81     63     220 11.5   85     7  20\n",
      "82     16       7  6.9   74     7  21\n",
      "83     NA     258  9.7   81     7  22\n",
      "84     NA     295 11.5   82     7  23\n",
      "85     80     294  8.6   86     7  24\n",
      "86    108     223  8.0   85     7  25\n",
      "87     20      81  8.6   82     7  26\n",
      "88     52      82 12.0   86     7  27\n",
      "89     82     213  7.4   88     7  28\n",
      "90     50     275  7.4   86     7  29\n",
      "91     64     253  7.4   83     7  30\n",
      "92     59     254  9.2   81     7  31\n",
      "93     39      83  6.9   81     8   1\n",
      "94      9      24 13.8   81     8   2\n",
      "95     16      77  7.4   82     8   3\n",
      "96     78      NA  6.9   86     8   4\n",
      "97     35      NA  7.4   85     8   5\n",
      "98     66      NA  4.6   87     8   6\n",
      "99    122     255  4.0   89     8   7\n",
      "100    89     229 10.3   90     8   8\n",
      "101   110     207  8.0   90     8   9\n",
      "102    NA     222  8.6   92     8  10\n",
      "103    NA     137 11.5   86     8  11\n",
      "104    44     192 11.5   86     8  12\n",
      "105    28     273 11.5   82     8  13\n",
      "106    65     157  9.7   80     8  14\n",
      "107    NA      64 11.5   79     8  15\n",
      "108    22      71 10.3   77     8  16\n",
      "109    59      51  6.3   79     8  17\n",
      "110    23     115  7.4   76     8  18\n",
      "111    31     244 10.9   78     8  19\n",
      "112    44     190 10.3   78     8  20\n",
      "113    21     259 15.5   77     8  21\n",
      "114     9      36 14.3   72     8  22\n",
      "115    NA     255 12.6   75     8  23\n",
      "116    45     212  9.7   79     8  24\n",
      "117   168     238  3.4   81     8  25\n",
      "118    73     215  8.0   86     8  26\n",
      "119    NA     153  5.7   88     8  27\n",
      "120    76     203  9.7   97     8  28\n",
      "121   118     225  2.3   94     8  29\n",
      "122    84     237  6.3   96     8  30\n",
      "123    85     188  6.3   94     8  31\n",
      "124    96     167  6.9   91     9   1\n",
      "125    78     197  5.1   92     9   2\n",
      "126    73     183  2.8   93     9   3\n",
      "127    91     189  4.6   93     9   4\n",
      "128    47      95  7.4   87     9   5\n",
      "129    32      92 15.5   84     9   6\n",
      "130    20     252 10.9   80     9   7\n",
      "131    23     220 10.3   78     9   8\n",
      "132    21     230 10.9   75     9   9\n",
      "133    24     259  9.7   73     9  10\n",
      "134    44     236 14.9   81     9  11\n",
      "135    21     259 15.5   76     9  12\n",
      "136    28     238  6.3   77     9  13\n",
      "137     9      24 10.9   71     9  14\n",
      "138    13     112 11.5   71     9  15\n",
      "139    46     237  6.9   78     9  16\n",
      "140    18     224 13.8   67     9  17\n",
      "141    13      27 10.3   76     9  18\n",
      "142    24     238 10.3   68     9  19\n",
      "143    16     201  8.0   82     9  20\n",
      "144    13     238 12.6   64     9  21\n",
      "145    23      14  9.2   71     9  22\n",
      "146    36     139 10.3   81     9  23\n",
      "147     7      49 10.3   69     9  24\n",
      "148    14      20 16.6   63     9  25\n",
      "149    30     193  6.9   70     9  26\n",
      "150    NA     145 13.2   77     9  27\n",
      "151    14     191 14.3   75     9  28\n",
      "152    18     131  8.0   76     9  29\n",
      "153    20     223 11.5   68     9  30\n"
     ]
    }
   ],
   "source": [
    "print(airquality)"
   ]
  },
  {
   "cell_type": "markdown",
   "id": "a9344394",
   "metadata": {},
   "source": [
    "* Let's use a different strategy and impute the missing value.\n",
    "  * replace the missing values for Solar.R using that month's average.\n",
    "  * Example:\n",
    "    * The missing value for line 6 should be replaced with the average for month 5.\n",
    "    * The missing value for line 97 should be replaced with the average for month 8."
   ]
  },
  {
   "cell_type": "code",
   "execution_count": null,
   "id": "b9c2cb6f",
   "metadata": {},
   "outputs": [],
   "source": []
  }
 ],
 "metadata": {
  "kernelspec": {
   "display_name": "R",
   "language": "R",
   "name": "ir"
  },
  "language_info": {
   "codemirror_mode": "r",
   "file_extension": ".r",
   "mimetype": "text/x-r-source",
   "name": "R",
   "pygments_lexer": "r",
   "version": "4.0.2"
  }
 },
 "nbformat": 4,
 "nbformat_minor": 5
}
