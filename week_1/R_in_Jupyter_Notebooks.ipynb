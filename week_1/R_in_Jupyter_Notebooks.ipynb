{
 "cells": [
  {
   "cell_type": "code",
   "execution_count": 1,
   "id": "3446ca37",
   "metadata": {},
   "outputs": [],
   "source": [
    "library('ggplot2')"
   ]
  },
  {
   "cell_type": "markdown",
   "id": "d10bd485",
   "metadata": {},
   "source": [
    "### What is R?\n",
    "\n",
    "* R is a language and environment for statistical computing and graphics. \n",
    "\n",
    "\n",
    "* R provides a wide variety of statistical \n",
    "  * E.g.: linear and nonlinear modeling, classical statistical tests, time-series analysis, classification, clustering, etc. \n",
    "\n",
    "* Outstanding, publication-quality plots\n",
    "  * Including mathematical symbols and formulae where needed. \n",
    "  * Good defaults for the minor design choices in graphics\n",
    "  * Extremely customizable plots\n",
    "\n",
    "* Runs on macOS, Windows, and Linux. \n",
    "\n",
    "* R is available as Free Software\n",
    "  * Free Software Foundation’s GNU General Public License in source code form. \n"
   ]
  },
  {
   "cell_type": "markdown",
   "id": "c2175992",
   "metadata": {},
   "source": [
    "### What is R?\n",
    "\n",
    "* _\" Many users think of R as a statistics system. We prefer to think of it as an environment within which statistical techniques are implemented.\"_ \n",
    "\n",
    "* A programming environment that can do a lot but that is often used for doing stats\n",
    "\n",
    "* R can be extended (easily) via packages\n",
    "  * You want to do something complex, download and install package that does it. \n",
    "  \n",
    "* A vibrant community of users\n",
    "  * See the [following](https://medium.com/@ODSC/data-driven-exploration-of-the-r-user-community-worldwide-57416018e958) for a data science and R-based exporation of the R Community:\n",
    "  ![](https://www.dropbox.com/s/1hj6e0mownt0amf/R_community.png?dl=1)"
   ]
  },
  {
   "cell_type": "markdown",
   "id": "1a8b52b4",
   "metadata": {},
   "source": [
    "### R IDE\n",
    "\n",
    "* R has many Integrated Development Environments\n",
    "  * An IDE is simply a graphical user interface (GUI) software that provides tools for developing software in a language. \n",
    "  * In the least, it provides tools for writing, executing and debuggind code.\n",
    "\n",
    "* The most commonly used IDE with R is RStudio\n",
    "\n",
    "  ![](https://www.dropbox.com/s/g3gsv50xta7ka89/r_ide.png?dl=1)"
   ]
  },
  {
   "cell_type": "markdown",
   "id": "0ddb1611",
   "metadata": {},
   "source": [
    "### R IDE - Continued\n",
    "\n",
    "* Many other IDEs exist, including:\n",
    "  * ([JetBrains's PyCharm](https://www.jetbrains.com/pycharm/))\n",
    "      * My preferred tool because I can also use it to write code in other languages\n",
    "  * [RBrain](https://r-brain.io/)\n",
    "  * [Architect](https://www.getarchitect.io/)\n",
    "  * Jupyter Notebooks and [Jupyter Lab](https://jupyterlab.readthedocs.io/en/stable/)\n",
    "* Here, we will be using Jupter Environment:\n",
    "  * [Jupyter Notebooks]() and [Jupyter Lab](https://jupyterlab.readthedocs.io/en/stable/)"
   ]
  },
  {
   "cell_type": "markdown",
   "id": "29e84a1a",
   "metadata": {},
   "source": [
    "### Jupyter Environment\n",
    "\n",
    "* One of the most popular environments for data science\n",
    "* Idea in a classroom setting\n",
    "    * Weave text, links, images, videos and command outputs\n",
    "    \n",
    "* Easy to install and use\n",
    "  * You can even run in Goolgle Colab, the equivalent of Google Doc for Notebooks 😲\n",
    "  \n",
    "* We will occasionally use RStudio to get familiar with the interface\n",
    "    * It's fairly straightforward to use if you need to transition to it"
   ]
  },
  {
   "cell_type": "markdown",
   "id": "707b53ae",
   "metadata": {},
   "source": [
    "### Jupyter Environment -- Cont'd\n",
    "\n",
    "* Collection of notebooks as tabs in the same environment\n",
    "   * as opposed to separate pages\n",
    "* Each notebook is a collection of cells\n",
    "* Each cell can hold: \n",
    "  * code: you can type your R code and execute it using run button or keyboard shortcuts\n",
    "  * MarkDown: you can type text with a markup language to format your text\n",
    "  * Also supports `HMTL` and `JavaScript` but those are beyond our scope\n",
    "  \n",
    "![](https://www.dropbox.com/s/hkyjln74prbqi3r/code_cell.png?dl=1)"
   ]
  },
  {
   "cell_type": "markdown",
   "id": "3dfd58cc",
   "metadata": {},
   "source": [
    "### Jupyter Notebook Demo\n",
    "\n",
    "<u>We will cover:</u>\n",
    "1. Starting a Notebook\n",
    "2. Creating a cell\n",
    "3. Running or rendering a cell\n",
    " * The ouput section versus rendered cell\n",
    "4. `In [ ]` vs. `In [*]` vs. `In [1]`\n",
    "5. Add cells at different locations\n",
    "6. Editing a cell (pencil icon)\n",
    "7. Cell types\n",
    "8. Writing Markdown\n",
    "9. Keyboard shortcuts\n",
    "10. File extension\n",
    "11. About the kernel menu\n",
    "12. Mixing up HTML with Markdown"
   ]
  },
  {
   "cell_type": "code",
   "execution_count": null,
   "id": "f10cb7b8",
   "metadata": {},
   "outputs": [],
   "source": [
    "### Jupyter Lab Demo "
   ]
  },
  {
   "cell_type": "code",
   "execution_count": 4,
   "id": "3fee86d4",
   "metadata": {},
   "outputs": [],
   "source": [
    "i <- 0\n",
    "for(j in 1:100000000) {\n",
    "}"
   ]
  },
  {
   "cell_type": "markdown",
   "id": "0a483dc7",
   "metadata": {},
   "source": [
    "### Markdown Syntax:\n",
    "\n",
    "* Markdown uses special characters to format text\n",
    "    * E.g. We use number of `#` for defining heading type; \n",
    "      * ex. `## Some Title` defines a heading of type 2 (second largest H2 in HTML)\n",
    "* Rules for character usage are well-defined. \n",
    "    * Breaking the rules can lead to errors in display\n",
    "  * ex. Some applications (ex Jupyter) cannot interpret `##Some Title` as heading of type 2.\n",
    "    * Knows that `##` is a valid command, but `##Title` is not a valid command\n",
    "    * Exceptions are meant to be helpful, but instead create inconsistency\n",
    "* For more info, see the [Mark Down Guide's Basic Syntax](https://www.markdownguide.org/basic-syntax/)"
   ]
  },
  {
   "cell_type": "markdown",
   "id": "6b0b5b73",
   "metadata": {},
   "source": [
    "### Introduction to R Syntax\n",
    "\n",
    "* As discussed, R is a \"scripting language\"\n",
    "\n",
    "  * We will be using it to write programs, opposed to doing stats\n",
    "  \n",
    "* Programming languages need to provide\n",
    "  * Ways to store data. Those are called variables (and variable types).\n",
    "  * ways to structure data: those are called data structures\n",
    "  * Ways to interact with or manipulate the data: those are typically operators or functions\n",
    "  * Ways to write ways to manipulate data, i.e. way to write novel functions or create new operators  "
   ]
  },
  {
   "cell_type": "markdown",
   "id": "f5db448d",
   "metadata": {},
   "source": [
    "### Introduction to R Syntax - Variable\n",
    "\n",
    "* A variable is simply an alias (name) that allows you to refer to some data.\n",
    "\n",
    "  * Think of it as a labeled folder that contains some data.\n",
    "  * The data is stored somewhere in the computer's memory.\n",
    "\n",
    "* We create a variable to store some data using the following syntax\n",
    "```\n",
    "x <- 2\n",
    "```\n",
    "\n",
    "* We use `x` every time we need to interact with that value\n",
    "\n",
    "* We crate interact with data contained in `x` by adding 1 to it\n",
    "\n",
    "```\n",
    "x + 1 \n",
    "```"
   ]
  },
  {
   "cell_type": "markdown",
   "id": "880bd853",
   "metadata": {},
   "source": [
    "### Introduction to R Syntax -- Variable names\n",
    "\n",
    "* There are a few rules you need to follow to name a variable\n",
    "  * Syntactic rule 1: a variable name cannot start with a number\n",
    "    * e.g.: `1x` is not a valid variable name. `x1` is a valid variable name\n",
    "  * Syntactic rule 2: a variable cannot start with special characters like: `^`, `!`, `$`, `@`, `+`, `-`, `/`, or `*`\n",
    "  * Stylistic rule 3: Variables should avoid short meaningless names, like `x`. 🥺\n",
    "    * More on how a good variable name should be when we cover R style "
   ]
  },
  {
   "cell_type": "code",
   "execution_count": 1,
   "id": "18c02147",
   "metadata": {},
   "outputs": [],
   "source": [
    "x <- 2"
   ]
  },
  {
   "cell_type": "code",
   "execution_count": 2,
   "id": "b5b142a9",
   "metadata": {},
   "outputs": [
    {
     "data": {
      "text/html": [
       "3"
      ],
      "text/latex": [
       "3"
      ],
      "text/markdown": [
       "3"
      ],
      "text/plain": [
       "[1] 3"
      ]
     },
     "metadata": {},
     "output_type": "display_data"
    }
   ],
   "source": [
    "x + 1 "
   ]
  },
  {
   "cell_type": "markdown",
   "id": "b962bb39",
   "metadata": {},
   "source": [
    "### Introduction to R Syntax - Cont'd\n",
    "\n",
    "* For some operations, `R` returns (gives us back) something.\n",
    "  * Think of it as s the result of the operation\n",
    "\n",
    " For other operations, R doesn't return anything\n",
    "  * `x <- 2` put (or assign in technical terms) the value 2 to a variable named `x`\n",
    "    * Nothing is returned\n",
    "  * `x + 1 ` computes the sum and returns the value back.\n",
    "    * As a convenience, Jupyter prints the returned values in the outputs section (below the code)\n",
    "  \n",
    "* in R, any line that starts with `#` is considered a comment and ignored by the R interpreter\n",
    "\n",
    "```\n",
    "# We create a variable and store the value 2 in it\n",
    "x <- 2\n",
    "###### We compute the sum of x+x \n",
    "x + x\n",
    "```\n"
   ]
  },
  {
   "cell_type": "markdown",
   "id": "d5f9db69",
   "metadata": {},
   "source": [
    "### Introduction to R Syntax - Cont'd\n",
    "\n",
    "* It helps to think of operations as `give me/get me` type or `do for me` type:\n",
    "  * the former is called an expression, the latter is called a statement.\n",
    "\n",
    "* e.g.: the expression `x + x - 2` will return a value\n",
    "    `x + x -2`\n",
    "\n",
    "* On the other hand, the following statement assigns to x the value 17. \n",
    "    * Does the work but does not give you back anything.\n",
    "     `x<- 17`\n",
    "     \n",
    "* For convenience, Jupyter prints out in the output section the value returned by the `give me` type of operations\n",
    "\n",
    "     "
   ]
  },
  {
   "cell_type": "markdown",
   "id": "3b073a75",
   "metadata": {},
   "source": [
    "### Functions in R \n",
    "\n",
    "* Data can be operated on using operators `+`, `/`, `%%`, etc...\n",
    "* Data can also be operated on using operators functions\n",
    "  * Much more common and powerful way\n",
    "* You can think of an R function as a sort of mathematical function `f(x)`\n",
    "    * in math: `f(x)` means that function `f` takes an input `x` and returns some value\n",
    "* Thousands (personal guess) of functions in R that do something.\n",
    "* Examples, `log -- base e --`, `log10`, `sqrt`, `lm`, etc..  \n",
    "* Functions don't have to be mathematical"
   ]
  },
  {
   "cell_type": "code",
   "execution_count": 3,
   "id": "8e2973a6",
   "metadata": {},
   "outputs": [
    {
     "data": {
      "text/html": [
       "2"
      ],
      "text/latex": [
       "2"
      ],
      "text/markdown": [
       "2"
      ],
      "text/plain": [
       "[1] 2"
      ]
     },
     "metadata": {},
     "output_type": "display_data"
    },
    {
     "data": {
      "text/html": [
       "3"
      ],
      "text/latex": [
       "3"
      ],
      "text/markdown": [
       "3"
      ],
      "text/plain": [
       "[1] 3"
      ]
     },
     "metadata": {},
     "output_type": "display_data"
    }
   ],
   "source": [
    "log10(100)\n",
    "sqrt(9)"
   ]
  },
  {
   "cell_type": "code",
   "execution_count": 24,
   "id": "158a4f69",
   "metadata": {},
   "outputs": [
    {
     "data": {
      "text/html": [
       "<span style=white-space:pre-wrap>'Log of 100 is  2'</span>"
      ],
      "text/latex": [
       "'Log of 100 is  2'"
      ],
      "text/markdown": [
       "<span style=white-space:pre-wrap>'Log of 100 is  2'</span>"
      ],
      "text/plain": [
       "[1] \"Log of 100 is  2\""
      ]
     },
     "metadata": {},
     "output_type": "display_data"
    }
   ],
   "source": [
    "x <- log10(100)\n",
    "paste(\"Log of 100 is \", x)\n"
   ]
  },
  {
   "cell_type": "markdown",
   "id": "66a414e0",
   "metadata": {},
   "source": [
    "### Jupyter And Return Values\n",
    "\n",
    "* You create as many variables as you need to invoke as many functions on them as you need\n",
    "* Stick to one statement of expression per line\n",
    "\n",
    "```\n",
    "x<-2\n",
    "sqrt(x)\n",
    "y<-3\n",
    "log(y)\n",
    "```"
   ]
  },
  {
   "cell_type": "code",
   "execution_count": 27,
   "id": "c59f5fd6",
   "metadata": {},
   "outputs": [
    {
     "data": {
      "text/html": [
       "1.4142135623731"
      ],
      "text/latex": [
       "1.4142135623731"
      ],
      "text/markdown": [
       "1.4142135623731"
      ],
      "text/plain": [
       "[1] 1.414214"
      ]
     },
     "metadata": {},
     "output_type": "display_data"
    },
    {
     "data": {
      "text/html": [
       "1.09861228866811"
      ],
      "text/latex": [
       "1.09861228866811"
      ],
      "text/markdown": [
       "1.09861228866811"
      ],
      "text/plain": [
       "[1] 1.098612"
      ]
     },
     "metadata": {},
     "output_type": "display_data"
    }
   ],
   "source": [
    "x<-2\n",
    "sqrt(x)\n",
    "y<-3\n",
    "log(y)"
   ]
  },
  {
   "cell_type": "markdown",
   "id": "76c0436b",
   "metadata": {},
   "source": [
    "### R Arithmetic Operators\n",
    "\n",
    "\n",
    "* Most basic types of operators in R:\n",
    "\n",
    "* Addition: `+`\n",
    "* Subtraction: `-`\n",
    "* Multiplication: `*`\n",
    "* Division: `/`\n",
    "* Exponentiation: `^`\n",
    "* Modulo: `%%`\n",
    "\n",
    "* Note these operators return a value\n"
   ]
  },
  {
   "cell_type": "code",
   "execution_count": 4,
   "id": "250ddad3",
   "metadata": {},
   "outputs": [
    {
     "data": {
      "text/html": [
       "5"
      ],
      "text/latex": [
       "5"
      ],
      "text/markdown": [
       "5"
      ],
      "text/plain": [
       "[1] 5"
      ]
     },
     "metadata": {},
     "output_type": "display_data"
    }
   ],
   "source": [
    "x + 3\n"
   ]
  },
  {
   "cell_type": "code",
   "execution_count": 6,
   "id": "c9174621",
   "metadata": {},
   "outputs": [
    {
     "data": {
      "text/html": [
       "0"
      ],
      "text/latex": [
       "0"
      ],
      "text/markdown": [
       "0"
      ],
      "text/plain": [
       "[1] 0"
      ]
     },
     "metadata": {},
     "output_type": "display_data"
    },
    {
     "data": {
      "text/html": [
       "0.666666666666667"
      ],
      "text/latex": [
       "0.666666666666667"
      ],
      "text/markdown": [
       "0.666666666666667"
      ],
      "text/plain": [
       "[1] 0.6666667"
      ]
     },
     "metadata": {},
     "output_type": "display_data"
    },
    {
     "data": {
      "text/html": [
       "8"
      ],
      "text/latex": [
       "8"
      ],
      "text/markdown": [
       "8"
      ],
      "text/plain": [
       "[1] 8"
      ]
     },
     "metadata": {},
     "output_type": "display_data"
    }
   ],
   "source": [
    "y <- 3\n",
    "y - y\n",
    "x / y\n",
    "x ^ y"
   ]
  },
  {
   "cell_type": "markdown",
   "id": "af3063b9",
   "metadata": {},
   "source": [
    "### The Assignment Operator\n",
    "\n",
    "* Recall we can assign a value to a variable (an alias)\n",
    "    * E.g.: `x <- 2`\n",
    "\n",
    "* We can, in fact, assign the return value of an expression into a variable\n",
    "\n",
    "`z <- x + y`\n",
    "\n",
    "* Evaluate the right-hand expression (`x+y`), which returns a value, \n",
    "\n",
    "* Takes that right handle value and assigns it to the left-hand alias\n",
    "\n",
    "* If you want to see the value in `z` use the expression\n",
    "  \n",
    "  `z`\n",
    "*  i.e., Interpreter, give me the value of `z` "
   ]
  },
  {
   "cell_type": "code",
   "execution_count": 7,
   "id": "79b6b008",
   "metadata": {},
   "outputs": [],
   "source": [
    "z <- x + y\n"
   ]
  },
  {
   "cell_type": "code",
   "execution_count": 8,
   "id": "ffc2ceeb",
   "metadata": {},
   "outputs": [
    {
     "data": {
      "text/html": [
       "5"
      ],
      "text/latex": [
       "5"
      ],
      "text/markdown": [
       "5"
      ],
      "text/plain": [
       "[1] 5"
      ]
     },
     "metadata": {},
     "output_type": "display_data"
    }
   ],
   "source": [
    "z"
   ]
  },
  {
   "cell_type": "markdown",
   "id": "0b67a8b9",
   "metadata": {},
   "source": [
    "### Data types in R\n",
    "\n",
    "* Programming languages tend to classify the types of data they can handle into a small set of categories\n",
    "  * Those are data or variables types\n",
    "  \n",
    "* A data type lets R know what sort of function, or operations can be applied to the data\n",
    "\n",
    "* For example, if the data contained in a variable `z` is a city name, then R cannot use the division operator on it.\n",
    "  * In R it's called a `character` data type (collection of characters). In other (most) languages, `z` would be called a `string`\n",
    "* Attempting an arithmetic operation on `z` would yield an error\n",
    "  * An error simply means that something did not follow R's rules \n",
    "  * It helps to remember simply means that R saw something it was not expecting\n",
    " \n",
    "  "
   ]
  },
  {
   "cell_type": "code",
   "execution_count": 12,
   "id": "374dadb6",
   "metadata": {},
   "outputs": [
    {
     "ename": "ERROR",
     "evalue": "Error in eval(expr, envir, enclos): object 'Honolulu' not found\n",
     "output_type": "error",
     "traceback": [
      "Error in eval(expr, envir, enclos): object 'Honolulu' not found\nTraceback:\n"
     ]
    }
   ],
   "source": [
    "z <- 2"
   ]
  },
  {
   "cell_type": "code",
   "execution_count": 10,
   "id": "f57b7a64",
   "metadata": {},
   "outputs": [
    {
     "ename": "ERROR",
     "evalue": "Error in z/2: non-numeric argument to binary operator\n",
     "output_type": "error",
     "traceback": [
      "Error in z/2: non-numeric argument to binary operator\nTraceback:\n"
     ]
    }
   ],
   "source": [
    "z / 2"
   ]
  },
  {
   "cell_type": "markdown",
   "id": "21c1db49",
   "metadata": {},
   "source": [
    "### Data types in R - Cont'd\n",
    "\n",
    "\n",
    "* R has some fundamental data types:\n",
    "\n",
    "  * `character`: \"a\", collection of one or more characters (called a string in CS)\n",
    "  * `numeric`: 2, 15.5     \n",
    "  * `logical`: `TRUE`, `FALSE`. Typically called boolean in CS.\n",
    "  * `complex`: 1+4i (complex numbers with real and imaginary parts)\n",
    "    * Won't be used in this course\n",
    "    \n",
    "* The type (R calls it mode) can also have classes. For example:\n",
    "  * A numeric can be a `double` ex. 3.12 of 7.0\n",
    "  * A numeric can also be a `integer`. 2\n",
    "    \n",
    "    * `integer` is declared by adding an L to the\n",
    "        `x <- 1L`\n",
    "     * Integers require less \"precision\", i.e., less memory to store the fractional part\n",
    "     * `1L` explicitly stores the value in a way that uses less RAM \n",
    "\n",
    "* We will cover classes later in the course "
   ]
  },
  {
   "cell_type": "code",
   "execution_count": 46,
   "id": "b059f46f",
   "metadata": {},
   "outputs": [
    {
     "data": {
      "text/html": [
       "'integer'"
      ],
      "text/latex": [
       "'integer'"
      ],
      "text/markdown": [
       "'integer'"
      ],
      "text/plain": [
       "[1] \"integer\""
      ]
     },
     "metadata": {},
     "output_type": "display_data"
    }
   ],
   "source": [
    "# instantiate a variabe x with the 1L (1 iteger)\n",
    "x <- 1L\n",
    "\n",
    "# then we use the typeof() function to\n",
    "# print the class of the variable x\n",
    "typeof(x)"
   ]
  },
  {
   "cell_type": "code",
   "execution_count": 47,
   "id": "1b5358d1",
   "metadata": {},
   "outputs": [
    {
     "data": {
      "text/html": [
       "'numeric'"
      ],
      "text/latex": [
       "'numeric'"
      ],
      "text/markdown": [
       "'numeric'"
      ],
      "text/plain": [
       "[1] \"numeric\""
      ]
     },
     "metadata": {},
     "output_type": "display_data"
    },
    {
     "data": {
      "text/html": [
       "'double'"
      ],
      "text/latex": [
       "'double'"
      ],
      "text/markdown": [
       "'double'"
      ],
      "text/plain": [
       "[1] \"double\""
      ]
     },
     "metadata": {},
     "output_type": "display_data"
    }
   ],
   "source": [
    "y <- 200.12\n",
    "\n",
    "mode(y)\n",
    "\n",
    "typeof(y)"
   ]
  },
  {
   "cell_type": "code",
   "execution_count": 48,
   "id": "ec17c839",
   "metadata": {},
   "outputs": [
    {
     "data": {
      "text/html": [
       "'logical'"
      ],
      "text/latex": [
       "'logical'"
      ],
      "text/markdown": [
       "'logical'"
      ],
      "text/plain": [
       "[1] \"logical\""
      ]
     },
     "metadata": {},
     "output_type": "display_data"
    }
   ],
   "source": [
    "z <- FALSE\n",
    "\n",
    "typeof(z)"
   ]
  },
  {
   "cell_type": "markdown",
   "id": "73867cb9",
   "metadata": {},
   "source": [
    "### Operations on Basic Data Types\n",
    "\n",
    "* Python offers dozens of operations on the basic data types\n",
    "\n",
    "* Most operations are data type specific\n",
    "  * For instance:\n",
    "    * `round` function rounds a decimal number to the closest integer.\n",
    "    * sometimes I will write \"`x` function\" simply as `x()`"
   ]
  },
  {
   "cell_type": "code",
   "execution_count": 51,
   "id": "b8405f60",
   "metadata": {},
   "outputs": [
    {
     "data": {
      "text/html": [
       "3"
      ],
      "text/latex": [
       "3"
      ],
      "text/markdown": [
       "3"
      ],
      "text/plain": [
       "[1] 3"
      ]
     },
     "metadata": {},
     "output_type": "display_data"
    }
   ],
   "source": [
    "round(3.12)"
   ]
  },
  {
   "cell_type": "code",
   "execution_count": 52,
   "id": "73691fba",
   "metadata": {},
   "outputs": [
    {
     "data": {
      "text/html": [
       "4"
      ],
      "text/latex": [
       "4"
      ],
      "text/markdown": [
       "4"
      ],
      "text/plain": [
       "[1] 4"
      ]
     },
     "metadata": {},
     "output_type": "display_data"
    }
   ],
   "source": [
    "round(3.99)"
   ]
  },
  {
   "cell_type": "code",
   "execution_count": 53,
   "id": "50e09608",
   "metadata": {},
   "outputs": [
    {
     "ename": "ERROR",
     "evalue": "Error in round(\"Hello\"): non-numeric argument to mathematical function\n",
     "output_type": "error",
     "traceback": [
      "Error in round(\"Hello\"): non-numeric argument to mathematical function\nTraceback:\n"
     ]
    }
   ],
   "source": [
    "# the following will generate an error\n",
    "# as `round()` expects a\n",
    "\n",
    "round(\"Hello\")"
   ]
  },
  {
   "cell_type": "markdown",
   "id": "46ccad1a",
   "metadata": {},
   "source": [
    "### R Data Structures \n",
    "\n",
    "* In computer science, a data structure is an abstract construct that provides the user a convenient way to store and access the data\n",
    "   * Data structures abstract the mechanism used to store the data \n",
    "* Depending on the type of data we need to structure, various data types can be used.\n",
    "  ex. a list of elements or a table with multiple columns and rows (a la Excel)\n",
    "* The data structures built into R are: Vectors, lists, Matrices, data frames, and factors\n",
    "* Many additional complex and specialized data structures are available through modules.\n",
    "* We focus on (atomic) vectors first and cover other data structures in future modules."
   ]
  },
  {
   "cell_type": "markdown",
   "id": "59e19f39",
   "metadata": {},
   "source": [
    "### R Data Structures -- Atomic Vectors\n",
    "\n",
    "* An atomic vector (or simply vector) is an ordered collection of elements of the same type\n",
    "  * I could have just said list, but `list` is its own data structure in Python.\n",
    "* Atomic, here, simply means all the elements are of the same type (class)\n",
    "  * E.g.: all elements are of `character`.\n",
    "  * Cannot mix different types\n",
    "* The easiest way to creat a vector of elements is by using the combine `c()` (the function `c` stands for combine)\n",
    "  * Takes the list of elements to combine ex. `c(1,2,3)` and returns a constructed atomic vector data structure\n",
    "* Operators and function apply slighly differently on vectors"
   ]
  },
  {
   "cell_type": "code",
   "execution_count": 15,
   "id": "96696e73",
   "metadata": {},
   "outputs": [
    {
     "name": "stdout",
     "output_type": "stream",
     "text": [
      "[1] 10 10 20\n"
     ]
    }
   ],
   "source": [
    "x <- c(10, 10, 20)\n",
    "print(x)"
   ]
  },
  {
   "cell_type": "code",
   "execution_count": 16,
   "id": "4f50ebdb",
   "metadata": {},
   "outputs": [
    {
     "data": {
      "text/html": [
       "<style>\n",
       ".list-inline {list-style: none; margin:0; padding: 0}\n",
       ".list-inline>li {display: inline-block}\n",
       ".list-inline>li:not(:last-child)::after {content: \"\\00b7\"; padding: 0 .5ex}\n",
       "</style>\n",
       "<ol class=list-inline><li>10</li><li>10</li><li>20</li></ol>\n"
      ],
      "text/latex": [
       "\\begin{enumerate*}\n",
       "\\item 10\n",
       "\\item 10\n",
       "\\item 20\n",
       "\\end{enumerate*}\n"
      ],
      "text/markdown": [
       "1. 10\n",
       "2. 10\n",
       "3. 20\n",
       "\n",
       "\n"
      ],
      "text/plain": [
       "[1] 10 10 20"
      ]
     },
     "metadata": {},
     "output_type": "display_data"
    },
    {
     "data": {
      "text/html": [
       "<style>\n",
       ".list-inline {list-style: none; margin:0; padding: 0}\n",
       ".list-inline>li {display: inline-block}\n",
       ".list-inline>li:not(:last-child)::after {content: \"\\00b7\"; padding: 0 .5ex}\n",
       "</style>\n",
       "<ol class=list-inline><li>3</li><li>2</li><li>1</li></ol>\n"
      ],
      "text/latex": [
       "\\begin{enumerate*}\n",
       "\\item 3\n",
       "\\item 2\n",
       "\\item 1\n",
       "\\end{enumerate*}\n"
      ],
      "text/markdown": [
       "1. 3\n",
       "2. 2\n",
       "3. 1\n",
       "\n",
       "\n"
      ],
      "text/plain": [
       "[1] 3 2 1"
      ]
     },
     "metadata": {},
     "output_type": "display_data"
    },
    {
     "data": {
      "text/html": [
       "<style>\n",
       ".list-inline {list-style: none; margin:0; padding: 0}\n",
       ".list-inline>li {display: inline-block}\n",
       ".list-inline>li:not(:last-child)::after {content: \"\\00b7\"; padding: 0 .5ex}\n",
       "</style>\n",
       "<ol class=list-inline><li>13</li><li>12</li><li>21</li></ol>\n"
      ],
      "text/latex": [
       "\\begin{enumerate*}\n",
       "\\item 13\n",
       "\\item 12\n",
       "\\item 21\n",
       "\\end{enumerate*}\n"
      ],
      "text/markdown": [
       "1. 13\n",
       "2. 12\n",
       "3. 21\n",
       "\n",
       "\n"
      ],
      "text/plain": [
       "[1] 13 12 21"
      ]
     },
     "metadata": {},
     "output_type": "display_data"
    }
   ],
   "source": [
    "y <- c(3, 2, 1)\n",
    "x\n",
    "y\n",
    "x + y"
   ]
  },
  {
   "cell_type": "code",
   "execution_count": 17,
   "id": "80febd56",
   "metadata": {},
   "outputs": [
    {
     "data": {
      "text/html": [
       "<style>\n",
       ".list-inline {list-style: none; margin:0; padding: 0}\n",
       ".list-inline>li {display: inline-block}\n",
       ".list-inline>li:not(:last-child)::after {content: \"\\00b7\"; padding: 0 .5ex}\n",
       "</style>\n",
       "<ol class=list-inline><li>30</li><li>30</li><li>60</li></ol>\n"
      ],
      "text/latex": [
       "\\begin{enumerate*}\n",
       "\\item 30\n",
       "\\item 30\n",
       "\\item 60\n",
       "\\end{enumerate*}\n"
      ],
      "text/markdown": [
       "1. 30\n",
       "2. 30\n",
       "3. 60\n",
       "\n",
       "\n"
      ],
      "text/plain": [
       "[1] 30 30 60"
      ]
     },
     "metadata": {},
     "output_type": "display_data"
    }
   ],
   "source": [
    "x * 3"
   ]
  },
  {
   "cell_type": "code",
   "execution_count": 18,
   "id": "f3e6fcba",
   "metadata": {},
   "outputs": [
    {
     "data": {
      "text/html": [
       "<style>\n",
       ".list-inline {list-style: none; margin:0; padding: 0}\n",
       ".list-inline>li {display: inline-block}\n",
       ".list-inline>li:not(:last-child)::after {content: \"\\00b7\"; padding: 0 .5ex}\n",
       "</style>\n",
       "<ol class=list-inline><li>30</li><li>20</li><li>20</li></ol>\n"
      ],
      "text/latex": [
       "\\begin{enumerate*}\n",
       "\\item 30\n",
       "\\item 20\n",
       "\\item 20\n",
       "\\end{enumerate*}\n"
      ],
      "text/markdown": [
       "1. 30\n",
       "2. 20\n",
       "3. 20\n",
       "\n",
       "\n"
      ],
      "text/plain": [
       "[1] 30 20 20"
      ]
     },
     "metadata": {},
     "output_type": "display_data"
    }
   ],
   "source": [
    "x * y"
   ]
  },
  {
   "cell_type": "code",
   "execution_count": 19,
   "id": "0c2de597",
   "metadata": {},
   "outputs": [
    {
     "data": {
      "text/html": [
       "4"
      ],
      "text/latex": [
       "4"
      ],
      "text/markdown": [
       "4"
      ],
      "text/plain": [
       "[1] 4"
      ]
     },
     "metadata": {},
     "output_type": "display_data"
    }
   ],
   "source": [
    "y <- c(FALSE, FALSE, TRUE, TRUE< FALSE)\n",
    "length(y)"
   ]
  },
  {
   "cell_type": "code",
   "execution_count": 92,
   "id": "8b3a2b16",
   "metadata": {},
   "outputs": [
    {
     "name": "stderr",
     "output_type": "stream",
     "text": [
      "Warning message in x + y:\n",
      "“longer object length is not a multiple of shorter object length”\n"
     ]
    },
    {
     "data": {
      "text/html": [
       "<style>\n",
       ".list-inline {list-style: none; margin:0; padding: 0}\n",
       ".list-inline>li {display: inline-block}\n",
       ".list-inline>li:not(:last-child)::after {content: \"\\00b7\"; padding: 0 .5ex}\n",
       "</style>\n",
       "<ol class=list-inline><li>6</li><li>8</li><li>8</li><li>9</li></ol>\n"
      ],
      "text/latex": [
       "\\begin{enumerate*}\n",
       "\\item 6\n",
       "\\item 8\n",
       "\\item 8\n",
       "\\item 9\n",
       "\\end{enumerate*}\n"
      ],
      "text/markdown": [
       "1. 6\n",
       "2. 8\n",
       "3. 8\n",
       "4. 9\n",
       "\n",
       "\n"
      ],
      "text/plain": [
       "[1] 6 8 8 9"
      ]
     },
     "metadata": {},
     "output_type": "display_data"
    }
   ],
   "source": [
    "# The following will generate an warning and ambiguous result since the vectors have diffrent lenghts\n",
    "# Argh, R!\n",
    "x <- c(1, 2, 1)\n",
    "y <- c(5, 6, 7, 8)\n",
    "x + y"
   ]
  },
  {
   "cell_type": "markdown",
   "id": "a49d0159",
   "metadata": {},
   "source": [
    "### Operations on Atomic Vectors\n",
    "\n",
    "* Functions are the workhorses of R\n",
    "  \n",
    " * Make manipulating numbers seamless\n",
    "  \n",
    "    * Ex. computing mean, standard deviation, variance etc. can be easily done with `mean()`, `sd()`, `var()`, etc.  "
   ]
  },
  {
   "cell_type": "code",
   "execution_count": 96,
   "id": "8d039c56",
   "metadata": {},
   "outputs": [
    {
     "data": {
      "text/html": [
       "3.5"
      ],
      "text/latex": [
       "3.5"
      ],
      "text/markdown": [
       "3.5"
      ],
      "text/plain": [
       "[1] 3.5"
      ]
     },
     "metadata": {},
     "output_type": "display_data"
    },
    {
     "data": {
      "text/html": [
       "1.87082869338697"
      ],
      "text/latex": [
       "1.87082869338697"
      ],
      "text/markdown": [
       "1.87082869338697"
      ],
      "text/plain": [
       "[1] 1.870829"
      ]
     },
     "metadata": {},
     "output_type": "display_data"
    },
    {
     "data": {
      "text/html": [
       "1.87082869338697"
      ],
      "text/latex": [
       "1.87082869338697"
      ],
      "text/markdown": [
       "1.87082869338697"
      ],
      "text/plain": [
       "[1] 1.870829"
      ]
     },
     "metadata": {},
     "output_type": "display_data"
    }
   ],
   "source": [
    "x <- c(1, 2, 3, 4, 5, 6)\n",
    "mean(x)\n",
    "sd(x)\n",
    "sqrt(var(x))"
   ]
  },
  {
   "cell_type": "markdown",
   "id": "edaf3b49",
   "metadata": {},
   "source": [
    "### Functions \n",
    "\n",
    "* A function is a piece of code that implements some logic (an algorithm)\n",
    "\n",
    "* For example, log, sqrt, round, were all functions in R that we could use (invoke).\n",
    "\t* R has more than 1,000 functions installed by default \n",
    "\t* There are thousands of other functions that you can download as part packages and install (personal guess)\n",
    "\n",
    "* It helps to think of functions in their mathematical form.\n",
    "  $f(x) = x^2 + 2x + 3 $\n",
    "  \n",
    "* Here `f(x)` is a math function that takes a value of `x` and returns the computed expression of `x^2 + 2x + 3`\n",
    "\n",
    "ex.$f(x=3) = 3^2 + 2\\times 3 + 3 = 21$\n",
    "\n",
    "* Math function can have more than one variable, ex. `f(x,y,z) = 3xy + 2yx+ 2z`\n",
    "  * So do R function\n",
    "\n",
    "* Computation in a math function can be fixed for a variable. E.g.: \n",
    "\n",
    "`f(x,y, z=3) = 3xy + 2yx + 2*3`\n",
    "\n",
    "  "
   ]
  },
  {
   "cell_type": "markdown",
   "id": "b9b4b2f3",
   "metadata": {},
   "source": [
    "### Functions Cont'd\n",
    "\n",
    "* Functions in programming languages operate similalry.\n",
    "  * Ex. function `round`, takes some value (called an argument) and returns the nearest integer (whole number) value.\n",
    "  * arguments in R are also called parameters in CS or other programming languages \n",
    "    ex. round('3.14') = 3\n",
    "\n",
    "* Also like math functions, R function can take multiple arguments. \n",
    "  * ex. `seq` function takes two arguments x and y, where x < y and returns a vector of values `c(x, x+1, ... y)`\n",
    "\n"
   ]
  },
  {
   "cell_type": "markdown",
   "id": "fb2816bd",
   "metadata": {},
   "source": [
    "### Functions -- Cont'd\n",
    "\n",
    "\n",
    "* In R, functions have some default behaviour that can be changed using optional parameters\n",
    "  * For example, seq(1,5) will return the sequence of integers between 1 and 5 with an increment of 1.\n",
    "  * To change this default behaviour we can use the optional parameter `by`\n",
    "  `seq(1, 5, by=0.5)`\n",
    "\n",
    "* So, in short, some functions have a default \"behavior\" that is often good enough for most uses\n",
    "  * Default behavior can be changed via optional parameters\n",
    "\n",
    "* The behaviorfunction `round`'s behavior can be changed via the optional parameter `digits`.\n",
    "  `round(3.1415, digits=3)`\n",
    "  * so, the `digits` parameter is optional whereas the `x` values to round is required\n",
    "\n",
    "* The default parameter is equivalent to conditioning the execution on that default value\n",
    "  * In analogy to `f(x,y, z=3) = 3xy + 2yx + 2*3`"
   ]
  },
  {
   "cell_type": "code",
   "execution_count": 20,
   "id": "3eb75d29",
   "metadata": {},
   "outputs": [
    {
     "data": {
      "text/html": [
       "<style>\n",
       ".list-inline {list-style: none; margin:0; padding: 0}\n",
       ".list-inline>li {display: inline-block}\n",
       ".list-inline>li:not(:last-child)::after {content: \"\\00b7\"; padding: 0 .5ex}\n",
       "</style>\n",
       "<ol class=list-inline><li>1</li><li>2</li><li>3</li><li>4</li><li>5</li></ol>\n"
      ],
      "text/latex": [
       "\\begin{enumerate*}\n",
       "\\item 1\n",
       "\\item 2\n",
       "\\item 3\n",
       "\\item 4\n",
       "\\item 5\n",
       "\\end{enumerate*}\n"
      ],
      "text/markdown": [
       "1. 1\n",
       "2. 2\n",
       "3. 3\n",
       "4. 4\n",
       "5. 5\n",
       "\n",
       "\n"
      ],
      "text/plain": [
       "[1] 1 2 3 4 5"
      ]
     },
     "metadata": {},
     "output_type": "display_data"
    }
   ],
   "source": [
    "seq(1, 5)"
   ]
  },
  {
   "cell_type": "code",
   "execution_count": 106,
   "id": "117e84c7",
   "metadata": {},
   "outputs": [
    {
     "data": {
      "text/html": [
       "<style>\n",
       ".list-inline {list-style: none; margin:0; padding: 0}\n",
       ".list-inline>li {display: inline-block}\n",
       ".list-inline>li:not(:last-child)::after {content: \"\\00b7\"; padding: 0 .5ex}\n",
       "</style>\n",
       "<ol class=list-inline><li>1</li><li>1.1</li><li>1.2</li><li>1.3</li><li>1.4</li><li>1.5</li><li>1.6</li><li>1.7</li><li>1.8</li><li>1.9</li><li>2</li><li>2.1</li><li>2.2</li><li>2.3</li><li>2.4</li><li>2.5</li><li>2.6</li><li>2.7</li><li>2.8</li><li>2.9</li><li>3</li><li>3.1</li><li>3.2</li><li>3.3</li><li>3.4</li><li>3.5</li><li>3.6</li><li>3.7</li><li>3.8</li><li>3.9</li><li>4</li><li>4.1</li><li>4.2</li><li>4.3</li><li>4.4</li><li>4.5</li><li>4.6</li><li>4.7</li><li>4.8</li><li>4.9</li><li>5</li></ol>\n"
      ],
      "text/latex": [
       "\\begin{enumerate*}\n",
       "\\item 1\n",
       "\\item 1.1\n",
       "\\item 1.2\n",
       "\\item 1.3\n",
       "\\item 1.4\n",
       "\\item 1.5\n",
       "\\item 1.6\n",
       "\\item 1.7\n",
       "\\item 1.8\n",
       "\\item 1.9\n",
       "\\item 2\n",
       "\\item 2.1\n",
       "\\item 2.2\n",
       "\\item 2.3\n",
       "\\item 2.4\n",
       "\\item 2.5\n",
       "\\item 2.6\n",
       "\\item 2.7\n",
       "\\item 2.8\n",
       "\\item 2.9\n",
       "\\item 3\n",
       "\\item 3.1\n",
       "\\item 3.2\n",
       "\\item 3.3\n",
       "\\item 3.4\n",
       "\\item 3.5\n",
       "\\item 3.6\n",
       "\\item 3.7\n",
       "\\item 3.8\n",
       "\\item 3.9\n",
       "\\item 4\n",
       "\\item 4.1\n",
       "\\item 4.2\n",
       "\\item 4.3\n",
       "\\item 4.4\n",
       "\\item 4.5\n",
       "\\item 4.6\n",
       "\\item 4.7\n",
       "\\item 4.8\n",
       "\\item 4.9\n",
       "\\item 5\n",
       "\\end{enumerate*}\n"
      ],
      "text/markdown": [
       "1. 1\n",
       "2. 1.1\n",
       "3. 1.2\n",
       "4. 1.3\n",
       "5. 1.4\n",
       "6. 1.5\n",
       "7. 1.6\n",
       "8. 1.7\n",
       "9. 1.8\n",
       "10. 1.9\n",
       "11. 2\n",
       "12. 2.1\n",
       "13. 2.2\n",
       "14. 2.3\n",
       "15. 2.4\n",
       "16. 2.5\n",
       "17. 2.6\n",
       "18. 2.7\n",
       "19. 2.8\n",
       "20. 2.9\n",
       "21. 3\n",
       "22. 3.1\n",
       "23. 3.2\n",
       "24. 3.3\n",
       "25. 3.4\n",
       "26. 3.5\n",
       "27. 3.6\n",
       "28. 3.7\n",
       "29. 3.8\n",
       "30. 3.9\n",
       "31. 4\n",
       "32. 4.1\n",
       "33. 4.2\n",
       "34. 4.3\n",
       "35. 4.4\n",
       "36. 4.5\n",
       "37. 4.6\n",
       "38. 4.7\n",
       "39. 4.8\n",
       "40. 4.9\n",
       "41. 5\n",
       "\n",
       "\n"
      ],
      "text/plain": [
       " [1] 1.0 1.1 1.2 1.3 1.4 1.5 1.6 1.7 1.8 1.9 2.0 2.1 2.2 2.3 2.4 2.5 2.6 2.7 2.8\n",
       "[20] 2.9 3.0 3.1 3.2 3.3 3.4 3.5 3.6 3.7 3.8 3.9 4.0 4.1 4.2 4.3 4.4 4.5 4.6 4.7\n",
       "[39] 4.8 4.9 5.0"
      ]
     },
     "metadata": {},
     "output_type": "display_data"
    }
   ],
   "source": [
    "seq(1, 5, by=0.1)"
   ]
  },
  {
   "cell_type": "code",
   "execution_count": 107,
   "id": "0cad025b",
   "metadata": {},
   "outputs": [
    {
     "data": {
      "text/html": [
       "4"
      ],
      "text/latex": [
       "4"
      ],
      "text/markdown": [
       "4"
      ],
      "text/plain": [
       "[1] 4"
      ]
     },
     "metadata": {},
     "output_type": "display_data"
    }
   ],
   "source": [
    "round(3.9999, digits=3)"
   ]
  },
  {
   "cell_type": "markdown",
   "id": "71ea8f16",
   "metadata": {},
   "source": [
    "### Functions -- Cont'd\n",
    "\n",
    "* Just like a math function, you can use function composition\n",
    "\n",
    "* Given `f(x) = 2x+1 and g(x)= x + 10`, you can compute:\n",
    "\n",
    "`f(g(x)) = 2(x + 10) + 1 = 2x + 20 + 1  = 2x + 21 `\n",
    "\n",
    "* Similarly, you can take a function that returns a value and use that value as input to another fuction\n",
    "  * For example, given:\n",
    "`\n",
    "x <- 2.1\n",
    "`\n",
    "running the following:\n",
    "`\n",
    "\n",
    "y <- round(x) # returns 2\n",
    "log(y) # return the log(2), or 0.693...\n",
    "`\n",
    "is equiavalent to:\n",
    "`\n",
    "log(round(x)) # returns 0.693\n",
    "`\n"
   ]
  },
  {
   "cell_type": "code",
   "execution_count": 164,
   "id": "a2d90aa1",
   "metadata": {},
   "outputs": [
    {
     "data": {
      "text/html": [
       "0.693147180559945"
      ],
      "text/latex": [
       "0.693147180559945"
      ],
      "text/markdown": [
       "0.693147180559945"
      ],
      "text/plain": [
       "[1] 0.6931472"
      ]
     },
     "metadata": {},
     "output_type": "display_data"
    }
   ],
   "source": [
    "log(2)"
   ]
  },
  {
   "cell_type": "markdown",
   "id": "98a6c98c",
   "metadata": {},
   "source": [
    "### Invoking a Function's Help\n",
    "\n",
    "* Most functions in R have a good help section that explains what the function does and provides the list of required and optional parameters.\n",
    "  * Understanding help functions is an acquired skill :rolling eyes:\n",
    "\n",
    "* We can invoke a function's help by prefixing it with '?'.\n",
    "* One can also see a function's arguments simply using the `args` function\n",
    "  * `args(round)`\n",
    "\n",
    "* The last part of a help page contains,typically, an example of how to use that function.\n",
    "\n",
    "\n",
    "* Using `??` will search for help pages using a keyword\n",
    "\n",
    "  * e.g.: `??lo`"
   ]
  },
  {
   "cell_type": "code",
   "execution_count": 22,
   "id": "b2a539ea",
   "metadata": {},
   "outputs": [],
   "source": [
    "?seq"
   ]
  },
  {
   "cell_type": "code",
   "execution_count": 21,
   "id": "1bb1e917",
   "metadata": {},
   "outputs": [
    {
     "data": {
      "text/html": [
       "<pre class=language-r><code>function (...) \n",
       "NULL</code></pre>"
      ],
      "text/latex": [
       "\\begin{minted}{r}\n",
       "function (...) \n",
       "NULL\n",
       "\\end{minted}"
      ],
      "text/markdown": [
       "```r\n",
       "function (...) \n",
       "NULL\n",
       "```"
      ],
      "text/plain": [
       "function (...) \n",
       "NULL"
      ]
     },
     "metadata": {},
     "output_type": "display_data"
    }
   ],
   "source": [
    "args(seq)"
   ]
  },
  {
   "cell_type": "code",
   "execution_count": 159,
   "id": "32354d05",
   "metadata": {},
   "outputs": [
    {
     "data": {
      "text/html": [
       "<pre class=language-r><code>function (x, digits = 0) \n",
       "NULL</code></pre>"
      ],
      "text/latex": [
       "\\begin{minted}{r}\n",
       "function (x, digits = 0) \n",
       "NULL\n",
       "\\end{minted}"
      ],
      "text/markdown": [
       "```r\n",
       "function (x, digits = 0) \n",
       "NULL\n",
       "```"
      ],
      "text/plain": [
       "function (x, digits = 0) \n",
       "NULL"
      ]
     },
     "metadata": {},
     "output_type": "display_data"
    }
   ],
   "source": [
    "args(round)"
   ]
  },
  {
   "cell_type": "markdown",
   "id": "362d2a43",
   "metadata": {},
   "source": [
    "### Using Libraries\n",
    "\n",
    "* As mentioned, R has hundreds of publicly available packages that you can download and just start using.\n",
    "\n",
    "* One very popular package is `ggplot2`, which is often used to produce publication quality plots.\n",
    "\n",
    "* A package can be installed using `install.packages`\n",
    "\n",
    "  e.g.: `install.packages(\"ggplot2\")`\n",
    " \n",
    "* `R` does not load in memory every package you install. \n",
    "  * Avoids wasting your RAM.\n",
    "  * Instead, every time you need to use a library, you need to explicitly load it via the `library` function\n",
    "  \n",
    "e.g.: `library(\"ggplot2\")`"
   ]
  },
  {
   "cell_type": "code",
   "execution_count": null,
   "id": "16f3e5eb",
   "metadata": {},
   "outputs": [],
   "source": [
    "## Lab Session\n"
   ]
  },
  {
   "cell_type": "markdown",
   "id": "8fb34f02",
   "metadata": {},
   "source": [
    "### Question 1\n",
    "\n",
    "*  Draw a concepts diagram that uses all the following R and programming terminology \n",
    "   * Include any missing keywords that will simplify the concepts diagrams \n",
    "\n",
    "\n",
    "Code, Variable, Data, Function, Call, Invoke, Type, Expression, Assign, Return value, Character, Numeric, Integer, Logical, Data structure, Arguments, Parameters, Default values, Vector, Data Type\n",
    "\n"
   ]
  },
  {
   "cell_type": "markdown",
   "id": "dcace754",
   "metadata": {},
   "source": [
    "### Question 2\n",
    "\n",
    "* Open a new Jupyter Notebooks and create new notebook called `Lab 1`\n",
    "\n",
    "* Make sure the notebook is set to use the `R` Kernel (insted of python by defautl)\n",
    "  * This is called the runtime\n",
    "\n",
    "* You can test the run time by instantiating a vector `x` with 5 values and computing its mean\n",
    "\n",
    "* Practicre creating a markdown cell by reproducing the the third cell of this notebook \n",
    "  * The cell has the title: `R IDE`\n",
    "  "
   ]
  },
  {
   "cell_type": "markdown",
   "id": "b845130f",
   "metadata": {},
   "source": [
    "### Question 3\n",
    "\n",
    "* Recall that `c` creates atomic vectors\n",
    "\n",
    "* What does the following create?\n",
    "\n",
    "`c(1, 2, 3, \"Hi\")`\n",
    "\n",
    "* Would the following be valid?\n",
    "\n",
    "`c(1, 2, 3, \"Hi\") + 1 `\n",
    "\n",
    "* How about \n",
    "\n",
    "`c(1, 2, 3, FALSE) + 1 `\n",
    "\n",
    "* Before answering, we should know that the function `class()` returns the atomic data type stored in a vector\n"
   ]
  },
  {
   "cell_type": "markdown",
   "id": "ba563acd",
   "metadata": {},
   "source": [
    "### Question 4: \n",
    "\n",
    "* We will be plotting the following plot\n",
    "\n",
    "![](https://www.dropbox.com/s/c4nf3n96np3i7nm/simple_qplot_example.png?dl=1)\n",
    "\n",
    "\n",
    "\n"
   ]
  },
  {
   "cell_type": "markdown",
   "id": "36ea72a1",
   "metadata": {},
   "source": [
    "### Create `x-axis` values\n",
    "\n",
    "* Create a variable called `x_axis` that is a `vector` of numerical values between 0 and 10 with a step of 0.5. \n",
    "    * i.e., `x_axis` will contain the values 0, 0.5, 1, 1.5, 2 .... 10\n",
    "    * hint: you need a function that returns a sequence of values as a vector"
   ]
  },
  {
   "cell_type": "code",
   "execution_count": null,
   "id": "ad55fe68",
   "metadata": {},
   "outputs": [],
   "source": [
    "# Write you code in this cell\n",
    "\n"
   ]
  },
  {
   "cell_type": "markdown",
   "id": "51d5fa41",
   "metadata": {},
   "source": [
    "### Create  `y-axis` values\n",
    "\n",
    "* Create a variable called `y_axis` that is a list of $x^2 + 2x + 3 $. \n",
    "* i.e. each position in `y_axis` is computed as $x^2 + 2x + 3 $, x is the value at the same position in x_axis\n",
    "* For example: \n",
    "  * The value at the first position of `y_axis` is 0^2 + 2*0 + 3 = 3\n",
    "  * The value at the second position of `y_axis` is 0.5^2 + 2*0.5 + 3 = 4.25\n",
    "  * etc..."
   ]
  },
  {
   "cell_type": "code",
   "execution_count": null,
   "id": "adc293ad",
   "metadata": {},
   "outputs": [],
   "source": [
    "# Write you code in this cell\n",
    "\n",
    "\n"
   ]
  },
  {
   "cell_type": "markdown",
   "id": "fe96674b",
   "metadata": {},
   "source": [
    "### Generate the plot of `x_axis` versus `y_axis`\n",
    "\n",
    "* Plot the values of `x_axis` and `y_axis`\n",
    "* Use the `qplot` function, which is part of the ggplot library to plot the `x_axis` and `y_axis`.\n",
    "    * If in doubt consult `qplot`'s documentation or check its arguments\n",
    " \n",
    "* Change the behavior of your plot so that it has:\n",
    "  * A label for the `x-axis`. Mine says \"My  x_axis\"\n",
    "  * A label for the `y-axis`. Mine says \"My  x_axis\"\n",
    "  * A title. Mine says \"My amazing plot of x_axis versus y_axis\"  \n",
    "  * Dots that are bigger than those produced by default.\n",
    " \n",
    "* Hint: We know that we can change the default behavior of a function by changing the default parameters.\n",
    "  * which default parameter (param) controls the `x-axis`, `y-axis`, and plot labels?\n",
    "  * which default param controls the size of the symbol (dot here)?\n"
   ]
  },
  {
   "cell_type": "code",
   "execution_count": 25,
   "id": "ea0fbb6f",
   "metadata": {},
   "outputs": [],
   "source": [
    "# Write you code in this cell\n",
    "\n"
   ]
  },
  {
   "cell_type": "markdown",
   "id": "ec466e94",
   "metadata": {},
   "source": [
    "### Reading Next Week\n",
    "\n",
    "* Waht is R https://www.r-project.org/about.html\n",
    "* Python Basic + writing function : https://rstudio-education.github.io/hopr/basics.html\n",
    "  * Section 2.6 Does not apply since we're uisng Jupyter Notebooks\n",
    "* What are packages and libraries: https://rstudio-education.github.io/hopr/packages2.html\n",
    "* Vectors, lists, dataFrames, factors + reading and writing data: https://rstudio-education.github.io/hopr/r-objects.html#lists\n",
    "\n",
    "* About Github: \n",
    "  * Git: what and why  https://happygitwithr.com/big-picture.html\n",
    " \n",
    "\n"
   ]
  }
 ],
 "metadata": {
  "kernelspec": {
   "display_name": "R",
   "language": "R",
   "name": "ir"
  },
  "language_info": {
   "codemirror_mode": "r",
   "file_extension": ".r",
   "mimetype": "text/x-r-source",
   "name": "R",
   "pygments_lexer": "r",
   "version": "4.0.2"
  }
 },
 "nbformat": 4,
 "nbformat_minor": 5
}
